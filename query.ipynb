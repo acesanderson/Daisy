{
 "cells": [
  {
   "cell_type": "code",
   "execution_count": 1,
   "id": "3d84f9d0",
   "metadata": {
    "lines_to_next_cell": 2
   },
   "outputs": [],
   "source": [
    "from Kramer.database.MongoDB_CRUD import get_all_courses_sync\n",
    "from rich.console import Console\n",
    "import chromadb\n",
    "import dspy\n",
    "import os"
   ]
  },
  {
   "cell_type": "code",
   "execution_count": 2,
   "id": "0cf4c6b1",
   "metadata": {
    "lines_to_next_cell": 2
   },
   "outputs": [
    {
     "name": "stdout",
     "output_type": "stream",
     "text": [
      "Getting courses...\n",
      "Got 11008 courses.\n",
      "11008\n"
     ]
    }
   ],
   "source": [
    "print(\"Getting courses...\")\n",
    "courses = get_all_courses_sync()\n",
    "trainset = []\n",
    "for course in courses:\n",
    "    try:\n",
    "        topic = course.course_title\n",
    "        intro_video = course.sections[0].entries[0].transcript\n",
    "        trainset.append(dspy.Example(topic=topic, intro_video=intro_video))\n",
    "    except:\n",
    "        pass\n",
    "print(f\"Got {len(trainset)} courses.\")\n",
    "trainset = [x.with_inputs(\"topic\", \"intro_video\") for x in trainset]\n",
    "print(len(trainset))"
   ]
  },
  {
   "cell_type": "code",
   "execution_count": 4,
   "id": "21d9da29",
   "metadata": {},
   "outputs": [],
   "source": [
    "# Set up the console for pretty printing\n",
    "console = Console(width=100)\n",
    "# Set up the OpenAI API key and instantiate the GPT-4o model\n",
    "api_key = os.getenv(\"OPENAI_API_KEY\")\n",
    "# lm = dspy.LM(\"ollama_chat/llama3.1\", api_base=\"http://localhost:11434\", api_key=\"\")\n",
    "# lm = dspy.LM(\"ollama_chat/llama3.1\", api_base=\"http://localhost:11434\", api_key=\"\")\n",
    "lm = dspy.LM(\"openai/gpt-4o-mini\", api_key=api_key)\n",
    "dspy.configure(lm=lm)"
   ]
  },
  {
   "cell_type": "code",
   "execution_count": 5,
   "id": "707ea9ab",
   "metadata": {},
   "outputs": [],
   "source": [
    "class WriteVideoTranscript(dspy.Signature):\n",
    "    \"\"\"Write a video transcript for the intro video to a course on a given topic.\"\"\"\n",
    "\n",
    "    topic: str = dspy.InputField(desc=\"the topic of the course\")\n",
    "    intro_video: str = dspy.OutputField(\n",
    "        desc=\"markdown-formatted transcript of an intro video of roughly 250 words\"\n",
    "    )"
   ]
  },
  {
   "cell_type": "code",
   "execution_count": 6,
   "id": "35684512",
   "metadata": {},
   "outputs": [],
   "source": [
    "def get_similarity_score(original_text: str, generated_text: str):\n",
    "    \"\"\"Get the similarity score between two texts.\"\"\"\n",
    "    if not isinstance(original_text, str) or not isinstance(generated_text, str):\n",
    "        return 0.0  # Return a default poor score instead of None\n",
    "\n",
    "    client = chromadb.Client()\n",
    "\n",
    "    # Clean up previous collection if exists\n",
    "    try:\n",
    "        client.delete_collection(\"similarity_test\")\n",
    "    except:\n",
    "        pass\n",
    "\n",
    "    collection = client.create_collection(\"similarity_test\")\n",
    "\n",
    "    try:\n",
    "        collection.add(\n",
    "            documents=[original_text, generated_text], ids=[\"original\", \"generated\"]\n",
    "        )\n",
    "\n",
    "        results = collection.query(\n",
    "            query_texts=[original_text], n_results=2, include=[\"distances\"]\n",
    "        )\n",
    "\n",
    "        similarity_score = results[\"distances\"][0][1]\n",
    "        return float(similarity_score)\n",
    "    except Exception as e:\n",
    "        print(f\"Error in similarity calculation: {e}\")\n",
    "        return 0.0  # Return a default poor score instead of None\n",
    "    finally:\n",
    "        # Clean up\n",
    "        try:\n",
    "            client.delete_collection(\"similarity_test\")\n",
    "        except:\n",
    "            pass"
   ]
  },
  {
   "cell_type": "code",
   "execution_count": 7,
   "id": "03fdbc45",
   "metadata": {
    "lines_to_next_cell": 2
   },
   "outputs": [],
   "source": [
    "write_video_transcript = dspy.ChainOfThought(WriteVideoTranscript)"
   ]
  },
  {
   "cell_type": "code",
   "execution_count": 8,
   "id": "b1d1b557",
   "metadata": {},
   "outputs": [
    {
     "data": {
      "text/plain": [
       "'\\ncount    498.000000\\nmean       1.719879\\nstd        0.163160\\nmin        0.548691\\n25%        1.622713\\n50%        1.728114\\n75%        1.837510\\nmax        2.147124\\n'"
      ]
     },
     "execution_count": 8,
     "metadata": {},
     "output_type": "execute_result"
    }
   ],
   "source": [
    "# Plot the data\n",
    "# import pandas as pd\n",
    "# import matplotlib.pyplot as plt\n",
    "# scores = [s for s in scores if s is not None]\n",
    "# s=pd.Series(scores)\n",
    "# mean = sum(scores) / len(scores)\n",
    "# print(mean)\n",
    "# # Histogram\n",
    "# s.hist(bins=30)  # you can adjust number of bins as needed\n",
    "# plt.title('Distribution of Similarity Scores')\n",
    "# plt.xlabel('Similarity Score')\n",
    "# plt.ylabel('Frequency')\n",
    "# plt.show()\n",
    "# # plt.scatter(s.index, s.values, alpha = .1)\n",
    "# s.describe()\n",
    "# s.to_csv(\"scores_500.csv\", index = False)\n",
    "\"\"\"\n",
    "count    498.000000\n",
    "mean       1.719879\n",
    "std        0.163160\n",
    "min        0.548691\n",
    "25%        1.622713\n",
    "50%        1.728114\n",
    "75%        1.837510\n",
    "max        2.147124\n",
    "\"\"\""
   ]
  },
  {
   "cell_type": "code",
   "execution_count": 9,
   "id": "30a89883",
   "metadata": {},
   "outputs": [],
   "source": [
    "def metric(example, pred, trace=None):\n",
    "    topic, intro_video, transcript = (\n",
    "        example.topic,\n",
    "        example.intro_video,\n",
    "        pred.intro_video,\n",
    "    )\n",
    "\n",
    "    similarity_score = get_similarity_score(intro_video, transcript)\n",
    "    try:\n",
    "        verdict = similarity_score >= 1.9\n",
    "        return verdict\n",
    "    except:\n",
    "        return None"
   ]
  },
  {
   "cell_type": "code",
   "execution_count": 10,
   "id": "6689ab2f",
   "metadata": {
    "lines_to_next_cell": 2
   },
   "outputs": [
    {
     "name": "stdout",
     "output_type": "stream",
     "text": [
      "Evaluating 1 out of 200\n",
      "Evaluating 2 out of 200\n",
      "Evaluating 3 out of 200\n",
      "Evaluating 4 out of 200\n",
      "Evaluating 5 out of 200\n",
      "Evaluating 6 out of 200\n",
      "Evaluating 7 out of 200\n",
      "Evaluating 8 out of 200\n",
      "Evaluating 9 out of 200\n",
      "Evaluating 10 out of 200\n",
      "Evaluating 11 out of 200\n",
      "Evaluating 12 out of 200\n",
      "Evaluating 13 out of 200\n",
      "Evaluating 14 out of 200\n",
      "Evaluating 15 out of 200\n",
      "Evaluating 16 out of 200\n",
      "Evaluating 17 out of 200\n",
      "Evaluating 18 out of 200\n",
      "Evaluating 19 out of 200\n",
      "Evaluating 20 out of 200\n",
      "Evaluating 21 out of 200\n",
      "Evaluating 22 out of 200\n",
      "Evaluating 23 out of 200\n",
      "Evaluating 24 out of 200\n",
      "Evaluating 25 out of 200\n",
      "Evaluating 26 out of 200\n",
      "Evaluating 27 out of 200\n",
      "Evaluating 28 out of 200\n",
      "Evaluating 29 out of 200\n",
      "Evaluating 30 out of 200\n",
      "Evaluating 31 out of 200\n",
      "Evaluating 32 out of 200\n",
      "Evaluating 33 out of 200\n",
      "Evaluating 34 out of 200\n",
      "Evaluating 35 out of 200\n",
      "Evaluating 36 out of 200\n",
      "Evaluating 37 out of 200\n",
      "Evaluating 38 out of 200\n",
      "Evaluating 39 out of 200\n",
      "Evaluating 40 out of 200\n",
      "Evaluating 41 out of 200\n",
      "Evaluating 42 out of 200\n",
      "Evaluating 43 out of 200\n",
      "Evaluating 44 out of 200\n",
      "Evaluating 45 out of 200\n",
      "Evaluating 46 out of 200\n",
      "Evaluating 47 out of 200\n",
      "Evaluating 48 out of 200\n",
      "Evaluating 49 out of 200\n",
      "Evaluating 50 out of 200\n",
      "Evaluating 51 out of 200\n",
      "Evaluating 52 out of 200\n",
      "Evaluating 53 out of 200\n",
      "Evaluating 54 out of 200\n",
      "Evaluating 55 out of 200\n",
      "Evaluating 56 out of 200\n",
      "Evaluating 57 out of 200\n",
      "Evaluating 58 out of 200\n",
      "Evaluating 59 out of 200\n",
      "Evaluating 60 out of 200\n",
      "Evaluating 61 out of 200\n",
      "Evaluating 62 out of 200\n",
      "Evaluating 63 out of 200\n",
      "Evaluating 64 out of 200\n",
      "Evaluating 65 out of 200\n",
      "Evaluating 66 out of 200\n",
      "Evaluating 67 out of 200\n",
      "Evaluating 68 out of 200\n",
      "Evaluating 69 out of 200\n",
      "Evaluating 70 out of 200\n",
      "Evaluating 71 out of 200\n",
      "Evaluating 72 out of 200\n",
      "Evaluating 73 out of 200\n",
      "Evaluating 74 out of 200\n",
      "Evaluating 75 out of 200\n",
      "Evaluating 76 out of 200\n",
      "Evaluating 77 out of 200\n",
      "Evaluating 78 out of 200\n",
      "Evaluating 79 out of 200\n",
      "Evaluating 80 out of 200\n",
      "Evaluating 81 out of 200\n",
      "Evaluating 82 out of 200\n",
      "Evaluating 83 out of 200\n",
      "Evaluating 84 out of 200\n",
      "Evaluating 85 out of 200\n",
      "Evaluating 86 out of 200\n",
      "Evaluating 87 out of 200\n",
      "Evaluating 88 out of 200\n",
      "Evaluating 89 out of 200\n",
      "Evaluating 90 out of 200\n",
      "Evaluating 91 out of 200\n",
      "Evaluating 92 out of 200\n",
      "Evaluating 93 out of 200\n",
      "Evaluating 94 out of 200\n",
      "Evaluating 95 out of 200\n",
      "Evaluating 96 out of 200\n",
      "Evaluating 97 out of 200\n",
      "Evaluating 98 out of 200\n",
      "Evaluating 99 out of 200\n",
      "Evaluating 100 out of 200\n",
      "Evaluating 101 out of 200\n",
      "Evaluating 102 out of 200\n",
      "Evaluating 103 out of 200\n",
      "Evaluating 104 out of 200\n",
      "Evaluating 105 out of 200\n",
      "Evaluating 106 out of 200\n",
      "Evaluating 107 out of 200\n",
      "Evaluating 108 out of 200\n",
      "Evaluating 109 out of 200\n",
      "Evaluating 110 out of 200\n",
      "Evaluating 111 out of 200\n",
      "Evaluating 112 out of 200\n",
      "Evaluating 113 out of 200\n",
      "Evaluating 114 out of 200\n",
      "Evaluating 115 out of 200\n",
      "Evaluating 116 out of 200\n",
      "Evaluating 117 out of 200\n",
      "Evaluating 118 out of 200\n",
      "Evaluating 119 out of 200\n",
      "Evaluating 120 out of 200\n",
      "Evaluating 121 out of 200\n",
      "Evaluating 122 out of 200\n",
      "Evaluating 123 out of 200\n",
      "Evaluating 124 out of 200\n",
      "Evaluating 125 out of 200\n",
      "Evaluating 126 out of 200\n",
      "Evaluating 127 out of 200\n",
      "Evaluating 128 out of 200\n",
      "Evaluating 129 out of 200\n",
      "Evaluating 130 out of 200\n",
      "Evaluating 131 out of 200\n",
      "Evaluating 132 out of 200\n",
      "Evaluating 133 out of 200\n",
      "Evaluating 134 out of 200\n",
      "Evaluating 135 out of 200\n",
      "Evaluating 136 out of 200\n",
      "Evaluating 137 out of 200\n",
      "Evaluating 138 out of 200\n",
      "Evaluating 139 out of 200\n",
      "Evaluating 140 out of 200\n",
      "Evaluating 141 out of 200\n",
      "Evaluating 142 out of 200\n",
      "Evaluating 143 out of 200\n",
      "Evaluating 144 out of 200\n",
      "Evaluating 145 out of 200\n",
      "Evaluating 146 out of 200\n",
      "Evaluating 147 out of 200\n",
      "Evaluating 148 out of 200\n",
      "Evaluating 149 out of 200\n",
      "Evaluating 150 out of 200\n",
      "Evaluating 151 out of 200\n",
      "Evaluating 152 out of 200\n",
      "Evaluating 153 out of 200\n",
      "Evaluating 154 out of 200\n",
      "Evaluating 155 out of 200\n",
      "Evaluating 156 out of 200\n",
      "Evaluating 157 out of 200\n",
      "Evaluating 158 out of 200\n",
      "Evaluating 159 out of 200\n",
      "Evaluating 160 out of 200\n",
      "Evaluating 161 out of 200\n",
      "Evaluating 162 out of 200\n",
      "Evaluating 163 out of 200\n",
      "Evaluating 164 out of 200\n",
      "Evaluating 165 out of 200\n",
      "Evaluating 166 out of 200\n",
      "Evaluating 167 out of 200\n",
      "Evaluating 168 out of 200\n",
      "Evaluating 169 out of 200\n",
      "Evaluating 170 out of 200\n",
      "Evaluating 171 out of 200\n",
      "Evaluating 172 out of 200\n",
      "Evaluating 173 out of 200\n",
      "Evaluating 174 out of 200\n",
      "Evaluating 175 out of 200\n",
      "Evaluating 176 out of 200\n",
      "Evaluating 177 out of 200\n",
      "Evaluating 178 out of 200\n",
      "Evaluating 179 out of 200\n",
      "Evaluating 180 out of 200\n",
      "Evaluating 181 out of 200\n",
      "Evaluating 182 out of 200\n",
      "Evaluating 183 out of 200\n",
      "Evaluating 184 out of 200\n",
      "Evaluating 185 out of 200\n",
      "Evaluating 186 out of 200\n",
      "Evaluating 187 out of 200\n",
      "Evaluating 188 out of 200\n",
      "Evaluating 189 out of 200\n",
      "Evaluating 190 out of 200\n",
      "Evaluating 191 out of 200\n",
      "Evaluating 192 out of 200\n",
      "Evaluating 193 out of 200\n",
      "Evaluating 194 out of 200\n",
      "Evaluating 195 out of 200\n",
      "Evaluating 196 out of 200\n",
      "Evaluating 197 out of 200\n",
      "Evaluating 198 out of 200\n",
      "Evaluating 199 out of 200\n",
      "Evaluating 200 out of 200\n"
     ]
    }
   ],
   "source": [
    "scores = []\n",
    "n = 200\n",
    "for index, x in enumerate(trainset[:n]):\n",
    "    print(f\"Evaluating {index+1} out of {n}\")\n",
    "    pred = write_video_transcript(**x.inputs())\n",
    "    score = metric(x, pred)\n",
    "    scores.append(score)"
   ]
  },
  {
   "cell_type": "code",
   "execution_count": 11,
   "id": "48a93e3f",
   "metadata": {},
   "outputs": [],
   "source": [
    "import matplotlib.pyplot as plt\n",
    "import numpy as np"
   ]
  },
  {
   "cell_type": "code",
   "execution_count": 12,
   "id": "ba3a00a0",
   "metadata": {},
   "outputs": [],
   "source": [
    "def visualize_bool_list(bool_list):\n",
    "    # Calculate proportions\n",
    "    total = len(bool_list)\n",
    "    true_count = sum(bool_list)\n",
    "    proportions = [true_count / total, (total - true_count) / total]\n",
    "\n",
    "    # Create figure and axis\n",
    "    fig, ax = plt.subplots(figsize=(12, 2))\n",
    "\n",
    "    # Create horizontal bar\n",
    "    ax.barh(0, proportions[0], color=\"#2ecc71\", label=f\"True ({true_count})\")\n",
    "    ax.barh(\n",
    "        0,\n",
    "        proportions[1],\n",
    "        left=proportions[0],\n",
    "        color=\"#e74c3c\",\n",
    "        label=f\"False ({total-true_count})\",\n",
    "    )\n",
    "\n",
    "    # Customize appearance\n",
    "    ax.set_yticks([])  # Remove y-axis ticks\n",
    "    ax.set_xticks([])  # Remove x-axis ticks\n",
    "    ax.set_xlim(0, 1)  # Set x-axis limits\n",
    "\n",
    "    # Remove all spines\n",
    "    for spine in ax.spines.values():\n",
    "        spine.set_visible(False)\n",
    "\n",
    "    # Add percentage labels\n",
    "    ax.text(\n",
    "        proportions[0] / 2,\n",
    "        0,\n",
    "        f\"TRUE ({true_count}/{total})\",\n",
    "        ha=\"center\",\n",
    "        va=\"center\",\n",
    "        color=\"white\",\n",
    "        fontsize=12,\n",
    "        fontweight=\"bold\",\n",
    "    )\n",
    "    ax.text(\n",
    "        proportions[0] + proportions[1] / 2,\n",
    "        0,\n",
    "        f\"FALSE ({total-true_count}/{total})\",\n",
    "        ha=\"center\",\n",
    "        va=\"center\",\n",
    "        color=\"white\",\n",
    "        fontsize=12,\n",
    "        fontweight=\"bold\",\n",
    "    )\n",
    "\n",
    "    plt.tight_layout()\n",
    "    plt.show()"
   ]
  },
  {
   "cell_type": "markdown",
   "id": "f1575c1e",
   "metadata": {},
   "source": [
    "Example usage:\n",
    "scores = [s for s in scores if s is not None]\n",
    "bool_list = scores\n",
    "visualize_bool_list(bool_list)\n"
   ]
  },
  {
   "cell_type": "code",
   "execution_count": 13,
   "id": "adf404b2",
   "metadata": {
    "lines_to_next_cell": 2
   },
   "outputs": [
    {
     "name": "stdin",
     "output_type": "stream",
     "text": [
      "\u001b[93m\u001b[1mProjected Language Model (LM) Calls\u001b[0m\n",
      "\n",
      "Based on the parameters you have set, the maximum number of LM calls is projected as follows:\n",
      "\n",
      "\u001b[93m- Prompt Generation: \u001b[94m\u001b[1m10\u001b[0m\u001b[93m data summarizer calls + \u001b[94m\u001b[1m10\u001b[0m\u001b[93m * \u001b[94m\u001b[1m1\u001b[0m\u001b[93m lm calls in program + (\u001b[94m\u001b[1m2\u001b[0m\u001b[93m) lm calls in program-aware proposer = \u001b[94m\u001b[1m22\u001b[0m\u001b[93m prompt model calls\u001b[0m\n",
      "\u001b[93m- Program Evaluation: \u001b[94m\u001b[1m25\u001b[0m\u001b[93m examples in minibatch * \u001b[94m\u001b[1m30\u001b[0m\u001b[93m batches + \u001b[94m\u001b[1m80\u001b[0m\u001b[93m examples in val set * \u001b[94m\u001b[1m4\u001b[0m\u001b[93m full evals = \u001b[94m\u001b[1m1070\u001b[0m\u001b[93m LM Program calls\u001b[0m\n",
      "\n",
      "\u001b[93m\u001b[1mEstimated Cost Calculation:\u001b[0m\n",
      "\n",
      "\u001b[93mTotal Cost = (Number of calls to task model * (Avg Input Token Length per Call * Task Model Price per Input Token + Avg Output Token Length per Call * Task Model Price per Output Token) \n",
      "            + (Number of program calls * (Avg Input Token Length per Call * Task Prompt Price per Input Token + Avg Output Token Length per Call * Prompt Model Price per Output Token).\u001b[0m\n",
      "\n",
      "For a preliminary estimate of potential costs, we recommend you perform your own calculations based on the task\n",
      "and prompt models you intend to use. If the projected costs exceed your budget or expectations, you may consider:\n",
      "\n",
      "\u001b[93m- Reducing the number of trials (`num_trials`), the size of the valset, or the number of LM calls in your program.\u001b[0m\n",
      "\u001b[93m- Using a cheaper task model to optimize the prompt.\u001b[0m\n",
      "\u001b[93m- Setting `minibatch=True` if you haven't already.\u001b[0m\n",
      "\n",
      "To proceed with the execution of this program, please confirm by typing \u001b[94m'y'\u001b[0m for yes or \u001b[94m'n'\u001b[0m for no.\n",
      "\n",
      "If you would like to bypass this confirmation step in future executions, set the \u001b[93m`requires_permission_to_run`\u001b[0m flag to \u001b[93m`False`\u001b[0m when calling compile.\n",
      "\n",
      "\u001b[93mAwaiting your input...\u001b[0m\n",
      "\n",
      "Do you wish to continue? (y/n):  y\n"
     ]
    },
    {
     "name": "stderr",
     "output_type": "stream",
     "text": [
      "2025/01/11 18:03:14 INFO dspy.teleprompt.mipro_optimizer_v2: \n",
      "==> STEP 1: BOOTSTRAP FEWSHOT EXAMPLES <==\n",
      "2025/01/11 18:03:14 INFO dspy.teleprompt.mipro_optimizer_v2: These will be used as few-shot example candidates for our program and for creating instructions.\n",
      "\n",
      "2025/01/11 18:03:14 INFO dspy.teleprompt.mipro_optimizer_v2: Bootstrapping N=10 sets of demonstrations...\n"
     ]
    },
    {
     "name": "stdout",
     "output_type": "stream",
     "text": [
      "Bootstrapping set 1/10\n",
      "Bootstrapping set 2/10\n",
      "Bootstrapping set 3/10\n"
     ]
    },
    {
     "name": "stderr",
     "output_type": "stream",
     "text": [
      "100%|███████████████████████████████████████████████████████████████████████████████████████████████████████████████████████| 20/20 [00:01<00:00, 19.26it/s]\n"
     ]
    },
    {
     "name": "stdout",
     "output_type": "stream",
     "text": [
      "Bootstrapped 0 full traces after 19 examples for up to 1 rounds, amounting to 20 attempts.\n",
      "Bootstrapping set 4/10\n"
     ]
    },
    {
     "name": "stderr",
     "output_type": "stream",
     "text": [
      "100%|███████████████████████████████████████████████████████████████████████████████████████████████████████████████████████| 20/20 [00:01<00:00, 18.34it/s]\n"
     ]
    },
    {
     "name": "stdout",
     "output_type": "stream",
     "text": [
      "Bootstrapped 0 full traces after 19 examples for up to 1 rounds, amounting to 20 attempts.\n",
      "Bootstrapping set 5/10\n"
     ]
    },
    {
     "name": "stderr",
     "output_type": "stream",
     "text": [
      "100%|███████████████████████████████████████████████████████████████████████████████████████████████████████████████████████| 20/20 [00:01<00:00, 19.38it/s]\n"
     ]
    },
    {
     "name": "stdout",
     "output_type": "stream",
     "text": [
      "Bootstrapped 0 full traces after 19 examples for up to 1 rounds, amounting to 20 attempts.\n",
      "Bootstrapping set 6/10\n"
     ]
    },
    {
     "name": "stderr",
     "output_type": "stream",
     "text": [
      "100%|███████████████████████████████████████████████████████████████████████████████████████████████████████████████████████| 20/20 [00:01<00:00, 19.11it/s]\n"
     ]
    },
    {
     "name": "stdout",
     "output_type": "stream",
     "text": [
      "Bootstrapped 0 full traces after 19 examples for up to 1 rounds, amounting to 20 attempts.\n",
      "Bootstrapping set 7/10\n"
     ]
    },
    {
     "name": "stderr",
     "output_type": "stream",
     "text": [
      "100%|███████████████████████████████████████████████████████████████████████████████████████████████████████████████████████| 20/20 [00:01<00:00, 19.31it/s]\n"
     ]
    },
    {
     "name": "stdout",
     "output_type": "stream",
     "text": [
      "Bootstrapped 0 full traces after 19 examples for up to 1 rounds, amounting to 20 attempts.\n",
      "Bootstrapping set 8/10\n"
     ]
    },
    {
     "name": "stderr",
     "output_type": "stream",
     "text": [
      "100%|███████████████████████████████████████████████████████████████████████████████████████████████████████████████████████| 20/20 [00:01<00:00, 19.56it/s]\n"
     ]
    },
    {
     "name": "stdout",
     "output_type": "stream",
     "text": [
      "Bootstrapped 0 full traces after 19 examples for up to 1 rounds, amounting to 20 attempts.\n",
      "Bootstrapping set 9/10\n"
     ]
    },
    {
     "name": "stderr",
     "output_type": "stream",
     "text": [
      "100%|███████████████████████████████████████████████████████████████████████████████████████████████████████████████████████| 20/20 [00:00<00:00, 20.50it/s]\n"
     ]
    },
    {
     "name": "stdout",
     "output_type": "stream",
     "text": [
      "Bootstrapped 0 full traces after 19 examples for up to 1 rounds, amounting to 20 attempts.\n",
      "Bootstrapping set 10/10\n"
     ]
    },
    {
     "name": "stderr",
     "output_type": "stream",
     "text": [
      "100%|███████████████████████████████████████████████████████████████████████████████████████████████████████████████████████| 20/20 [00:01<00:00, 20.00it/s]\n",
      "2025/01/11 18:03:23 INFO dspy.teleprompt.mipro_optimizer_v2: \n",
      "==> STEP 2: PROPOSE INSTRUCTION CANDIDATES <==\n",
      "2025/01/11 18:03:23 INFO dspy.teleprompt.mipro_optimizer_v2: We will use the few-shot examples from the previous step, a generated dataset summary, a summary of the program code, and a randomly selected prompting tip to propose instructions.\n",
      "2025/01/11 18:03:23 INFO dspy.teleprompt.mipro_optimizer_v2: \n",
      "Proposing instructions...\n",
      "\n",
      "2025/01/11 18:03:23 INFO dspy.teleprompt.mipro_optimizer_v2: Proposed Instructions for Predictor 0:\n",
      "\n",
      "2025/01/11 18:03:23 INFO dspy.teleprompt.mipro_optimizer_v2: 0: Write a video transcript for the intro video to a course on a given topic.\n",
      "\n",
      "2025/01/11 18:03:23 INFO dspy.teleprompt.mipro_optimizer_v2: 1: You are an experienced educator creating an engaging introduction for a course. Write a video transcript for the intro video to a course on the given topic. Ensure the transcript is approximately 250 words and is formatted in markdown. Use personal storytelling and practical examples to enhance relatability, and aim to promote a growth mindset while encouraging learner interaction.\n",
      "\n",
      "2025/01/11 18:03:23 INFO dspy.teleprompt.mipro_optimizer_v2: 2: Generate a markdown-formatted video transcript of approximately 250 words for the introduction of a course on the specified topic, ensuring it is engaging and informative while clearly communicating the course's purpose and content to prospective students.\n",
      "\n",
      "2025/01/11 18:03:23 INFO dspy.teleprompt.mipro_optimizer_v2: 3: Create an engaging and informative video transcript for the introductory segment of a course centered on the specified topic. The transcript should be approximately 250 words long, formatted in markdown, and should effectively convey the course's objectives, key themes, and the importance of the topic in a relatable manner that encourages prospective students to enroll. Include elements of storytelling and highlight the integration of practical skills and ethical considerations to foster a growth mindset.\n",
      "\n",
      "2025/01/11 18:03:23 INFO dspy.teleprompt.mipro_optimizer_v2: 4: You are an experienced educator creating an engaging introduction for a course. Write a video transcript for the intro video to a course on the given topic. Ensure the transcript is approximately 250 words and is formatted in markdown. Use personal storytelling and practical examples to enhance relatability, and aim to promote a growth mindset while encouraging learner interaction.\n",
      "\n",
      "2025/01/11 18:03:23 INFO dspy.teleprompt.mipro_optimizer_v2: 5: Generate a markdown-formatted video transcript of approximately 250 words for the introduction of a course on the specified topic, ensuring it is engaging and informative while clearly communicating the course's purpose and content to prospective students.\n",
      "\n",
      "2025/01/11 18:03:23 INFO dspy.teleprompt.mipro_optimizer_v2: 6: Generate a markdown-formatted video transcript for the introduction of a course on the specified topic. The transcript should be approximately 250 words and should effectively communicate the course's purpose and content while engaging prospective students. Include a reasoning section that outlines the thought process behind the content creation, ensuring the introduction is relatable and applicable to real-world scenarios.\n",
      "\n",
      "2025/01/11 18:03:23 INFO dspy.teleprompt.mipro_optimizer_v2: 7: Generate a markdown-formatted video transcript for the introduction of a course on the specified topic. The transcript should be approximately 250 words and should effectively communicate the course's purpose and content while engaging prospective students. Include a reasoning section that outlines the thought process behind the content creation, ensuring the introduction is relatable and applicable to real-world scenarios.\n",
      "\n",
      "2025/01/11 18:03:23 INFO dspy.teleprompt.mipro_optimizer_v2: 8: Create an engaging and informative video transcript for the introductory segment of a course centered on the specified topic. The transcript should be approximately 250 words long, formatted in markdown, and should effectively convey the course's objectives, key themes, and the importance of the topic in a relatable manner that encourages prospective students to enroll. Include elements of storytelling and highlight the integration of practical skills and ethical considerations to foster a growth mindset.\n",
      "\n",
      "2025/01/11 18:03:23 INFO dspy.teleprompt.mipro_optimizer_v2: 9: Generate a markdown-formatted video transcript of approximately 250 words for the introduction of a course on the specified topic, ensuring it is engaging and informative while clearly communicating the course's purpose and content to prospective students.\n",
      "\n",
      "2025/01/11 18:03:23 INFO dspy.teleprompt.mipro_optimizer_v2: \n",
      "\n",
      "2025/01/11 18:03:23 INFO dspy.teleprompt.mipro_optimizer_v2: Evaluating the default program...\n",
      "\n"
     ]
    },
    {
     "name": "stdout",
     "output_type": "stream",
     "text": [
      "Bootstrapped 0 full traces after 19 examples for up to 1 rounds, amounting to 20 attempts.\n",
      "SOURCE CODE: StringSignature(topic -> reasoning, intro_video\n",
      "    instructions='Write a video transcript for the intro video to a course on a given topic.'\n",
      "    topic = Field(annotation=str required=True json_schema_extra={'desc': 'the topic of the course', '__dspy_field_type': 'input', 'prefix': 'Topic:'})\n",
      "    reasoning = Field(annotation=str required=True json_schema_extra={'prefix': \"Reasoning: Let's think step by step in order to\", 'desc': '${reasoning}', '__dspy_field_type': 'output'})\n",
      "    intro_video = Field(annotation=str required=True json_schema_extra={'desc': 'markdown-formatted transcript of an intro video of roughly 250 words', '__dspy_field_type': 'output', 'prefix': 'Intro Video:'})\n",
      ")\n",
      "\n",
      "\n",
      "\n",
      "\n",
      "DATA SUMMARY: The observations indicate a strong focus on practical skills and ethical considerations in educational content aimed at technology and design professionals, with an emphasis on integrating soft skills alongside technical training. Instructors utilize personal storytelling to enhance engagement while promoting a growth mindset and encouraging learner interaction through Q&A sections. The overall structure and tone foster relatability and applicability, making the courses well-rounded for real-world scenarios.\n",
      "Using a randomly generated configuration for our grounded proposer.\n",
      "Selected tip: creative\n",
      "PROGRAM DESCRIPTION: The program is designed to generate a video transcript for the introduction of a course on a specified topic. It takes two inputs: a topic that describes the focus of the course and a reasoning field that outlines the thought process behind the content creation. The program's task is to produce a markdown-formatted transcript of approximately 250 words that serves as an engaging introduction to the course, thereby helping educators and course creators effectively communicate the course's purpose and content to prospective students. By structuring the input and output fields, the program ensures that the generated transcript is relevant and informative, while also adhering to a specific format.\n",
      "task_demos \n",
      "\n",
      "\n",
      "\n",
      "\n",
      "\u001b[34m[2025-01-11T18:03:23.081140]\u001b[0m\n",
      "\n",
      "\u001b[31mSystem message:\u001b[0m\n",
      "\n",
      "Your input fields are:\n",
      "1. `dataset_description` (str): A description of the dataset that we are using.\n",
      "2. `program_code` (str): Language model program designed to solve a particular task.\n",
      "3. `program_description` (str): Summary of the task the program is designed to solve, and how it goes about solving it.\n",
      "4. `module` (str): The module to create an instruction for.\n",
      "5. `task_demos` (str): Example inputs/outputs of our module.\n",
      "6. `basic_instruction` (str): Basic instruction.\n",
      "7. `tip` (str): A suggestion for how to go about generating the new instruction.\n",
      "\n",
      "Your output fields are:\n",
      "1. `proposed_instruction` (str): Propose an instruction that will be used to prompt a Language Model to perform this task.\n",
      "\n",
      "All interactions will be structured in the following way, with the appropriate values filled in.\n",
      "\n",
      "[[ ## dataset_description ## ]]\n",
      "{dataset_description}\n",
      "\n",
      "[[ ## program_code ## ]]\n",
      "{program_code}\n",
      "\n",
      "[[ ## program_description ## ]]\n",
      "{program_description}\n",
      "\n",
      "[[ ## module ## ]]\n",
      "{module}\n",
      "\n",
      "[[ ## task_demos ## ]]\n",
      "{task_demos}\n",
      "\n",
      "[[ ## basic_instruction ## ]]\n",
      "{basic_instruction}\n",
      "\n",
      "[[ ## tip ## ]]\n",
      "{tip}\n",
      "\n",
      "[[ ## proposed_instruction ## ]]\n",
      "{proposed_instruction}\n",
      "\n",
      "[[ ## completed ## ]]\n",
      "\n",
      "In adhering to this structure, your objective is: \n",
      "        Use the information below to learn about a task that we are trying to solve using calls to an LM, then generate a new instruction that will be used to prompt a Language Model to better solve the task.\n",
      "\n",
      "\n",
      "\u001b[31mUser message:\u001b[0m\n",
      "\n",
      "[[ ## dataset_description ## ]]\n",
      "The observations indicate a strong focus on practical skills and ethical considerations in educational content aimed at technology and design professionals, with an emphasis on integrating soft skills alongside technical training. Instructors utilize personal storytelling to enhance engagement while promoting a growth mindset and encouraging learner interaction through Q&A sections. The overall structure and tone foster relatability and applicability, making the courses well-rounded for real-world scenarios.\n",
      "\n",
      "[[ ## program_code ## ]]\n",
      "StringSignature(topic -> reasoning, intro_video\n",
      "    instructions='Write a video transcript for the intro video to a course on a given topic.'\n",
      "    topic = Field(annotation=str required=True json_schema_extra={'desc': 'the topic of the course', '__dspy_field_type': 'input', 'prefix': 'Topic:'})\n",
      "    reasoning = Field(annotation=str required=True json_schema_extra={'prefix': \"Reasoning: Let's think step by step in order to\", 'desc': '${reasoning}', '__dspy_field_type': 'output'})\n",
      "    intro_video = Field(annotation=str required=True json_schema_extra={'desc': 'markdown-formatted transcript of an intro video of roughly 250 words', '__dspy_field_type': 'output', 'prefix': 'Intro Video:'})\n",
      ")\n",
      "\n",
      "\n",
      "\n",
      "\n",
      "\n",
      "[[ ## program_description ## ]]\n",
      "The program is designed to generate a video transcript for the introduction of a course on a specified topic. It takes two inputs: a topic that describes the focus of the course and a reasoning field that outlines the thought process behind the content creation. The program's task is to produce a markdown-formatted transcript of approximately 250 words that serves as an engaging introduction to the course, thereby helping educators and course creators effectively communicate the course's purpose and content to prospective students. By structuring the input and output fields, the program ensures that the generated transcript is relevant and informative, while also adhering to a specific format.\n",
      "\n",
      "[[ ## module ## ]]\n",
      "Predict(topic) -> reasoning, intro_video\n",
      "\n",
      "[[ ## task_demos ## ]]\n",
      "\n",
      "\n",
      "[[ ## basic_instruction ## ]]\n",
      "Write a video transcript for the intro video to a course on a given topic.\n",
      "\n",
      "[[ ## tip ## ]]\n",
      "Don't be afraid to be creative when creating the new instruction!\n",
      "\n",
      "Respond with the corresponding output fields, starting with the field `[[ ## proposed_instruction ## ]]`, and then ending with the marker for `[[ ## completed ## ]]`.\n",
      "\n",
      "\n",
      "\u001b[31mResponse:\u001b[0m\n",
      "\n",
      "\u001b[32m[[ ## proposed_instruction ## ]]\n",
      "Create an engaging and informative video transcript for the introductory segment of a course centered on the specified topic. The transcript should be approximately 250 words long, formatted in markdown, and should effectively convey the course's objectives, key themes, and the importance of the topic in a relatable manner that encourages prospective students to enroll. Include elements of storytelling and highlight the integration of practical skills and ethical considerations to foster a growth mindset.\n",
      "\n",
      "[[ ## completed ## ]]\u001b[0m\n",
      "\n",
      "\n",
      "\n",
      "\n",
      "\n",
      "PROPOSED INSTRUCTION: Create an engaging and informative video transcript for the introductory segment of a course centered on the specified topic. The transcript should be approximately 250 words long, formatted in markdown, and should effectively convey the course's objectives, key themes, and the importance of the topic in a relatable manner that encourages prospective students to enroll. Include elements of storytelling and highlight the integration of practical skills and ethical considerations to foster a growth mindset.\n",
      "Using a randomly generated configuration for our grounded proposer.\n",
      "Selected tip: persona\n",
      "PROGRAM DESCRIPTION: The program is designed to generate a video transcript for the introduction of a course on a specified topic. It takes two inputs: a topic that describes the focus of the course and a reasoning field that outlines the thought process behind the content creation. The program's task is to produce a markdown-formatted transcript of approximately 250 words that serves as an engaging introduction to the course, thereby helping educators and course creators effectively communicate the course's purpose and content to prospective students. By structuring the input and output fields, the program ensures that the generated transcript is relevant and informative, while also adhering to a specific format.\n",
      "task_demos \n",
      "\n",
      "\n",
      "\n",
      "\n",
      "\u001b[34m[2025-01-11T18:03:23.085157]\u001b[0m\n",
      "\n",
      "\u001b[31mSystem message:\u001b[0m\n",
      "\n",
      "Your input fields are:\n",
      "1. `dataset_description` (str): A description of the dataset that we are using.\n",
      "2. `program_code` (str): Language model program designed to solve a particular task.\n",
      "3. `program_description` (str): Summary of the task the program is designed to solve, and how it goes about solving it.\n",
      "4. `module` (str): The module to create an instruction for.\n",
      "5. `task_demos` (str): Example inputs/outputs of our module.\n",
      "6. `basic_instruction` (str): Basic instruction.\n",
      "7. `tip` (str): A suggestion for how to go about generating the new instruction.\n",
      "\n",
      "Your output fields are:\n",
      "1. `proposed_instruction` (str): Propose an instruction that will be used to prompt a Language Model to perform this task.\n",
      "\n",
      "All interactions will be structured in the following way, with the appropriate values filled in.\n",
      "\n",
      "[[ ## dataset_description ## ]]\n",
      "{dataset_description}\n",
      "\n",
      "[[ ## program_code ## ]]\n",
      "{program_code}\n",
      "\n",
      "[[ ## program_description ## ]]\n",
      "{program_description}\n",
      "\n",
      "[[ ## module ## ]]\n",
      "{module}\n",
      "\n",
      "[[ ## task_demos ## ]]\n",
      "{task_demos}\n",
      "\n",
      "[[ ## basic_instruction ## ]]\n",
      "{basic_instruction}\n",
      "\n",
      "[[ ## tip ## ]]\n",
      "{tip}\n",
      "\n",
      "[[ ## proposed_instruction ## ]]\n",
      "{proposed_instruction}\n",
      "\n",
      "[[ ## completed ## ]]\n",
      "\n",
      "In adhering to this structure, your objective is: \n",
      "        Use the information below to learn about a task that we are trying to solve using calls to an LM, then generate a new instruction that will be used to prompt a Language Model to better solve the task.\n",
      "\n",
      "\n",
      "\u001b[31mUser message:\u001b[0m\n",
      "\n",
      "[[ ## dataset_description ## ]]\n",
      "The observations indicate a strong focus on practical skills and ethical considerations in educational content aimed at technology and design professionals, with an emphasis on integrating soft skills alongside technical training. Instructors utilize personal storytelling to enhance engagement while promoting a growth mindset and encouraging learner interaction through Q&A sections. The overall structure and tone foster relatability and applicability, making the courses well-rounded for real-world scenarios.\n",
      "\n",
      "[[ ## program_code ## ]]\n",
      "StringSignature(topic -> reasoning, intro_video\n",
      "    instructions='Write a video transcript for the intro video to a course on a given topic.'\n",
      "    topic = Field(annotation=str required=True json_schema_extra={'desc': 'the topic of the course', '__dspy_field_type': 'input', 'prefix': 'Topic:'})\n",
      "    reasoning = Field(annotation=str required=True json_schema_extra={'prefix': \"Reasoning: Let's think step by step in order to\", 'desc': '${reasoning}', '__dspy_field_type': 'output'})\n",
      "    intro_video = Field(annotation=str required=True json_schema_extra={'desc': 'markdown-formatted transcript of an intro video of roughly 250 words', '__dspy_field_type': 'output', 'prefix': 'Intro Video:'})\n",
      ")\n",
      "\n",
      "\n",
      "\n",
      "\n",
      "\n",
      "[[ ## program_description ## ]]\n",
      "The program is designed to generate a video transcript for the introduction of a course on a specified topic. It takes two inputs: a topic that describes the focus of the course and a reasoning field that outlines the thought process behind the content creation. The program's task is to produce a markdown-formatted transcript of approximately 250 words that serves as an engaging introduction to the course, thereby helping educators and course creators effectively communicate the course's purpose and content to prospective students. By structuring the input and output fields, the program ensures that the generated transcript is relevant and informative, while also adhering to a specific format.\n",
      "\n",
      "[[ ## module ## ]]\n",
      "Predict(topic) -> reasoning, intro_video\n",
      "\n",
      "[[ ## task_demos ## ]]\n",
      "\n",
      "\n",
      "[[ ## basic_instruction ## ]]\n",
      "Write a video transcript for the intro video to a course on a given topic.\n",
      "\n",
      "[[ ## tip ## ]]\n",
      "Include a persona that is relevant to the task in the instruction (ie. \"You are a ...\")\n",
      "\n",
      "Respond with the corresponding output fields, starting with the field `[[ ## proposed_instruction ## ]]`, and then ending with the marker for `[[ ## completed ## ]]`.\n",
      "\n",
      "\n",
      "\u001b[31mResponse:\u001b[0m\n",
      "\n",
      "\u001b[32m[[ ## proposed_instruction ## ]]\n",
      "You are an experienced educator creating an engaging introduction for a course. Write a video transcript for the intro video to a course on the given topic. Ensure the transcript is approximately 250 words and is formatted in markdown. Use personal storytelling and practical examples to enhance relatability, and aim to promote a growth mindset while encouraging learner interaction.\n",
      "\n",
      "[[ ## completed ## ]]\u001b[0m\n",
      "\n",
      "\n",
      "\n",
      "\n",
      "\n",
      "PROPOSED INSTRUCTION: You are an experienced educator creating an engaging introduction for a course. Write a video transcript for the intro video to a course on the given topic. Ensure the transcript is approximately 250 words and is formatted in markdown. Use personal storytelling and practical examples to enhance relatability, and aim to promote a growth mindset while encouraging learner interaction.\n",
      "Using a randomly generated configuration for our grounded proposer.\n",
      "Selected tip: simple\n",
      "PROGRAM DESCRIPTION: The program is designed to generate a video transcript for the introduction of a course on a specified topic. It takes two inputs: a topic that describes the focus of the course and a reasoning field that outlines the thought process behind the content creation. The program's task is to produce a markdown-formatted transcript of approximately 250 words that serves as an engaging introduction to the course, thereby helping educators and course creators effectively communicate the course's purpose and content to prospective students. By structuring the input and output fields, the program ensures that the generated transcript is relevant and informative, while also adhering to a specific format.\n",
      "task_demos \n",
      "\n",
      "\n",
      "\n",
      "\n",
      "\u001b[34m[2025-01-11T18:03:23.090775]\u001b[0m\n",
      "\n",
      "\u001b[31mSystem message:\u001b[0m\n",
      "\n",
      "Your input fields are:\n",
      "1. `dataset_description` (str): A description of the dataset that we are using.\n",
      "2. `program_code` (str): Language model program designed to solve a particular task.\n",
      "3. `program_description` (str): Summary of the task the program is designed to solve, and how it goes about solving it.\n",
      "4. `module` (str): The module to create an instruction for.\n",
      "5. `task_demos` (str): Example inputs/outputs of our module.\n",
      "6. `basic_instruction` (str): Basic instruction.\n",
      "7. `tip` (str): A suggestion for how to go about generating the new instruction.\n",
      "\n",
      "Your output fields are:\n",
      "1. `proposed_instruction` (str): Propose an instruction that will be used to prompt a Language Model to perform this task.\n",
      "\n",
      "All interactions will be structured in the following way, with the appropriate values filled in.\n",
      "\n",
      "[[ ## dataset_description ## ]]\n",
      "{dataset_description}\n",
      "\n",
      "[[ ## program_code ## ]]\n",
      "{program_code}\n",
      "\n",
      "[[ ## program_description ## ]]\n",
      "{program_description}\n",
      "\n",
      "[[ ## module ## ]]\n",
      "{module}\n",
      "\n",
      "[[ ## task_demos ## ]]\n",
      "{task_demos}\n",
      "\n",
      "[[ ## basic_instruction ## ]]\n",
      "{basic_instruction}\n",
      "\n",
      "[[ ## tip ## ]]\n",
      "{tip}\n",
      "\n",
      "[[ ## proposed_instruction ## ]]\n",
      "{proposed_instruction}\n",
      "\n",
      "[[ ## completed ## ]]\n",
      "\n",
      "In adhering to this structure, your objective is: \n",
      "        Use the information below to learn about a task that we are trying to solve using calls to an LM, then generate a new instruction that will be used to prompt a Language Model to better solve the task.\n",
      "\n",
      "\n",
      "\u001b[31mUser message:\u001b[0m\n",
      "\n",
      "[[ ## dataset_description ## ]]\n",
      "The observations indicate a strong focus on practical skills and ethical considerations in educational content aimed at technology and design professionals, with an emphasis on integrating soft skills alongside technical training. Instructors utilize personal storytelling to enhance engagement while promoting a growth mindset and encouraging learner interaction through Q&A sections. The overall structure and tone foster relatability and applicability, making the courses well-rounded for real-world scenarios.\n",
      "\n",
      "[[ ## program_code ## ]]\n",
      "StringSignature(topic -> reasoning, intro_video\n",
      "    instructions='Write a video transcript for the intro video to a course on a given topic.'\n",
      "    topic = Field(annotation=str required=True json_schema_extra={'desc': 'the topic of the course', '__dspy_field_type': 'input', 'prefix': 'Topic:'})\n",
      "    reasoning = Field(annotation=str required=True json_schema_extra={'prefix': \"Reasoning: Let's think step by step in order to\", 'desc': '${reasoning}', '__dspy_field_type': 'output'})\n",
      "    intro_video = Field(annotation=str required=True json_schema_extra={'desc': 'markdown-formatted transcript of an intro video of roughly 250 words', '__dspy_field_type': 'output', 'prefix': 'Intro Video:'})\n",
      ")\n",
      "\n",
      "\n",
      "\n",
      "\n",
      "\n",
      "[[ ## program_description ## ]]\n",
      "The program is designed to generate a video transcript for the introduction of a course on a specified topic. It takes two inputs: a topic that describes the focus of the course and a reasoning field that outlines the thought process behind the content creation. The program's task is to produce a markdown-formatted transcript of approximately 250 words that serves as an engaging introduction to the course, thereby helping educators and course creators effectively communicate the course's purpose and content to prospective students. By structuring the input and output fields, the program ensures that the generated transcript is relevant and informative, while also adhering to a specific format.\n",
      "\n",
      "[[ ## module ## ]]\n",
      "Predict(topic) -> reasoning, intro_video\n",
      "\n",
      "[[ ## task_demos ## ]]\n",
      "\n",
      "\n",
      "[[ ## basic_instruction ## ]]\n",
      "Write a video transcript for the intro video to a course on a given topic.\n",
      "\n",
      "[[ ## tip ## ]]\n",
      "Keep the instruction clear and concise.\n",
      "\n",
      "Respond with the corresponding output fields, starting with the field `[[ ## proposed_instruction ## ]]`, and then ending with the marker for `[[ ## completed ## ]]`.\n",
      "\n",
      "\n",
      "\u001b[31mResponse:\u001b[0m\n",
      "\n",
      "\u001b[32m[[ ## proposed_instruction ## ]]\n",
      "Generate a markdown-formatted video transcript of approximately 250 words for the introduction of a course on the specified topic, ensuring it is engaging and informative while clearly communicating the course's purpose and content to prospective students.\n",
      "\n",
      "[[ ## completed ## ]]\u001b[0m\n",
      "\n",
      "\n",
      "\n",
      "\n",
      "\n",
      "PROPOSED INSTRUCTION: Generate a markdown-formatted video transcript of approximately 250 words for the introduction of a course on the specified topic, ensuring it is engaging and informative while clearly communicating the course's purpose and content to prospective students.\n",
      "Using a randomly generated configuration for our grounded proposer.\n",
      "Selected tip: creative\n",
      "PROGRAM DESCRIPTION: The program is designed to generate a video transcript for the introduction of a course on a specified topic. It takes two inputs: a topic that describes the focus of the course and a reasoning field that outlines the thought process behind the content creation. The program's task is to produce a markdown-formatted transcript of approximately 250 words that serves as an engaging introduction to the course, thereby helping educators and course creators effectively communicate the course's purpose and content to prospective students. By structuring the input and output fields, the program ensures that the generated transcript is relevant and informative, while also adhering to a specific format.\n",
      "task_demos \n",
      "\n",
      "\n",
      "\n",
      "\n",
      "\u001b[34m[2025-01-11T18:03:23.094213]\u001b[0m\n",
      "\n",
      "\u001b[31mSystem message:\u001b[0m\n",
      "\n",
      "Your input fields are:\n",
      "1. `dataset_description` (str): A description of the dataset that we are using.\n",
      "2. `program_code` (str): Language model program designed to solve a particular task.\n",
      "3. `program_description` (str): Summary of the task the program is designed to solve, and how it goes about solving it.\n",
      "4. `module` (str): The module to create an instruction for.\n",
      "5. `task_demos` (str): Example inputs/outputs of our module.\n",
      "6. `basic_instruction` (str): Basic instruction.\n",
      "7. `tip` (str): A suggestion for how to go about generating the new instruction.\n",
      "\n",
      "Your output fields are:\n",
      "1. `proposed_instruction` (str): Propose an instruction that will be used to prompt a Language Model to perform this task.\n",
      "\n",
      "All interactions will be structured in the following way, with the appropriate values filled in.\n",
      "\n",
      "[[ ## dataset_description ## ]]\n",
      "{dataset_description}\n",
      "\n",
      "[[ ## program_code ## ]]\n",
      "{program_code}\n",
      "\n",
      "[[ ## program_description ## ]]\n",
      "{program_description}\n",
      "\n",
      "[[ ## module ## ]]\n",
      "{module}\n",
      "\n",
      "[[ ## task_demos ## ]]\n",
      "{task_demos}\n",
      "\n",
      "[[ ## basic_instruction ## ]]\n",
      "{basic_instruction}\n",
      "\n",
      "[[ ## tip ## ]]\n",
      "{tip}\n",
      "\n",
      "[[ ## proposed_instruction ## ]]\n",
      "{proposed_instruction}\n",
      "\n",
      "[[ ## completed ## ]]\n",
      "\n",
      "In adhering to this structure, your objective is: \n",
      "        Use the information below to learn about a task that we are trying to solve using calls to an LM, then generate a new instruction that will be used to prompt a Language Model to better solve the task.\n",
      "\n",
      "\n",
      "\u001b[31mUser message:\u001b[0m\n",
      "\n",
      "[[ ## dataset_description ## ]]\n",
      "The observations indicate a strong focus on practical skills and ethical considerations in educational content aimed at technology and design professionals, with an emphasis on integrating soft skills alongside technical training. Instructors utilize personal storytelling to enhance engagement while promoting a growth mindset and encouraging learner interaction through Q&A sections. The overall structure and tone foster relatability and applicability, making the courses well-rounded for real-world scenarios.\n",
      "\n",
      "[[ ## program_code ## ]]\n",
      "StringSignature(topic -> reasoning, intro_video\n",
      "    instructions='Write a video transcript for the intro video to a course on a given topic.'\n",
      "    topic = Field(annotation=str required=True json_schema_extra={'desc': 'the topic of the course', '__dspy_field_type': 'input', 'prefix': 'Topic:'})\n",
      "    reasoning = Field(annotation=str required=True json_schema_extra={'prefix': \"Reasoning: Let's think step by step in order to\", 'desc': '${reasoning}', '__dspy_field_type': 'output'})\n",
      "    intro_video = Field(annotation=str required=True json_schema_extra={'desc': 'markdown-formatted transcript of an intro video of roughly 250 words', '__dspy_field_type': 'output', 'prefix': 'Intro Video:'})\n",
      ")\n",
      "\n",
      "\n",
      "\n",
      "\n",
      "\n",
      "[[ ## program_description ## ]]\n",
      "The program is designed to generate a video transcript for the introduction of a course on a specified topic. It takes two inputs: a topic that describes the focus of the course and a reasoning field that outlines the thought process behind the content creation. The program's task is to produce a markdown-formatted transcript of approximately 250 words that serves as an engaging introduction to the course, thereby helping educators and course creators effectively communicate the course's purpose and content to prospective students. By structuring the input and output fields, the program ensures that the generated transcript is relevant and informative, while also adhering to a specific format.\n",
      "\n",
      "[[ ## module ## ]]\n",
      "Predict(topic) -> reasoning, intro_video\n",
      "\n",
      "[[ ## task_demos ## ]]\n",
      "\n",
      "\n",
      "[[ ## basic_instruction ## ]]\n",
      "Write a video transcript for the intro video to a course on a given topic.\n",
      "\n",
      "[[ ## tip ## ]]\n",
      "Don't be afraid to be creative when creating the new instruction!\n",
      "\n",
      "Respond with the corresponding output fields, starting with the field `[[ ## proposed_instruction ## ]]`, and then ending with the marker for `[[ ## completed ## ]]`.\n",
      "\n",
      "\n",
      "\u001b[31mResponse:\u001b[0m\n",
      "\n",
      "\u001b[32m[[ ## proposed_instruction ## ]]\n",
      "Create an engaging and informative video transcript for the introductory segment of a course centered on the specified topic. The transcript should be approximately 250 words long, formatted in markdown, and should effectively convey the course's objectives, key themes, and the importance of the topic in a relatable manner that encourages prospective students to enroll. Include elements of storytelling and highlight the integration of practical skills and ethical considerations to foster a growth mindset.\n",
      "\n",
      "[[ ## completed ## ]]\u001b[0m\n",
      "\n",
      "\n",
      "\n",
      "\n",
      "\n",
      "PROPOSED INSTRUCTION: Create an engaging and informative video transcript for the introductory segment of a course centered on the specified topic. The transcript should be approximately 250 words long, formatted in markdown, and should effectively convey the course's objectives, key themes, and the importance of the topic in a relatable manner that encourages prospective students to enroll. Include elements of storytelling and highlight the integration of practical skills and ethical considerations to foster a growth mindset.\n",
      "Using a randomly generated configuration for our grounded proposer.\n",
      "Selected tip: persona\n",
      "PROGRAM DESCRIPTION: The program is designed to generate a video transcript for the introduction of a course on a specified topic. It takes two inputs: a topic that describes the focus of the course and a reasoning field that outlines the thought process behind the content creation. The program's task is to produce a markdown-formatted transcript of approximately 250 words that serves as an engaging introduction to the course, thereby helping educators and course creators effectively communicate the course's purpose and content to prospective students. By structuring the input and output fields, the program ensures that the generated transcript is relevant and informative, while also adhering to a specific format.\n",
      "task_demos \n",
      "\n",
      "\n",
      "\n",
      "\n",
      "\u001b[34m[2025-01-11T18:03:23.096560]\u001b[0m\n",
      "\n",
      "\u001b[31mSystem message:\u001b[0m\n",
      "\n",
      "Your input fields are:\n",
      "1. `dataset_description` (str): A description of the dataset that we are using.\n",
      "2. `program_code` (str): Language model program designed to solve a particular task.\n",
      "3. `program_description` (str): Summary of the task the program is designed to solve, and how it goes about solving it.\n",
      "4. `module` (str): The module to create an instruction for.\n",
      "5. `task_demos` (str): Example inputs/outputs of our module.\n",
      "6. `basic_instruction` (str): Basic instruction.\n",
      "7. `tip` (str): A suggestion for how to go about generating the new instruction.\n",
      "\n",
      "Your output fields are:\n",
      "1. `proposed_instruction` (str): Propose an instruction that will be used to prompt a Language Model to perform this task.\n",
      "\n",
      "All interactions will be structured in the following way, with the appropriate values filled in.\n",
      "\n",
      "[[ ## dataset_description ## ]]\n",
      "{dataset_description}\n",
      "\n",
      "[[ ## program_code ## ]]\n",
      "{program_code}\n",
      "\n",
      "[[ ## program_description ## ]]\n",
      "{program_description}\n",
      "\n",
      "[[ ## module ## ]]\n",
      "{module}\n",
      "\n",
      "[[ ## task_demos ## ]]\n",
      "{task_demos}\n",
      "\n",
      "[[ ## basic_instruction ## ]]\n",
      "{basic_instruction}\n",
      "\n",
      "[[ ## tip ## ]]\n",
      "{tip}\n",
      "\n",
      "[[ ## proposed_instruction ## ]]\n",
      "{proposed_instruction}\n",
      "\n",
      "[[ ## completed ## ]]\n",
      "\n",
      "In adhering to this structure, your objective is: \n",
      "        Use the information below to learn about a task that we are trying to solve using calls to an LM, then generate a new instruction that will be used to prompt a Language Model to better solve the task.\n",
      "\n",
      "\n",
      "\u001b[31mUser message:\u001b[0m\n",
      "\n",
      "[[ ## dataset_description ## ]]\n",
      "The observations indicate a strong focus on practical skills and ethical considerations in educational content aimed at technology and design professionals, with an emphasis on integrating soft skills alongside technical training. Instructors utilize personal storytelling to enhance engagement while promoting a growth mindset and encouraging learner interaction through Q&A sections. The overall structure and tone foster relatability and applicability, making the courses well-rounded for real-world scenarios.\n",
      "\n",
      "[[ ## program_code ## ]]\n",
      "StringSignature(topic -> reasoning, intro_video\n",
      "    instructions='Write a video transcript for the intro video to a course on a given topic.'\n",
      "    topic = Field(annotation=str required=True json_schema_extra={'desc': 'the topic of the course', '__dspy_field_type': 'input', 'prefix': 'Topic:'})\n",
      "    reasoning = Field(annotation=str required=True json_schema_extra={'prefix': \"Reasoning: Let's think step by step in order to\", 'desc': '${reasoning}', '__dspy_field_type': 'output'})\n",
      "    intro_video = Field(annotation=str required=True json_schema_extra={'desc': 'markdown-formatted transcript of an intro video of roughly 250 words', '__dspy_field_type': 'output', 'prefix': 'Intro Video:'})\n",
      ")\n",
      "\n",
      "\n",
      "\n",
      "\n",
      "\n",
      "[[ ## program_description ## ]]\n",
      "The program is designed to generate a video transcript for the introduction of a course on a specified topic. It takes two inputs: a topic that describes the focus of the course and a reasoning field that outlines the thought process behind the content creation. The program's task is to produce a markdown-formatted transcript of approximately 250 words that serves as an engaging introduction to the course, thereby helping educators and course creators effectively communicate the course's purpose and content to prospective students. By structuring the input and output fields, the program ensures that the generated transcript is relevant and informative, while also adhering to a specific format.\n",
      "\n",
      "[[ ## module ## ]]\n",
      "Predict(topic) -> reasoning, intro_video\n",
      "\n",
      "[[ ## task_demos ## ]]\n",
      "\n",
      "\n",
      "[[ ## basic_instruction ## ]]\n",
      "Write a video transcript for the intro video to a course on a given topic.\n",
      "\n",
      "[[ ## tip ## ]]\n",
      "Include a persona that is relevant to the task in the instruction (ie. \"You are a ...\")\n",
      "\n",
      "Respond with the corresponding output fields, starting with the field `[[ ## proposed_instruction ## ]]`, and then ending with the marker for `[[ ## completed ## ]]`.\n",
      "\n",
      "\n",
      "\u001b[31mResponse:\u001b[0m\n",
      "\n",
      "\u001b[32m[[ ## proposed_instruction ## ]]\n",
      "You are an experienced educator creating an engaging introduction for a course. Write a video transcript for the intro video to a course on the given topic. Ensure the transcript is approximately 250 words and is formatted in markdown. Use personal storytelling and practical examples to enhance relatability, and aim to promote a growth mindset while encouraging learner interaction.\n",
      "\n",
      "[[ ## completed ## ]]\u001b[0m\n",
      "\n",
      "\n",
      "\n",
      "\n",
      "\n",
      "PROPOSED INSTRUCTION: You are an experienced educator creating an engaging introduction for a course. Write a video transcript for the intro video to a course on the given topic. Ensure the transcript is approximately 250 words and is formatted in markdown. Use personal storytelling and practical examples to enhance relatability, and aim to promote a growth mindset while encouraging learner interaction.\n",
      "Using a randomly generated configuration for our grounded proposer.\n",
      "Selected tip: simple\n",
      "PROGRAM DESCRIPTION: The program is designed to generate a video transcript for the introduction of a course on a specified topic. It takes two inputs: a topic that describes the focus of the course and a reasoning field that outlines the thought process behind the content creation. The program's task is to produce a markdown-formatted transcript of approximately 250 words that serves as an engaging introduction to the course, thereby helping educators and course creators effectively communicate the course's purpose and content to prospective students. By structuring the input and output fields, the program ensures that the generated transcript is relevant and informative, while also adhering to a specific format.\n",
      "task_demos \n",
      "\n",
      "\n",
      "\n",
      "\n",
      "\u001b[34m[2025-01-11T18:03:23.098960]\u001b[0m\n",
      "\n",
      "\u001b[31mSystem message:\u001b[0m\n",
      "\n",
      "Your input fields are:\n",
      "1. `dataset_description` (str): A description of the dataset that we are using.\n",
      "2. `program_code` (str): Language model program designed to solve a particular task.\n",
      "3. `program_description` (str): Summary of the task the program is designed to solve, and how it goes about solving it.\n",
      "4. `module` (str): The module to create an instruction for.\n",
      "5. `task_demos` (str): Example inputs/outputs of our module.\n",
      "6. `basic_instruction` (str): Basic instruction.\n",
      "7. `tip` (str): A suggestion for how to go about generating the new instruction.\n",
      "\n",
      "Your output fields are:\n",
      "1. `proposed_instruction` (str): Propose an instruction that will be used to prompt a Language Model to perform this task.\n",
      "\n",
      "All interactions will be structured in the following way, with the appropriate values filled in.\n",
      "\n",
      "[[ ## dataset_description ## ]]\n",
      "{dataset_description}\n",
      "\n",
      "[[ ## program_code ## ]]\n",
      "{program_code}\n",
      "\n",
      "[[ ## program_description ## ]]\n",
      "{program_description}\n",
      "\n",
      "[[ ## module ## ]]\n",
      "{module}\n",
      "\n",
      "[[ ## task_demos ## ]]\n",
      "{task_demos}\n",
      "\n",
      "[[ ## basic_instruction ## ]]\n",
      "{basic_instruction}\n",
      "\n",
      "[[ ## tip ## ]]\n",
      "{tip}\n",
      "\n",
      "[[ ## proposed_instruction ## ]]\n",
      "{proposed_instruction}\n",
      "\n",
      "[[ ## completed ## ]]\n",
      "\n",
      "In adhering to this structure, your objective is: \n",
      "        Use the information below to learn about a task that we are trying to solve using calls to an LM, then generate a new instruction that will be used to prompt a Language Model to better solve the task.\n",
      "\n",
      "\n",
      "\u001b[31mUser message:\u001b[0m\n",
      "\n",
      "[[ ## dataset_description ## ]]\n",
      "The observations indicate a strong focus on practical skills and ethical considerations in educational content aimed at technology and design professionals, with an emphasis on integrating soft skills alongside technical training. Instructors utilize personal storytelling to enhance engagement while promoting a growth mindset and encouraging learner interaction through Q&A sections. The overall structure and tone foster relatability and applicability, making the courses well-rounded for real-world scenarios.\n",
      "\n",
      "[[ ## program_code ## ]]\n",
      "StringSignature(topic -> reasoning, intro_video\n",
      "    instructions='Write a video transcript for the intro video to a course on a given topic.'\n",
      "    topic = Field(annotation=str required=True json_schema_extra={'desc': 'the topic of the course', '__dspy_field_type': 'input', 'prefix': 'Topic:'})\n",
      "    reasoning = Field(annotation=str required=True json_schema_extra={'prefix': \"Reasoning: Let's think step by step in order to\", 'desc': '${reasoning}', '__dspy_field_type': 'output'})\n",
      "    intro_video = Field(annotation=str required=True json_schema_extra={'desc': 'markdown-formatted transcript of an intro video of roughly 250 words', '__dspy_field_type': 'output', 'prefix': 'Intro Video:'})\n",
      ")\n",
      "\n",
      "\n",
      "\n",
      "\n",
      "\n",
      "[[ ## program_description ## ]]\n",
      "The program is designed to generate a video transcript for the introduction of a course on a specified topic. It takes two inputs: a topic that describes the focus of the course and a reasoning field that outlines the thought process behind the content creation. The program's task is to produce a markdown-formatted transcript of approximately 250 words that serves as an engaging introduction to the course, thereby helping educators and course creators effectively communicate the course's purpose and content to prospective students. By structuring the input and output fields, the program ensures that the generated transcript is relevant and informative, while also adhering to a specific format.\n",
      "\n",
      "[[ ## module ## ]]\n",
      "Predict(topic) -> reasoning, intro_video\n",
      "\n",
      "[[ ## task_demos ## ]]\n",
      "\n",
      "\n",
      "[[ ## basic_instruction ## ]]\n",
      "Write a video transcript for the intro video to a course on a given topic.\n",
      "\n",
      "[[ ## tip ## ]]\n",
      "Keep the instruction clear and concise.\n",
      "\n",
      "Respond with the corresponding output fields, starting with the field `[[ ## proposed_instruction ## ]]`, and then ending with the marker for `[[ ## completed ## ]]`.\n",
      "\n",
      "\n",
      "\u001b[31mResponse:\u001b[0m\n",
      "\n",
      "\u001b[32m[[ ## proposed_instruction ## ]]\n",
      "Generate a markdown-formatted video transcript of approximately 250 words for the introduction of a course on the specified topic, ensuring it is engaging and informative while clearly communicating the course's purpose and content to prospective students.\n",
      "\n",
      "[[ ## completed ## ]]\u001b[0m\n",
      "\n",
      "\n",
      "\n",
      "\n",
      "\n",
      "PROPOSED INSTRUCTION: Generate a markdown-formatted video transcript of approximately 250 words for the introduction of a course on the specified topic, ensuring it is engaging and informative while clearly communicating the course's purpose and content to prospective students.\n",
      "Using a randomly generated configuration for our grounded proposer.\n",
      "Selected tip: none\n",
      "PROGRAM DESCRIPTION: The program is designed to generate a video transcript for the introduction of a course on a specified topic. It takes two inputs: a topic that describes the focus of the course and a reasoning field that outlines the thought process behind the content creation. The program's task is to produce a markdown-formatted transcript of approximately 250 words that serves as an engaging introduction to the course, thereby helping educators and course creators effectively communicate the course's purpose and content to prospective students. By structuring the input and output fields, the program ensures that the generated transcript is relevant and informative, while also adhering to a specific format.\n",
      "task_demos \n",
      "\n",
      "\n",
      "\n",
      "\n",
      "\u001b[34m[2025-01-11T18:03:23.102261]\u001b[0m\n",
      "\n",
      "\u001b[31mSystem message:\u001b[0m\n",
      "\n",
      "Your input fields are:\n",
      "1. `dataset_description` (str): A description of the dataset that we are using.\n",
      "2. `program_code` (str): Language model program designed to solve a particular task.\n",
      "3. `program_description` (str): Summary of the task the program is designed to solve, and how it goes about solving it.\n",
      "4. `module` (str): The module to create an instruction for.\n",
      "5. `task_demos` (str): Example inputs/outputs of our module.\n",
      "6. `basic_instruction` (str): Basic instruction.\n",
      "\n",
      "Your output fields are:\n",
      "1. `proposed_instruction` (str): Propose an instruction that will be used to prompt a Language Model to perform this task.\n",
      "\n",
      "All interactions will be structured in the following way, with the appropriate values filled in.\n",
      "\n",
      "[[ ## dataset_description ## ]]\n",
      "{dataset_description}\n",
      "\n",
      "[[ ## program_code ## ]]\n",
      "{program_code}\n",
      "\n",
      "[[ ## program_description ## ]]\n",
      "{program_description}\n",
      "\n",
      "[[ ## module ## ]]\n",
      "{module}\n",
      "\n",
      "[[ ## task_demos ## ]]\n",
      "{task_demos}\n",
      "\n",
      "[[ ## basic_instruction ## ]]\n",
      "{basic_instruction}\n",
      "\n",
      "[[ ## proposed_instruction ## ]]\n",
      "{proposed_instruction}\n",
      "\n",
      "[[ ## completed ## ]]\n",
      "\n",
      "In adhering to this structure, your objective is: \n",
      "        Use the information below to learn about a task that we are trying to solve using calls to an LM, then generate a new instruction that will be used to prompt a Language Model to better solve the task.\n",
      "\n",
      "\n",
      "\u001b[31mUser message:\u001b[0m\n",
      "\n",
      "[[ ## dataset_description ## ]]\n",
      "The observations indicate a strong focus on practical skills and ethical considerations in educational content aimed at technology and design professionals, with an emphasis on integrating soft skills alongside technical training. Instructors utilize personal storytelling to enhance engagement while promoting a growth mindset and encouraging learner interaction through Q&A sections. The overall structure and tone foster relatability and applicability, making the courses well-rounded for real-world scenarios.\n",
      "\n",
      "[[ ## program_code ## ]]\n",
      "StringSignature(topic -> reasoning, intro_video\n",
      "    instructions='Write a video transcript for the intro video to a course on a given topic.'\n",
      "    topic = Field(annotation=str required=True json_schema_extra={'desc': 'the topic of the course', '__dspy_field_type': 'input', 'prefix': 'Topic:'})\n",
      "    reasoning = Field(annotation=str required=True json_schema_extra={'prefix': \"Reasoning: Let's think step by step in order to\", 'desc': '${reasoning}', '__dspy_field_type': 'output'})\n",
      "    intro_video = Field(annotation=str required=True json_schema_extra={'desc': 'markdown-formatted transcript of an intro video of roughly 250 words', '__dspy_field_type': 'output', 'prefix': 'Intro Video:'})\n",
      ")\n",
      "\n",
      "\n",
      "\n",
      "\n",
      "\n",
      "[[ ## program_description ## ]]\n",
      "The program is designed to generate a video transcript for the introduction of a course on a specified topic. It takes two inputs: a topic that describes the focus of the course and a reasoning field that outlines the thought process behind the content creation. The program's task is to produce a markdown-formatted transcript of approximately 250 words that serves as an engaging introduction to the course, thereby helping educators and course creators effectively communicate the course's purpose and content to prospective students. By structuring the input and output fields, the program ensures that the generated transcript is relevant and informative, while also adhering to a specific format.\n",
      "\n",
      "[[ ## module ## ]]\n",
      "Predict(topic) -> reasoning, intro_video\n",
      "\n",
      "[[ ## task_demos ## ]]\n",
      "\n",
      "\n",
      "[[ ## basic_instruction ## ]]\n",
      "Write a video transcript for the intro video to a course on a given topic.\n",
      "\n",
      "Respond with the corresponding output fields, starting with the field `[[ ## proposed_instruction ## ]]`, and then ending with the marker for `[[ ## completed ## ]]`.\n",
      "\n",
      "\n",
      "\u001b[31mResponse:\u001b[0m\n",
      "\n",
      "\u001b[32m[[ ## proposed_instruction ## ]]\n",
      "Generate a markdown-formatted video transcript for the introduction of a course on the specified topic. The transcript should be approximately 250 words and should effectively communicate the course's purpose and content while engaging prospective students. Include a reasoning section that outlines the thought process behind the content creation, ensuring the introduction is relatable and applicable to real-world scenarios.\n",
      "\n",
      "[[ ## completed ## ]]\u001b[0m\n",
      "\n",
      "\n",
      "\n",
      "\n",
      "\n",
      "PROPOSED INSTRUCTION: Generate a markdown-formatted video transcript for the introduction of a course on the specified topic. The transcript should be approximately 250 words and should effectively communicate the course's purpose and content while engaging prospective students. Include a reasoning section that outlines the thought process behind the content creation, ensuring the introduction is relatable and applicable to real-world scenarios.\n",
      "Using a randomly generated configuration for our grounded proposer.\n",
      "Selected tip: none\n",
      "PROGRAM DESCRIPTION: The program is designed to generate a video transcript for the introduction of a course on a specified topic. It takes two inputs: a topic that describes the focus of the course and a reasoning field that outlines the thought process behind the content creation. The program's task is to produce a markdown-formatted transcript of approximately 250 words that serves as an engaging introduction to the course, thereby helping educators and course creators effectively communicate the course's purpose and content to prospective students. By structuring the input and output fields, the program ensures that the generated transcript is relevant and informative, while also adhering to a specific format.\n",
      "task_demos \n",
      "\n",
      "\n",
      "\n",
      "\n",
      "\u001b[34m[2025-01-11T18:03:23.104758]\u001b[0m\n",
      "\n",
      "\u001b[31mSystem message:\u001b[0m\n",
      "\n",
      "Your input fields are:\n",
      "1. `dataset_description` (str): A description of the dataset that we are using.\n",
      "2. `program_code` (str): Language model program designed to solve a particular task.\n",
      "3. `program_description` (str): Summary of the task the program is designed to solve, and how it goes about solving it.\n",
      "4. `module` (str): The module to create an instruction for.\n",
      "5. `task_demos` (str): Example inputs/outputs of our module.\n",
      "6. `basic_instruction` (str): Basic instruction.\n",
      "\n",
      "Your output fields are:\n",
      "1. `proposed_instruction` (str): Propose an instruction that will be used to prompt a Language Model to perform this task.\n",
      "\n",
      "All interactions will be structured in the following way, with the appropriate values filled in.\n",
      "\n",
      "[[ ## dataset_description ## ]]\n",
      "{dataset_description}\n",
      "\n",
      "[[ ## program_code ## ]]\n",
      "{program_code}\n",
      "\n",
      "[[ ## program_description ## ]]\n",
      "{program_description}\n",
      "\n",
      "[[ ## module ## ]]\n",
      "{module}\n",
      "\n",
      "[[ ## task_demos ## ]]\n",
      "{task_demos}\n",
      "\n",
      "[[ ## basic_instruction ## ]]\n",
      "{basic_instruction}\n",
      "\n",
      "[[ ## proposed_instruction ## ]]\n",
      "{proposed_instruction}\n",
      "\n",
      "[[ ## completed ## ]]\n",
      "\n",
      "In adhering to this structure, your objective is: \n",
      "        Use the information below to learn about a task that we are trying to solve using calls to an LM, then generate a new instruction that will be used to prompt a Language Model to better solve the task.\n",
      "\n",
      "\n",
      "\u001b[31mUser message:\u001b[0m\n",
      "\n",
      "[[ ## dataset_description ## ]]\n",
      "The observations indicate a strong focus on practical skills and ethical considerations in educational content aimed at technology and design professionals, with an emphasis on integrating soft skills alongside technical training. Instructors utilize personal storytelling to enhance engagement while promoting a growth mindset and encouraging learner interaction through Q&A sections. The overall structure and tone foster relatability and applicability, making the courses well-rounded for real-world scenarios.\n",
      "\n",
      "[[ ## program_code ## ]]\n",
      "StringSignature(topic -> reasoning, intro_video\n",
      "    instructions='Write a video transcript for the intro video to a course on a given topic.'\n",
      "    topic = Field(annotation=str required=True json_schema_extra={'desc': 'the topic of the course', '__dspy_field_type': 'input', 'prefix': 'Topic:'})\n",
      "    reasoning = Field(annotation=str required=True json_schema_extra={'prefix': \"Reasoning: Let's think step by step in order to\", 'desc': '${reasoning}', '__dspy_field_type': 'output'})\n",
      "    intro_video = Field(annotation=str required=True json_schema_extra={'desc': 'markdown-formatted transcript of an intro video of roughly 250 words', '__dspy_field_type': 'output', 'prefix': 'Intro Video:'})\n",
      ")\n",
      "\n",
      "\n",
      "\n",
      "\n",
      "\n",
      "[[ ## program_description ## ]]\n",
      "The program is designed to generate a video transcript for the introduction of a course on a specified topic. It takes two inputs: a topic that describes the focus of the course and a reasoning field that outlines the thought process behind the content creation. The program's task is to produce a markdown-formatted transcript of approximately 250 words that serves as an engaging introduction to the course, thereby helping educators and course creators effectively communicate the course's purpose and content to prospective students. By structuring the input and output fields, the program ensures that the generated transcript is relevant and informative, while also adhering to a specific format.\n",
      "\n",
      "[[ ## module ## ]]\n",
      "Predict(topic) -> reasoning, intro_video\n",
      "\n",
      "[[ ## task_demos ## ]]\n",
      "\n",
      "\n",
      "[[ ## basic_instruction ## ]]\n",
      "Write a video transcript for the intro video to a course on a given topic.\n",
      "\n",
      "Respond with the corresponding output fields, starting with the field `[[ ## proposed_instruction ## ]]`, and then ending with the marker for `[[ ## completed ## ]]`.\n",
      "\n",
      "\n",
      "\u001b[31mResponse:\u001b[0m\n",
      "\n",
      "\u001b[32m[[ ## proposed_instruction ## ]]\n",
      "Generate a markdown-formatted video transcript for the introduction of a course on the specified topic. The transcript should be approximately 250 words and should effectively communicate the course's purpose and content while engaging prospective students. Include a reasoning section that outlines the thought process behind the content creation, ensuring the introduction is relatable and applicable to real-world scenarios.\n",
      "\n",
      "[[ ## completed ## ]]\u001b[0m\n",
      "\n",
      "\n",
      "\n",
      "\n",
      "\n",
      "PROPOSED INSTRUCTION: Generate a markdown-formatted video transcript for the introduction of a course on the specified topic. The transcript should be approximately 250 words and should effectively communicate the course's purpose and content while engaging prospective students. Include a reasoning section that outlines the thought process behind the content creation, ensuring the introduction is relatable and applicable to real-world scenarios.\n",
      "Using a randomly generated configuration for our grounded proposer.\n",
      "Selected tip: creative\n",
      "PROGRAM DESCRIPTION: The program is designed to generate a video transcript for the introduction of a course on a specified topic. It takes two inputs: a topic that describes the focus of the course and a reasoning field that outlines the thought process behind the content creation. The program's task is to produce a markdown-formatted transcript of approximately 250 words that serves as an engaging introduction to the course, thereby helping educators and course creators effectively communicate the course's purpose and content to prospective students. By structuring the input and output fields, the program ensures that the generated transcript is relevant and informative, while also adhering to a specific format.\n",
      "task_demos \n",
      "\n",
      "\n",
      "\n",
      "\n",
      "\u001b[34m[2025-01-11T18:03:23.107291]\u001b[0m\n",
      "\n",
      "\u001b[31mSystem message:\u001b[0m\n",
      "\n",
      "Your input fields are:\n",
      "1. `dataset_description` (str): A description of the dataset that we are using.\n",
      "2. `program_code` (str): Language model program designed to solve a particular task.\n",
      "3. `program_description` (str): Summary of the task the program is designed to solve, and how it goes about solving it.\n",
      "4. `module` (str): The module to create an instruction for.\n",
      "5. `task_demos` (str): Example inputs/outputs of our module.\n",
      "6. `basic_instruction` (str): Basic instruction.\n",
      "7. `tip` (str): A suggestion for how to go about generating the new instruction.\n",
      "\n",
      "Your output fields are:\n",
      "1. `proposed_instruction` (str): Propose an instruction that will be used to prompt a Language Model to perform this task.\n",
      "\n",
      "All interactions will be structured in the following way, with the appropriate values filled in.\n",
      "\n",
      "[[ ## dataset_description ## ]]\n",
      "{dataset_description}\n",
      "\n",
      "[[ ## program_code ## ]]\n",
      "{program_code}\n",
      "\n",
      "[[ ## program_description ## ]]\n",
      "{program_description}\n",
      "\n",
      "[[ ## module ## ]]\n",
      "{module}\n",
      "\n",
      "[[ ## task_demos ## ]]\n",
      "{task_demos}\n",
      "\n",
      "[[ ## basic_instruction ## ]]\n",
      "{basic_instruction}\n",
      "\n",
      "[[ ## tip ## ]]\n",
      "{tip}\n",
      "\n",
      "[[ ## proposed_instruction ## ]]\n",
      "{proposed_instruction}\n",
      "\n",
      "[[ ## completed ## ]]\n",
      "\n",
      "In adhering to this structure, your objective is: \n",
      "        Use the information below to learn about a task that we are trying to solve using calls to an LM, then generate a new instruction that will be used to prompt a Language Model to better solve the task.\n",
      "\n",
      "\n",
      "\u001b[31mUser message:\u001b[0m\n",
      "\n",
      "[[ ## dataset_description ## ]]\n",
      "The observations indicate a strong focus on practical skills and ethical considerations in educational content aimed at technology and design professionals, with an emphasis on integrating soft skills alongside technical training. Instructors utilize personal storytelling to enhance engagement while promoting a growth mindset and encouraging learner interaction through Q&A sections. The overall structure and tone foster relatability and applicability, making the courses well-rounded for real-world scenarios.\n",
      "\n",
      "[[ ## program_code ## ]]\n",
      "StringSignature(topic -> reasoning, intro_video\n",
      "    instructions='Write a video transcript for the intro video to a course on a given topic.'\n",
      "    topic = Field(annotation=str required=True json_schema_extra={'desc': 'the topic of the course', '__dspy_field_type': 'input', 'prefix': 'Topic:'})\n",
      "    reasoning = Field(annotation=str required=True json_schema_extra={'prefix': \"Reasoning: Let's think step by step in order to\", 'desc': '${reasoning}', '__dspy_field_type': 'output'})\n",
      "    intro_video = Field(annotation=str required=True json_schema_extra={'desc': 'markdown-formatted transcript of an intro video of roughly 250 words', '__dspy_field_type': 'output', 'prefix': 'Intro Video:'})\n",
      ")\n",
      "\n",
      "\n",
      "\n",
      "\n",
      "\n",
      "[[ ## program_description ## ]]\n",
      "The program is designed to generate a video transcript for the introduction of a course on a specified topic. It takes two inputs: a topic that describes the focus of the course and a reasoning field that outlines the thought process behind the content creation. The program's task is to produce a markdown-formatted transcript of approximately 250 words that serves as an engaging introduction to the course, thereby helping educators and course creators effectively communicate the course's purpose and content to prospective students. By structuring the input and output fields, the program ensures that the generated transcript is relevant and informative, while also adhering to a specific format.\n",
      "\n",
      "[[ ## module ## ]]\n",
      "Predict(topic) -> reasoning, intro_video\n",
      "\n",
      "[[ ## task_demos ## ]]\n",
      "\n",
      "\n",
      "[[ ## basic_instruction ## ]]\n",
      "Write a video transcript for the intro video to a course on a given topic.\n",
      "\n",
      "[[ ## tip ## ]]\n",
      "Don't be afraid to be creative when creating the new instruction!\n",
      "\n",
      "Respond with the corresponding output fields, starting with the field `[[ ## proposed_instruction ## ]]`, and then ending with the marker for `[[ ## completed ## ]]`.\n",
      "\n",
      "\n",
      "\u001b[31mResponse:\u001b[0m\n",
      "\n",
      "\u001b[32m[[ ## proposed_instruction ## ]]\n",
      "Create an engaging and informative video transcript for the introductory segment of a course centered on the specified topic. The transcript should be approximately 250 words long, formatted in markdown, and should effectively convey the course's objectives, key themes, and the importance of the topic in a relatable manner that encourages prospective students to enroll. Include elements of storytelling and highlight the integration of practical skills and ethical considerations to foster a growth mindset.\n",
      "\n",
      "[[ ## completed ## ]]\u001b[0m\n",
      "\n",
      "\n",
      "\n",
      "\n",
      "\n",
      "PROPOSED INSTRUCTION: Create an engaging and informative video transcript for the introductory segment of a course centered on the specified topic. The transcript should be approximately 250 words long, formatted in markdown, and should effectively convey the course's objectives, key themes, and the importance of the topic in a relatable manner that encourages prospective students to enroll. Include elements of storytelling and highlight the integration of practical skills and ethical considerations to foster a growth mindset.\n",
      "Using a randomly generated configuration for our grounded proposer.\n",
      "Selected tip: simple\n",
      "PROGRAM DESCRIPTION: The program is designed to generate a video transcript for the introduction of a course on a specified topic. It takes two inputs: a topic that describes the focus of the course and a reasoning field that outlines the thought process behind the content creation. The program's task is to produce a markdown-formatted transcript of approximately 250 words that serves as an engaging introduction to the course, thereby helping educators and course creators effectively communicate the course's purpose and content to prospective students. By structuring the input and output fields, the program ensures that the generated transcript is relevant and informative, while also adhering to a specific format.\n",
      "task_demos \n",
      "\n",
      "\n",
      "\n",
      "\n",
      "\u001b[34m[2025-01-11T18:03:23.110628]\u001b[0m\n",
      "\n",
      "\u001b[31mSystem message:\u001b[0m\n",
      "\n",
      "Your input fields are:\n",
      "1. `dataset_description` (str): A description of the dataset that we are using.\n",
      "2. `program_code` (str): Language model program designed to solve a particular task.\n",
      "3. `program_description` (str): Summary of the task the program is designed to solve, and how it goes about solving it.\n",
      "4. `module` (str): The module to create an instruction for.\n",
      "5. `task_demos` (str): Example inputs/outputs of our module.\n",
      "6. `basic_instruction` (str): Basic instruction.\n",
      "7. `tip` (str): A suggestion for how to go about generating the new instruction.\n",
      "\n",
      "Your output fields are:\n",
      "1. `proposed_instruction` (str): Propose an instruction that will be used to prompt a Language Model to perform this task.\n",
      "\n",
      "All interactions will be structured in the following way, with the appropriate values filled in.\n",
      "\n",
      "[[ ## dataset_description ## ]]\n",
      "{dataset_description}\n",
      "\n",
      "[[ ## program_code ## ]]\n",
      "{program_code}\n",
      "\n",
      "[[ ## program_description ## ]]\n",
      "{program_description}\n",
      "\n",
      "[[ ## module ## ]]\n",
      "{module}\n",
      "\n",
      "[[ ## task_demos ## ]]\n",
      "{task_demos}\n",
      "\n",
      "[[ ## basic_instruction ## ]]\n",
      "{basic_instruction}\n",
      "\n",
      "[[ ## tip ## ]]\n",
      "{tip}\n",
      "\n",
      "[[ ## proposed_instruction ## ]]\n",
      "{proposed_instruction}\n",
      "\n",
      "[[ ## completed ## ]]\n",
      "\n",
      "In adhering to this structure, your objective is: \n",
      "        Use the information below to learn about a task that we are trying to solve using calls to an LM, then generate a new instruction that will be used to prompt a Language Model to better solve the task.\n",
      "\n",
      "\n",
      "\u001b[31mUser message:\u001b[0m\n",
      "\n",
      "[[ ## dataset_description ## ]]\n",
      "The observations indicate a strong focus on practical skills and ethical considerations in educational content aimed at technology and design professionals, with an emphasis on integrating soft skills alongside technical training. Instructors utilize personal storytelling to enhance engagement while promoting a growth mindset and encouraging learner interaction through Q&A sections. The overall structure and tone foster relatability and applicability, making the courses well-rounded for real-world scenarios.\n",
      "\n",
      "[[ ## program_code ## ]]\n",
      "StringSignature(topic -> reasoning, intro_video\n",
      "    instructions='Write a video transcript for the intro video to a course on a given topic.'\n",
      "    topic = Field(annotation=str required=True json_schema_extra={'desc': 'the topic of the course', '__dspy_field_type': 'input', 'prefix': 'Topic:'})\n",
      "    reasoning = Field(annotation=str required=True json_schema_extra={'prefix': \"Reasoning: Let's think step by step in order to\", 'desc': '${reasoning}', '__dspy_field_type': 'output'})\n",
      "    intro_video = Field(annotation=str required=True json_schema_extra={'desc': 'markdown-formatted transcript of an intro video of roughly 250 words', '__dspy_field_type': 'output', 'prefix': 'Intro Video:'})\n",
      ")\n",
      "\n",
      "\n",
      "\n",
      "\n",
      "\n",
      "[[ ## program_description ## ]]\n",
      "The program is designed to generate a video transcript for the introduction of a course on a specified topic. It takes two inputs: a topic that describes the focus of the course and a reasoning field that outlines the thought process behind the content creation. The program's task is to produce a markdown-formatted transcript of approximately 250 words that serves as an engaging introduction to the course, thereby helping educators and course creators effectively communicate the course's purpose and content to prospective students. By structuring the input and output fields, the program ensures that the generated transcript is relevant and informative, while also adhering to a specific format.\n",
      "\n",
      "[[ ## module ## ]]\n",
      "Predict(topic) -> reasoning, intro_video\n",
      "\n",
      "[[ ## task_demos ## ]]\n",
      "\n",
      "\n",
      "[[ ## basic_instruction ## ]]\n",
      "Write a video transcript for the intro video to a course on a given topic.\n",
      "\n",
      "[[ ## tip ## ]]\n",
      "Keep the instruction clear and concise.\n",
      "\n",
      "Respond with the corresponding output fields, starting with the field `[[ ## proposed_instruction ## ]]`, and then ending with the marker for `[[ ## completed ## ]]`.\n",
      "\n",
      "\n",
      "\u001b[31mResponse:\u001b[0m\n",
      "\n",
      "\u001b[32m[[ ## proposed_instruction ## ]]\n",
      "Generate a markdown-formatted video transcript of approximately 250 words for the introduction of a course on the specified topic, ensuring it is engaging and informative while clearly communicating the course's purpose and content to prospective students.\n",
      "\n",
      "[[ ## completed ## ]]\u001b[0m\n",
      "\n",
      "\n",
      "\n",
      "\n",
      "\n",
      "PROPOSED INSTRUCTION: Generate a markdown-formatted video transcript of approximately 250 words for the introduction of a course on the specified topic, ensuring it is engaging and informative while clearly communicating the course's purpose and content to prospective students.\n",
      "  0%|                                                                                                                                | 0/80 [00:00<?, ?it/s]"
     ]
    },
    {
     "name": "stderr",
     "output_type": "stream",
     "text": [
      "2025/01/11 18:03:23 ERROR dspy.utils.parallelizer: Error processing item Example({'topic': 'ChatGPT Tips for the Help Desk (2023)', 'intro_video': ' - [Pam] Everyone\\'s searching for ideas,  \\n but few know where to start using ChatGPT.  \\n Now picture you presenting smart ideas in a clear path  \\n to a string of ChatGPT successes.  \\n Finish this course and that will be you leading the way.  \\n Hi, I am Pam Baker, your instructor,  \\n and I\\'m the author of \"ChatGPT for Dummies\"  \\n and other AI books.  \\n I\\'m also a tech and science journalist  \\n who has covered AI for decades.  \\n I know you\\'re excited to be among the first  \\n to harness the power of ChatGPT  \\n and I\\'m excited you\\'re joining me  \\n in ChatGPT Tips for the Help Desk.  \\n Your career is about to soar as much as ChatGPT has.  \\n Ready to dive in? Let\\'s go.  \\n \\n\\n'}) (input_keys={'topic', 'intro_video'}): Collection 27638615-4351-406e-9f5e-1de839c19ee9 already exists. Set `provide_traceback=True` to see the stack trace.\n"
     ]
    },
    {
     "name": "stdout",
     "output_type": "stream",
     "text": [
      "Average Metric: 0.00 / 0 (0%):   0%|                                                                                                 | 0/80 [00:00<?, ?it/s]"
     ]
    },
    {
     "name": "stderr",
     "output_type": "stream",
     "text": [
      "2025/01/11 18:03:23 ERROR dspy.utils.parallelizer: Error processing item Example({'topic': 'The BIM Execution Plan for Architects', 'intro_video': \"- Building information modeling has reinvented much\\nof how architectural projects are won and produced.\\nThere is not a solitary path\\nto BIM success within the industry,\\nand being a BIM leader requires flexibility.\\nTechnology is always advancing.\\nWe must all practice continual learning\\nin order to keep up.\\nThe number of BIM tools we have at our disposal\\nadvances daily.\\nNavigating those waters to lead a team towards efficiencies\\nand also fostering exploration\\nis a challenging, but rewarding, endeavor.\\n\\nIn my LinkedIn Learning course, I review\\nhow developing an architect's BIM execution plan\\ncan help structure your firm's BIM management\\nto bring consistency to your successes\\nwhile mitigating your challenges.\\nMy name is Megan Johnson.\\nI am the Director of BIM at ODELL Architects,\\nan international architectural firm\\nheadquartered in Charlotte, North Carolina.\\nI hope you join me as I discuss how developing this document\\ncan advance your firm's BIM approach\\nto get your firm to the next level.\\n\\n \\n\\n\"}) (input_keys={'topic', 'intro_video'}): Collection similarity_test already exists. Set `provide_traceback=True` to see the stack trace.\n"
     ]
    },
    {
     "name": "stdout",
     "output_type": "stream",
     "text": [
      "Average Metric: 0.00 / 0 (0%):   1%|█                                                                                        | 1/80 [00:00<00:02, 30.21it/s]"
     ]
    },
    {
     "name": "stderr",
     "output_type": "stream",
     "text": [
      "2025/01/11 18:03:23 ERROR dspy.utils.parallelizer: Error processing item Example({'topic': 'Connecting with Your Audience Using Video', 'intro_video': \" - Google says that close to 50% of people look for a video  \\n before they buy a product.  \\n Whether your goal is to build a community  \\n or sell a product or service, you should be on video.  \\n Video can be educating and entertaining,  \\n but above all it creates trust between you,  \\n your audience and community.  \\n Everyone wants to be heard,  \\n but in such a noisy world  \\n we're often not listening to one another.  \\n We're communicating, but we're not really connecting.  \\n Now, how is that possible when we live in a world  \\n that seems infinitely connected?  \\n We spend a lot of time interacting online,  \\n but we connect with people and businesses  \\n when we seek to listen, understand  \\n and find shared experiences or commonalities.  \\n Video can be the key to connection and understanding.  \\n Hi, I'm Jaime Cohen, creator of The Right Words.  \\n I'm a speaker, communication coach and advisor.  \\n I teach you how to level up your communication skills  \\n so that you can connect more deeply during any interaction.  \\n In this course you're going to learn about  \\n the power of video,  \\n and how to use it to connect with your audience,  \\n and grow and engage your community.  \\n I am very passionate about the use of video,  \\n especially on LinkedIn,  \\n because video has been a game changer for me.  \\n It has led to numerous speaking engagements  \\n and invitations to present at summits across the world.  \\n But most importantly,  \\n LinkedIn has helped me build a community  \\n of tens of thousands of incredible individuals  \\n and to launch a business I love.  \\n This is something I want for you, too.  \\n Join me on LinkedIn Learning to learn to use LinkedIn video  \\n to reach your personal and professional goals.  \\n Let's get started.  \\n \\n\\n\"}) (input_keys={'topic', 'intro_video'}): Collection similarity_test already exists. Set `provide_traceback=True` to see the stack trace.\n"
     ]
    },
    {
     "name": "stdout",
     "output_type": "stream",
     "text": [
      "Average Metric: 0.00 / 0 (0%):   2%|██▏                                                                                      | 2/80 [00:00<00:01, 51.26it/s]"
     ]
    },
    {
     "name": "stderr",
     "output_type": "stream",
     "text": [
      "2025/01/11 18:03:23 ERROR dspy.utils.parallelizer: Error processing item Example({'topic': 'Interviewing Techniques', 'intro_video': \" - If you're not hiring or placing exceptional talent  \\n it may be because your interview process is not designed  \\n to excite passive candidates.  \\n When was the last time you reviewed your interview process?  \\n Is it time to consider different interview styles?  \\n My name is Barb Bruno.  \\n I've been in the recruiting profession for over 25 years  \\n and my company has placed more than 10,000 people in jobs.  \\n I've trained thousands of recruiters  \\n and talent acquisition professionals on how to improve  \\n their interviewing skills to fill more jobs.  \\n In this course, we're going to talk about the best way  \\n to prepare for an interview.  \\n You'll learn how screening interviews help eliminate bias  \\n and emotion from the process.  \\n We'll also discuss why it's important for you  \\n to understand the opportunity and clarify performance  \\n that will lead to success on the job.  \\n In addition, we'll review the different types  \\n of interviews and provide interview tips as well  \\n as sample lists of the most effective questions to ask  \\n and a scorecard to rate candidates interviewed.  \\n You'll learn how to create brand awareness  \\n and improve the candidate experience that will lead  \\n to increased referrals of top talent.  \\n If you're willing to make subtle changes  \\n to your interviewing techniques to attract the best talent  \\n this course was written for you.  \\n Let's get started.  \\n \\n\\n\"}) (input_keys={'topic', 'intro_video'}): Collection similarity_test already exists. Set `provide_traceback=True` to see the stack trace.\n"
     ]
    },
    {
     "name": "stdout",
     "output_type": "stream",
     "text": [
      "Average Metric: 0.00 / 0 (0%):   4%|███▎                                                                                     | 3/80 [00:00<00:01, 70.79it/s]"
     ]
    },
    {
     "name": "stderr",
     "output_type": "stream",
     "text": [
      "2025/01/11 18:03:23 ERROR dspy.utils.parallelizer: Error processing item Example({'topic': 'Python GUI Development with Tkinter', 'intro_video': \"- Hi, I'm Barron Stone and welcome\\nto Python GUI Development with Tkinter.\\nIn this course, you'll see how to build\\na functional and professional looking\\ngraphical user interface for your Python applications.\\nTkinter is the defacto module for Python GUI development\\nand comes included with the standard Python distributions.\\nIt provides an interface to the TK GUI toolkit,\\nwhich is available for most operating systems\\nand includes themed GUI elements\\nthat maintain a consistent look and feel\\nwith those operating systems.\\n\\nThis course will introduce you\\nto the most commonly used Tk widgets,\\nand it will teach you how to create and configure them\\nwith a customized appearance and behavior.\\nI'll show you the three different ways\\nto manage the placement of those widgets on your GUI,\\nand understand when it's appropriate\\nto use each of those methods.\\nAnd finally, a graphical user interface isn't very useful\\nif it doesn't react to a user's actions.\\nSo, we'll take a look at how to use\\nevent driven programming in Tk to execute\\nthe appropriate code when user actions or events occur.\\n\\nTkinter let's you put the days\\nof writing command-line interfaces\\nfor your Python applications behind you, once and for all.\\nLet's jump in to Python GUI Development with Tkinter.\\n\"}) (input_keys={'topic', 'intro_video'}): Collection similarity_test already exists. Set `provide_traceback=True` to see the stack trace.\n"
     ]
    },
    {
     "name": "stdout",
     "output_type": "stream",
     "text": [
      "Average Metric: 0.00 / 0 (0%):   5%|████▍                                                                                    | 4/80 [00:00<00:00, 89.90it/s]"
     ]
    },
    {
     "name": "stderr",
     "output_type": "stream",
     "text": [
      "2025/01/11 18:03:23 ERROR dspy.utils.parallelizer: Error processing item Example({'topic': 'ITILÂ® Foundation 4 First Look', 'intro_video': \" - ITIL is the leading source of IT service management,  \\n guidance and certification.  \\n With over two million IT professionals certified,  \\n it highlights the outcomes critical to providing products  \\n and services and lays out best practices for achieving  \\n and maintaining those outcome.  \\n I'm Dave Pultorak.  \\n I contributed to ITIL and other frameworks,  \\n and I've been teaching people how to use  \\n and apply ITIL for over two decades.  \\n A lot has changed in the years  \\n since ITIL's last major revision, version three.  \\n The typical environment we manage is now a hybrid  \\n of traditional IT and cloud  \\n and mobile with a steady march towards the latter  \\n and new practices have emerged that are a better fit  \\n for these technologies, including DevOps,  \\n lean and agile practices.  \\n In response to these changes, there's a new version  \\n of ITIL, ITIL 4.  \\n Join me now for a first look.  \\n \\n\\n\"}) (input_keys={'topic', 'intro_video'}): Collection similarity_test already exists. Set `provide_traceback=True` to see the stack trace.\n"
     ]
    },
    {
     "name": "stdout",
     "output_type": "stream",
     "text": [
      "Average Metric: 0.00 / 0 (0%):   6%|█████▌                                                                                  | 5/80 [00:00<00:00, 105.14it/s]"
     ]
    },
    {
     "name": "stderr",
     "output_type": "stream",
     "text": [
      "2025/01/11 18:03:23 ERROR dspy.utils.parallelizer: Error processing item Example({'topic': 'Learning Mastercam for SOLIDWORKS', 'intro_video': \"- [Gabriel] Mastercam, is one of the top cam packages\\nfor creating CNC tool paths.\\nSOLIDWORKS is their premier product design CAD software.\\nBy combining these tools together\\nyou get the ultimate CAD/CAM software package.\\nHi, I'm Gabriel Corbett\\nand welcome to Mastercam for SOLIDWORKS.\\nIn my LinkedIn learning course,\\nI will get you up to speed quickly,\\non setting up CNC jobs, creating tool paths,\\nand posting quality G-code to run a CNC mill.\\n\\nWe cover all the key tools, tool paths and techniques\\nso you can start cutting chips and making parts.\\nThis course will benefit anyone looking\\nto get into the world of CAD/CAM programming,\\nand will benefit new users as well\\nas those transitioning from other software packages.\\nIt's time to upgrade your skills\\nand learn one of the most powerful\\nCAD/CAM programming software packages in the industry.\\nJoin me on LinkedIn Learning for Mastercam for SOLIDWORKS.\\n \\n\\n\"}) (input_keys={'topic', 'intro_video'}): Collection similarity_test already exists. Set `provide_traceback=True` to see the stack trace.\n"
     ]
    },
    {
     "name": "stdout",
     "output_type": "stream",
     "text": [
      "Average Metric: 0.00 / 0 (0%):   8%|██████▌                                                                                 | 6/80 [00:00<00:00, 118.67it/s]"
     ]
    },
    {
     "name": "stderr",
     "output_type": "stream",
     "text": [
      "2025/01/11 18:03:23 ERROR dspy.utils.parallelizer: Error processing item Example({'topic': 'AWS: Automation and Optimization', 'intro_video': \"- [Shyam] AWS provides on-demand\\ncloud computing services that offer compute,\\nstorage, content delivery and other functionality\\nfor a wide variety of use cases.\\nAutomating and optimizing your processes\\ncan lead to enhanced productivity,\\nimproved performance and cost reduction.\\nThis course will walk you through the different\\ncost optimization strategies\\nthat you can employ to build highly-available solutions\\nwith efficient resource utilization.\\nHi, I'm Shyam, and I'd like to welcome you\\nto this course on Amazon Web Services:\\nAutomation and Optimization.\\n\\nI'm a technical instructor and industry specialist\\non networking, cloud computing and security.\\nLet's get started.\\n \\n\\n\"}) (input_keys={'topic', 'intro_video'}): Collection similarity_test already exists. Set `provide_traceback=True` to see the stack trace.\n"
     ]
    },
    {
     "name": "stdout",
     "output_type": "stream",
     "text": [
      "Average Metric: 0.00 / 0 (0%):   9%|███████▋                                                                                | 7/80 [00:00<00:00, 132.10it/s]"
     ]
    },
    {
     "name": "stderr",
     "output_type": "stream",
     "text": [
      "2025/01/11 18:03:23 ERROR dspy.utils.parallelizer: Error processing item Example({'topic': 'VPC Networking: Designing a Software Defined Data Center on AWS', 'intro_video': '- [Mark] To properly understand the AWS cloud,\\nyou have to first master how AWS networking works.\\nThat\\'s the goal of this class.\\nTo provide enough detail\\nabout Amazon\\'s software defined network stack\\nand how you can deploy your two and three-tier applications.\\nMy name\\'s Mark Wilkins and I\\'ve been involved with the cloud\\nand specifically the AWS cloud for the last six years.\\nI\\'ve worked with many different types of AWS customers\\nand the reality is pretty well the same\\nfor everybody I\\'ve worked with.\\n\\n\"Hey Mark, what are these AWS terms?\\n\"And where exactly do I go after I log into the console?\"\\nTerms like, VPC, Internet gateway,\\negress-only Internet gateways, security groups,\\nNACLs, and of course subnets and IP addresses are some\\nof the many concepts that we\\'re going to be covering.\\nAfter taking this class, you will be well on the way\\nto mastering AWS networking and understanding\\nwhat you should do and what you should avoid.\\n\\nSound good?\\nGreat.\\nGet a big cup of java and let\\'s get goin\\'.\\n \\n\\n'}) (input_keys={'topic', 'intro_video'}): Collection similarity_test already exists. Set `provide_traceback=True` to see the stack trace.\n"
     ]
    },
    {
     "name": "stdout",
     "output_type": "stream",
     "text": [
      "Average Metric: 0.00 / 0 (0%):  10%|████████▊                                                                               | 8/80 [00:00<00:00, 144.29it/s]Error in similarity calculation: Collection b8ae7702-781f-4a25-b911-f59499084d11 does not exist.\n",
      "Error in similarity calculation: Collection d45253d6-237e-46e9-a114-1c42a7147204 does not exist.\n",
      "Error in similarity calculation: Collection 22fc4000-968e-46ae-b63d-7f9fc4bc94c0 does not exist.\n"
     ]
    },
    {
     "name": "stderr",
     "output_type": "stream",
     "text": [
      "2025/01/11 18:03:23 INFO dspy.teleprompt.mipro_optimizer_v2: Default program score: 0.0\n",
      "\n",
      "2025/01/11 18:03:23 INFO dspy.teleprompt.mipro_optimizer_v2: ==> STEP 3: FINDING OPTIMAL PROMPT PARAMETERS <==\n",
      "2025/01/11 18:03:23 INFO dspy.teleprompt.mipro_optimizer_v2: We will evaluate the program over a series of trials with different combinations of instructions and few-shot examples to find the optimal combination using Bayesian Optimization.\n",
      "\n",
      "/home/bianders/Brian_Code/.Magnus/lib/python3.12/site-packages/optuna/_experimental.py:31: ExperimentalWarning: Argument ``multivariate`` is an experimental feature. The interface can change in the future.\n",
      "  warnings.warn(\n",
      "2025/01/11 18:03:23 INFO dspy.teleprompt.mipro_optimizer_v2: == Minibatch Trial 1 / 30 ==\n",
      "2025/01/11 18:03:23 INFO dspy.teleprompt.mipro_optimizer_v2: Evaluating the following candidate program...\n",
      "\n"
     ]
    },
    {
     "name": "stdout",
     "output_type": "stream",
     "text": [
      "Error in similarity calculation: Collection 28d3c5de-0e8f-4d98-8130-a7a1f5d3b9fc does not exist.\n",
      "Exception occurred: Collection similarity_test already exists\n",
      "Predictor 0\n",
      "i: You are an experienced educator creating an engaging introduction for a course. Write a video transcript for the intro video to a course on the given topic. Ensure the transcript is approximately 250 words and is formatted in markdown. Use personal storytelling and practical examples to enhance relatability, and aim to promote a growth mindset while encouraging learner interaction.\n",
      "p: Intro Video:\n",
      "\n",
      "\n",
      "  0%|                                                                                                                                | 0/25 [00:00<?, ?it/s]"
     ]
    },
    {
     "name": "stderr",
     "output_type": "stream",
     "text": [
      "2025/01/11 18:03:23 ERROR dspy.utils.parallelizer: Error processing item Example({'topic': 'Transitioning from Java to Kotlin', 'intro_video': \" - [Nate] Kotlin is one of the most popular  \\n programming languages for building mobile applications  \\n but it's also a great choice for JVM-based web development.  \\n It's concise, flexible,  \\n and includes a powerful set of modern language features.  \\n With Kotlin, developers can build scalable applications  \\n using the JVM tooling and libraries they're familiar with,  \\n while adding in additional Kotlin language features,  \\n such as type safe builders and co-routines.  \\n I'm going to show you how to start transitioning  \\n from Java to Kotlin for backend JVM development.  \\n We'll start by exploring Kotlin's place  \\n in the JVM ecosystem.  \\n We'll then migrate a Spring Boot application  \\n from Java to Kotlin,  \\n and finally build a set of rest end points from scratch  \\n using the Ktor client server framework.  \\n My name is Nate Ebel.  \\n I've been using Kotlin for over 10 years,  \\n since before it's 1.0 release.  \\n If you're excited to start learning Kotlin,  \\n then join me in my LinkedIn learning course  \\n on moving from Java to Kotlin.  \\n \\n\\n\"}) (input_keys={'topic', 'intro_video'}): Collection similarity_test already exists. Set `provide_traceback=True` to see the stack trace.\n"
     ]
    },
    {
     "name": "stdout",
     "output_type": "stream",
     "text": [
      "Average Metric: 0.00 / 0 (0%):   0%|                                                                                                 | 0/25 [00:00<?, ?it/s]"
     ]
    },
    {
     "name": "stderr",
     "output_type": "stream",
     "text": [
      "2025/01/11 18:03:23 ERROR dspy.utils.parallelizer: Error processing item Example({'topic': 'The BIM Execution Plan for Architects', 'intro_video': \"- Building information modeling has reinvented much\\nof how architectural projects are won and produced.\\nThere is not a solitary path\\nto BIM success within the industry,\\nand being a BIM leader requires flexibility.\\nTechnology is always advancing.\\nWe must all practice continual learning\\nin order to keep up.\\nThe number of BIM tools we have at our disposal\\nadvances daily.\\nNavigating those waters to lead a team towards efficiencies\\nand also fostering exploration\\nis a challenging, but rewarding, endeavor.\\n\\nIn my LinkedIn Learning course, I review\\nhow developing an architect's BIM execution plan\\ncan help structure your firm's BIM management\\nto bring consistency to your successes\\nwhile mitigating your challenges.\\nMy name is Megan Johnson.\\nI am the Director of BIM at ODELL Architects,\\nan international architectural firm\\nheadquartered in Charlotte, North Carolina.\\nI hope you join me as I discuss how developing this document\\ncan advance your firm's BIM approach\\nto get your firm to the next level.\\n\\n \\n\\n\"}) (input_keys={'topic', 'intro_video'}): Collection ca5d334f-4c63-4072-b3f4-a7e54e202920 already exists. Set `provide_traceback=True` to see the stack trace.\n"
     ]
    },
    {
     "name": "stdout",
     "output_type": "stream",
     "text": [
      "Error in similarity calculation: Collection 2a77dcad-18e9-425c-96ee-f3d9f3a0d2df does not exist.\n",
      "Average Metric: 0.00 / 0 (0%):   8%|███████                                                                                  | 2/25 [00:00<00:01, 18.53it/s]"
     ]
    },
    {
     "name": "stderr",
     "output_type": "stream",
     "text": [
      "2025/01/11 18:03:23 ERROR dspy.utils.parallelizer: Error processing item Example({'topic': 'Being a Good Mentee', 'intro_video': \" - Do you ever feel less than engaged in your job?  \\n Do you wish your work had more meaning,  \\n or perhaps you are seeking clarity  \\n regarding how to be more successful?  \\n If so, here's the great news.  \\n My research shows definitively  \\n that having a network of various types of mentors  \\n can help you feel more engaged, drive greater meaning,  \\n and absolutely enhance your success  \\n through a bigger paycheck and more rapid promotions.  \\n I am Ellen Ensher.  \\n I'm a business professor at Loyola Marymount University  \\n in Los Angeles,  \\n and an expert in mentoring.  \\n In this course,  \\n I'm so excited to share established strategies  \\n to help you connect with a network of mentors.  \\n Mentoring matters.  \\n I believe knowing how to connect with mentors  \\n is the most important life hack you can learn.  \\n So let's get started.  \\n \\n\\n\"}) (input_keys={'topic', 'intro_video'}): Collection 47557138-bf2f-4853-ab37-09bd72776c3c already exists. Set `provide_traceback=True` to see the stack trace.\n"
     ]
    },
    {
     "name": "stdout",
     "output_type": "stream",
     "text": [
      "Average Metric: 0.00 / 0 (0%):   8%|███████                                                                                  | 2/25 [00:00<00:01, 18.53it/s]"
     ]
    },
    {
     "name": "stderr",
     "output_type": "stream",
     "text": [
      "2025/01/11 18:03:23 ERROR dspy.utils.parallelizer: Error processing item Example({'topic': 'Build a Career You Love No Matter the Market', 'intro_video': \" (light upbeat music) - Almost 80% of the planet  \\n is disengaged or actively disengaged at work  \\n according to Gallup.  \\n And I hear this as bored to miserable or worse,  \\n and these statistics have been horrible for years.  \\n On the one hand,  \\n this costs companies billions in lost productivity.  \\n More importantly though,  \\n what about the human potential that could be unleashed,  \\n including and especially your own,  \\n if there were a better way?  \\n The great news is that there is.  \\n I'm Elatia Abate,  \\n a futurist who specializes  \\n in designing and creating the future of work.  \\n So if you want to be more fulfilled  \\n and better prepared for this future,  \\n then let's build a career you love,  \\n no matter the market.  \\n (light upbeat music fades)  \\n \\n\\n\"}) (input_keys={'topic', 'intro_video'}): Collection 97ff28e4-a913-4121-bdf2-004f42ab4282 already exists. Set `provide_traceback=True` to see the stack trace.\n"
     ]
    },
    {
     "name": "stdout",
     "output_type": "stream",
     "text": [
      "Average Metric: 0.00 / 0 (0%):  12%|██████████▋                                                                              | 3/25 [00:00<00:01, 18.53it/s]"
     ]
    },
    {
     "name": "stderr",
     "output_type": "stream",
     "text": [
      "2025/01/11 18:03:23 ERROR dspy.utils.parallelizer: Error processing item Example({'topic': 'Marketing on Facebook: Managing a Company Page', 'intro_video': \" - [Megan] It's important to stay consistent,  \\n create compelling content,  \\n and spark conversation on your company Facebook page.  \\n Your Facebook company page  \\n is one of the cornerstones of your online identity.  \\n My name's Megan Adams.  \\n I'm a social media strategist  \\n who's helped thousands of businesses  \\n from big to small understand  \\n how they can leverage their company page  \\n to meet their business and marketing goals.  \\n I'm going to teach you  \\n how to manage your company Facebook page effectively  \\n and efficiently to help you meet your business  \\n and marketing goals, and to make your job a lot easier.  \\n Let's dive in.  \\n \\n\\n\"}) (input_keys={'topic', 'intro_video'}): Collection ec3d769b-4636-4830-9f54-2df0f5661212 already exists. Set `provide_traceback=True` to see the stack trace.\n"
     ]
    },
    {
     "name": "stdout",
     "output_type": "stream",
     "text": [
      "Average Metric: 0.00 / 0 (0%):  16%|██████████████▏                                                                          | 4/25 [00:00<00:01, 18.53it/s]"
     ]
    },
    {
     "name": "stderr",
     "output_type": "stream",
     "text": [
      "2025/01/11 18:03:23 ERROR dspy.utils.parallelizer: Error processing item Example({'topic': 'Dynamics 365 for Sales Teams', 'intro_video': \"- [Instructor] Welcome to Dynamics 365 for Sales Teams.\\nThis course shows you how to manage your contacts\\nand track them through the sales life cycle.\\nThe trouble with CRM systems is that they require data\\nto be effective.\\nThis course is all about showing you\\nthe best way to manage your contacts\\nand the fastest way to find the information\\nyou need to close more deals.\\nMy name in Tiffany Songvilay,\\nand I've been a senior business analyst\\nfor the past 12 years.\\nI've worked with product sales and marketing departments,\\nas well as retail chains,\\nteaching them how to use Microsoft Dynamics\\nto increase traffic and create loyal customers.\\n\\nIn this course, I'm going to show you how to import contacts,\\nexport data to Excel for analysis,\\nand create a custom email template.\\nYou'll learn how to optimize your contacts\\nby creating a hierarchy of accounts\\nand learn valuable monitoring tricks\\nto quickly see what's new for you to follow up on.\\nIn this highly competitive line of work,\\nwe're all striving to funnel more customers\\ninto our sales pipeline.\\nTo do that, we're going to need to know\\nas much as we can about our CRM system.\\n\\nLet's get started.\\n\\n\"}) (input_keys={'topic', 'intro_video'}): Collection 6b889398-9e24-4c2f-bb52-7a8ae02c6b14 already exists. Set `provide_traceback=True` to see the stack trace.\n"
     ]
    },
    {
     "name": "stdout",
     "output_type": "stream",
     "text": [
      "Average Metric: 0.00 / 0 (0%):  20%|█████████████████▊                                                                       | 5/25 [00:00<00:01, 18.53it/s]"
     ]
    },
    {
     "name": "stderr",
     "output_type": "stream",
     "text": [
      "2025/01/11 18:03:23 ERROR dspy.utils.parallelizer: Error processing item Example({'topic': 'Tips for Learner Engagement', 'intro_video': \" - Are you having trouble engaging your learners?  \\n This course will reveal my seven simple  \\n and practical tips for increasing learner engagement.  \\n I'm Naphtali Bryant, a lover of learning  \\n and an expert in developing engaging learning.  \\n As we get started, reflect on these three questions.  \\n Where is your organization today?  \\n Where do you want it to be tomorrow?  \\n And how can you help it get there?  \\n This will help you maximize engagement  \\n and build the foundations for learning  \\n to create a competitive advantage in your organization.  \\n Are you ready for this?  \\n Let's get rolling.  \\n \\n\\n\"}) (input_keys={'topic', 'intro_video'}): Collection similarity_test already exists. Set `provide_traceback=True` to see the stack trace.\n",
      "2025/01/11 18:03:23 ERROR dspy.utils.parallelizer: Error processing item Example({'topic': 'Learning YouTube SEO', 'intro_video': \" - [Instructor] So you're a YouTuber  \\n and you want to take your channel to the next level, huh?  \\n Maybe you've got the content grind down,  \\n but you're just not getting the clicks you were hoping for.  \\n Well, never fear for I, the YouTube wizard,  \\n trademark pending, is here to help.  \\n In this course, I'll help you discover  \\n the power of YouTube SEO  \\n and show you handy tips you can do before and after  \\n recording your videos, to help them rank in search.  \\n Plus I'll also give you tips  \\n on how to increase your user engagement,  \\n as well as tools that can boost your SEO.  \\n So grab your magic staff  \\n or whatever it is you use to record your videos  \\n and let's get started.  \\n Man, this beard is really itchy.  \\n \\n\\n\"}) (input_keys={'topic', 'intro_video'}): Collection fe01ad6d-1196-4405-8038-6cf0a66c3cc6 already exists. Set `provide_traceback=True` to see the stack trace.\n"
     ]
    },
    {
     "name": "stdout",
     "output_type": "stream",
     "text": [
      "Average Metric: 0.00 / 0 (0%):  28%|████████████████████████▉                                                                | 7/25 [00:00<00:00, 18.53it/s]"
     ]
    },
    {
     "name": "stderr",
     "output_type": "stream",
     "text": [
      "2025/01/11 18:03:23 ERROR dspy.utils.parallelizer: Error processing item Example({'topic': 'Advanced Data Visualizations: 10 Uncommon Plot Types and How to Use Them', 'intro_video': \" - [Franz] Data visualizations are everywhere,  \\n all around us: pie charts, bar charts,  \\n histogram, line plots.  \\n You've seen them in newspapers, advertisements,  \\n television company reports, website blogs.  \\n They're simply everywhere and hidden underneath them  \\n there's a secret world of colorful and complex graphs  \\n that can help you visualize much more data  \\n in more interesting ways.  \\n Understanding and mastering these advanced graphs  \\n will expand your analytics capability  \\n and help you become a better data communicator.  \\n I'm going to show you new ways  \\n of how to visualize data distributions  \\n that help you compare multiple data series at once.  \\n I'll show you how to use colors to add important  \\n and previously hidden statistical information.  \\n And you'll be able to turn complex tables into visual plots,  \\n use specialized graphs on small datasets,  \\n and with different variable types.  \\n Come and join me  \\n as I outline 10 advanced data visualizations  \\n that will help you analyze complex data  \\n and make your work stand out.  \\n \\n\\n\"}) (input_keys={'topic', 'intro_video'}): Collection similarity_test already exists. Set `provide_traceback=True` to see the stack trace.\n"
     ]
    },
    {
     "name": "stdout",
     "output_type": "stream",
     "text": [
      "Average Metric: 0.00 / 0 (0%):  32%|████████████████████████████▍                                                            | 8/25 [00:00<00:00, 18.53it/s]"
     ]
    },
    {
     "name": "stderr",
     "output_type": "stream",
     "text": [
      "2025/01/11 18:03:23 INFO dspy.teleprompt.mipro_optimizer_v2: Score: 0.0 on minibatch of size 25 with parameters ['Predictor 0: Instruction 1', 'Predictor 0: Few-Shot Set 2'].\n",
      "2025/01/11 18:03:23 INFO dspy.teleprompt.mipro_optimizer_v2: Minibatch scores so far: [0.0]\n",
      "2025/01/11 18:03:23 INFO dspy.teleprompt.mipro_optimizer_v2: Full eval scores so far: [0.0]\n",
      "2025/01/11 18:03:23 INFO dspy.teleprompt.mipro_optimizer_v2: Best full score so far: 0.0\n",
      "2025/01/11 18:03:23 INFO dspy.teleprompt.mipro_optimizer_v2: ============================\n",
      "\n",
      "\n",
      "2025/01/11 18:03:23 INFO dspy.teleprompt.mipro_optimizer_v2: == Minibatch Trial 2 / 30 ==\n",
      "2025/01/11 18:03:23 INFO dspy.teleprompt.mipro_optimizer_v2: Evaluating the following candidate program...\n",
      "\n"
     ]
    },
    {
     "name": "stdout",
     "output_type": "stream",
     "text": [
      "Error in similarity calculation: Collection 138eeb74-f151-4858-8f69-1192d563ebfb does not exist.\n",
      "Error in similarity calculation: Collection 13b077ad-c6d5-4432-a4ad-8a74bf80a830 does not exist.\n",
      "Exception occurred: Collection d3d1262d-5726-4e3c-a1f6-7569ff69fdd6 already exists\n",
      "Predictor 0\n",
      "i: Generate a markdown-formatted video transcript for the introduction of a course on the specified topic. The transcript should be approximately 250 words and should effectively communicate the course's purpose and content while engaging prospective students. Include a reasoning section that outlines the thought process behind the content creation, ensuring the introduction is relatable and applicable to real-world scenarios.\n",
      "p: Intro Video:\n",
      "\n",
      "\n",
      "  0%|                                                                                                                                | 0/25 [00:00<?, ?it/s]"
     ]
    },
    {
     "name": "stderr",
     "output_type": "stream",
     "text": [
      "2025/01/11 18:03:23 ERROR dspy.utils.parallelizer: Error processing item Example({'topic': 'Connecting with Your Audience Using Video', 'intro_video': \" - Google says that close to 50% of people look for a video  \\n before they buy a product.  \\n Whether your goal is to build a community  \\n or sell a product or service, you should be on video.  \\n Video can be educating and entertaining,  \\n but above all it creates trust between you,  \\n your audience and community.  \\n Everyone wants to be heard,  \\n but in such a noisy world  \\n we're often not listening to one another.  \\n We're communicating, but we're not really connecting.  \\n Now, how is that possible when we live in a world  \\n that seems infinitely connected?  \\n We spend a lot of time interacting online,  \\n but we connect with people and businesses  \\n when we seek to listen, understand  \\n and find shared experiences or commonalities.  \\n Video can be the key to connection and understanding.  \\n Hi, I'm Jaime Cohen, creator of The Right Words.  \\n I'm a speaker, communication coach and advisor.  \\n I teach you how to level up your communication skills  \\n so that you can connect more deeply during any interaction.  \\n In this course you're going to learn about  \\n the power of video,  \\n and how to use it to connect with your audience,  \\n and grow and engage your community.  \\n I am very passionate about the use of video,  \\n especially on LinkedIn,  \\n because video has been a game changer for me.  \\n It has led to numerous speaking engagements  \\n and invitations to present at summits across the world.  \\n But most importantly,  \\n LinkedIn has helped me build a community  \\n of tens of thousands of incredible individuals  \\n and to launch a business I love.  \\n This is something I want for you, too.  \\n Join me on LinkedIn Learning to learn to use LinkedIn video  \\n to reach your personal and professional goals.  \\n Let's get started.  \\n \\n\\n\"}) (input_keys={'topic', 'intro_video'}): Collection similarity_test already exists. Set `provide_traceback=True` to see the stack trace.\n"
     ]
    },
    {
     "name": "stdout",
     "output_type": "stream",
     "text": [
      "Average Metric: 0.00 / 0 (0%):   4%|███▌                                                                                     | 1/25 [00:00<00:02,  8.84it/s]"
     ]
    },
    {
     "name": "stderr",
     "output_type": "stream",
     "text": [
      "2025/01/11 18:03:23 ERROR dspy.utils.parallelizer: Error processing item Example({'topic': 'Building RESTful Web APIs with Django', 'intro_video': \"- [Rudolf] REST APIs are everywhere.\\nThey are used ever day by front-end web apps\\nand smart phone mobile apps.\\nHave you ever wanted to create your own REST API\\nthat can power an Android, iPhone, and web app,\\nsuch as an e-commerce store?\\nWith Django REST framework,\\nwe can create that REST API backend.\\nDjango REST framework enables rapid prototyping,\\nso you will get up and running quickly,\\nwith model serialization, validation,\\nsearching and filtering of data, and unit testing.\\nHi, I'm Rudolf Olah,\\nI've been working with Python projects for over 10 years\\nand have been using Django since version 0.96.\\n\\nLet's get started.\\n\"}) (input_keys={'topic', 'intro_video'}): Collection similarity_test already exists. Set `provide_traceback=True` to see the stack trace.\n"
     ]
    },
    {
     "name": "stdout",
     "output_type": "stream",
     "text": [
      "Average Metric: 0.00 / 0 (0%):   4%|███▌                                                                                     | 1/25 [00:00<00:02,  8.84it/s]"
     ]
    },
    {
     "name": "stderr",
     "output_type": "stream",
     "text": [
      "2025/01/11 18:03:23 ERROR dspy.utils.parallelizer: Error processing item Example({'topic': 'Speaking Up for Yourself and Underrepresented Groups', 'intro_video': \" - For many years I sat in meetings just like this one here  \\n and I didn't say a word.  \\n I had a difficult time figuring  \\n out how to speak up and share my ideas  \\n but it didn't take long for me to see  \\n that learning how to advocate  \\n for myself was incredibly important.  \\n Putting my head down, doing the work  \\n and hoping people would just notice wasn't going to cut it.  \\n If you've struggled with feeling this way,  \\n this course is meant to help you.  \\n Hi, my name is Jessica Chen  \\n and I am the founder and CEO of Soulcast Media,  \\n a global communications training company.  \\n I'm a former Emmy award-winning TV reporter  \\n and my communications courses have been viewed  \\n over one million times.  \\n Needless to say, learning and teaching people how  \\n to be an effective communicator is something I think  \\n about all the time.  \\n This course is two parts.  \\n First, I'll be teaching you how you can better advocate  \\n for yourself in the workplace.  \\n This starts with coming face to face  \\n with the challenges of being a minority in the workplace.  \\n The second is teaching folks how they can better advocate  \\n for people like us.  \\n Because the truth is, we need both and I am excited  \\n to start this conversation with you.  \\n Let's dive in.  \\n So you were saying?  \\n \\n\\n\"}) (input_keys={'topic', 'intro_video'}): Collection similarity_test already exists. Set `provide_traceback=True` to see the stack trace.\n"
     ]
    },
    {
     "name": "stdout",
     "output_type": "stream",
     "text": [
      "Average Metric: 0.00 / 0 (0%):   8%|███████                                                                                  | 2/25 [00:00<00:02,  8.84it/s]"
     ]
    },
    {
     "name": "stderr",
     "output_type": "stream",
     "text": [
      "2025/01/11 18:03:24 ERROR dspy.utils.parallelizer: Error processing item Example({'topic': 'Interviewing Techniques', 'intro_video': \" - If you're not hiring or placing exceptional talent  \\n it may be because your interview process is not designed  \\n to excite passive candidates.  \\n When was the last time you reviewed your interview process?  \\n Is it time to consider different interview styles?  \\n My name is Barb Bruno.  \\n I've been in the recruiting profession for over 25 years  \\n and my company has placed more than 10,000 people in jobs.  \\n I've trained thousands of recruiters  \\n and talent acquisition professionals on how to improve  \\n their interviewing skills to fill more jobs.  \\n In this course, we're going to talk about the best way  \\n to prepare for an interview.  \\n You'll learn how screening interviews help eliminate bias  \\n and emotion from the process.  \\n We'll also discuss why it's important for you  \\n to understand the opportunity and clarify performance  \\n that will lead to success on the job.  \\n In addition, we'll review the different types  \\n of interviews and provide interview tips as well  \\n as sample lists of the most effective questions to ask  \\n and a scorecard to rate candidates interviewed.  \\n You'll learn how to create brand awareness  \\n and improve the candidate experience that will lead  \\n to increased referrals of top talent.  \\n If you're willing to make subtle changes  \\n to your interviewing techniques to attract the best talent  \\n this course was written for you.  \\n Let's get started.  \\n \\n\\n\"}) (input_keys={'topic', 'intro_video'}): Collection similarity_test already exists. Set `provide_traceback=True` to see the stack trace.\n"
     ]
    },
    {
     "name": "stdout",
     "output_type": "stream",
     "text": [
      "Average Metric: 0.00 / 0 (0%):  12%|██████████▋                                                                              | 3/25 [00:00<00:02,  8.84it/s]"
     ]
    },
    {
     "name": "stderr",
     "output_type": "stream",
     "text": [
      "2025/01/11 18:03:24 ERROR dspy.utils.parallelizer: Error processing item Example({'topic': 'ChatGPT Tips for the Help Desk (2023)', 'intro_video': ' - [Pam] Everyone\\'s searching for ideas,  \\n but few know where to start using ChatGPT.  \\n Now picture you presenting smart ideas in a clear path  \\n to a string of ChatGPT successes.  \\n Finish this course and that will be you leading the way.  \\n Hi, I am Pam Baker, your instructor,  \\n and I\\'m the author of \"ChatGPT for Dummies\"  \\n and other AI books.  \\n I\\'m also a tech and science journalist  \\n who has covered AI for decades.  \\n I know you\\'re excited to be among the first  \\n to harness the power of ChatGPT  \\n and I\\'m excited you\\'re joining me  \\n in ChatGPT Tips for the Help Desk.  \\n Your career is about to soar as much as ChatGPT has.  \\n Ready to dive in? Let\\'s go.  \\n \\n\\n'}) (input_keys={'topic', 'intro_video'}): Collection similarity_test already exists. Set `provide_traceback=True` to see the stack trace.\n"
     ]
    },
    {
     "name": "stdout",
     "output_type": "stream",
     "text": [
      "Average Metric: 0.00 / 0 (0%):  16%|██████████████▏                                                                          | 4/25 [00:00<00:02,  8.84it/s]"
     ]
    },
    {
     "name": "stderr",
     "output_type": "stream",
     "text": [
      "2025/01/11 18:03:24 ERROR dspy.utils.parallelizer: Error processing item Example({'topic': 'Learning Bubble', 'intro_video': \" - [Jen] Creating web applications,  \\n particularly highly-customized web applications,  \\n has always been a challenge online.  \\n Either you'd need to learn how to code  \\n or you'd need to pay a developer  \\n tens of thousands of dollars to do it for you.  \\n You could use a starter system like WordPress,  \\n but then you might have some limitations  \\n to what the plugins could do for you.  \\n Otherwise, you're back to hiring a developer again  \\n or learning to code yourself.  \\n Bubble is a new approach to this old problem.  \\n Established in 2012 as a visual development platform,  \\n Bubble's popularity has exploded in the last two years  \\n as more people discover the power of Bubble.  \\n In this course, you'll get a quick introduction  \\n to some of Bubble's features and functionality,  \\n just enough to get you up and running  \\n with a quick application.  \\n First, we'll build an app for making grocery lists,  \\n we'll explore some pre-configured components  \\n that we can drop into our app, like a header for the site.  \\n We'll set up an interface for making a grocery list  \\n and pairing it with the department  \\n where we might find that grocery item.  \\n We'll check off items as we purchase them  \\n and we'll bring back items  \\n that might make our list over and over.  \\n Finally, we'll personalize our grocery lists,  \\n hiding them behind a log-in.  \\n I'm Jen Kramer,  \\n and I have been building websites for over 20 years.  \\n I'm excited about the world that Bubble opens  \\n to those without a coding background,  \\n so they can make their own web applications.  \\n So if you're ready, let's get started with learning Bubble.  \\n \\n\\n\"}) (input_keys={'topic', 'intro_video'}): Collection d3f28111-3f4f-40cc-8c78-c01bfd661adc already exists. Set `provide_traceback=True` to see the stack trace.\n",
      "2025/01/11 18:03:24 ERROR dspy.utils.parallelizer: Error processing item Example({'topic': \"Tintype Photography at New York's Penumbra Foundation\", 'intro_video': \"- Hey there, I'm Tim Grey.\\nAnd I am in front of the Penumber Foundation,\\nhere in New York City,\\nwhich has been a really cool discover.\\nWe're gonna go inside and have a lot of fun.\\nThey have a full tin-type portrait studio set up here.\\nVintage cameras, old chemical processes,\\nusing plates to capture and individual frame.\\nWe're gonna have a little portrait session\\nand get a look at what it takes\\nto create a tin type from scratch.\\nWe're actually gonna put chemicals on the plate.\\nIt's gonna be a lot of fun.\\nIt's gonna be fascinating\\nand informative at the same time.\\n\\nSo let's head inside and have a look.\\n\\n\"}) (input_keys={'topic', 'intro_video'}): Collection similarity_test already exists. Set `provide_traceback=True` to see the stack trace.\n"
     ]
    },
    {
     "name": "stdout",
     "output_type": "stream",
     "text": [
      "Error in similarity calculation: Collection 30af6c8c-78a8-4cfb-85d6-745f3295b8ea does not exist.\n",
      "Average Metric: 0.00 / 0 (0%):  24%|█████████████████████▎                                                                   | 6/25 [00:00<00:02,  8.84it/s]"
     ]
    },
    {
     "name": "stderr",
     "output_type": "stream",
     "text": [
      "2025/01/11 18:03:24 ERROR dspy.utils.parallelizer: Error processing item Example({'topic': 'Financial Record Keeping', 'intro_video': \" - Hi, I'm Jim Stice.  \\n I'm a professor of accounting at Brigham Young University.  \\n This is my brother, Kay.  \\n - I am also a professor of accounting  \\n at Brigham Young University.  \\n - We have been studying bookkeeping  \\n and financial recordkeeping  \\n since way back in our high school days.  \\n - Trust me, that represents many, many,  \\n many years of experience with financial recordkeeping.  \\n - Now, in our younger days,  \\n we even worked as bookkeepers  \\n in both old-fashioned paper-based systems  \\n and modern computerized systems.  \\n - And we've been teaching accounting  \\n to undergraduate students  \\n for a combined total of almost 70 years now.  \\n - Now, in this course,  \\n we will teach you about the importance  \\n of financial recordkeeping.  \\n - We will show you how to construct a set  \\n of forecasted financial statements  \\n as part of a quantitative business plan.  \\n - [Jim] We will also show you  \\n how even the most rudimentary financial records,  \\n handwritten notes on a piece of paper,  \\n can improve your business operations  \\n and make your decision-making process better.  \\n - Now, we've designed this financial recordkeeping course  \\n to be self-contained,  \\n and we carefully explain any terminology that we use.  \\n - In short, this is an introductory course  \\n with no prior accounting knowledge required.  \\n - So let's learn about financial recordkeeping,  \\n the processes and the reports.  \\n \\n\\n\"}) (input_keys={'topic', 'intro_video'}): Collection 28ad07d0-0830-491e-a4ec-4d4172c9d606 already exists. Set `provide_traceback=True` to see the stack trace.\n"
     ]
    },
    {
     "name": "stdout",
     "output_type": "stream",
     "text": [
      "Average Metric: 0.00 / 0 (0%):  28%|████████████████████████▉                                                                | 7/25 [00:00<00:02,  8.84it/s]"
     ]
    },
    {
     "name": "stderr",
     "output_type": "stream",
     "text": [
      "2025/01/11 18:03:24 ERROR dspy.utils.parallelizer: Error processing item Example({'topic': 'Cisco CCNP SCOR Security (350-701) Cert Prep: 1 Security Concepts and Network Security', 'intro_video': \"- Welcome to part one\\nof the Implementing and Operating Cisco Security\\nCore Technologies Course.\\nThis three part course on LinkedIn Learning\\nwill touch on all of the exam topics outlined\\nby Cisco's SCOR 350-701 exam blueprint.\\nMy name is Charles Judd\\nand I'll be your instructor throughout this course.\\nIn part one of the SCOR course we're going to focus\\non fundamental security concepts, including common threats\\nand vulnerabilities, and also network security topics\\nsuch as some specific security solutions\\nand layer two security techniques.\\n\\nThanks so much for joining me, now let's get started.\\n\"}) (input_keys={'topic', 'intro_video'}): Collection similarity_test already exists. Set `provide_traceback=True` to see the stack trace.\n"
     ]
    },
    {
     "name": "stdout",
     "output_type": "stream",
     "text": [
      "Average Metric: 0.00 / 0 (0%):  32%|████████████████████████████▍                                                            | 8/25 [00:00<00:01,  8.84it/s]Error in similarity calculation: Collection 4978ebf1-92b8-42f2-9546-87635b43da63 does not exist.\n",
      "Error in similarity calculation: Collection eff5f0e9-9d4f-4029-bc15-cae9a6884278 does not exist.\n"
     ]
    },
    {
     "name": "stderr",
     "output_type": "stream",
     "text": [
      "2025/01/11 18:03:24 INFO dspy.teleprompt.mipro_optimizer_v2: Score: 0.0 on minibatch of size 25 with parameters ['Predictor 0: Instruction 6', 'Predictor 0: Few-Shot Set 2'].\n",
      "2025/01/11 18:03:24 INFO dspy.teleprompt.mipro_optimizer_v2: Minibatch scores so far: [0.0, 0.0]\n",
      "2025/01/11 18:03:24 INFO dspy.teleprompt.mipro_optimizer_v2: Full eval scores so far: [0.0]\n",
      "2025/01/11 18:03:24 INFO dspy.teleprompt.mipro_optimizer_v2: Best full score so far: 0.0\n",
      "2025/01/11 18:03:24 INFO dspy.teleprompt.mipro_optimizer_v2: ============================\n",
      "\n",
      "\n",
      "2025/01/11 18:03:24 INFO dspy.teleprompt.mipro_optimizer_v2: == Minibatch Trial 3 / 30 ==\n",
      "2025/01/11 18:03:24 INFO dspy.teleprompt.mipro_optimizer_v2: Evaluating the following candidate program...\n",
      "\n"
     ]
    },
    {
     "name": "stdout",
     "output_type": "stream",
     "text": [
      "Error in similarity calculation: Collection e78fe8b3-a905-4cf2-b96f-74e6f04de7b9 does not exist.\n",
      "Error in similarity calculation: Collection dd4ecd98-1109-4e2e-8a89-700043639485 does not exist.\n",
      "Exception occurred: Collection similarity_test already exists\n",
      "Predictor 0\n",
      "i: Create an engaging and informative video transcript for the introductory segment of a course centered on the specified topic. The transcript should be approximately 250 words long, formatted in markdown, and should effectively convey the course's objectives, key themes, and the importance of the topic in a relatable manner that encourages prospective students to enroll. Include elements of storytelling and highlight the integration of practical skills and ethical considerations to foster a growth mindset.\n",
      "p: Intro Video:\n",
      "\n",
      "\n",
      "  0%|                                                                                                                                | 0/25 [00:00<?, ?it/s]"
     ]
    },
    {
     "name": "stderr",
     "output_type": "stream",
     "text": [
      "2025/01/11 18:03:24 ERROR dspy.utils.parallelizer: Error processing item Example({'topic': 'Game Development Foundations: Game-Related Math', 'intro_video': \"- [Jesse] Hello, my name is Jesse Freeman,\\nand in Game Development Foundations: Game-Related Math,\\nwe're going to learn some common mathematical\\ntechniques for building your own games.\\nWhile the content of this course\\napplies to any programming language,\\nwe'll focus specifically on JavaScript\\nto keep the examples easy to follow.\\nIn this course, I'll cover laying out objects,\\nfrom centering them to drawing a grid.\\nNext, we'll cover basic point and bounding box\\ncollision detection, and finally,\\nwe'll wrap up with some commonly used formulas\\nfor displaying health, calculating XP,\\nand animating objects on the screen.\\n\\nI hope you enjoy this course\\nas much as I did making it.\\nNow let's get started.\\n\\n\"}) (input_keys={'topic', 'intro_video'}): Collection similarity_test already exists. Set `provide_traceback=True` to see the stack trace.\n"
     ]
    },
    {
     "name": "stdout",
     "output_type": "stream",
     "text": [
      "Average Metric: 0.00 / 0 (0%):   4%|███▌                                                                                     | 1/25 [00:00<00:02,  8.96it/s]"
     ]
    },
    {
     "name": "stderr",
     "output_type": "stream",
     "text": [
      "2025/01/11 18:03:24 ERROR dspy.utils.parallelizer: Error processing item Example({'topic': 'How to Work with a Micromanager', 'intro_video': \" - I was so excited about my first job out of college.  \\n I had worked so hard to land the job  \\n and I was ready to show my boss  \\n what I was made of.  \\n I planned to impress him with my independent  \\n working skills.  \\n I was going to get things done efficiently  \\n and prove that I was a worthy hire.  \\n I was going to take the lead and show my manager  \\n that I could be trusted with more  \\n and more responsibility.  \\n But my manager had different plans.  \\n He wanted to give me instructions  \\n on things I didn't really think  \\n I needed instructions on.  \\n He checked in on my progress multiples times a day  \\n and he even hovered over me as I worked  \\n at my cubicle.  \\n Talk about stressful.  \\n I couldn't get anything done because I felt  \\n like I was constantly playing defense with him.  \\n My confidence was deflated.  \\n I was stressed out and I felt like my manager  \\n didn't trust me.  \\n And that is when I realized my manager  \\n was a micromanager.  \\n Maybe you're in a similar situation.  \\n Maybe you have a manager who nitpicks  \\n every little thing that you do.  \\n Maybe your manager slows down your progress  \\n and maybe you feel like your manager  \\n is stealing your opportunity to learn and grow.  \\n I so get that.  \\n While you can't change your manager,  \\n there are things that you can do  \\n to make the experience much more enjoyable and sustainable,  \\n and in this course, I am going to teach you.  \\n Working with a micromanager can feel  \\n really overwhelming at times.  \\n I know it was for me.  \\n But over time, with dedication and some proven strategies,  \\n you'll be able to nurture a healthy relationship  \\n with your manager.  \\n You don't have to merely survive  \\n as you work with a micromanager.  \\n I'm going to teach you how to thrive.  \\n \\n\\n\"}) (input_keys={'topic', 'intro_video'}): Collection similarity_test already exists. Set `provide_traceback=True` to see the stack trace.\n"
     ]
    },
    {
     "name": "stdout",
     "output_type": "stream",
     "text": [
      "Average Metric: 0.00 / 0 (0%):   4%|███▌                                                                                     | 1/25 [00:00<00:02,  8.96it/s]"
     ]
    },
    {
     "name": "stderr",
     "output_type": "stream",
     "text": [
      "2025/01/11 18:03:24 ERROR dspy.utils.parallelizer: Error processing item Example({'topic': 'Logo Development: Identity Design and Discovery', 'intro_video': \"- So many designers can draw a logo\\nthat looks great from a subjective viewpoint,\\nbut if you can demonstrate your ability\\nto craft a solution using objective information,\\nyour work will be vastly more valuable to your client.\\nLike much of anything we do in life,\\nthe results of our efforts are pretty highly influenced\\nby our level of preparation.\\nSounds a bit like the laws of physics,\\nbut let's modify it here to say that in branding\\nfor every action there's an opposite and equal reaction,\\nand it's so true.\\n\\nTo create an exceptional visual brand\\nor before diving headlong into any logo-designed project,\\nyou have to prepare through the process of discovery.\\nYou'll learn the five reasons an existing firm\\nseeks out a designer for rebranding\\nand how you can spot them\\nto make yourself a good candidate for the job.\\nOnce you start into a project,\\nwe'll discuss who all to talk to and what to ask.\\nWe'll do a dive into determining brand personality\\nand which of the five dimensions your client leans to.\\n\\nWe'll immerse ourselves in our client's field\\nand how to understand their processes, objectives,\\nand culture and those of their customers as well.\\nWe'll talk about creating a SWOT analysis\\nand how to visually audit your client's persona\\nand visual touchpoints.\\nHow to completely identify and review their competition\\nand adjacent fields and create snapshots of each.\\nAnd finally, we'll show you how to boil\\nall of this information into a design brief\\nto service your mutual roadmap\\nreplete with the results of your discovery\\nand listing out the objectives\\nto lead you to an exceptional logo.\\n\\nIn this course, I suspect one of the greatest discoveries\\nwill be the confidence you build in your clients\\nas you start your mission to build the foundation\\nfor an incredible visual identity.\\n\\n\"}) (input_keys={'topic', 'intro_video'}): Collection similarity_test already exists. Set `provide_traceback=True` to see the stack trace.\n"
     ]
    },
    {
     "name": "stdout",
     "output_type": "stream",
     "text": [
      "Average Metric: 0.00 / 0 (0%):   8%|███████                                                                                  | 2/25 [00:00<00:02,  8.96it/s]"
     ]
    },
    {
     "name": "stderr",
     "output_type": "stream",
     "text": [
      "2025/01/11 18:03:24 ERROR dspy.utils.parallelizer: Error processing item Example({'topic': 'Tips for Learner Engagement', 'intro_video': \" - Are you having trouble engaging your learners?  \\n This course will reveal my seven simple  \\n and practical tips for increasing learner engagement.  \\n I'm Naphtali Bryant, a lover of learning  \\n and an expert in developing engaging learning.  \\n As we get started, reflect on these three questions.  \\n Where is your organization today?  \\n Where do you want it to be tomorrow?  \\n And how can you help it get there?  \\n This will help you maximize engagement  \\n and build the foundations for learning  \\n to create a competitive advantage in your organization.  \\n Are you ready for this?  \\n Let's get rolling.  \\n \\n\\n\"}) (input_keys={'topic', 'intro_video'}): Collection similarity_test already exists. Set `provide_traceback=True` to see the stack trace.\n"
     ]
    },
    {
     "name": "stdout",
     "output_type": "stream",
     "text": [
      "Average Metric: 0.00 / 0 (0%):  12%|██████████▋                                                                              | 3/25 [00:00<00:02,  8.96it/s]"
     ]
    },
    {
     "name": "stderr",
     "output_type": "stream",
     "text": [
      "2025/01/11 18:03:24 ERROR dspy.utils.parallelizer: Error processing item Example({'topic': 'Learning Mastercam for SOLIDWORKS', 'intro_video': \"- [Gabriel] Mastercam, is one of the top cam packages\\nfor creating CNC tool paths.\\nSOLIDWORKS is their premier product design CAD software.\\nBy combining these tools together\\nyou get the ultimate CAD/CAM software package.\\nHi, I'm Gabriel Corbett\\nand welcome to Mastercam for SOLIDWORKS.\\nIn my LinkedIn learning course,\\nI will get you up to speed quickly,\\non setting up CNC jobs, creating tool paths,\\nand posting quality G-code to run a CNC mill.\\n\\nWe cover all the key tools, tool paths and techniques\\nso you can start cutting chips and making parts.\\nThis course will benefit anyone looking\\nto get into the world of CAD/CAM programming,\\nand will benefit new users as well\\nas those transitioning from other software packages.\\nIt's time to upgrade your skills\\nand learn one of the most powerful\\nCAD/CAM programming software packages in the industry.\\nJoin me on LinkedIn Learning for Mastercam for SOLIDWORKS.\\n \\n\\n\"}) (input_keys={'topic', 'intro_video'}): Collection similarity_test already exists. Set `provide_traceback=True` to see the stack trace.\n"
     ]
    },
    {
     "name": "stdout",
     "output_type": "stream",
     "text": [
      "Average Metric: 0.00 / 0 (0%):  16%|██████████████▏                                                                          | 4/25 [00:00<00:02,  8.96it/s]"
     ]
    },
    {
     "name": "stderr",
     "output_type": "stream",
     "text": [
      "2025/01/11 18:03:24 ERROR dspy.utils.parallelizer: Error processing item Example({'topic': 'Gmail Essential Training', 'intro_video': \" - Are you still using the default Gmail settings  \\n as they came out of the box?  \\n Are you still using it the same way you've  \\n been using it for the past five years, 10 years?  \\n Nevermind the way your coworker or family member uses it,  \\n it's all about using the tools the way they work for you.  \\n Whether you like to keep things out of sight until  \\n you need them or right in plain sight in front of you,  \\n there's an inbox style to make you as organized  \\n and productive as you can be.  \\n My name is Jess Stratton and I've created countless courses  \\n on Gmail, Google Calendar, and other productivity apps.  \\n In this course, I'm going to convince you  \\n to reevaluate the way you've always worked  \\n and together we're going to get your Gmail inbox  \\n functioning like a well oiled machine.  \\n Why not start right now?  \\n \\n\\n\"}) (input_keys={'topic', 'intro_video'}): Collection similarity_test already exists. Set `provide_traceback=True` to see the stack trace.\n"
     ]
    },
    {
     "name": "stdout",
     "output_type": "stream",
     "text": [
      "Average Metric: 0.00 / 0 (0%):  20%|█████████████████▊                                                                       | 5/25 [00:00<00:02,  8.96it/s]Error in similarity calculation: Collection 7e730d97-6b7b-4d72-9ed9-0b50364ee9fa does not exist.\n",
      "Average Metric: 0.00 / 1 (0.0%):  24%|████████████████████▉                                                                  | 6/25 [00:00<00:02,  8.96it/s]"
     ]
    },
    {
     "name": "stderr",
     "output_type": "stream",
     "text": [
      "2025/01/11 18:03:24 ERROR dspy.utils.parallelizer: Error processing item Example({'topic': 'Problem-Solving Strategies for Data Engineers', 'intro_video': \" - Data engineers face a wide variety of challenges daily.  \\n Do you feel like you're stumbling  \\n from one problem to the next?  \\n You're not alone.  \\n In this course, I will take you  \\n through successful problem-solving strategies  \\n for data engineers.  \\n We'll take a practical approach  \\n through all phases of data projects,  \\n from planning to operations.  \\n Hi, my name is Andreas Kretz,  \\n and I'm a data engineer with over a decade of experience  \\n with all phases of data projects.  \\n Join me to take your problem-solving skills  \\n to the next level and let's make engineering fun.  \\n \\n\\n\"}) (input_keys={'topic', 'intro_video'}): Collection b3f3dff1-e922-4a9d-9356-be6ddfd7d089 already exists. Set `provide_traceback=True` to see the stack trace.\n",
      "2025/01/11 18:03:24 ERROR dspy.utils.parallelizer: Error processing item Example({'topic': 'Connecting with Your Audience Using Video', 'intro_video': \" - Google says that close to 50% of people look for a video  \\n before they buy a product.  \\n Whether your goal is to build a community  \\n or sell a product or service, you should be on video.  \\n Video can be educating and entertaining,  \\n but above all it creates trust between you,  \\n your audience and community.  \\n Everyone wants to be heard,  \\n but in such a noisy world  \\n we're often not listening to one another.  \\n We're communicating, but we're not really connecting.  \\n Now, how is that possible when we live in a world  \\n that seems infinitely connected?  \\n We spend a lot of time interacting online,  \\n but we connect with people and businesses  \\n when we seek to listen, understand  \\n and find shared experiences or commonalities.  \\n Video can be the key to connection and understanding.  \\n Hi, I'm Jaime Cohen, creator of The Right Words.  \\n I'm a speaker, communication coach and advisor.  \\n I teach you how to level up your communication skills  \\n so that you can connect more deeply during any interaction.  \\n In this course you're going to learn about  \\n the power of video,  \\n and how to use it to connect with your audience,  \\n and grow and engage your community.  \\n I am very passionate about the use of video,  \\n especially on LinkedIn,  \\n because video has been a game changer for me.  \\n It has led to numerous speaking engagements  \\n and invitations to present at summits across the world.  \\n But most importantly,  \\n LinkedIn has helped me build a community  \\n of tens of thousands of incredible individuals  \\n and to launch a business I love.  \\n This is something I want for you, too.  \\n Join me on LinkedIn Learning to learn to use LinkedIn video  \\n to reach your personal and professional goals.  \\n Let's get started.  \\n \\n\\n\"}) (input_keys={'topic', 'intro_video'}): Collection b7ad557b-ee59-4014-b6b8-bbf8b934ead5 already exists. Set `provide_traceback=True` to see the stack trace.\n"
     ]
    },
    {
     "name": "stdout",
     "output_type": "stream",
     "text": [
      "Average Metric: 0.00 / 1 (0.0%):  32%|███████████████████████████▊                                                           | 8/25 [00:00<00:01,  8.96it/s]"
     ]
    },
    {
     "name": "stderr",
     "output_type": "stream",
     "text": [
      "2025/01/11 18:03:24 ERROR dspy.utils.parallelizer: Error processing item Example({'topic': 'Express Essentials: Build Powerful Web Apps with Node.js', 'intro_video': \" - [Jamie] One of the most popular application frameworks  \\n for Node.js is Express.  \\n Both Node.js and Express use JavaScript,  \\n making it incredibly appealing  \\n for more front-end tailored engineers,  \\n to learn how to handle APIs,  \\n and other backend functionality of their web applications.  \\n As you've learned to master JavaScript,  \\n and create client side code,  \\n perhaps you've wanted to learn the other side  \\n of the application,  \\n and learn more about how things on the server side work.  \\n Express is a great framework to generate  \\n server side code for your application.  \\n This course was created to help you get up and running  \\n with Express.  \\n Perhaps you've been curious about creating  \\n end points for your applications,  \\n and weren't sure how to get started.  \\n In this course, we will cover everything  \\n from installation of Express,  \\n creating a server, and the various routing knowledge needed  \\n to generate server side code.  \\n Hi, I'm Jamie Pittman and I'm a front-end software engineer.  \\n Join me and learn more about the essentials of Express.  \\n \\n\\n\"}) (input_keys={'topic', 'intro_video'}): Collection cf66056e-cf0d-4a6c-8f59-12d0efc76b71 already exists. Set `provide_traceback=True` to see the stack trace.\n"
     ]
    },
    {
     "name": "stdout",
     "output_type": "stream",
     "text": [
      "Average Metric: 0.00 / 1 (0.0%):  36%|███████████████████████████████▎                                                       | 9/25 [00:00<00:01,  8.96it/s]"
     ]
    },
    {
     "name": "stderr",
     "output_type": "stream",
     "text": [
      "2025/01/11 18:03:24 INFO dspy.teleprompt.mipro_optimizer_v2: Score: 0.0 on minibatch of size 25 with parameters ['Predictor 0: Instruction 8', 'Predictor 0: Few-Shot Set 6'].\n",
      "2025/01/11 18:03:24 INFO dspy.teleprompt.mipro_optimizer_v2: Minibatch scores so far: [0.0, 0.0, 0.0]\n",
      "2025/01/11 18:03:24 INFO dspy.teleprompt.mipro_optimizer_v2: Full eval scores so far: [0.0]\n",
      "2025/01/11 18:03:24 INFO dspy.teleprompt.mipro_optimizer_v2: Best full score so far: 0.0\n",
      "2025/01/11 18:03:24 INFO dspy.teleprompt.mipro_optimizer_v2: ============================\n",
      "\n",
      "\n",
      "2025/01/11 18:03:24 INFO dspy.teleprompt.mipro_optimizer_v2: == Minibatch Trial 4 / 30 ==\n",
      "2025/01/11 18:03:24 INFO dspy.teleprompt.mipro_optimizer_v2: Evaluating the following candidate program...\n",
      "\n"
     ]
    },
    {
     "name": "stdout",
     "output_type": "stream",
     "text": [
      "Error in similarity calculation: Collection c6ae8830-3175-42d1-b201-2666067403ed does not exist.\n",
      "Error in similarity calculation: Collection e483c6b5-d421-4857-8283-7013c210bf47 does not exist.\n",
      "Exception occurred: Collection 8b5d110d-ea4a-4482-bc4e-428cf6bfc4eb already exists\n",
      "Predictor 0\n",
      "i: You are an experienced educator creating an engaging introduction for a course. Write a video transcript for the intro video to a course on the given topic. Ensure the transcript is approximately 250 words and is formatted in markdown. Use personal storytelling and practical examples to enhance relatability, and aim to promote a growth mindset while encouraging learner interaction.\n",
      "p: Intro Video:\n",
      "\n",
      "\n",
      "Average Metric: 0.00 / 1 (0.0%):  40%|██████████████████████████████████▍                                                   | 10/25 [00:00<00:00, 46.66it/s]\n",
      "  0%|                                                                                                                                | 0/25 [00:00<?, ?it/s]"
     ]
    },
    {
     "name": "stderr",
     "output_type": "stream",
     "text": [
      "2025/01/11 18:03:24 ERROR dspy.utils.parallelizer: Error processing item Example({'topic': 'The BIM Execution Plan for Architects', 'intro_video': \"- Building information modeling has reinvented much\\nof how architectural projects are won and produced.\\nThere is not a solitary path\\nto BIM success within the industry,\\nand being a BIM leader requires flexibility.\\nTechnology is always advancing.\\nWe must all practice continual learning\\nin order to keep up.\\nThe number of BIM tools we have at our disposal\\nadvances daily.\\nNavigating those waters to lead a team towards efficiencies\\nand also fostering exploration\\nis a challenging, but rewarding, endeavor.\\n\\nIn my LinkedIn Learning course, I review\\nhow developing an architect's BIM execution plan\\ncan help structure your firm's BIM management\\nto bring consistency to your successes\\nwhile mitigating your challenges.\\nMy name is Megan Johnson.\\nI am the Director of BIM at ODELL Architects,\\nan international architectural firm\\nheadquartered in Charlotte, North Carolina.\\nI hope you join me as I discuss how developing this document\\ncan advance your firm's BIM approach\\nto get your firm to the next level.\\n\\n \\n\\n\"}) (input_keys={'topic', 'intro_video'}): Collection similarity_test already exists. Set `provide_traceback=True` to see the stack trace.\n"
     ]
    },
    {
     "name": "stdout",
     "output_type": "stream",
     "text": [
      "Average Metric: 0.00 / 0 (0%):   0%|                                                                                                 | 0/25 [00:00<?, ?it/s]"
     ]
    },
    {
     "name": "stderr",
     "output_type": "stream",
     "text": [
      "2025/01/11 18:03:24 ERROR dspy.utils.parallelizer: Error processing item Example({'topic': 'Green Screen Techniques for Video and Photography', 'intro_video': \" - Hello and welcome to this course  \\n where we'll be exploring green screen techniques  \\n for both photo and video.  \\n To get things started, we'll take a look  \\n at the history of green screen,  \\n as well as some practical uses  \\n for photography and video work flows.  \\n - Next we'll be talking about prepping a green screen  \\n by using a fabric back drop, tension back drop  \\n and a reflect media system.  \\n As well as some tips for working in a pro studio.  \\n - Then we'll look at lighting a subject  \\n for both photo and video.  \\n We'll look at using a light meter,  \\n we'll look at lighting the background  \\n and making sure we don't have any colors  \\n spill on our subject.  \\n Then we'll show you how to work with the subject  \\n positioning them, posing them, creating a rapport  \\n and providing direction during the shoot.  \\n - We'll also see our best practices for shooting video  \\n with a DSLR or mirrorless camera.  \\n We'll also talk about shooting with an external recorder,  \\n the sing sound work flow  \\n and checking your test keys on set.  \\n - We'll move into post production  \\n by getting our back drops ready.  \\n This will include techniques  \\n for selecting the best background.  \\n As well as cool things you can do  \\n to modify the depth of field,  \\n the exposure and other settings when you develop the images,  \\n so that they make a better composite.  \\n - Next we'll look at creating photographic composites.  \\n Working with the raw image,  \\n creating transparency in Photo Shop.  \\n Positioning the background,  \\n matching color and exposure for the photo  \\n and we'll refining the composite with color grading.  \\n - And finally we'll take a look and keying  \\n in three different applications.  \\n Premiere Pro, Final Cut Pro and After Effects.  \\n We'll also cover advance techniques like z space,  \\n digital lighting and animating a 3D camera.  \\n - We've got a lot of cool things to learn  \\n and a team of experts to help you.  \\n So let's get started.  \\n \\n\\n\"}) (input_keys={'topic', 'intro_video'}): Collection 33de68ba-2399-45cc-9c90-75c1f5ce0163 already exists. Set `provide_traceback=True` to see the stack trace.\n",
      "2025/01/11 18:03:24 ERROR dspy.utils.parallelizer: Error processing item Example({'topic': 'C# Cross-Platform Development', 'intro_video': \" - Hi, my name is Jesse Freeman,  \\n and in this course you'll build a cross platform,  \\n note taking console app called HelloNote,  \\n using .NET7 and Visual Studio.  \\n You'll be introduced to essential .NET development practices  \\n such as the command pattern, create, read, update,  \\n and delete operations, data modeling with EF Core,  \\n and setting up an SQLite database.  \\n In addition, we'll also explore more advanced features  \\n like establishing relationships between data models,  \\n and implementing a search functionality.  \\n By the end of this course, you'll have a solid understanding  \\n of .NET application development.  \\n Now let's get started.  \\n \\n\\n\"}) (input_keys={'topic', 'intro_video'}): Collection 31d3b26c-4eed-40a3-bfdf-d59f5a584ce3 already exists. Set `provide_traceback=True` to see the stack trace.\n"
     ]
    },
    {
     "name": "stdout",
     "output_type": "stream",
     "text": [
      "Average Metric: 0.00 / 0 (0%):   4%|███▌                                                                                     | 1/25 [00:00<00:03,  6.67it/s]"
     ]
    },
    {
     "name": "stderr",
     "output_type": "stream",
     "text": [
      "2025/01/11 18:03:24 ERROR dspy.utils.parallelizer: Error processing item Example({'topic': 'Interviewing Techniques', 'intro_video': \" - If you're not hiring or placing exceptional talent  \\n it may be because your interview process is not designed  \\n to excite passive candidates.  \\n When was the last time you reviewed your interview process?  \\n Is it time to consider different interview styles?  \\n My name is Barb Bruno.  \\n I've been in the recruiting profession for over 25 years  \\n and my company has placed more than 10,000 people in jobs.  \\n I've trained thousands of recruiters  \\n and talent acquisition professionals on how to improve  \\n their interviewing skills to fill more jobs.  \\n In this course, we're going to talk about the best way  \\n to prepare for an interview.  \\n You'll learn how screening interviews help eliminate bias  \\n and emotion from the process.  \\n We'll also discuss why it's important for you  \\n to understand the opportunity and clarify performance  \\n that will lead to success on the job.  \\n In addition, we'll review the different types  \\n of interviews and provide interview tips as well  \\n as sample lists of the most effective questions to ask  \\n and a scorecard to rate candidates interviewed.  \\n You'll learn how to create brand awareness  \\n and improve the candidate experience that will lead  \\n to increased referrals of top talent.  \\n If you're willing to make subtle changes  \\n to your interviewing techniques to attract the best talent  \\n this course was written for you.  \\n Let's get started.  \\n \\n\\n\"}) (input_keys={'topic', 'intro_video'}): Collection similarity_test already exists. Set `provide_traceback=True` to see the stack trace.\n"
     ]
    },
    {
     "name": "stdout",
     "output_type": "stream",
     "text": [
      "Average Metric: 0.00 / 0 (0%):   8%|███████                                                                                  | 2/25 [00:00<00:01, 13.19it/s]"
     ]
    },
    {
     "name": "stderr",
     "output_type": "stream",
     "text": [
      "2025/01/11 18:03:24 ERROR dspy.utils.parallelizer: Error processing item Example({'topic': 'Learning Bubble', 'intro_video': \" - [Jen] Creating web applications,  \\n particularly highly-customized web applications,  \\n has always been a challenge online.  \\n Either you'd need to learn how to code  \\n or you'd need to pay a developer  \\n tens of thousands of dollars to do it for you.  \\n You could use a starter system like WordPress,  \\n but then you might have some limitations  \\n to what the plugins could do for you.  \\n Otherwise, you're back to hiring a developer again  \\n or learning to code yourself.  \\n Bubble is a new approach to this old problem.  \\n Established in 2012 as a visual development platform,  \\n Bubble's popularity has exploded in the last two years  \\n as more people discover the power of Bubble.  \\n In this course, you'll get a quick introduction  \\n to some of Bubble's features and functionality,  \\n just enough to get you up and running  \\n with a quick application.  \\n First, we'll build an app for making grocery lists,  \\n we'll explore some pre-configured components  \\n that we can drop into our app, like a header for the site.  \\n We'll set up an interface for making a grocery list  \\n and pairing it with the department  \\n where we might find that grocery item.  \\n We'll check off items as we purchase them  \\n and we'll bring back items  \\n that might make our list over and over.  \\n Finally, we'll personalize our grocery lists,  \\n hiding them behind a log-in.  \\n I'm Jen Kramer,  \\n and I have been building websites for over 20 years.  \\n I'm excited about the world that Bubble opens  \\n to those without a coding background,  \\n so they can make their own web applications.  \\n So if you're ready, let's get started with learning Bubble.  \\n \\n\\n\"}) (input_keys={'topic', 'intro_video'}): Collection a76d7126-081f-4b9b-bed8-1357862647ec already exists. Set `provide_traceback=True` to see the stack trace.\n",
      "2025/01/11 18:03:24 ERROR dspy.utils.parallelizer: Error processing item Example({'topic': 'Creating an Interior Scene with Blender', 'intro_video': \"- [Voiceover] Hi, I'm Darrin Lile and welcome to\\nCreating an Interior Scene in Blender.\\nIn this course we'll go through the process\\nof creating a modern condominium interior.\\nWe'll make the walls and windows of the scene\\nbased on blueprints that we import into Blender.\\nThen we'll model the furniture in the room\\nbased on our reference images.\\nOnce this is done, we'll UV map the furniture,\\napply textures, and set up materials in the node editor.\\nFinally, we'll add lights to our scene\\nand render the final image.\\n\\nI'm looking forward to getting started so please\\njoin me for Creating an Interior Scene in Blender.\\n\\n\"}) (input_keys={'topic', 'intro_video'}): Collection 6652972b-3767-4dfc-a69f-3b96aea7e72f already exists. Set `provide_traceback=True` to see the stack trace.\n",
      "2025/01/11 18:03:24 ERROR dspy.utils.parallelizer: Error processing item Example({'topic': 'Word Essential Training (Microsoft 365)', 'intro_video': \" - [David] Your ideas deserve to get noticed.  \\n Microsoft Word 365 can help.  \\n With Word, you can create documents that stand out,  \\n documents of all kinds, from letters to newsletters  \\n and from brochures to research papers.  \\n Whether you work on your own or collaborate with a team,  \\n Word has the features you need to create documents  \\n that get your message out.  \\n I'm David Rivers  \\n and I've been teaching people how to get the most  \\n out of Microsoft Word since it was first released.  \\n Join me as we explore how Word in Microsoft 365  \\n can help you work faster and easier  \\n as you create, edit, share, and collaborate  \\n on eye-catching documents.  \\n \\n\\n\"}) (input_keys={'topic', 'intro_video'}): Collection 32024b78-074a-41a2-a4b4-aec891226f96 already exists. Set `provide_traceback=True` to see the stack trace.\n",
      "2025/01/11 18:03:24 ERROR dspy.utils.parallelizer: Error processing item Example({'topic': 'Azure AI Engineer Associate (AI-102) Cert Prep: Implement Knowledge Mining Solutions and Document Intelligence Solutions', 'intro_video': \"- Data is not always neatly structured\\nin a SQL database or a perfectly formatted table.\\nOrganizations depend on quickly and accurately\\nquerying unstructured data from things\\nlike PDFs, images, PowerPoints,\\nand even just text files in different languages.\\nAzure AI search and document intelligence\\nare powerful tool sets to help you discover\\nthe opportunity embedded within your data.\\nIn this course, we will be covering\\nhow to implement a knowledge mining solution\\nwith AI enrichments to different types of data sources.\\n\\nNow, this course is part of the learning track\\nfor sitting the exam AI-102, which is required\\nfor the Azure AI engineer associate certification.\\nI'll focus on exam topics for implementing\\na cognitive search solution and AI document intelligence.\\nAlong the way, I'll highlight important concepts\\nand walk you through demonstrations\\nto show you how these products are used in real life.\\nHi, I'm Akanksha Malik, a data consultant\\nand Microsoft AI MVP, and an international speaker.\\n\\nI want to help you use the tools\\nand techniques taught in this course\\nto help you distinguish yourself\\nby making more informed decisions with your data.\\nLet's get started.\\n\"}) (input_keys={'topic', 'intro_video'}): Collection bf115845-b31a-4d81-98ed-eeef50141aae already exists. Set `provide_traceback=True` to see the stack trace.\n",
      "2025/01/11 18:03:24 ERROR dspy.utils.parallelizer: Error processing item Example({'topic': 'Learning Amazon Cognito', 'intro_video': \" - [Bear] Just about every app and website these days  \\n requires you to have an account and log in.  \\n Are you developing an app or website  \\n that needs the user to log in?  \\n If so, Cognito can be a great solution.  \\n Hi, I'm Bear Cahill, head binary sequencer at Brainwash Inc.  \\n In this course, we'll go over the general information  \\n on Cognito in AWS.  \\n We'll also go into detail of user pools and identity pools.  \\n We'll also cover some other areas of Cognito user management  \\n like running Lambda code triggered by Cognito actions.  \\n Let's get started.  \\n \\n\\n\"}) (input_keys={'topic', 'intro_video'}): Collection cdd0a534-9aaa-4fa0-a2b7-e3305ef2836c already exists. Set `provide_traceback=True` to see the stack trace.\n"
     ]
    },
    {
     "name": "stdout",
     "output_type": "stream",
     "text": [
      "Average Metric: 0.00 / 0 (0%):  32%|████████████████████████████▍                                                            | 8/25 [00:00<00:01, 13.19it/s]"
     ]
    },
    {
     "name": "stderr",
     "output_type": "stream",
     "text": [
      "2025/01/11 18:03:24 INFO dspy.teleprompt.mipro_optimizer_v2: Score: 0.0 on minibatch of size 25 with parameters ['Predictor 0: Instruction 4', 'Predictor 0: Few-Shot Set 5'].\n",
      "2025/01/11 18:03:24 INFO dspy.teleprompt.mipro_optimizer_v2: Minibatch scores so far: [0.0, 0.0, 0.0, 0.0]\n",
      "2025/01/11 18:03:24 INFO dspy.teleprompt.mipro_optimizer_v2: Full eval scores so far: [0.0]\n",
      "2025/01/11 18:03:24 INFO dspy.teleprompt.mipro_optimizer_v2: Best full score so far: 0.0\n",
      "2025/01/11 18:03:24 INFO dspy.teleprompt.mipro_optimizer_v2: ============================\n",
      "\n",
      "\n",
      "2025/01/11 18:03:24 INFO dspy.teleprompt.mipro_optimizer_v2: == Minibatch Trial 5 / 30 ==\n",
      "2025/01/11 18:03:24 INFO dspy.teleprompt.mipro_optimizer_v2: Evaluating the following candidate program...\n",
      "\n"
     ]
    },
    {
     "name": "stdout",
     "output_type": "stream",
     "text": [
      "Error in similarity calculation: Collection 81fdb74e-6c72-4075-94f0-c90414b9b515 does not exist.\n",
      "Error in similarity calculation: Collection f8847486-8087-48d6-85f5-4bfb05cc97a7 does not exist.\n",
      "Exception occurred: Collection 21c05177-570e-455c-9c5a-221640991a54 already exists\n",
      "Predictor 0\n",
      "i: Create an engaging and informative video transcript for the introductory segment of a course centered on the specified topic. The transcript should be approximately 250 words long, formatted in markdown, and should effectively convey the course's objectives, key themes, and the importance of the topic in a relatable manner that encourages prospective students to enroll. Include elements of storytelling and highlight the integration of practical skills and ethical considerations to foster a growth mindset.\n",
      "p: Intro Video:\n",
      "\n",
      "\n",
      "  0%|                                                                                                                                | 0/25 [00:00<?, ?it/s]"
     ]
    },
    {
     "name": "stderr",
     "output_type": "stream",
     "text": [
      "2025/01/11 18:03:25 ERROR dspy.utils.parallelizer: Error processing item Example({'topic': 'HTML and CSS: Linking', 'intro_video': \" - Links are the heart of the web.  \\n If there were no links, would the web even exist?  \\n In this course we'll look in detail at the humble link.  \\n We'll use HTML to link within a page, between pages,  \\n to different websites, email, phone numbers,  \\n and to documents like PDFs.  \\n We'll also make our links pretty with CSS,  \\n and look at link maintenance to make sure that they're up  \\n to date with the changing web.  \\n I'm Jen Kramer, an educator and web developer,  \\n and I think I've coded at least half  \\n of the links on the web in my 23-year career.  \\n So if you're ready, let's get started with HTML  \\n and CSS linking.  \\n \\n\\n\"}) (input_keys={'topic', 'intro_video'}): Collection similarity_test already exists. Set `provide_traceback=True` to see the stack trace.\n"
     ]
    },
    {
     "name": "stdout",
     "output_type": "stream",
     "text": [
      "Average Metric: 0.00 / 0 (0%):   0%|                                                                                                 | 0/25 [00:00<?, ?it/s]"
     ]
    },
    {
     "name": "stderr",
     "output_type": "stream",
     "text": [
      "2025/01/11 18:03:25 ERROR dspy.utils.parallelizer: Error processing item Example({'topic': 'Express Essentials: Build Powerful Web Apps with Node.js', 'intro_video': \" - [Jamie] One of the most popular application frameworks  \\n for Node.js is Express.  \\n Both Node.js and Express use JavaScript,  \\n making it incredibly appealing  \\n for more front-end tailored engineers,  \\n to learn how to handle APIs,  \\n and other backend functionality of their web applications.  \\n As you've learned to master JavaScript,  \\n and create client side code,  \\n perhaps you've wanted to learn the other side  \\n of the application,  \\n and learn more about how things on the server side work.  \\n Express is a great framework to generate  \\n server side code for your application.  \\n This course was created to help you get up and running  \\n with Express.  \\n Perhaps you've been curious about creating  \\n end points for your applications,  \\n and weren't sure how to get started.  \\n In this course, we will cover everything  \\n from installation of Express,  \\n creating a server, and the various routing knowledge needed  \\n to generate server side code.  \\n Hi, I'm Jamie Pittman and I'm a front-end software engineer.  \\n Join me and learn more about the essentials of Express.  \\n \\n\\n\"}) (input_keys={'topic', 'intro_video'}): Collection similarity_test already exists. Set `provide_traceback=True` to see the stack trace.\n"
     ]
    },
    {
     "name": "stdout",
     "output_type": "stream",
     "text": [
      "Average Metric: 0.00 / 0 (0%):   4%|███▌                                                                                     | 1/25 [00:00<00:01, 12.73it/s]"
     ]
    },
    {
     "name": "stderr",
     "output_type": "stream",
     "text": [
      "2025/01/11 18:03:25 ERROR dspy.utils.parallelizer: Error processing item Example({'topic': 'AI Strategy and Growth for the Modern Board: A Conversation with Dr. Lisa Palmer', 'intro_video': \"- AI is reshaping the business landscape\\nand board leaders are at the forefront\\nof this transformation.\\nSo, how can boards align AI with long-term goals,\\nspark innovation,\\nand tackle ethical and organizational challenges?\\nIn this important conversation\\nwith AI startup founder and CEO Dr. Lisa Palmer,\\nwe dive into the evolving role\\nof board leadership in the AI era.\\nFrom embedding AI into business strategy\\nto fostering innovation culture\\nto promoting customer-focused approaches to tackling risks,\\nDr. Palmer shares actionable insights\\nto help leaders drive meaningful impact.\\n\\nI'm senior staff instructor Ashley Kennedy\\nand I'm thrilled to guide this exploration.\\nWhether you're a seasoned leader or new to AI,\\nthis course offers tools to leverage AI\\nfor growth and success.\\n\"}) (input_keys={'topic', 'intro_video'}): Collection similarity_test already exists. Set `provide_traceback=True` to see the stack trace.\n"
     ]
    },
    {
     "name": "stdout",
     "output_type": "stream",
     "text": [
      "Average Metric: 0.00 / 0 (0%):   8%|███████                                                                                  | 2/25 [00:00<00:00, 24.96it/s]"
     ]
    },
    {
     "name": "stderr",
     "output_type": "stream",
     "text": [
      "2025/01/11 18:03:25 ERROR dspy.utils.parallelizer: Error processing item Example({'topic': 'Cisco CCNP SCOR Security (350-701) Cert Prep: 1 Security Concepts and Network Security', 'intro_video': \"- Welcome to part one\\nof the Implementing and Operating Cisco Security\\nCore Technologies Course.\\nThis three part course on LinkedIn Learning\\nwill touch on all of the exam topics outlined\\nby Cisco's SCOR 350-701 exam blueprint.\\nMy name is Charles Judd\\nand I'll be your instructor throughout this course.\\nIn part one of the SCOR course we're going to focus\\non fundamental security concepts, including common threats\\nand vulnerabilities, and also network security topics\\nsuch as some specific security solutions\\nand layer two security techniques.\\n\\nThanks so much for joining me, now let's get started.\\n\"}) (input_keys={'topic', 'intro_video'}): Collection similarity_test already exists. Set `provide_traceback=True` to see the stack trace.\n"
     ]
    },
    {
     "name": "stdout",
     "output_type": "stream",
     "text": [
      "Average Metric: 0.00 / 0 (0%):  12%|██████████▋                                                                              | 3/25 [00:00<00:00, 37.14it/s]"
     ]
    },
    {
     "name": "stderr",
     "output_type": "stream",
     "text": [
      "2025/01/11 18:03:25 ERROR dspy.utils.parallelizer: Error processing item Example({'topic': 'Word Essential Training (Microsoft 365)', 'intro_video': \" - [David] Your ideas deserve to get noticed.  \\n Microsoft Word 365 can help.  \\n With Word, you can create documents that stand out,  \\n documents of all kinds, from letters to newsletters  \\n and from brochures to research papers.  \\n Whether you work on your own or collaborate with a team,  \\n Word has the features you need to create documents  \\n that get your message out.  \\n I'm David Rivers  \\n and I've been teaching people how to get the most  \\n out of Microsoft Word since it was first released.  \\n Join me as we explore how Word in Microsoft 365  \\n can help you work faster and easier  \\n as you create, edit, share, and collaborate  \\n on eye-catching documents.  \\n \\n\\n\"}) (input_keys={'topic', 'intro_video'}): Collection similarity_test already exists. Set `provide_traceback=True` to see the stack trace.\n"
     ]
    },
    {
     "name": "stdout",
     "output_type": "stream",
     "text": [
      "Average Metric: 0.00 / 0 (0%):  16%|██████████████▏                                                                          | 4/25 [00:00<00:00, 48.91it/s]"
     ]
    },
    {
     "name": "stderr",
     "output_type": "stream",
     "text": [
      "2025/01/11 18:03:25 ERROR dspy.utils.parallelizer: Error processing item Example({'topic': 'SharePoint: Migrating from Designer to Power Automate', 'intro_video': \" - [April] Are you ready to take advantage of the rich  \\n automation capabilities that Office 365 has to offer?  \\n It's time to ditch those old SharePoint  \\n Designer workflows and embrace the modern power  \\n of Power Automate.  \\n Hi, I'm April Dunnam,  \\n a partner, technical architect at Microsoft.  \\n I've been a consultant focused  \\n on helping businesses get the most  \\n out of their collaboration tools for over 10 years.  \\n If you're looking for guidance on what Power Automate  \\n has to offer, and how to migrate  \\n your old SharePoint Designer workflows to it,  \\n then you've come to the right place.  \\n \\n\\n\"}) (input_keys={'topic', 'intro_video'}): Collection 18f23c21-4db3-4c6f-9b2a-027854f62d26 already exists. Set `provide_traceback=True` to see the stack trace.\n"
     ]
    },
    {
     "name": "stdout",
     "output_type": "stream",
     "text": [
      "Average Metric: 0.00 / 0 (0%):  20%|█████████████████▊                                                                       | 5/25 [00:00<00:00, 60.22it/s]"
     ]
    },
    {
     "name": "stderr",
     "output_type": "stream",
     "text": [
      "2025/01/11 18:03:25 ERROR dspy.utils.parallelizer: Error processing item Example({'topic': 'Music Theory for Songwriters: The Fundamentals', 'intro_video': \" - Hi, I'm Julian Velard,  \\n and welcome to music theory for songwriters.  \\n Songwriting is often considered an art  \\n born solely of inspiration.  \\n And while inspiration is at the heart of music,  \\n music theory is the language  \\n that lets us shape our inspiration into songs.  \\n By having a deeper understanding  \\n of the principles of music theory,  \\n we can improve our songwriting skills  \\n and broaden the types of songs we can write.  \\n This course is for anyone who either wants  \\n to start writing songs, or already writes songs  \\n and wants a better understanding of how music works.  \\n I'll show you how the core principles of music theory  \\n apply to the world of songwriting.  \\n First, I'll break down the building blocks of music,  \\n starting with notes, intervals, and skills.  \\n Then I'll move on to the basics of chords  \\n and chord progressions,  \\n and how we put them together into musical phrases.  \\n I'll show you how those elements are organized  \\n into verses, choruses, bridges, and other sections,  \\n ultimately forming an entire song.  \\n Finally, we'll explore common song forms,  \\n giving you multiple templates  \\n for organizing your inspired ideas into songs.  \\n Along the way, I'll show you how I use music theory  \\n in my own compositions  \\n by performing some of my original songs  \\n and following them up with analysis,  \\n demonstrating the concepts we covered in the course.  \\n I can't wait to share with you all the amazing things  \\n I've learned about songwriting.  \\n Let's get started in music theory for songwriters.  \\n \\n\\n\"}) (input_keys={'topic', 'intro_video'}): Collection c5a51b77-ed7b-4b2a-bc5e-8b1e63545e87 already exists. Set `provide_traceback=True` to see the stack trace.\n"
     ]
    },
    {
     "name": "stdout",
     "output_type": "stream",
     "text": [
      "Average Metric: 0.00 / 0 (0%):  24%|█████████████████████▎                                                                   | 6/25 [00:00<00:00, 71.59it/s]"
     ]
    },
    {
     "name": "stderr",
     "output_type": "stream",
     "text": [
      "2025/01/11 18:03:25 ERROR dspy.utils.parallelizer: Error processing item Example({'topic': 'macOS for IT Administrators', 'intro_video': \" - [Instructor] You've been airdropped into a digital forest.  \\n You don't know where anything is,  \\n but you need to learn quickly.  \\n Many IT administrators recently tasked with a fleet  \\n of macOS systems feel just like this.  \\n As your guide to get you out of the forest  \\n there are some things I'm actually excited  \\n to show you along the way.  \\n I'm most excited about what the new sidecar feature opens up  \\n for portability with the macOS.  \\n The new Enterprise SSO enables bind less active directory  \\n and Apple's integration with cloud based authentication  \\n services enables in application authentication  \\n in ways never possible before.  \\n Every admin needs to understand MDM  \\n and how to use it to efficiency manage Apple technology.  \\n Caching is a double bladed sword you need to master.  \\n It can bring down a network if not controlled  \\n and save your entire network from floods of data  \\n if deployed properly.  \\n Hi, I'm Sean Colins.  \\n I've had a long and interesting relationship  \\n with macOS and Apple.  \\n I'm excited to share the best practices I've learned,  \\n and the changes I've discovered.  \\n Join me on my LinkedIn Learning course,  \\n specifically geared toward IT admin for macOS.  \\n \\n\\n\"}) (input_keys={'topic', 'intro_video'}): Collection similarity_test already exists. Set `provide_traceback=True` to see the stack trace.\n"
     ]
    },
    {
     "name": "stdout",
     "output_type": "stream",
     "text": [
      "Average Metric: 0.00 / 0 (0%):  28%|████████████████████████▉                                                                | 7/25 [00:00<00:00, 81.69it/s]"
     ]
    },
    {
     "name": "stderr",
     "output_type": "stream",
     "text": [
      "2025/01/11 18:03:25 ERROR dspy.utils.parallelizer: Error processing item Example({'topic': 'How to Become a Project Management Entrepreneur', 'intro_video': \" - You might wonder how to build your career,  \\n as an entrepreneur, to last a lifetime  \\n or as long as you want to work.  \\n Becoming a project management entrepreneur is a project  \\n in its own right, which means you can put  \\n your project planning skills to work.  \\n Your planning begins with deciding what you want to do,  \\n whether you focus in an industry, project management role  \\n or project management tool.  \\n With that target in place,  \\n you can work on learning what you need to know,  \\n gaining experience to build your resume  \\n and obtaining certificates to validate your expertise.  \\n Once you begin working as an entrepreneur,  \\n you need to nurture your career in several ways.  \\n Marketing is key to get in work,  \\n and there are many ways to do that,  \\n from building a solid network, promoting the work you do  \\n and working with other organizations and individuals.  \\n In this course, we'll explore options  \\n for each step of your entrepreneurship journey  \\n so you can choose the approaches that fit your situation.  \\n Hi, I'm Seyi Kukoyi also known as Kuks.  \\n I'm an entrepreneur, educator and filmmaker.  \\n I also run a project management firm, Kuks & Co.  \\n My firm specializes in planning and controlling projects,  \\n delivering guidance to help navigate unforeseen delays  \\n and complete projects on time and within budget.  \\n If you're ready to get off the fence and begin your journey,  \\n I invite you to join me  \\n in my Project Management Entrepreneurship course.  \\n \\n\\n\"}) (input_keys={'topic', 'intro_video'}): Collection similarity_test already exists. Set `provide_traceback=True` to see the stack trace.\n"
     ]
    },
    {
     "name": "stdout",
     "output_type": "stream",
     "text": [
      "Average Metric: 0.00 / 0 (0%):  32%|████████████████████████████▍                                                            | 8/25 [00:00<00:00, 92.46it/s]"
     ]
    },
    {
     "name": "stderr",
     "output_type": "stream",
     "text": [
      "2025/01/11 18:03:25 INFO dspy.teleprompt.mipro_optimizer_v2: Score: 0.0 on minibatch of size 25 with parameters ['Predictor 0: Instruction 3', 'Predictor 0: Few-Shot Set 8'].\n",
      "2025/01/11 18:03:25 INFO dspy.teleprompt.mipro_optimizer_v2: Minibatch scores so far: [0.0, 0.0, 0.0, 0.0, 0.0]\n",
      "2025/01/11 18:03:25 INFO dspy.teleprompt.mipro_optimizer_v2: Full eval scores so far: [0.0]\n",
      "2025/01/11 18:03:25 INFO dspy.teleprompt.mipro_optimizer_v2: Best full score so far: 0.0\n",
      "2025/01/11 18:03:25 INFO dspy.teleprompt.mipro_optimizer_v2: ============================\n",
      "\n",
      "\n",
      "2025/01/11 18:03:25 INFO dspy.teleprompt.mipro_optimizer_v2: == Minibatch Trial 6 / 30 ==\n",
      "2025/01/11 18:03:25 INFO dspy.teleprompt.mipro_optimizer_v2: Evaluating the following candidate program...\n",
      "\n"
     ]
    },
    {
     "name": "stdout",
     "output_type": "stream",
     "text": [
      "Error in similarity calculation: Collection 77067113-9777-4bbf-9286-c48a45d31be0 does not exist.\n",
      "Error in similarity calculation: Collection 2a38f675-967c-4034-9c2d-db5a123d430c does not exist.\n",
      "Exception occurred: Collection 9821c1b8-6b60-45ae-988a-535b9178569f already exists\n",
      "Predictor 0\n",
      "i: Generate a markdown-formatted video transcript of approximately 250 words for the introduction of a course on the specified topic, ensuring it is engaging and informative while clearly communicating the course's purpose and content to prospective students.\n",
      "p: Intro Video:\n",
      "\n",
      "\n",
      "  0%|                                                                                                                                | 0/25 [00:00<?, ?it/s]"
     ]
    },
    {
     "name": "stderr",
     "output_type": "stream",
     "text": [
      "2025/01/11 18:03:25 ERROR dspy.utils.parallelizer: Error processing item Example({'topic': 'Transitioning from Java to Kotlin', 'intro_video': \" - [Nate] Kotlin is one of the most popular  \\n programming languages for building mobile applications  \\n but it's also a great choice for JVM-based web development.  \\n It's concise, flexible,  \\n and includes a powerful set of modern language features.  \\n With Kotlin, developers can build scalable applications  \\n using the JVM tooling and libraries they're familiar with,  \\n while adding in additional Kotlin language features,  \\n such as type safe builders and co-routines.  \\n I'm going to show you how to start transitioning  \\n from Java to Kotlin for backend JVM development.  \\n We'll start by exploring Kotlin's place  \\n in the JVM ecosystem.  \\n We'll then migrate a Spring Boot application  \\n from Java to Kotlin,  \\n and finally build a set of rest end points from scratch  \\n using the Ktor client server framework.  \\n My name is Nate Ebel.  \\n I've been using Kotlin for over 10 years,  \\n since before it's 1.0 release.  \\n If you're excited to start learning Kotlin,  \\n then join me in my LinkedIn learning course  \\n on moving from Java to Kotlin.  \\n \\n\\n\"}) (input_keys={'topic', 'intro_video'}): Collection 03bc6d29-78b1-40de-9fac-a6180279d067 already exists. Set `provide_traceback=True` to see the stack trace.\n",
      "2025/01/11 18:03:25 ERROR dspy.utils.parallelizer: Error processing item Example({'topic': 'Photoshop 2020 Essential Training: Design', 'intro_video': \" - [Julieanne] Photoshop is the industry standard  \\n for image manipulation and creative visual expression.  \\n Whether you're looking to pursue a career  \\n or you want to learn the tools  \\n to enhance your own design skills,  \\n this LinkedIn Learning course is for you.  \\n I'm Julieanne Kost  \\n and I've been working on the Photoshop team at Adobe  \\n for over 25 years.  \\n I started in technical support,  \\n worked as a designer on the customer education team,  \\n and today I'm the principal digital evangelist.  \\n Because Photoshop is a complex program,  \\n I created this fundamental training course  \\n and the tools that we cover specifically  \\n with the designer in mind.  \\n We start by exploring the power of Smart Objects  \\n and their ability to allow us to work  \\n in a flexible and nondestructive manner.  \\n Then we take an in depth tour  \\n of the different transformation tools and filters  \\n that designers use most often.  \\n Together, we'll walk through the essentials  \\n of shape layers, layer effects, and styles,  \\n as well as fill layers and blend modes.  \\n We'll take a look at how to work  \\n with Photoshop's type and painting tools,  \\n as well as cover the essential aspects  \\n of libraries, artboards, and file export  \\n in order to increase our productivity.  \\n My goal is to remove any technical barriers  \\n so that you can master the technology  \\n and start creating as soon as possible.  \\n I'm excited to be your instructor  \\n and I can't wait to share what I know about Photoshop,  \\n so let's get started.  \\n \\n\\n\"}) (input_keys={'topic', 'intro_video'}): Collection 32d66db1-97b6-4250-b7f6-e1f556fa70fe already exists. Set `provide_traceback=True` to see the stack trace.\n"
     ]
    },
    {
     "name": "stdout",
     "output_type": "stream",
     "text": [
      "Average Metric: 0.00 / 0 (0%):   4%|███▌                                                                                     | 1/25 [00:00<00:04,  5.83it/s]"
     ]
    },
    {
     "name": "stderr",
     "output_type": "stream",
     "text": [
      "2025/01/11 18:03:25 ERROR dspy.utils.parallelizer: Error processing item Example({'topic': 'Cisco CCNP SCOR Security (350-701) Cert Prep: 1 Security Concepts and Network Security', 'intro_video': \"- Welcome to part one\\nof the Implementing and Operating Cisco Security\\nCore Technologies Course.\\nThis three part course on LinkedIn Learning\\nwill touch on all of the exam topics outlined\\nby Cisco's SCOR 350-701 exam blueprint.\\nMy name is Charles Judd\\nand I'll be your instructor throughout this course.\\nIn part one of the SCOR course we're going to focus\\non fundamental security concepts, including common threats\\nand vulnerabilities, and also network security topics\\nsuch as some specific security solutions\\nand layer two security techniques.\\n\\nThanks so much for joining me, now let's get started.\\n\"}) (input_keys={'topic', 'intro_video'}): Collection 17d3fc16-4289-42aa-813c-b622225b4070 already exists. Set `provide_traceback=True` to see the stack trace.\n"
     ]
    },
    {
     "name": "stdout",
     "output_type": "stream",
     "text": [
      "Average Metric: 0.00 / 0 (0%):   8%|███████                                                                                  | 2/25 [00:00<00:03,  5.83it/s]"
     ]
    },
    {
     "name": "stderr",
     "output_type": "stream",
     "text": [
      "2025/01/11 18:03:25 ERROR dspy.utils.parallelizer: Error processing item Example({'topic': 'macOS for IT Administrators', 'intro_video': \" - [Instructor] You've been airdropped into a digital forest.  \\n You don't know where anything is,  \\n but you need to learn quickly.  \\n Many IT administrators recently tasked with a fleet  \\n of macOS systems feel just like this.  \\n As your guide to get you out of the forest  \\n there are some things I'm actually excited  \\n to show you along the way.  \\n I'm most excited about what the new sidecar feature opens up  \\n for portability with the macOS.  \\n The new Enterprise SSO enables bind less active directory  \\n and Apple's integration with cloud based authentication  \\n services enables in application authentication  \\n in ways never possible before.  \\n Every admin needs to understand MDM  \\n and how to use it to efficiency manage Apple technology.  \\n Caching is a double bladed sword you need to master.  \\n It can bring down a network if not controlled  \\n and save your entire network from floods of data  \\n if deployed properly.  \\n Hi, I'm Sean Colins.  \\n I've had a long and interesting relationship  \\n with macOS and Apple.  \\n I'm excited to share the best practices I've learned,  \\n and the changes I've discovered.  \\n Join me on my LinkedIn Learning course,  \\n specifically geared toward IT admin for macOS.  \\n \\n\\n\"}) (input_keys={'topic', 'intro_video'}): Collection 90b09bfb-2632-4112-aa11-8efe1d4c979f already exists. Set `provide_traceback=True` to see the stack trace.\n"
     ]
    },
    {
     "name": "stdout",
     "output_type": "stream",
     "text": [
      "Average Metric: 0.00 / 0 (0%):  12%|██████████▋                                                                              | 3/25 [00:00<00:03,  5.83it/s]"
     ]
    },
    {
     "name": "stderr",
     "output_type": "stream",
     "text": [
      "2025/01/11 18:03:25 ERROR dspy.utils.parallelizer: Error processing item Example({'topic': 'Having Career Conversations with Your Team', 'intro_video': ' - The career conversation I regret the most  \\n is the one I never had.  \\n I was working at a startup  \\n after taking a leave of absence from UCLA,  \\n and then I hit a plateau,  \\n although I didn\\'t have that language at the time.  \\n I couldn\\'t see a growth path,  \\n so I started looking for other jobs.  \\n I interviewed with Google in my car on lunch breaks  \\n and continued the hiring process with them for five months  \\n all while I could have been troubleshooting  \\n the job that I already had.  \\n I walked into the founder\\'s office at the startup  \\n to give him my two weeks\\' notice.  \\n Looking back nearly 15 years later,  \\n I regret that our first career conversation  \\n was also our last.  \\n As a manager, you might be thinking  \\n how do I prevent this from happening on my team?  \\n How can I support my employees  \\n and have a better sense of where they are  \\n in their growth cycle and career aspirations?  \\n Why do people get intimidated around this topic  \\n of career conversations?  \\n I\\'m Jenny Blake, author of \"Pivot:  \\n The Only Move That Matters Is Your Next One.\"  \\n I\\'m a career and business strategist  \\n with over 10 years of coaching  \\n and career development experience.  \\n I worked at the startup for two years,  \\n Google for five and a half  \\n in training and career development,  \\n and since 2011, I\\'ve been running  \\n my own consulting business in New York City,  \\n helping people move beyond burnout, navigate change,  \\n and build sustainable careers and companies.  \\n During my first year at Google in 2006,  \\n I trained over 1,000 new hires.  \\n These were the best and the brightest,  \\n and they would often come up to me a year or two in  \\n feeling like they were hitting a plateau,  \\n getting restless, and ready for change.  \\n These are what I call pivot points,  \\n and they are not a problem nor a personal shortcoming.  \\n It\\'s important to know that pivoting  \\n isn\\'t just about big moves,  \\n a promotion, or even role change.  \\n Rather, it\\'s a framework to help us all  \\n methodically map what\\'s next,  \\n even within one\\'s current role,  \\n by identifying what success looks like  \\n and building from a foundation  \\n of what is already working best.  \\n As a manager, mentor, or coach,  \\n you can play a key role in helping your team  \\n expand within their role through stretch projects or pilots  \\n and pivot internally when they\\'re ready  \\n for development opportunities.  \\n Working through the Pivot Method  \\n enables you and your team members or mentees  \\n to explore career options before creating  \\n more detailed development plans.  \\n By the end of this course, you will learn  \\n how to apply the four-stage Pivot Method  \\n as a career conversation framework.  \\n You can also share the companion course for individuals  \\n with your team members to help them prepare  \\n or dive deeper after a session.  \\n That\\'s in the LinkedIn Learning Library  \\n under Figuring Out Your Next Move.  \\n \\n\\n'}) (input_keys={'topic', 'intro_video'}): Collection abdeeb19-73d3-4be9-b1f0-f4b51c41b0d0 already exists. Set `provide_traceback=True` to see the stack trace.\n"
     ]
    },
    {
     "name": "stdout",
     "output_type": "stream",
     "text": [
      "Average Metric: 0.00 / 0 (0%):  16%|██████████████▏                                                                          | 4/25 [00:00<00:03,  5.83it/s]"
     ]
    },
    {
     "name": "stderr",
     "output_type": "stream",
     "text": [
      "2025/01/11 18:03:25 ERROR dspy.utils.parallelizer: Error processing item Example({'topic': 'The Dumb Things Smart People Do with Their Money', 'intro_video': ' - [Narrator] Finding the time to learn  \\n proper money management can be tough,  \\n but poor financial planning can cost you  \\n a lot more than time in the long run.  \\n It can also cost you a lot of your hard earned cash.  \\n Take it from Jill Schlesinger, certified financial planner,  \\n business analyst for CBS News,  \\n and host of the hit radio show and podcast, \"Jill On Money.\"  \\n She\\'s watched even the world\\'s smartest financial pros  \\n make dumb money decisions.  \\n In this audio course,  \\n Jill presents five essential financial tools  \\n developed in her book,  \\n \"The Dumb Things Smart People Do With Their Money,\"  \\n published by Penguin Random House.  \\n These short 10 minute lessons  \\n will help you take control of your finances  \\n and avoid some of the most common pitfalls  \\n people make when it comes to money.  \\n \\n\\n'}) (input_keys={'topic', 'intro_video'}): Collection similarity_test already exists. Set `provide_traceback=True` to see the stack trace.\n"
     ]
    },
    {
     "name": "stdout",
     "output_type": "stream",
     "text": [
      "Average Metric: 0.00 / 0 (0%):  20%|█████████████████▊                                                                       | 5/25 [00:00<00:03,  5.83it/s]"
     ]
    },
    {
     "name": "stderr",
     "output_type": "stream",
     "text": [
      "2025/01/11 18:03:25 ERROR dspy.utils.parallelizer: Error processing item Example({'topic': 'DevOps Foundations: Effective Postmortems', 'intro_video': \" - DevOps is about developers and operations working together  \\n to deliver software at high speed to your users.  \\n But no matter how good you are  \\n and how well you code and test, things break.  \\n You hurry to fix these incidents when they happen,  \\n but how do you use these experiences to improve over time?  \\n Postmortems are how we investigate the scene afterward  \\n to find out what went wrong,  \\n and use that to learn and improve.  \\n I'm Ernest Muller, incident detective.  \\n I'm also head of engineering operations  \\n at Precision Autonomy, where I work with a team  \\n running online services supporting owners and operators  \\n of drones and other autonomous vehicles.  \\n In this course, I will help you prepare, practice,  \\n and perfect your incident investigation skills  \\n so that you can help your organization  \\n perform effective postmortems.  \\n It can be a tricky process, because after a messy incident  \\n it's easy to mistake what really happened  \\n or just pin it on someone and move on.  \\n Join me in my LinkedIn Learning course  \\n as we explore incident postmortems the DevOps way.  \\n \\n\\n\"}) (input_keys={'topic', 'intro_video'}): Collection 8e3c2aac-08c7-4da4-b44f-473b7a7413c4 already exists. Set `provide_traceback=True` to see the stack trace.\n"
     ]
    },
    {
     "name": "stdout",
     "output_type": "stream",
     "text": [
      "Average Metric: 0.00 / 0 (0%):  24%|█████████████████████▎                                                                   | 6/25 [00:00<00:03,  5.83it/s]"
     ]
    },
    {
     "name": "stderr",
     "output_type": "stream",
     "text": [
      "2025/01/11 18:03:25 ERROR dspy.utils.parallelizer: Error processing item Example({'topic': 'Implementing the Metaverse', 'intro_video': \" - What is the metaverse  \\n and what does it mean for you and your organization?  \\n The Metaverse is probably one of the most confusing  \\n and hyped up technologies in recent years.  \\n Over the last two decades,  \\n I have worked relentlessly with hundreds  \\n of organizations to help them understand technology better.  \\n And now I can help you understand the Metaverse  \\n through this new LinkedIn Learning course.  \\n We'll cover topics such as marketing, operations, privacy  \\n and more that are part  \\n of making the Metaverse an integral part  \\n of your organization.  \\n And today is a great time to jump in.  \\n \\n\\n\"}) (input_keys={'topic', 'intro_video'}): Collection similarity_test already exists. Set `provide_traceback=True` to see the stack trace.\n"
     ]
    },
    {
     "name": "stdout",
     "output_type": "stream",
     "text": [
      "Average Metric: 0.00 / 0 (0%):  28%|████████████████████████▉                                                                | 7/25 [00:00<00:03,  5.83it/s]"
     ]
    },
    {
     "name": "stderr",
     "output_type": "stream",
     "text": [
      "2025/01/11 18:03:25 ERROR dspy.utils.parallelizer: Error processing item Example({'topic': 'Game Development Foundations: Game-Related Math', 'intro_video': \"- [Jesse] Hello, my name is Jesse Freeman,\\nand in Game Development Foundations: Game-Related Math,\\nwe're going to learn some common mathematical\\ntechniques for building your own games.\\nWhile the content of this course\\napplies to any programming language,\\nwe'll focus specifically on JavaScript\\nto keep the examples easy to follow.\\nIn this course, I'll cover laying out objects,\\nfrom centering them to drawing a grid.\\nNext, we'll cover basic point and bounding box\\ncollision detection, and finally,\\nwe'll wrap up with some commonly used formulas\\nfor displaying health, calculating XP,\\nand animating objects on the screen.\\n\\nI hope you enjoy this course\\nas much as I did making it.\\nNow let's get started.\\n\\n\"}) (input_keys={'topic', 'intro_video'}): Collection similarity_test already exists. Set `provide_traceback=True` to see the stack trace.\n"
     ]
    },
    {
     "name": "stdout",
     "output_type": "stream",
     "text": [
      "Average Metric: 0.00 / 0 (0%):  32%|████████████████████████████▍                                                            | 8/25 [00:00<00:02,  5.83it/s]Error in similarity calculation: Collection 125b41a9-e32e-4147-afbc-905b54910ae8 does not exist.\n"
     ]
    },
    {
     "name": "stderr",
     "output_type": "stream",
     "text": [
      "2025/01/11 18:03:25 INFO dspy.teleprompt.mipro_optimizer_v2: Score: 0.0 on minibatch of size 25 with parameters ['Predictor 0: Instruction 2', 'Predictor 0: Few-Shot Set 3'].\n",
      "2025/01/11 18:03:25 INFO dspy.teleprompt.mipro_optimizer_v2: Minibatch scores so far: [0.0, 0.0, 0.0, 0.0, 0.0, 0.0]\n",
      "2025/01/11 18:03:25 INFO dspy.teleprompt.mipro_optimizer_v2: Full eval scores so far: [0.0]\n",
      "2025/01/11 18:03:25 INFO dspy.teleprompt.mipro_optimizer_v2: Best full score so far: 0.0\n",
      "2025/01/11 18:03:25 INFO dspy.teleprompt.mipro_optimizer_v2: ============================\n",
      "\n",
      "\n",
      "2025/01/11 18:03:25 INFO dspy.teleprompt.mipro_optimizer_v2: == Minibatch Trial 7 / 30 ==\n",
      "2025/01/11 18:03:25 INFO dspy.teleprompt.mipro_optimizer_v2: Evaluating the following candidate program...\n",
      "\n"
     ]
    },
    {
     "name": "stdout",
     "output_type": "stream",
     "text": [
      "Error in similarity calculation: Collection 86671f3f-509b-40f4-8e84-ece5ca8492eb does not exist.\n",
      "Error in similarity calculation: Collection d78300fb-68ee-480a-a72b-7fd454cf941f does not exist.\n",
      "Error in similarity calculation: Collection fa81575a-6d27-4794-b70a-89b1c8284eb5 does not exist.\n",
      "Exception occurred: Collection dd27463d-d356-4513-a3c9-3b8462f2287f already exists\n",
      "Predictor 0\n",
      "i: Generate a markdown-formatted video transcript of approximately 250 words for the introduction of a course on the specified topic, ensuring it is engaging and informative while clearly communicating the course's purpose and content to prospective students.\n",
      "p: Intro Video:\n",
      "\n",
      "\n",
      "  0%|                                                                                                                                | 0/25 [00:00<?, ?it/s]"
     ]
    },
    {
     "name": "stderr",
     "output_type": "stream",
     "text": [
      "2025/01/11 18:03:25 ERROR dspy.utils.parallelizer: Error processing item Example({'topic': 'AWS: Automation and Optimization', 'intro_video': \"- [Shyam] AWS provides on-demand\\ncloud computing services that offer compute,\\nstorage, content delivery and other functionality\\nfor a wide variety of use cases.\\nAutomating and optimizing your processes\\ncan lead to enhanced productivity,\\nimproved performance and cost reduction.\\nThis course will walk you through the different\\ncost optimization strategies\\nthat you can employ to build highly-available solutions\\nwith efficient resource utilization.\\nHi, I'm Shyam, and I'd like to welcome you\\nto this course on Amazon Web Services:\\nAutomation and Optimization.\\n\\nI'm a technical instructor and industry specialist\\non networking, cloud computing and security.\\nLet's get started.\\n \\n\\n\"}) (input_keys={'topic', 'intro_video'}): Collection d6846df5-a3d2-4267-bedf-b9bbf64a1e91 already exists. Set `provide_traceback=True` to see the stack trace.\n"
     ]
    },
    {
     "name": "stdout",
     "output_type": "stream",
     "text": [
      "Average Metric: 0.00 / 0 (0%):   0%|                                                                                                 | 0/25 [00:00<?, ?it/s]"
     ]
    },
    {
     "name": "stderr",
     "output_type": "stream",
     "text": [
      "2025/01/11 18:03:25 ERROR dspy.utils.parallelizer: Error processing item Example({'topic': 'Learning Amazon Cognito', 'intro_video': \" - [Bear] Just about every app and website these days  \\n requires you to have an account and log in.  \\n Are you developing an app or website  \\n that needs the user to log in?  \\n If so, Cognito can be a great solution.  \\n Hi, I'm Bear Cahill, head binary sequencer at Brainwash Inc.  \\n In this course, we'll go over the general information  \\n on Cognito in AWS.  \\n We'll also go into detail of user pools and identity pools.  \\n We'll also cover some other areas of Cognito user management  \\n like running Lambda code triggered by Cognito actions.  \\n Let's get started.  \\n \\n\\n\"}) (input_keys={'topic', 'intro_video'}): Collection similarity_test already exists. Set `provide_traceback=True` to see the stack trace.\n"
     ]
    },
    {
     "name": "stdout",
     "output_type": "stream",
     "text": [
      "Average Metric: 0.00 / 0 (0%):   4%|███▌                                                                                     | 1/25 [00:00<00:03,  7.95it/s]"
     ]
    },
    {
     "name": "stderr",
     "output_type": "stream",
     "text": [
      "2025/01/11 18:03:25 ERROR dspy.utils.parallelizer: Error processing item Example({'topic': 'Sketch Essential Training: The Basics', 'intro_video': \" - Welcome to the LinkedIn course,  \\n Sketch essential training ,the basics.  \\n At the end of this video,  \\n you'll have an overview of what the course is about,  \\n as well as an expectation of what you're going  \\n to get out of it.  \\n This course is for anyone who wants to learn how to create  \\n digital products using Sketch,  \\n by the end of it,  \\n you should understand enough about the tool, to create,  \\n test and share digital design assets.  \\n We're going to go through the various features of Sketch  \\n by creating the elements that we need for mobile app,  \\n for a bicycle shop.  \\n We'll cover things like understanding the tool  \\n as well as how to use it to accomplish various design tasks.  \\n I'm Chimmy Kalu,  \\n and I create lovable products.  \\n Why don't you watch this course  \\n and learn how to use Sketch with me.  \\n \\n\\n\"}) (input_keys={'topic', 'intro_video'}): Collection 67a2669d-4a12-4540-86db-35fcff7beb08 already exists. Set `provide_traceback=True` to see the stack trace.\n",
      "2025/01/11 18:03:25 ERROR dspy.utils.parallelizer: Error processing item Example({'topic': 'Photoshop 2020 Essential Training: The Basics', 'intro_video': \" - [Julieanne] Photoshop is the industry standard  \\n for creative visual expression.  \\n Whether you're looking to pursue a career  \\n in design or photography, or you want to learn the tools  \\n to enhance your own image-making,  \\n then this LinkedIn Learning course is for you.  \\n My name's Julieanne Kost,  \\n and I've been working on the Photoshop team at Adobe  \\n for over 25 years.  \\n This series focuses on the essentials.  \\n We'll start by taking a look at how to open, navigate,  \\n and work with multiple images.  \\n Then we'll explore the Photoshop interface,  \\n quickly customizing it to take advantage  \\n of the tools that we use most often.  \\n Together we'll walk through the essentials  \\n of digital imaging, including bit depth,  \\n color space, file formats, and image size.  \\n We'll use the crop tool  \\n to straighten and transform photographs  \\n as well as apply the retouching tools  \\n to remove distracting elements.  \\n We're also going to cover  \\n the three most essential aspects of Photoshop:  \\n layers, selections, and masking.  \\n We'll work with smart objects and smart filters  \\n and apply nondestructive adjustments  \\n both globally and locally to our images.  \\n I'm excited to be your instructor,  \\n and I can't wait to share what I know about Photoshop.  \\n So let's dive in.  \\n \\n\\n\"}) (input_keys={'topic', 'intro_video'}): Collection similarity_test already exists. Set `provide_traceback=True` to see the stack trace.\n"
     ]
    },
    {
     "name": "stdout",
     "output_type": "stream",
     "text": [
      "Average Metric: 0.00 / 0 (0%):  12%|██████████▋                                                                              | 3/25 [00:00<00:02,  7.95it/s]"
     ]
    },
    {
     "name": "stderr",
     "output_type": "stream",
     "text": [
      "2025/01/11 18:03:25 ERROR dspy.utils.parallelizer: Error processing item Example({'topic': 'Learning Virtualization', 'intro_video': \" - [Martin] Hi, I'm Martin Guidry  \\n and welcome to Learning Virtualization.  \\n In this course, we'll look at the crucial concept  \\n behind today's virtualization technologies.  \\n I'll start by discussing several advantages  \\n and a few disadvantages of virtualization.  \\n Then, I'll show you how to use Microsoft Hyper-V  \\n and VMware Workstation  \\n to create and maintain virtual machines.  \\n We'll see how to choose  \\n the right virtualization technologies for your situation  \\n and how to prepare your existing IT infrastructure  \\n to accommodate virtualization.  \\n We'll cover all these features  \\n plus plenty of other tools and techniques.  \\n Now let's get started with learning virtualization.  \\n \\n\\n\"}) (input_keys={'topic', 'intro_video'}): Collection similarity_test already exists. Set `provide_traceback=True` to see the stack trace.\n"
     ]
    },
    {
     "name": "stdout",
     "output_type": "stream",
     "text": [
      "Average Metric: 0.00 / 0 (0%):  16%|██████████████▏                                                                          | 4/25 [00:00<00:02,  7.95it/s]"
     ]
    },
    {
     "name": "stderr",
     "output_type": "stream",
     "text": [
      "2025/01/11 18:03:25 ERROR dspy.utils.parallelizer: Error processing item Example({'topic': 'Generative AI for Product Managers', 'intro_video': \" - Ever wonder how GenAI can transform product management?  \\n Beyond just creating content like images or music,  \\n this advanced AI has the power to revolutionize  \\n the products you bring to life.  \\n Leveraging AI can enhance or amplify your impact  \\n throughout the entire product development lifecycle.  \\n But in what ways and when should you integrate AI  \\n into your workflow?  \\n Hello, I'm Marily Nika.  \\n I am an AI product lead in big tech companies  \\n like Meta and Google, with a passion  \\n for bringing AI products to life.  \\n Having ventured deep into AI for over a decade,  \\n I have identified the best ways and the best prompts  \\n for GenAI to make me a better PM.  \\n I now work smarter, faster,  \\n and launch better and more impactful products because of it.  \\n Join me now as we explore how AI  \\n can enhance your day-to-day as a product manager.  \\n \\n\\n\"}) (input_keys={'topic', 'intro_video'}): Collection e26f1529-5778-4e3b-82c0-64b92e8e85da already exists. Set `provide_traceback=True` to see the stack trace.\n"
     ]
    },
    {
     "name": "stdout",
     "output_type": "stream",
     "text": [
      "Average Metric: 0.00 / 0 (0%):  20%|█████████████████▊                                                                       | 5/25 [00:00<00:02,  7.95it/s]"
     ]
    },
    {
     "name": "stderr",
     "output_type": "stream",
     "text": [
      "2025/01/11 18:03:25 ERROR dspy.utils.parallelizer: Error processing item Example({'topic': 'Logo Development: Identity Design and Discovery', 'intro_video': \"- So many designers can draw a logo\\nthat looks great from a subjective viewpoint,\\nbut if you can demonstrate your ability\\nto craft a solution using objective information,\\nyour work will be vastly more valuable to your client.\\nLike much of anything we do in life,\\nthe results of our efforts are pretty highly influenced\\nby our level of preparation.\\nSounds a bit like the laws of physics,\\nbut let's modify it here to say that in branding\\nfor every action there's an opposite and equal reaction,\\nand it's so true.\\n\\nTo create an exceptional visual brand\\nor before diving headlong into any logo-designed project,\\nyou have to prepare through the process of discovery.\\nYou'll learn the five reasons an existing firm\\nseeks out a designer for rebranding\\nand how you can spot them\\nto make yourself a good candidate for the job.\\nOnce you start into a project,\\nwe'll discuss who all to talk to and what to ask.\\nWe'll do a dive into determining brand personality\\nand which of the five dimensions your client leans to.\\n\\nWe'll immerse ourselves in our client's field\\nand how to understand their processes, objectives,\\nand culture and those of their customers as well.\\nWe'll talk about creating a SWOT analysis\\nand how to visually audit your client's persona\\nand visual touchpoints.\\nHow to completely identify and review their competition\\nand adjacent fields and create snapshots of each.\\nAnd finally, we'll show you how to boil\\nall of this information into a design brief\\nto service your mutual roadmap\\nreplete with the results of your discovery\\nand listing out the objectives\\nto lead you to an exceptional logo.\\n\\nIn this course, I suspect one of the greatest discoveries\\nwill be the confidence you build in your clients\\nas you start your mission to build the foundation\\nfor an incredible visual identity.\\n\\n\"}) (input_keys={'topic', 'intro_video'}): Collection similarity_test already exists. Set `provide_traceback=True` to see the stack trace.\n"
     ]
    },
    {
     "name": "stdout",
     "output_type": "stream",
     "text": [
      "Average Metric: 0.00 / 0 (0%):  24%|█████████████████████▎                                                                   | 6/25 [00:00<00:02,  7.95it/s]"
     ]
    },
    {
     "name": "stderr",
     "output_type": "stream",
     "text": [
      "2025/01/11 18:03:25 ERROR dspy.utils.parallelizer: Error processing item Example({'topic': 'Tips for Learner Engagement', 'intro_video': \" - Are you having trouble engaging your learners?  \\n This course will reveal my seven simple  \\n and practical tips for increasing learner engagement.  \\n I'm Naphtali Bryant, a lover of learning  \\n and an expert in developing engaging learning.  \\n As we get started, reflect on these three questions.  \\n Where is your organization today?  \\n Where do you want it to be tomorrow?  \\n And how can you help it get there?  \\n This will help you maximize engagement  \\n and build the foundations for learning  \\n to create a competitive advantage in your organization.  \\n Are you ready for this?  \\n Let's get rolling.  \\n \\n\\n\"}) (input_keys={'topic', 'intro_video'}): Collection c8c9528e-bfdc-46aa-b234-f6319e4b1392 already exists. Set `provide_traceback=True` to see the stack trace.\n"
     ]
    },
    {
     "name": "stdout",
     "output_type": "stream",
     "text": [
      "Average Metric: 0.00 / 0 (0%):  28%|████████████████████████▉                                                                | 7/25 [00:00<00:02,  7.95it/s]"
     ]
    },
    {
     "name": "stderr",
     "output_type": "stream",
     "text": [
      "2025/01/11 18:03:25 ERROR dspy.utils.parallelizer: Error processing item Example({'topic': 'The BIM Execution Plan for Architects', 'intro_video': \"- Building information modeling has reinvented much\\nof how architectural projects are won and produced.\\nThere is not a solitary path\\nto BIM success within the industry,\\nand being a BIM leader requires flexibility.\\nTechnology is always advancing.\\nWe must all practice continual learning\\nin order to keep up.\\nThe number of BIM tools we have at our disposal\\nadvances daily.\\nNavigating those waters to lead a team towards efficiencies\\nand also fostering exploration\\nis a challenging, but rewarding, endeavor.\\n\\nIn my LinkedIn Learning course, I review\\nhow developing an architect's BIM execution plan\\ncan help structure your firm's BIM management\\nto bring consistency to your successes\\nwhile mitigating your challenges.\\nMy name is Megan Johnson.\\nI am the Director of BIM at ODELL Architects,\\nan international architectural firm\\nheadquartered in Charlotte, North Carolina.\\nI hope you join me as I discuss how developing this document\\ncan advance your firm's BIM approach\\nto get your firm to the next level.\\n\\n \\n\\n\"}) (input_keys={'topic', 'intro_video'}): Collection similarity_test already exists. Set `provide_traceback=True` to see the stack trace.\n"
     ]
    },
    {
     "name": "stdout",
     "output_type": "stream",
     "text": [
      "Average Metric: 0.00 / 0 (0%):  32%|████████████████████████████▍                                                            | 8/25 [00:00<00:02,  7.95it/s]"
     ]
    },
    {
     "name": "stderr",
     "output_type": "stream",
     "text": [
      "2025/01/11 18:03:25 INFO dspy.teleprompt.mipro_optimizer_v2: Score: 0.0 on minibatch of size 25 with parameters ['Predictor 0: Instruction 9', 'Predictor 0: Few-Shot Set 5'].\n",
      "2025/01/11 18:03:25 INFO dspy.teleprompt.mipro_optimizer_v2: Minibatch scores so far: [0.0, 0.0, 0.0, 0.0, 0.0, 0.0, 0.0]\n",
      "2025/01/11 18:03:25 INFO dspy.teleprompt.mipro_optimizer_v2: Full eval scores so far: [0.0]\n",
      "2025/01/11 18:03:25 INFO dspy.teleprompt.mipro_optimizer_v2: Best full score so far: 0.0\n",
      "2025/01/11 18:03:25 INFO dspy.teleprompt.mipro_optimizer_v2: ============================\n",
      "\n",
      "\n",
      "2025/01/11 18:03:25 INFO dspy.teleprompt.mipro_optimizer_v2: == Minibatch Trial 8 / 30 ==\n"
     ]
    },
    {
     "name": "stdout",
     "output_type": "stream",
     "text": [
      "Error in similarity calculation: Collection a7d1d6ab-3ad5-4e90-842a-c89a7d2f1b96 does not exist.\n",
      "Error in similarity calculation: Collection b9b51370-8b91-4033-8753-704bea88f3e6 does not exist.\n",
      "Error in similarity calculation: Collection 211a5c50-ad36-4b37-bd17-3691768f1c9f does not exist.\n",
      "Exception occurred: Collection similarity_test already exists\n"
     ]
    },
    {
     "name": "stderr",
     "output_type": "stream",
     "text": [
      "2025/01/11 18:03:25 INFO dspy.teleprompt.mipro_optimizer_v2: Evaluating the following candidate program...\n",
      "\n"
     ]
    },
    {
     "name": "stdout",
     "output_type": "stream",
     "text": [
      "Predictor 0\n",
      "i: Generate a markdown-formatted video transcript for the introduction of a course on the specified topic. The transcript should be approximately 250 words and should effectively communicate the course's purpose and content while engaging prospective students. Include a reasoning section that outlines the thought process behind the content creation, ensuring the introduction is relatable and applicable to real-world scenarios.\n",
      "p: Intro Video:\n",
      "\n",
      "\n",
      "  0%|                                                                                                                                | 0/25 [00:00<?, ?it/s]"
     ]
    },
    {
     "name": "stderr",
     "output_type": "stream",
     "text": [
      "2025/01/11 18:03:26 ERROR dspy.utils.parallelizer: Error processing item Example({'topic': 'Building a Portfolio with Adobe Portfolio', 'intro_video': ' - Hi, my name\\'s Rich Harrington.  \\n And in this course, we\\'re going to explore  \\n how to build a portfolio.  \\n We\\'ll be talking specifically about a tool  \\n called Adobe Portfolio that\\'s included  \\n with your Creative Cloud membership.  \\n This tool allows you to easily build a portfolio website,  \\n even if you know very little about web programming.  \\n In fact, it\\'s a WYSIWYG tool, what you see is what you get.  \\n And it\\'s got some great tie-ins to other Adobe apps.  \\n For example, if you\\'re already using services  \\n like Behance or you\\'re syncing your photos  \\n from Lightroom to the cloud,  \\n well they\\'re immediately ready to be added  \\n to your portfolio site.  \\n And if you\\'re sharing design aspects as well  \\n such as things that you\\'ve created  \\n in InDesign or Illustrator,  \\n well, those are going to go up to Behance  \\n and are ready to use as well.  \\n In this course, we\\'re going to focus on how  \\n to choose the right portfolio template and then put all  \\n of the pieces together to tell a story about you.  \\n We\\'ll start by taking a look at what Adobe Portfolio is,  \\n what it\\'s good for, and some of the limitations  \\n so you know what you can get done.  \\n It\\'s a very easy-to-use tool,  \\n but it does have a few limitations  \\n that you need to be aware of.  \\n We\\'ll also talk about choosing from one  \\n of the built-in templates, as well as how to customize it.  \\n Adobe Portfolio is template driven,  \\n a lot like a WordPress site.  \\n And there are several themes that you can choose from.  \\n It\\'s going to be a combination of your own personal style  \\n as well as what each theme supports.  \\n They have different designs and options.  \\n Plus you can go in and change things  \\n like the backgrounds, colors, and fonts.  \\n We\\'ll then explore how to add items  \\n to your portfolio website.  \\n We\\'ll cover both still images and graphic files using tools  \\n like Illustrator, Photoshop, and others.  \\n We\\'ll also show you how to add content  \\n from a third-party site with an embed code.  \\n We\\'ll talk about some organization strategies,  \\n how you can take things and collect them based  \\n upon different topics to make it easier for visitors  \\n to truly appreciate your work and explore it  \\n by going down into a category.  \\n I\\'ll also help you take full advantage  \\n of how you can customize your site.  \\n We\\'ll explore options like an \"about you\" page  \\n so people can find out more about you, the artist,  \\n as well as contact information  \\n and how to connect or follow on social media.  \\n I\\'ll then walk you through all the steps necessary  \\n to publish your website  \\n as well as show you how you can use your own custom  \\n domain name to further your branding.  \\n And we\\'ll talk about what happens  \\n in case your Creative Cloud membership lapses.  \\n How long are your files up there?  \\n How do you remove something  \\n if you no longer want to share it?  \\n I am going to walk you through the full capabilities  \\n of this tool and show you how you can get  \\n a great looking portfolio website.  \\n \\n\\n'}) (input_keys={'topic', 'intro_video'}): Collection similarity_test already exists. Set `provide_traceback=True` to see the stack trace.\n"
     ]
    },
    {
     "name": "stdout",
     "output_type": "stream",
     "text": [
      "Average Metric: 0.00 / 0 (0%):   0%|                                                                                                 | 0/25 [00:00<?, ?it/s]"
     ]
    },
    {
     "name": "stderr",
     "output_type": "stream",
     "text": [
      "2025/01/11 18:03:26 ERROR dspy.utils.parallelizer: Error processing item Example({'topic': 'Financial Record Keeping', 'intro_video': \" - Hi, I'm Jim Stice.  \\n I'm a professor of accounting at Brigham Young University.  \\n This is my brother, Kay.  \\n - I am also a professor of accounting  \\n at Brigham Young University.  \\n - We have been studying bookkeeping  \\n and financial recordkeeping  \\n since way back in our high school days.  \\n - Trust me, that represents many, many,  \\n many years of experience with financial recordkeeping.  \\n - Now, in our younger days,  \\n we even worked as bookkeepers  \\n in both old-fashioned paper-based systems  \\n and modern computerized systems.  \\n - And we've been teaching accounting  \\n to undergraduate students  \\n for a combined total of almost 70 years now.  \\n - Now, in this course,  \\n we will teach you about the importance  \\n of financial recordkeeping.  \\n - We will show you how to construct a set  \\n of forecasted financial statements  \\n as part of a quantitative business plan.  \\n - [Jim] We will also show you  \\n how even the most rudimentary financial records,  \\n handwritten notes on a piece of paper,  \\n can improve your business operations  \\n and make your decision-making process better.  \\n - Now, we've designed this financial recordkeeping course  \\n to be self-contained,  \\n and we carefully explain any terminology that we use.  \\n - In short, this is an introductory course  \\n with no prior accounting knowledge required.  \\n - So let's learn about financial recordkeeping,  \\n the processes and the reports.  \\n \\n\\n\"}) (input_keys={'topic', 'intro_video'}): Collection similarity_test already exists. Set `provide_traceback=True` to see the stack trace.\n"
     ]
    },
    {
     "name": "stdout",
     "output_type": "stream",
     "text": [
      "Average Metric: 0.00 / 0 (0%):   4%|███▌                                                                                     | 1/25 [00:00<00:01, 14.02it/s]"
     ]
    },
    {
     "name": "stderr",
     "output_type": "stream",
     "text": [
      "2025/01/11 18:03:26 ERROR dspy.utils.parallelizer: Error processing item Example({'topic': 'Microsoft Azure Developer Associate (AZ-204) Exam Tips', 'intro_video': \" - The cloud is a technology  \\n which is quickly becoming a key part in all of our lives.  \\n Five years ago, we, or at least I,  \\n might have associated the cloud  \\n mainly with an online place to store files.  \\n But it's become so much more than that.  \\n The cloud is now a key part  \\n in almost every industry worldwide.  \\n Gartner predicts that 80% of all mission critical  \\n or large scale workloads will rely on the cloud by 2025.  \\n There is an ever expanding range  \\n of services and technologies available,  \\n which support an almost inconceivable number  \\n of different scenarios.  \\n Hi, I'm Carmel Eve.  \\n I'm a developer  \\n and a Microsoft Certified Azure Developer Associate.  \\n I'd like you to join me for my course on LinkedIn Learning.  \\n We'll go through the AZ-204 exam together.  \\n We'll look at how it's structured  \\n and the areas you want to focus on  \\n as you prepare for Microsoft's AZ-204 Certification Exam.  \\n \\n\\n\"}) (input_keys={'topic', 'intro_video'}): Collection similarity_test already exists. Set `provide_traceback=True` to see the stack trace.\n"
     ]
    },
    {
     "name": "stdout",
     "output_type": "stream",
     "text": [
      "Average Metric: 0.00 / 0 (0%):   8%|███████                                                                                  | 2/25 [00:00<00:00, 27.07it/s]"
     ]
    },
    {
     "name": "stderr",
     "output_type": "stream",
     "text": [
      "2025/01/11 18:03:26 ERROR dspy.utils.parallelizer: Error processing item Example({'topic': 'Game Development Foundations: Game-Related Math', 'intro_video': \"- [Jesse] Hello, my name is Jesse Freeman,\\nand in Game Development Foundations: Game-Related Math,\\nwe're going to learn some common mathematical\\ntechniques for building your own games.\\nWhile the content of this course\\napplies to any programming language,\\nwe'll focus specifically on JavaScript\\nto keep the examples easy to follow.\\nIn this course, I'll cover laying out objects,\\nfrom centering them to drawing a grid.\\nNext, we'll cover basic point and bounding box\\ncollision detection, and finally,\\nwe'll wrap up with some commonly used formulas\\nfor displaying health, calculating XP,\\nand animating objects on the screen.\\n\\nI hope you enjoy this course\\nas much as I did making it.\\nNow let's get started.\\n\\n\"}) (input_keys={'topic', 'intro_video'}): Collection similarity_test already exists. Set `provide_traceback=True` to see the stack trace.\n"
     ]
    },
    {
     "name": "stdout",
     "output_type": "stream",
     "text": [
      "Average Metric: 0.00 / 0 (0%):  12%|██████████▋                                                                              | 3/25 [00:00<00:00, 39.86it/s]"
     ]
    },
    {
     "name": "stderr",
     "output_type": "stream",
     "text": [
      "2025/01/11 18:03:26 ERROR dspy.utils.parallelizer: Error processing item Example({'topic': 'How to Become a Project Management Entrepreneur', 'intro_video': \" - You might wonder how to build your career,  \\n as an entrepreneur, to last a lifetime  \\n or as long as you want to work.  \\n Becoming a project management entrepreneur is a project  \\n in its own right, which means you can put  \\n your project planning skills to work.  \\n Your planning begins with deciding what you want to do,  \\n whether you focus in an industry, project management role  \\n or project management tool.  \\n With that target in place,  \\n you can work on learning what you need to know,  \\n gaining experience to build your resume  \\n and obtaining certificates to validate your expertise.  \\n Once you begin working as an entrepreneur,  \\n you need to nurture your career in several ways.  \\n Marketing is key to get in work,  \\n and there are many ways to do that,  \\n from building a solid network, promoting the work you do  \\n and working with other organizations and individuals.  \\n In this course, we'll explore options  \\n for each step of your entrepreneurship journey  \\n so you can choose the approaches that fit your situation.  \\n Hi, I'm Seyi Kukoyi also known as Kuks.  \\n I'm an entrepreneur, educator and filmmaker.  \\n I also run a project management firm, Kuks & Co.  \\n My firm specializes in planning and controlling projects,  \\n delivering guidance to help navigate unforeseen delays  \\n and complete projects on time and within budget.  \\n If you're ready to get off the fence and begin your journey,  \\n I invite you to join me  \\n in my Project Management Entrepreneurship course.  \\n \\n\\n\"}) (input_keys={'topic', 'intro_video'}): Collection similarity_test already exists. Set `provide_traceback=True` to see the stack trace.\n"
     ]
    },
    {
     "name": "stdout",
     "output_type": "stream",
     "text": [
      "Average Metric: 0.00 / 0 (0%):  16%|██████████████▏                                                                          | 4/25 [00:00<00:00, 50.51it/s]"
     ]
    },
    {
     "name": "stderr",
     "output_type": "stream",
     "text": [
      "2025/01/11 18:03:26 ERROR dspy.utils.parallelizer: Error processing item Example({'topic': 'AWS Machine Learning: Building an Expense Tracker Using Amazon Textract', 'intro_video': \" - [Carlos] Machine learning has grown in popularity  \\n at a tremendous pace in the past five years,  \\n and it has brought plenty  \\n of technological advances in many areas.  \\n One of those areas is optical character recognition.  \\n Using Amazon Textract, a machine learning service,  \\n we can now analyze scanned documents  \\n and convert them to text and numbers  \\n in a fast and efficient way  \\n that consider not just characters  \\n but the layout of the original document.  \\n In this course  \\n we will use this amazing technology to analyze images  \\n of receipt and collect data that could be used  \\n to create an expense report.  \\n Hi, I'm Carlos Rivas  \\n and I'm a certified AWS solutions architect.  \\n Please join me in my LinkedIn Learning course  \\n as we build a serverless expense tracker  \\n that reads texts from images using Amazon Textract.  \\n I can't wait to show you how easy it is  \\n to implement this functionality using Python and AWS Lambda.  \\n So let's get started.  \\n \\n\\n\"}) (input_keys={'topic', 'intro_video'}): Collection 8ce51988-bcd7-4380-bbf3-460a5250fbef already exists. Set `provide_traceback=True` to see the stack trace.\n",
      "2025/01/11 18:03:26 ERROR dspy.utils.parallelizer: Error processing item Example({'topic': 'The Dumb Things Smart People Do with Their Money', 'intro_video': ' - [Narrator] Finding the time to learn  \\n proper money management can be tough,  \\n but poor financial planning can cost you  \\n a lot more than time in the long run.  \\n It can also cost you a lot of your hard earned cash.  \\n Take it from Jill Schlesinger, certified financial planner,  \\n business analyst for CBS News,  \\n and host of the hit radio show and podcast, \"Jill On Money.\"  \\n She\\'s watched even the world\\'s smartest financial pros  \\n make dumb money decisions.  \\n In this audio course,  \\n Jill presents five essential financial tools  \\n developed in her book,  \\n \"The Dumb Things Smart People Do With Their Money,\"  \\n published by Penguin Random House.  \\n These short 10 minute lessons  \\n will help you take control of your finances  \\n and avoid some of the most common pitfalls  \\n people make when it comes to money.  \\n \\n\\n'}) (input_keys={'topic', 'intro_video'}): Collection 56c6586b-2a15-4209-9870-d90190ddca8a already exists. Set `provide_traceback=True` to see the stack trace.\n"
     ]
    },
    {
     "name": "stdout",
     "output_type": "stream",
     "text": [
      "Average Metric: 0.00 / 0 (0%):  24%|█████████████████████▎                                                                   | 6/25 [00:00<00:00, 69.23it/s]"
     ]
    },
    {
     "name": "stderr",
     "output_type": "stream",
     "text": [
      "2025/01/11 18:03:26 ERROR dspy.utils.parallelizer: Error processing item Example({'topic': 'Facebook for Creative Pros', 'intro_video': ' - Hi, my name is Richard Harrington.  \\n And today we\\'re going to explore  \\n how to use Facebook  \\n as a marketing business tool,  \\n for those of you who work as photographers,  \\n video professionals  \\n or graphic designers,  \\n essentially a creative professional.  \\n Now you might be thinking,  \\n \"Well I\\'ve been using Facebook for a while.  \\n It\\'s not that hard.\"  \\n And you\\'re absolutely correct.  \\n Facebook of course  \\n is one of the easiest to use  \\n and most popular websites on the planet.  \\n But there is a lot of  \\n hidden power in there  \\n and a lot of great things  \\n to take advantage of.  \\n So in this course,  \\n I\\'m going to really help you  \\n unlock its potential  \\n by both sharing technical secrets  \\n as well as some business strategy.  \\n We\\'re going to take a look at Facebook  \\n for its evolution.  \\n How it transitioned from being  \\n about the individual,  \\n to truly being a business tool  \\n and some of the different things  \\n that can help you better engage  \\n with your customers  \\n or potential customers.  \\n We\\'ll also talk about  \\n connecting with both colleagues and clients  \\n and how you can use this  \\n as a networking tool.  \\n Obviously you\\'re probably relying  \\n upon LinkedIn is a great tool  \\n for keeping in touch with your network,  \\n but Facebook is another tool  \\n that you can use  \\n particularly people that  \\n you haven\\'t yet established  \\n a business relationship with.  \\n We\\'ll also talk about  \\n creating a company page,  \\n even if you\\'re an individual  \\n or a sole proprietor.  \\n Having a company page  \\n is a really good idea.  \\n There are certain tools,  \\n particularly with advertising  \\n and monetization  \\n that you\\'re going to need  \\n if you want to have a business presence.  \\n So I\\'ll walk you through how to do that.  \\n We\\'ll also talk about  \\n sharing work samples.  \\n Whether that\\'s photographs,  \\n videos, graphic design samples,  \\n I\\'ll share with you some strategies  \\n to optimize the content  \\n as well as why you might consider  \\n using some additional outside services  \\n to host it.  \\n We\\'ll also talk about  \\n strategy for sharing content  \\n including scheduling posts,  \\n as well as relying upon  \\n outside helper services  \\n that give you additional functionality  \\n on the Facebook platform.  \\n I\\'ll then show you  \\n how you can set up a project on Facebook  \\n using Project Management Principles  \\n and creating a group,  \\n so you can actually invite colleagues,  \\n coworkers or clients in  \\n for business collaboration.  \\n We\\'ll also discuss at a high level  \\n some of the advertising tools on Facebook  \\n that you could use  \\n and market or promote your business  \\n with paid ads.  \\n Then we\\'ll take a look at  \\n some of the things that are unique  \\n to the Mobile Facebook platform,  \\n giving you a few strategies  \\n for posting content on the go,  \\n so you can take your smartphone  \\n or tablet with you on location  \\n as you\\'re working  \\n and share behind the scenes moments  \\n or other great options  \\n that let people really get a glimpse  \\n of all the cool things you\\'re doing  \\n in your business.  \\n Now, before we jump in,  \\n I just want to tell you a little bit  \\n about my own background  \\n and relationship with using Facebook.  \\n I\\'ve been working for many years  \\n as a creative professional,  \\n particularly where photography  \\n and video intersect.  \\n This includes things like  \\n time-lapse animation  \\n and the ability to do motion graphics.  \\n I own a visual communications company  \\n that regularly produces  \\n professional video projects  \\n and photography projects  \\n for a wide range of corporate  \\n and enterprise customers  \\n but I\\'m also a husband and a father.  \\n And that\\'s part of what makes Facebook great.  \\n The ability to share your personality  \\n and connect with your friends  \\n and colleagues on a more personal level.  \\n To give you a little bit  \\n of additional background,  \\n I\\'ve written about 40 books through the years  \\n on topics like photography and video.  \\n Helping other creatives be more professional  \\n and extend the success of their business.  \\n I\\'ve also recorded and released  \\n more than 200 video classes  \\n to pass knowledge on.  \\n And I\\'m a big believer  \\n in sharing knowledge.  \\n Every day I publish to a website.  \\n And we routinely rely upon Facebook  \\n to reach our customers  \\n and to get that information out  \\n to more eyeballs.  \\n I also own more than one business  \\n at this point,  \\n a production company  \\n as well as an education company  \\n and a studio space.  \\n And this allows me to use Facebook  \\n to raise awareness for those businesses.  \\n Facebook, after all  \\n is all about the discovery process.  \\n Letting people find out more  \\n about what you do  \\n and become genuinely connected.  \\n I\\'m both a photographer and a video director  \\n and I want to keep in touch  \\n with friends and colleagues,  \\n as well as share the work that I\\'m creating.  \\n And Facebook is very well suited for that.  \\n But I do have a business background  \\n and particularly  \\n as a project management professional.  \\n As such, I tend to think about things  \\n a little bit differently  \\n than the average creative person.  \\n I love to create content  \\n and work with other creative pros  \\n but I\\'m also very strategic  \\n about my social media.  \\n So when I publish,  \\n I want to make sure  \\n that I\\'m getting maximum results.  \\n But doesn\\'t necessarily mean  \\n the most likes or eyeballs,  \\n but it does mean that  \\n I\\'m reaching the people that I need to.  \\n Now, speaking of reaching out,  \\n I invite you to connect on LinkedIn.  \\n I\\'m happy to connect  \\n with other creative professionals,  \\n through the LinkedIn network.  \\n But you\\'ll discover  \\n if you reach out on Facebook,  \\n I\\'m not going to connect with you.  \\n And that\\'s part of the process.  \\n We\\'re going to talk about  \\n using a curated approach  \\n to how many connections you have,  \\n so you can use Facebook  \\n to be more effective  \\n with the business relationships  \\n and the personal relationships  \\n that you want to maintain.  \\n Now that might seem  \\n a little counterintuitive  \\n but as you start  \\n you\\'re going to see a different approach  \\n and that I connect with people  \\n that I\\'m already doing business with  \\n or strategically that I want to do  \\n more business with,  \\n as well as of course  \\n friends and colleagues  \\n that are part of my bigger support network.  \\n As such, I use Facebook  \\n as a very personal tool for engagement.  \\n And I\\'m going to share this strategy with you.  \\n I do occasionally use it  \\n for some mass publishing  \\n so that our website photo focus  \\n reaches as many people as possible.  \\n So I\\'ll be able to show you  \\n that approach as well,  \\n if you need to reach a big audience.  \\n So I use Facebook multiple ways.  \\n And instead of just staring at the page,  \\n wondering what to post,  \\n let\\'s give you some ideas  \\n on how you could really understand  \\n how to use Facebook as a platform  \\n to connect with your current customers  \\n and so you can use it  \\n to help you find new customers.  \\n \\n\\n'}) (input_keys={'topic', 'intro_video'}): Collection similarity_test already exists. Set `provide_traceback=True` to see the stack trace.\n"
     ]
    },
    {
     "name": "stdout",
     "output_type": "stream",
     "text": [
      "Average Metric: 0.00 / 0 (0%):  28%|████████████████████████▉                                                                | 7/25 [00:00<00:00, 79.69it/s]"
     ]
    },
    {
     "name": "stderr",
     "output_type": "stream",
     "text": [
      "2025/01/11 18:03:26 ERROR dspy.utils.parallelizer: Error processing item Example({'topic': 'Photoshop 2025 Essential Training', 'intro_video': \"- Whether you're dreaming of a career\\nin design or photography,\\nor you just want to spice up your own creative projects,\\nyou're in the right place.\\nIn this course, we'll start with the basics,\\nlike how to open and navigate and work with multiple images.\\nWe'll use Camera Raw to enhance colors, tones, and contrast,\\nwork with profiles and presets,\\nand use masking to isolate\\nand enhance selective areas in an image\\nand remove distracting elements.\\nYou'll learn how to work with Smart Objects and filters,\\nexplore Generative Fill and Expand,\\nand add text and effects.\\n\\nWe'll even touch on using libraries,\\nartboards, and animations.\\nI'm Julieanne Kost.\\nI've been a part of the Photoshop Team in Adobe\\nfor over 25 years,\\nand I can't wait to share my passion\\nfor this incredible tool with you.\\nSo let's jump in and get started.\\n\"}) (input_keys={'topic', 'intro_video'}): Collection similarity_test already exists. Set `provide_traceback=True` to see the stack trace.\n"
     ]
    },
    {
     "name": "stdout",
     "output_type": "stream",
     "text": [
      "Average Metric: 0.00 / 0 (0%):  32%|████████████████████████████▍                                                            | 8/25 [00:00<00:00, 89.23it/s]"
     ]
    },
    {
     "name": "stderr",
     "output_type": "stream",
     "text": [
      "2025/01/11 18:03:26 INFO dspy.teleprompt.mipro_optimizer_v2: Score: 0.0 on minibatch of size 25 with parameters ['Predictor 0: Instruction 7', 'Predictor 0: Few-Shot Set 4'].\n",
      "2025/01/11 18:03:26 INFO dspy.teleprompt.mipro_optimizer_v2: Minibatch scores so far: [0.0, 0.0, 0.0, 0.0, 0.0, 0.0, 0.0, 0.0]\n",
      "2025/01/11 18:03:26 INFO dspy.teleprompt.mipro_optimizer_v2: Full eval scores so far: [0.0]\n",
      "2025/01/11 18:03:26 INFO dspy.teleprompt.mipro_optimizer_v2: Best full score so far: 0.0\n",
      "2025/01/11 18:03:26 INFO dspy.teleprompt.mipro_optimizer_v2: ============================\n",
      "\n",
      "\n",
      "2025/01/11 18:03:26 INFO dspy.teleprompt.mipro_optimizer_v2: == Minibatch Trial 9 / 30 ==\n",
      "2025/01/11 18:03:26 INFO dspy.teleprompt.mipro_optimizer_v2: Evaluating the following candidate program...\n",
      "\n"
     ]
    },
    {
     "name": "stdout",
     "output_type": "stream",
     "text": [
      "Error in similarity calculation: Collection 459523fc-85ba-47c5-80f0-2b62dd46aba3 does not exist.\n",
      "Error in similarity calculation: Collection 37f61ae6-06ec-4850-8c19-0ffe898f0f30 does not exist.\n",
      "Error in similarity calculation: Collection 92622ac1-a2e0-4440-b424-5bf02a81f601 does not exist.\n",
      "Error in similarity calculation: Collection c045661d-03cd-49c3-b68a-d24f3c0d842f does not exist.\n",
      "Error in similarity calculation: Collection ebdb5f42-a6fc-4e0c-a07e-1c138996fa50 does not exist.\n",
      "Exception occurred: Collection similarity_test already exists\n",
      "Predictor 0\n",
      "i: Write a video transcript for the intro video to a course on a given topic.\n",
      "p: Intro Video:\n",
      "\n",
      "\n",
      "  0%|                                                                                                                                | 0/25 [00:00<?, ?it/s]Error in similarity calculation: Collection 5e85d86d-fdea-494d-9369-0829dd191bda does not exist.\n",
      "Average Metric: 0.00 / 1 (0.0%):   4%|███▍                                                                                   | 1/25 [00:05<02:19,  5.80s/it]Error in similarity calculation: Collection 1b37d5ba-6f53-45c7-9a6c-0327def6d8bf does not exist.\n",
      "Average Metric: 0.00 / 3 (0.0%):  12%|██████████▍                                                                            | 3/25 [00:05<00:33,  1.55s/it]Error in similarity calculation: Collection a2547393-1839-4700-9e0b-35f479728e8e not found\n",
      "Average Metric: 0.00 / 7 (0.0%):  28%|████████████████████████▎                                                              | 7/25 [00:06<00:10,  1.70it/s]Error in similarity calculation: Collection 6720493f-d1c5-4da8-a655-09b77853ba77 does not exist.\n",
      "Average Metric: 0.00 / 8 (0.0%):  32%|███████████████████████████▊                                                           | 8/25 [00:07<00:09,  1.78it/s]Error in similarity calculation: Collection b2e7db11-67a4-487e-ba7c-10c08545060f does not exist.\n",
      "Average Metric: 0.00 / 10 (0.0%):  36%|██████████████████████████████▉                                                       | 9/25 [00:07<00:08,  1.78it/s]Error in similarity calculation: Collection 9a535fbd-91df-4dd5-b2e9-4d04e3edb2ff does not exist.\n",
      "Average Metric: 0.00 / 11 (0.0%):  44%|█████████████████████████████████████▍                                               | 11/25 [00:07<00:04,  3.25it/s]Error in similarity calculation: Collection 77227ae3-3567-4676-97fa-d8ae17b0e5e2 does not exist.\n",
      "Average Metric: 0.00 / 12 (0.0%):  44%|█████████████████████████████████████▍                                               | 11/25 [00:07<00:04,  3.25it/s]Error in similarity calculation: Collection 584f9ccf-4c62-4a67-86c0-c18b4aa5e1be does not exist.\n",
      "Average Metric: 0.00 / 14 (0.0%):  56%|███████████████████████████████████████████████▌                                     | 14/25 [00:07<00:02,  5.07it/s]Error in similarity calculation: Collection 1d3c5723-ee11-4baa-a404-d2970a299c45 does not exist.\n",
      "Average Metric: 0.00 / 15 (0.0%):  56%|███████████████████████████████████████████████▌                                     | 14/25 [00:07<00:02,  5.07it/s]Error in similarity calculation: Collection 81da7cea-f37e-4309-9721-fbadb7f4cdad does not exist.\n",
      "Average Metric: 0.00 / 16 (0.0%):  60%|███████████████████████████████████████████████████                                  | 15/25 [00:07<00:01,  5.07it/s]Error in similarity calculation: Collection 008da61a-8bc9-49f5-9ccf-3d7021fa7ba4 does not exist.\n",
      "Average Metric: 0.00 / 17 (0.0%):  64%|██████████████████████████████████████████████████████▍                              | 16/25 [00:07<00:01,  5.07it/s]Error in similarity calculation: Collection 1549aec7-2413-4f11-97c5-7d70d634648e does not exist.\n",
      "Average Metric: 0.00 / 18 (0.0%):  68%|█████████████████████████████████████████████████████████▊                           | 17/25 [00:07<00:01,  5.07it/s]"
     ]
    },
    {
     "name": "stderr",
     "output_type": "stream",
     "text": [
      "2025/01/11 18:03:34 ERROR dspy.utils.parallelizer: Error processing item Example({'topic': 'Photoshop: Creative Lab Color', 'intro_video': \"- [Harold] Folks often ask me why my landscapes,\\ntravel images, and abstracts are so colorful and vibrant.\\nOf course, part of that answer is that\\none needs to understand and work with light,\\nbe in the right time and the right place\\nwith one's camera when the light is right,\\nbut to some extent, in the case of my imagery,\\nthe answer is via LAB color adjustment in post-production.\\nWhat my images all have in common\\nis that they use LAB color to enhance, sharpen, invert,\\nor to make a whole new genre and category of wild imagery.\\n\\nThe creative potential of LAB color is so much greater\\nthan retouching and conventional color adjustments,\\nwhich is normally thought to be the bailiwick of LAB.\\nBy the way, to be technically correct,\\nthe term is really L-A-B color\\nwith each separate letter pronounced,\\nbut many of us who work with LAB just use the shortcut\\nLAB color.\\nLAB is something of a forgotten backwater of Photoshop\\nin popular perception,\\nbut it's hard to exaggerate the creative power\\nof LAB techniques in Photoshop,\\nparticularly as I'll show you when those LAB techniques\\nare combined with Photoshop's blending modes.\\n\\nIt's therefore my great and extraordinary pleasure\\nto be your guide into one of my very favorite\\npost-production toolkits in Photoshop\\ninto the power, grace, and style of LAB color.\\nI'll start by explaining how LAB fits in\\nwith the other color schemes called color spaces,\\nand the concepts behind LAB color.\\nPretty quickly from there,\\nwe'll move on to LAB's implementation in Photoshop,\\nLAB in relationship to your individual workflow,\\nand how to use LAB color to enhance your images\\nin a number of different specific ways.\\n\\nAll this would be good enough reason to master LAB,\\nbut the icing on the cake is the entirely new framework\\nthat LAB presents for creative image making.\\n \\n\\n\"}) (input_keys={'topic', 'intro_video'}): Collection similarity_test already exists. Set `provide_traceback=True` to see the stack trace.\n"
     ]
    },
    {
     "name": "stdout",
     "output_type": "stream",
     "text": [
      "Average Metric: 0.00 / 18 (0.0%):  76%|████████████████████████████████████████████████████████████████▌                    | 19/25 [00:07<00:00,  8.23it/s]Error in similarity calculation: Collection 56a645a8-bee9-425c-98fe-0a59484c1858 does not exist.\n",
      "Average Metric: 0.00 / 19 (0.0%):  76%|████████████████████████████████████████████████████████████████▌                    | 19/25 [00:07<00:00,  8.23it/s]Error in similarity calculation: Collection e2639072-7ab9-4eee-8701-dab1f48fd440 does not exist.\n",
      "Average Metric: 0.00 / 24 (0.0%): 100%|█████████████████████████████████████████████████████████████████████████████████████| 25/25 [00:13<00:00,  1.82it/s]"
     ]
    },
    {
     "name": "stderr",
     "output_type": "stream",
     "text": [
      "2025/01/11 18:03:40 INFO dspy.evaluate.evaluate: Average Metric: 0.0 / 25 (0.0%)\n",
      "2025/01/11 18:03:40 INFO dspy.teleprompt.mipro_optimizer_v2: Score: 0.0 on minibatch of size 25 with parameters ['Predictor 0: Instruction 0', 'Predictor 0: Few-Shot Set 7'].\n",
      "2025/01/11 18:03:40 INFO dspy.teleprompt.mipro_optimizer_v2: Minibatch scores so far: [0.0, 0.0, 0.0, 0.0, 0.0, 0.0, 0.0, 0.0, 0.0]\n",
      "2025/01/11 18:03:40 INFO dspy.teleprompt.mipro_optimizer_v2: Full eval scores so far: [0.0]\n",
      "2025/01/11 18:03:40 INFO dspy.teleprompt.mipro_optimizer_v2: Best full score so far: 0.0\n",
      "2025/01/11 18:03:40 INFO dspy.teleprompt.mipro_optimizer_v2: ============================\n",
      "\n",
      "\n",
      "2025/01/11 18:03:40 INFO dspy.teleprompt.mipro_optimizer_v2: == Minibatch Trial 10 / 30 ==\n",
      "2025/01/11 18:03:40 INFO dspy.teleprompt.mipro_optimizer_v2: Evaluating the following candidate program...\n",
      "\n"
     ]
    },
    {
     "name": "stdout",
     "output_type": "stream",
     "text": [
      "\n",
      "Predictor 0\n",
      "i: Generate a markdown-formatted video transcript of approximately 250 words for the introduction of a course on the specified topic, ensuring it is engaging and informative while clearly communicating the course's purpose and content to prospective students.\n",
      "p: Intro Video:\n",
      "\n",
      "\n",
      "Average Metric: 0.00 / 3 (0.0%):   8%|██████▉                                                                                | 2/25 [00:03<00:33,  1.45s/it]"
     ]
    },
    {
     "name": "stderr",
     "output_type": "stream",
     "text": [
      "2025/01/11 18:03:44 ERROR dspy.utils.parallelizer: Error processing item Example({'topic': 'macOS for IT Administrators', 'intro_video': \" - [Instructor] You've been airdropped into a digital forest.  \\n You don't know where anything is,  \\n but you need to learn quickly.  \\n Many IT administrators recently tasked with a fleet  \\n of macOS systems feel just like this.  \\n As your guide to get you out of the forest  \\n there are some things I'm actually excited  \\n to show you along the way.  \\n I'm most excited about what the new sidecar feature opens up  \\n for portability with the macOS.  \\n The new Enterprise SSO enables bind less active directory  \\n and Apple's integration with cloud based authentication  \\n services enables in application authentication  \\n in ways never possible before.  \\n Every admin needs to understand MDM  \\n and how to use it to efficiency manage Apple technology.  \\n Caching is a double bladed sword you need to master.  \\n It can bring down a network if not controlled  \\n and save your entire network from floods of data  \\n if deployed properly.  \\n Hi, I'm Sean Colins.  \\n I've had a long and interesting relationship  \\n with macOS and Apple.  \\n I'm excited to share the best practices I've learned,  \\n and the changes I've discovered.  \\n Join me on my LinkedIn Learning course,  \\n specifically geared toward IT admin for macOS.  \\n \\n\\n\"}) (input_keys={'topic', 'intro_video'}): Collection similarity_test already exists. Set `provide_traceback=True` to see the stack trace.\n"
     ]
    },
    {
     "name": "stdout",
     "output_type": "stream",
     "text": [
      "Average Metric: 0.00 / 3 (0.0%):  16%|█████████████▉                                                                         | 4/25 [00:03<00:12,  1.66it/s]Error in similarity calculation: Collection 97219222-1daf-4070-80e9-208e21557da5 does not exist.\n",
      "Average Metric: 0.00 / 4 (0.0%):  16%|█████████████▉                                                                         | 4/25 [00:03<00:12,  1.66it/s]Error in similarity calculation: Collection 9afaf1c2-5f47-451a-8ee7-c5a4e9f9a36a does not exist.\n",
      "Average Metric: 0.00 / 5 (0.0%):  20%|█████████████████▍                                                                     | 5/25 [00:03<00:12,  1.66it/s]Error in similarity calculation: Collection 1957c2aa-bda5-411c-90ad-7d0ca554b8e0 does not exist.\n",
      "Average Metric: 0.00 / 6 (0.0%):  24%|████████████████████▉                                                                  | 6/25 [00:03<00:11,  1.66it/s]Error in similarity calculation: Collection 7759e991-06aa-40ea-8db7-142bd7fe785e does not exist.\n",
      "Average Metric: 0.00 / 7 (0.0%):  28%|████████████████████████▎                                                              | 7/25 [00:03<00:10,  1.66it/s]Error in similarity calculation: Collection 375fa841-6d54-4154-bc12-cf41488a5e3d does not exist.\n",
      "Average Metric: 0.00 / 8 (0.0%):  36%|███████████████████████████████▎                                                       | 9/25 [00:03<00:03,  4.89it/s]Error in similarity calculation: Collection e3728954-62b3-49dc-bf0e-e23aae895950 does not exist.\n",
      "Average Metric: 0.00 / 9 (0.0%):  36%|███████████████████████████████▎                                                       | 9/25 [00:03<00:03,  4.89it/s]Error in similarity calculation: Collection 65d8902d-8b50-4831-9ba8-cd605415e6c0 does not exist.\n",
      "Average Metric: 0.00 / 10 (0.0%):  40%|██████████████████████████████████                                                   | 10/25 [00:03<00:03,  4.89it/s]Error in similarity calculation: Collection c253f739-d3e6-4895-8718-613a7d28f2e2 does not exist.\n",
      "Average Metric: 0.00 / 11 (0.0%):  44%|█████████████████████████████████████▍                                               | 11/25 [00:03<00:02,  4.89it/s]Error in similarity calculation: Collection 3466847a-54b3-4b58-9f31-779416cfb03d does not exist.\n",
      "Average Metric: 0.00 / 12 (0.0%):  52%|████████████████████████████████████████████▏                                        | 13/25 [00:03<00:01,  7.33it/s]Error in similarity calculation: Collection d1326393-1094-4d1d-ac0d-6f7819421ef3 does not exist.\n",
      "Average Metric: 0.00 / 13 (0.0%):  52%|████████████████████████████████████████████▏                                        | 13/25 [00:03<00:01,  7.33it/s]Error in similarity calculation: Collection 04cce5d0-b9ba-4ea2-b205-3198052dd134 does not exist.\n",
      "Average Metric: 0.00 / 15 (0.0%):  64%|██████████████████████████████████████████████████████▍                              | 16/25 [00:04<00:00,  9.56it/s]Error in similarity calculation: Collection 8315cc30-b5bf-47f1-9a19-e56a65b3bb74 does not exist.\n",
      "Average Metric: 0.00 / 16 (0.0%):  64%|██████████████████████████████████████████████████████▍                              | 16/25 [00:04<00:00,  9.56it/s]Error in similarity calculation: Collection 5673e312-1acf-4b89-8a02-6bb65f9a2de8 does not exist.\n",
      "Average Metric: 0.00 / 17 (0.0%):  68%|█████████████████████████████████████████████████████████▊                           | 17/25 [00:04<00:00,  9.56it/s]Error in similarity calculation: Collection c1454441-ee3d-48f8-8e8d-7da9074cd864 does not exist.\n",
      "Average Metric: 0.00 / 18 (0.0%):  72%|█████████████████████████████████████████████████████████████▏                       | 18/25 [00:04<00:00,  9.56it/s]Error in similarity calculation: Collection 236d5ee8-beb8-48d7-b423-a5c8a6899d69 does not exist.\n",
      "Average Metric: 0.00 / 19 (0.0%):  80%|████████████████████████████████████████████████████████████████████                 | 20/25 [00:04<00:00, 12.98it/s]Error in similarity calculation: Collection 952bd8d7-68c3-4e6b-b30f-80fd2e51aa89 does not exist.\n",
      "Average Metric: 0.00 / 24 (0.0%): 100%|█████████████████████████████████████████████████████████████████████████████████████| 25/25 [00:07<00:00,  3.34it/s]"
     ]
    },
    {
     "name": "stderr",
     "output_type": "stream",
     "text": [
      "2025/01/11 18:03:48 INFO dspy.evaluate.evaluate: Average Metric: 0.0 / 25 (0.0%)\n",
      "2025/01/11 18:03:48 INFO dspy.teleprompt.mipro_optimizer_v2: Score: 0.0 on minibatch of size 25 with parameters ['Predictor 0: Instruction 9', 'Predictor 0: Few-Shot Set 7'].\n",
      "2025/01/11 18:03:48 INFO dspy.teleprompt.mipro_optimizer_v2: Minibatch scores so far: [0.0, 0.0, 0.0, 0.0, 0.0, 0.0, 0.0, 0.0, 0.0, 0.0]\n",
      "2025/01/11 18:03:48 INFO dspy.teleprompt.mipro_optimizer_v2: Full eval scores so far: [0.0]\n",
      "2025/01/11 18:03:48 INFO dspy.teleprompt.mipro_optimizer_v2: Best full score so far: 0.0\n",
      "2025/01/11 18:03:48 INFO dspy.teleprompt.mipro_optimizer_v2: =============================\n",
      "\n",
      "\n",
      "2025/01/11 18:03:48 INFO dspy.teleprompt.mipro_optimizer_v2: ===== Full Eval 1 =====\n",
      "2025/01/11 18:03:48 INFO dspy.teleprompt.mipro_optimizer_v2: Doing full eval on next top averaging program (Avg Score: 0.0) from minibatch trials...\n"
     ]
    },
    {
     "name": "stdout",
     "output_type": "stream",
     "text": [
      "\n",
      "  0%|                                                                                                                                | 0/80 [00:00<?, ?it/s]"
     ]
    },
    {
     "name": "stderr",
     "output_type": "stream",
     "text": [
      "2025/01/11 18:03:48 ERROR dspy.utils.parallelizer: Error processing item Example({'topic': 'Learning Pix4D Drone Mapping', 'intro_video': \"- [Paul] Drones seem like fun toys to some,\\nbut did you know that you can build a robust business\\naround this technology?\\nIn fact, drone work is a significant part\\nof my business\\nand keeps my employees employed full time\\nwith no end in sight to clients requesting this service.\\nIt's one thing to fly a drone around,\\nbut it's entirely another thing\\nto be able to produce something\\nthat brings so much value and is so specialized\\nthat a successful business can be built around it.\\nI'm talking about drone mapping,\\nand in this course, you will learn the fundamentals\\nof using one of the most powerful\\ndrone mapping software platforms in the world, Pix4D.\\n\\nPix4D is a powerful photogrammetry software.\\nIt's tool set allows for mapping projects\\nfrom built objects to agriculture and terrain,\\nand it can process thousands of images\\ninto usable and measurable 3D models\\nfor a wide variety of industries.\\nIn my LinkedIn Learning course,\\nI dive into the Pix4D tools\\nthat will bring the power of Pix4D to life,\\nand the skills I share can be applied\\nto a wide variety of drone mapping projects.\\nSo join me, Paul Tice,\\na certified Pix4D user and thermographer\\nin my course on Pix4D Drone Mapping.\\n\\n \\n\\n\"}) (input_keys={'topic', 'intro_video'}): Collection similarity_test already exists. Set `provide_traceback=True` to see the stack trace.\n"
     ]
    },
    {
     "name": "stdout",
     "output_type": "stream",
     "text": [
      "Average Metric: 0.00 / 0 (0%):   1%|█                                                                                        | 1/80 [00:00<00:13,  5.67it/s]"
     ]
    },
    {
     "name": "stderr",
     "output_type": "stream",
     "text": [
      "2025/01/11 18:03:48 ERROR dspy.utils.parallelizer: Error processing item Example({'topic': 'macOS for IT Administrators', 'intro_video': \" - [Instructor] You've been airdropped into a digital forest.  \\n You don't know where anything is,  \\n but you need to learn quickly.  \\n Many IT administrators recently tasked with a fleet  \\n of macOS systems feel just like this.  \\n As your guide to get you out of the forest  \\n there are some things I'm actually excited  \\n to show you along the way.  \\n I'm most excited about what the new sidecar feature opens up  \\n for portability with the macOS.  \\n The new Enterprise SSO enables bind less active directory  \\n and Apple's integration with cloud based authentication  \\n services enables in application authentication  \\n in ways never possible before.  \\n Every admin needs to understand MDM  \\n and how to use it to efficiency manage Apple technology.  \\n Caching is a double bladed sword you need to master.  \\n It can bring down a network if not controlled  \\n and save your entire network from floods of data  \\n if deployed properly.  \\n Hi, I'm Sean Colins.  \\n I've had a long and interesting relationship  \\n with macOS and Apple.  \\n I'm excited to share the best practices I've learned,  \\n and the changes I've discovered.  \\n Join me on my LinkedIn Learning course,  \\n specifically geared toward IT admin for macOS.  \\n \\n\\n\"}) (input_keys={'topic', 'intro_video'}): Collection similarity_test already exists. Set `provide_traceback=True` to see the stack trace.\n"
     ]
    },
    {
     "name": "stdout",
     "output_type": "stream",
     "text": [
      "Average Metric: 0.00 / 0 (0%):   1%|█                                                                                        | 1/80 [00:00<00:13,  5.67it/s]"
     ]
    },
    {
     "name": "stderr",
     "output_type": "stream",
     "text": [
      "2025/01/11 18:03:48 ERROR dspy.utils.parallelizer: Error processing item Example({'topic': 'Build a Career You Love No Matter the Market', 'intro_video': \" (light upbeat music) - Almost 80% of the planet  \\n is disengaged or actively disengaged at work  \\n according to Gallup.  \\n And I hear this as bored to miserable or worse,  \\n and these statistics have been horrible for years.  \\n On the one hand,  \\n this costs companies billions in lost productivity.  \\n More importantly though,  \\n what about the human potential that could be unleashed,  \\n including and especially your own,  \\n if there were a better way?  \\n The great news is that there is.  \\n I'm Elatia Abate,  \\n a futurist who specializes  \\n in designing and creating the future of work.  \\n So if you want to be more fulfilled  \\n and better prepared for this future,  \\n then let's build a career you love,  \\n no matter the market.  \\n (light upbeat music fades)  \\n \\n\\n\"}) (input_keys={'topic', 'intro_video'}): Collection similarity_test already exists. Set `provide_traceback=True` to see the stack trace.\n",
      "2025/01/11 18:03:48 ERROR dspy.utils.parallelizer: Error processing item Example({'topic': 'Building RESTful Web APIs with Django', 'intro_video': \"- [Rudolf] REST APIs are everywhere.\\nThey are used ever day by front-end web apps\\nand smart phone mobile apps.\\nHave you ever wanted to create your own REST API\\nthat can power an Android, iPhone, and web app,\\nsuch as an e-commerce store?\\nWith Django REST framework,\\nwe can create that REST API backend.\\nDjango REST framework enables rapid prototyping,\\nso you will get up and running quickly,\\nwith model serialization, validation,\\nsearching and filtering of data, and unit testing.\\nHi, I'm Rudolf Olah,\\nI've been working with Python projects for over 10 years\\nand have been using Django since version 0.96.\\n\\nLet's get started.\\n\"}) (input_keys={'topic', 'intro_video'}): Collection 5ed3faac-696c-4fd4-b2d2-b1c7992cc799 already exists. Set `provide_traceback=True` to see the stack trace.\n"
     ]
    },
    {
     "name": "stdout",
     "output_type": "stream",
     "text": [
      "Error in similarity calculation: Collection b9b94a9d-3e9d-424d-a187-2a9bac700da4 does not exist.\n",
      "Average Metric: 0.00 / 0 (0%):   4%|███▎                                                                                     | 3/80 [00:00<00:13,  5.67it/s]"
     ]
    },
    {
     "name": "stderr",
     "output_type": "stream",
     "text": [
      "2025/01/11 18:03:48 ERROR dspy.utils.parallelizer: Error processing item Example({'topic': 'Connecting with Your Audience Using Video', 'intro_video': \" - Google says that close to 50% of people look for a video  \\n before they buy a product.  \\n Whether your goal is to build a community  \\n or sell a product or service, you should be on video.  \\n Video can be educating and entertaining,  \\n but above all it creates trust between you,  \\n your audience and community.  \\n Everyone wants to be heard,  \\n but in such a noisy world  \\n we're often not listening to one another.  \\n We're communicating, but we're not really connecting.  \\n Now, how is that possible when we live in a world  \\n that seems infinitely connected?  \\n We spend a lot of time interacting online,  \\n but we connect with people and businesses  \\n when we seek to listen, understand  \\n and find shared experiences or commonalities.  \\n Video can be the key to connection and understanding.  \\n Hi, I'm Jaime Cohen, creator of The Right Words.  \\n I'm a speaker, communication coach and advisor.  \\n I teach you how to level up your communication skills  \\n so that you can connect more deeply during any interaction.  \\n In this course you're going to learn about  \\n the power of video,  \\n and how to use it to connect with your audience,  \\n and grow and engage your community.  \\n I am very passionate about the use of video,  \\n especially on LinkedIn,  \\n because video has been a game changer for me.  \\n It has led to numerous speaking engagements  \\n and invitations to present at summits across the world.  \\n But most importantly,  \\n LinkedIn has helped me build a community  \\n of tens of thousands of incredible individuals  \\n and to launch a business I love.  \\n This is something I want for you, too.  \\n Join me on LinkedIn Learning to learn to use LinkedIn video  \\n to reach your personal and professional goals.  \\n Let's get started.  \\n \\n\\n\"}) (input_keys={'topic', 'intro_video'}): Collection similarity_test already exists. Set `provide_traceback=True` to see the stack trace.\n"
     ]
    },
    {
     "name": "stdout",
     "output_type": "stream",
     "text": [
      "Average Metric: 0.00 / 0 (0%):   5%|████▍                                                                                    | 4/80 [00:00<00:13,  5.67it/s]"
     ]
    },
    {
     "name": "stderr",
     "output_type": "stream",
     "text": [
      "2025/01/11 18:03:48 ERROR dspy.utils.parallelizer: Error processing item Example({'topic': 'Marketing on Facebook: Managing a Company Page', 'intro_video': \" - [Megan] It's important to stay consistent,  \\n create compelling content,  \\n and spark conversation on your company Facebook page.  \\n Your Facebook company page  \\n is one of the cornerstones of your online identity.  \\n My name's Megan Adams.  \\n I'm a social media strategist  \\n who's helped thousands of businesses  \\n from big to small understand  \\n how they can leverage their company page  \\n to meet their business and marketing goals.  \\n I'm going to teach you  \\n how to manage your company Facebook page effectively  \\n and efficiently to help you meet your business  \\n and marketing goals, and to make your job a lot easier.  \\n Let's dive in.  \\n \\n\\n\"}) (input_keys={'topic', 'intro_video'}): Collection similarity_test already exists. Set `provide_traceback=True` to see the stack trace.\n"
     ]
    },
    {
     "name": "stdout",
     "output_type": "stream",
     "text": [
      "Error in similarity calculation: Collection 15b23346-b05c-4c84-8514-45a64c28b293 does not exist.\n",
      "Average Metric: 0.00 / 1 (0.0%):   8%|██████▌                                                                                | 6/80 [00:00<00:03, 20.15it/s]Error in similarity calculation: Collection 0b5cd071-7e8e-496e-b5cf-5d12a6168be8 does not exist.\n",
      "Average Metric: 0.00 / 3 (0.0%):  10%|████████▋                                                                              | 8/80 [00:00<00:03, 20.15it/s]"
     ]
    },
    {
     "name": "stderr",
     "output_type": "stream",
     "text": [
      "2025/01/11 18:03:51 ERROR dspy.utils.parallelizer: Error processing item Example({'topic': 'ITILÂ® Foundation 4 First Look', 'intro_video': \" - ITIL is the leading source of IT service management,  \\n guidance and certification.  \\n With over two million IT professionals certified,  \\n it highlights the outcomes critical to providing products  \\n and services and lays out best practices for achieving  \\n and maintaining those outcome.  \\n I'm Dave Pultorak.  \\n I contributed to ITIL and other frameworks,  \\n and I've been teaching people how to use  \\n and apply ITIL for over two decades.  \\n A lot has changed in the years  \\n since ITIL's last major revision, version three.  \\n The typical environment we manage is now a hybrid  \\n of traditional IT and cloud  \\n and mobile with a steady march towards the latter  \\n and new practices have emerged that are a better fit  \\n for these technologies, including DevOps,  \\n lean and agile practices.  \\n In response to these changes, there's a new version  \\n of ITIL, ITIL 4.  \\n Join me now for a first look.  \\n \\n\\n\"}) (input_keys={'topic', 'intro_video'}): Collection similarity_test already exists. Set `provide_traceback=True` to see the stack trace.\n"
     ]
    },
    {
     "name": "stdout",
     "output_type": "stream",
     "text": [
      "Average Metric: 0.00 / 3 (0.0%):  12%|██████████▊                                                                           | 10/80 [00:03<00:28,  2.47it/s]Error in similarity calculation: Collection 9a221b7a-994e-4794-ad2b-1e5f207ac481 does not exist.\n",
      "Error in similarity calculation: Collection aa2e06ed-d4ce-4680-af69-c7eeeaa5e175 does not exist.\n",
      "Average Metric: 0.00 / 5 (0.0%):  14%|███████████▊                                                                          | 11/80 [00:03<00:27,  2.47it/s]Error in similarity calculation: Collection 8eea13ca-1aaa-4bbd-b3ac-2173bbb9f974 does not exist.\n",
      "Error in similarity calculation: Collection 64f9c8e7-878c-45ce-80fe-769635065143 does not exist.\n",
      "Average Metric: 0.00 / 7 (0.0%):  16%|█████████████▉                                                                        | 13/80 [00:03<00:18,  3.61it/s]"
     ]
    },
    {
     "name": "stderr",
     "output_type": "stream",
     "text": [
      "2025/01/11 18:03:51 ERROR dspy.utils.parallelizer: Error processing item Example({'topic': 'Being a Good Mentee', 'intro_video': \" - Do you ever feel less than engaged in your job?  \\n Do you wish your work had more meaning,  \\n or perhaps you are seeking clarity  \\n regarding how to be more successful?  \\n If so, here's the great news.  \\n My research shows definitively  \\n that having a network of various types of mentors  \\n can help you feel more engaged, drive greater meaning,  \\n and absolutely enhance your success  \\n through a bigger paycheck and more rapid promotions.  \\n I am Ellen Ensher.  \\n I'm a business professor at Loyola Marymount University  \\n in Los Angeles,  \\n and an expert in mentoring.  \\n In this course,  \\n I'm so excited to share established strategies  \\n to help you connect with a network of mentors.  \\n Mentoring matters.  \\n I believe knowing how to connect with mentors  \\n is the most important life hack you can learn.  \\n So let's get started.  \\n \\n\\n\"}) (input_keys={'topic', 'intro_video'}): Collection similarity_test already exists. Set `provide_traceback=True` to see the stack trace.\n"
     ]
    },
    {
     "name": "stdout",
     "output_type": "stream",
     "text": [
      "Average Metric: 0.00 / 7 (0.0%):  18%|███████████████                                                                       | 14/80 [00:03<00:18,  3.61it/s]"
     ]
    },
    {
     "name": "stderr",
     "output_type": "stream",
     "text": [
      "2025/01/11 18:03:51 ERROR dspy.utils.parallelizer: Error processing item Example({'topic': 'How to Work with a Micromanager', 'intro_video': \" - I was so excited about my first job out of college.  \\n I had worked so hard to land the job  \\n and I was ready to show my boss  \\n what I was made of.  \\n I planned to impress him with my independent  \\n working skills.  \\n I was going to get things done efficiently  \\n and prove that I was a worthy hire.  \\n I was going to take the lead and show my manager  \\n that I could be trusted with more  \\n and more responsibility.  \\n But my manager had different plans.  \\n He wanted to give me instructions  \\n on things I didn't really think  \\n I needed instructions on.  \\n He checked in on my progress multiples times a day  \\n and he even hovered over me as I worked  \\n at my cubicle.  \\n Talk about stressful.  \\n I couldn't get anything done because I felt  \\n like I was constantly playing defense with him.  \\n My confidence was deflated.  \\n I was stressed out and I felt like my manager  \\n didn't trust me.  \\n And that is when I realized my manager  \\n was a micromanager.  \\n Maybe you're in a similar situation.  \\n Maybe you have a manager who nitpicks  \\n every little thing that you do.  \\n Maybe your manager slows down your progress  \\n and maybe you feel like your manager  \\n is stealing your opportunity to learn and grow.  \\n I so get that.  \\n While you can't change your manager,  \\n there are things that you can do  \\n to make the experience much more enjoyable and sustainable,  \\n and in this course, I am going to teach you.  \\n Working with a micromanager can feel  \\n really overwhelming at times.  \\n I know it was for me.  \\n But over time, with dedication and some proven strategies,  \\n you'll be able to nurture a healthy relationship  \\n with your manager.  \\n You don't have to merely survive  \\n as you work with a micromanager.  \\n I'm going to teach you how to thrive.  \\n \\n\\n\"}) (input_keys={'topic', 'intro_video'}): Collection 6bb984c7-a6dd-41cb-94d3-a2c9794bd56a already exists. Set `provide_traceback=True` to see the stack trace.\n"
     ]
    },
    {
     "name": "stdout",
     "output_type": "stream",
     "text": [
      "Error in similarity calculation: Collection bc5eccc7-dd37-4d07-a8dc-122ea8e02304 does not exist.\n",
      "Average Metric: 0.00 / 7 (0.0%):  19%|████████████████▏                                                                     | 15/80 [00:03<00:17,  3.61it/s]Error in similarity calculation: Collection 53c74181-46bb-4f74-bd6b-9a314b4b0e8a not found\n",
      "Average Metric: 0.00 / 9 (0.0%):  21%|██████████████████▎                                                                   | 17/80 [00:03<00:11,  5.65it/s]Error in similarity calculation: Collection c957f19c-6dcc-4fb3-89f9-be85433ab888 does not exist.\n",
      "Average Metric: 0.00 / 10 (0.0%):  22%|███████████████████▏                                                                 | 18/80 [00:03<00:10,  5.65it/s]Error in similarity calculation: Collection 75de4ee0-99dc-4724-a1e3-9bc5f411b8a6 does not exist.\n",
      "Average Metric: 0.00 / 14 (0.0%):  28%|███████████████████████▍                                                             | 22/80 [00:03<00:07,  7.58it/s]Error in similarity calculation: Collection 60718135-1151-454f-a75f-a0893975e015 does not exist.\n",
      "Average Metric: 0.00 / 15 (0.0%):  30%|█████████████████████████▌                                                           | 24/80 [00:03<00:06,  9.09it/s]Error in similarity calculation: Collection 044dbec8-bc87-4156-ba81-51897190e288 does not exist.\n",
      "Error in similarity calculation: Collection 8b94a72c-2486-45fb-8722-d95f099794f4 does not exist.\n",
      "Average Metric: 0.00 / 16 (0.0%):  30%|█████████████████████████▌                                                           | 24/80 [00:03<00:06,  9.09it/s]Error in similarity calculation: Collection d75e9763-c662-49dd-9a81-5b3cd295f413 does not exist.\n",
      "Average Metric: 0.00 / 18 (0.0%):  32%|███████████████████████████▋                                                         | 26/80 [00:04<00:05,  9.09it/s]Error in similarity calculation: Collection 1fc2fc26-a0c8-4711-88aa-e774003fae29 does not exist.\n",
      "Average Metric: 0.00 / 19 (0.0%):  35%|█████████████████████████████▋                                                       | 28/80 [00:04<00:04, 12.21it/s]Error in similarity calculation: Collection 38018ed3-7725-440b-ab9b-deef66858288 does not exist.\n",
      "Average Metric: 0.00 / 20 (0.0%):  35%|█████████████████████████████▋                                                       | 28/80 [00:04<00:04, 12.21it/s]Error in similarity calculation: Collection 0cca1a8b-5598-4ff7-a945-d5f3cbaeca11 does not exist.\n",
      "Average Metric: 0.00 / 30 (0.0%):  48%|████████████████████████████████████████▍                                            | 38/80 [00:07<00:13,  3.10it/s]Error in similarity calculation: Collection 90fa96db-0e1b-415a-b5ae-3b1d640615ba does not exist.\n",
      "Average Metric: 0.00 / 31 (0.0%):  50%|██████████████████████████████████████████▌                                          | 40/80 [00:07<00:12,  3.23it/s]Error in similarity calculation: Collection d49e21b0-7d7a-4f0a-a28c-bd13130e6b0f does not exist.\n",
      "Average Metric: 0.00 / 32 (0.0%):  50%|██████████████████████████████████████████▌                                          | 40/80 [00:07<00:12,  3.23it/s]Error in similarity calculation: Collection 16088299-9804-4ccb-94f0-5c609312abd9 does not exist.\n",
      "Error in similarity calculation: Collection 2ff5bccf-e775-4ce1-9e7c-fd725f57b49e does not exist.\n",
      "Average Metric: 0.00 / 34 (0.0%):  52%|████████████████████████████████████████████▋                                        | 42/80 [00:07<00:11,  3.23it/s]Error in similarity calculation: Collection f4980b19-52cd-4762-97ba-21184d636f1c not found\n",
      "Average Metric: 0.00 / 41 (0.0%):  62%|█████████████████████████████████████████████████████▏                               | 50/80 [00:09<00:08,  3.39it/s]Error in similarity calculation: Collection d6972d90-d4a6-4e11-9201-b0b3e929e1bd does not exist.\n",
      "Average Metric: 0.00 / 42 (0.0%):  62%|█████████████████████████████████████████████████████▏                               | 50/80 [00:09<00:08,  3.39it/s]Error in similarity calculation: Collection 6c917962-e7c2-4f03-a55d-b8061434044b does not exist.\n",
      "Average Metric: 0.00 / 49 (0.0%):  71%|████████████████████████████████████████████████████████████▌                        | 57/80 [00:10<00:03,  6.45it/s]Error in similarity calculation: Collection 38f6d770-fe0f-46e0-b4b3-318ed2c4c058 does not exist.\n",
      "Average Metric: 0.00 / 50 (0.0%):  74%|██████████████████████████████████████████████████████████████▋                      | 59/80 [00:11<00:04,  4.23it/s]Error in similarity calculation: Collection d5a568a8-1741-43d8-abc1-1289714a201e does not exist.\n",
      "Average Metric: 0.00 / 51 (0.0%):  74%|██████████████████████████████████████████████████████████████▋                      | 59/80 [00:11<00:04,  4.23it/s]Error in similarity calculation: Collection 6b527568-f1f7-4fb7-a771-552ffd498488 does not exist.\n",
      "Average Metric: 0.00 / 52 (0.0%):  75%|███████████████████████████████████████████████████████████████▊                     | 60/80 [00:11<00:04,  4.23it/s]Error in similarity calculation: Collection 9776725e-0a38-42d3-94ff-9e9a2dd781b0 does not exist.\n",
      "Average Metric: 0.00 / 53 (0.0%):  78%|█████████████████████████████████████████████████████████████████▉                   | 62/80 [00:11<00:03,  4.96it/s]Error in similarity calculation: Collection 3f427744-b64e-4c91-bcd3-f69c875420ac does not exist.\n",
      "Average Metric: 0.00 / 54 (0.0%):  78%|█████████████████████████████████████████████████████████████████▉                   | 62/80 [00:11<00:03,  4.96it/s]Error in similarity calculation: Collection bc241faa-fece-4364-addf-6f67e8ae073b does not exist.\n",
      "Average Metric: 0.00 / 55 (0.0%):  80%|████████████████████████████████████████████████████████████████████                 | 64/80 [00:11<00:02,  5.63it/s]Error in similarity calculation: Collection 04399b70-7584-4c45-8ccc-6944703f32f1 does not exist.\n",
      "Average Metric: 0.00 / 56 (0.0%):  80%|████████████████████████████████████████████████████████████████████                 | 64/80 [00:11<00:02,  5.63it/s]Error in similarity calculation: Collection c1c63f19-a502-4b0b-bef5-2d9d371f0f2d does not exist.\n",
      "Average Metric: 0.00 / 57 (0.0%):  81%|█████████████████████████████████████████████████████████████████████                | 65/80 [00:11<00:02,  5.63it/s]Error in similarity calculation: Collection 27743c38-63ee-449f-a3f9-4fc9ba42b1d6 does not exist.\n",
      "Average Metric: 0.00 / 58 (0.0%):  82%|██████████████████████████████████████████████████████████████████████▏              | 66/80 [00:11<00:02,  5.63it/s]Error in similarity calculation: Collection 3e82a874-6e7b-480f-b867-5656e4a442aa does not exist.\n",
      "Average Metric: 0.00 / 60 (0.0%):  86%|█████████████████████████████████████████████████████████████████████████▎           | 69/80 [00:12<00:01,  8.03it/s]Error in similarity calculation: Collection 8fd176cb-78bb-4f6d-a828-2d515cf4ccc1 does not exist.\n",
      "Average Metric: 0.00 / 61 (0.0%):  86%|█████████████████████████████████████████████████████████████████████████▎           | 69/80 [00:12<00:01,  8.03it/s]Error in similarity calculation: Collection 8ff9d834-9989-4a2e-9fa0-d1d4876707ee does not exist.\n",
      "Average Metric: 0.00 / 71 (0.0%): 100%|█████████████████████████████████████████████████████████████████████████████████████| 80/80 [00:20<00:00,  3.86it/s]"
     ]
    },
    {
     "name": "stderr",
     "output_type": "stream",
     "text": [
      "2025/01/11 18:04:09 INFO dspy.evaluate.evaluate: Average Metric: 0.0 / 80 (0.0%)\n",
      "2025/01/11 18:04:09 INFO dspy.teleprompt.mipro_optimizer_v2: Full eval scores so far: [0.0, 0.0]\n",
      "2025/01/11 18:04:09 INFO dspy.teleprompt.mipro_optimizer_v2: Best full score so far: 0.0\n",
      "2025/01/11 18:04:09 INFO dspy.teleprompt.mipro_optimizer_v2: =======================\n",
      "2025/01/11 18:04:09 INFO dspy.teleprompt.mipro_optimizer_v2: \n",
      "\n",
      "2025/01/11 18:04:09 INFO dspy.teleprompt.mipro_optimizer_v2: == Minibatch Trial 11 / 30 ==\n",
      "2025/01/11 18:04:09 INFO dspy.teleprompt.mipro_optimizer_v2: Evaluating the following candidate program...\n",
      "\n"
     ]
    },
    {
     "name": "stdout",
     "output_type": "stream",
     "text": [
      "\n",
      "Predictor 0\n",
      "i: You are an experienced educator creating an engaging introduction for a course. Write a video transcript for the intro video to a course on the given topic. Ensure the transcript is approximately 250 words and is formatted in markdown. Use personal storytelling and practical examples to enhance relatability, and aim to promote a growth mindset while encouraging learner interaction.\n",
      "p: Intro Video:\n",
      "\n",
      "\n",
      "  0%|                                                                                                                                | 0/25 [00:00<?, ?it/s]"
     ]
    },
    {
     "name": "stderr",
     "output_type": "stream",
     "text": [
      "2025/01/11 18:04:09 ERROR dspy.utils.parallelizer: Error processing item Example({'topic': 'Cold Calling: Overcoming Sales Objections', 'intro_video': \" - Hi, my name's Miles, and welcome to my course  \\n on the top eight sales objections and how to overcome them.  \\n So a little bit of background about me is  \\n I've worked in sales for a number of years,  \\n and I've had loads of jobs, which have all entailed  \\n cold calling of some kind.  \\n So I've worked in retail, I've worked in software,  \\n in IT, in services, in property, and many more.  \\n Throughout that time I've calculated that I've probably  \\n made at least 100,000 cold calls, so by this point,  \\n I'm starting to hear the same thing twice.  \\n Now this course isn't a hard and fast rule  \\n of the exact objections you're going to come up against,  \\n and the exact way to overcome them.  \\n But what it's designed to do is give you a bit of guidance  \\n of how to come over them with your own responses.  \\n And also, to give you a bit of warning of what's to come,  \\n if you're totally new to cold calling.  \\n So your responses are going to depend on a few things,  \\n so firstly is your product, secondly is who you're  \\n selling to, and thirdly is just your own sales style.  \\n So this course is designed to give you that groundwork  \\n to build upon and have a successful sales career.  \\n So without further ado, let's jump into the course.  \\n \\n\\n\"}) (input_keys={'topic', 'intro_video'}): Collection similarity_test already exists. Set `provide_traceback=True` to see the stack trace.\n"
     ]
    },
    {
     "name": "stdout",
     "output_type": "stream",
     "text": [
      "Average Metric: 0.00 / 0 (0%):   0%|                                                                                                 | 0/25 [00:00<?, ?it/s]"
     ]
    },
    {
     "name": "stderr",
     "output_type": "stream",
     "text": [
      "2025/01/11 18:04:09 ERROR dspy.utils.parallelizer: Error processing item Example({'topic': 'Advanced Data Visualizations: 10 Uncommon Plot Types and How to Use Them', 'intro_video': \" - [Franz] Data visualizations are everywhere,  \\n all around us: pie charts, bar charts,  \\n histogram, line plots.  \\n You've seen them in newspapers, advertisements,  \\n television company reports, website blogs.  \\n They're simply everywhere and hidden underneath them  \\n there's a secret world of colorful and complex graphs  \\n that can help you visualize much more data  \\n in more interesting ways.  \\n Understanding and mastering these advanced graphs  \\n will expand your analytics capability  \\n and help you become a better data communicator.  \\n I'm going to show you new ways  \\n of how to visualize data distributions  \\n that help you compare multiple data series at once.  \\n I'll show you how to use colors to add important  \\n and previously hidden statistical information.  \\n And you'll be able to turn complex tables into visual plots,  \\n use specialized graphs on small datasets,  \\n and with different variable types.  \\n Come and join me  \\n as I outline 10 advanced data visualizations  \\n that will help you analyze complex data  \\n and make your work stand out.  \\n \\n\\n\"}) (input_keys={'topic', 'intro_video'}): Collection similarity_test already exists. Set `provide_traceback=True` to see the stack trace.\n"
     ]
    },
    {
     "name": "stdout",
     "output_type": "stream",
     "text": [
      "Average Metric: 0.00 / 0 (0%):   4%|███▌                                                                                     | 1/25 [00:00<00:00, 35.83it/s]"
     ]
    },
    {
     "name": "stderr",
     "output_type": "stream",
     "text": [
      "2025/01/11 18:04:09 ERROR dspy.utils.parallelizer: Error processing item Example({'topic': 'Learning YouTube SEO', 'intro_video': \" - [Instructor] So you're a YouTuber  \\n and you want to take your channel to the next level, huh?  \\n Maybe you've got the content grind down,  \\n but you're just not getting the clicks you were hoping for.  \\n Well, never fear for I, the YouTube wizard,  \\n trademark pending, is here to help.  \\n In this course, I'll help you discover  \\n the power of YouTube SEO  \\n and show you handy tips you can do before and after  \\n recording your videos, to help them rank in search.  \\n Plus I'll also give you tips  \\n on how to increase your user engagement,  \\n as well as tools that can boost your SEO.  \\n So grab your magic staff  \\n or whatever it is you use to record your videos  \\n and let's get started.  \\n Man, this beard is really itchy.  \\n \\n\\n\"}) (input_keys={'topic', 'intro_video'}): Collection similarity_test already exists. Set `provide_traceback=True` to see the stack trace.\n"
     ]
    },
    {
     "name": "stdout",
     "output_type": "stream",
     "text": [
      "Average Metric: 0.00 / 0 (0%):   8%|███████                                                                                  | 2/25 [00:00<00:00, 65.27it/s]"
     ]
    },
    {
     "name": "stderr",
     "output_type": "stream",
     "text": [
      "2025/01/11 18:04:09 ERROR dspy.utils.parallelizer: Error processing item Example({'topic': 'Learning Bubble', 'intro_video': \" - [Jen] Creating web applications,  \\n particularly highly-customized web applications,  \\n has always been a challenge online.  \\n Either you'd need to learn how to code  \\n or you'd need to pay a developer  \\n tens of thousands of dollars to do it for you.  \\n You could use a starter system like WordPress,  \\n but then you might have some limitations  \\n to what the plugins could do for you.  \\n Otherwise, you're back to hiring a developer again  \\n or learning to code yourself.  \\n Bubble is a new approach to this old problem.  \\n Established in 2012 as a visual development platform,  \\n Bubble's popularity has exploded in the last two years  \\n as more people discover the power of Bubble.  \\n In this course, you'll get a quick introduction  \\n to some of Bubble's features and functionality,  \\n just enough to get you up and running  \\n with a quick application.  \\n First, we'll build an app for making grocery lists,  \\n we'll explore some pre-configured components  \\n that we can drop into our app, like a header for the site.  \\n We'll set up an interface for making a grocery list  \\n and pairing it with the department  \\n where we might find that grocery item.  \\n We'll check off items as we purchase them  \\n and we'll bring back items  \\n that might make our list over and over.  \\n Finally, we'll personalize our grocery lists,  \\n hiding them behind a log-in.  \\n I'm Jen Kramer,  \\n and I have been building websites for over 20 years.  \\n I'm excited about the world that Bubble opens  \\n to those without a coding background,  \\n so they can make their own web applications.  \\n So if you're ready, let's get started with learning Bubble.  \\n \\n\\n\"}) (input_keys={'topic', 'intro_video'}): Collection similarity_test already exists. Set `provide_traceback=True` to see the stack trace.\n"
     ]
    },
    {
     "name": "stdout",
     "output_type": "stream",
     "text": [
      "Average Metric: 0.00 / 0 (0%):  12%|██████████▋                                                                              | 3/25 [00:00<00:00, 87.38it/s]"
     ]
    },
    {
     "name": "stderr",
     "output_type": "stream",
     "text": [
      "2025/01/11 18:04:09 ERROR dspy.utils.parallelizer: Error processing item Example({'topic': 'Running a Web Design Business: Defining Your Business Structure', 'intro_video': \"- Hi, I'm Martha Garzon,\\nand I would like to welcome you\\nto Running A Web Design Business:\\nDefining Your Business Structure.\\nIf you're ready to start your own web design business,\\nI'm sure you have many questions on your mind.\\nWe'll start by clarifying the advantages\\nand disadvantages of sole proprietorships,\\npartnerships, corporations, and LLCs.\\nThen we'll explore the key questions\\nthat will help you select the business structure\\nbest suited to your needs.\\n\\nNext, I'll show you practical examples\\nof a web design business taxed as a sole proprietorship\\nand as an LLC.\\nFinally, I'll help you understand\\nthe legal and tax requirements\\nof a sole proprietorship and an LLC\\nand walk you through the steps\\nof setting up these business structures.\\nThis course gets you comfortable\\nwith the basic concepts\\nso that when you seek professional help,\\nyou'll know what to expect and what questions to ask.\\n\\nSo, are you ready to become a successful designer\\nand business owner?\\nLet's get started with Running A Web Design Business:\\nDefining Your Business Structure.\\n\\n\"}) (input_keys={'topic', 'intro_video'}): Collection similarity_test already exists. Set `provide_traceback=True` to see the stack trace.\n"
     ]
    },
    {
     "name": "stdout",
     "output_type": "stream",
     "text": [
      "Average Metric: 0.00 / 0 (0%):  16%|██████████████                                                                          | 4/25 [00:00<00:00, 101.25it/s]"
     ]
    },
    {
     "name": "stderr",
     "output_type": "stream",
     "text": [
      "2025/01/11 18:04:09 ERROR dspy.utils.parallelizer: Error processing item Example({'topic': 'Photoshop 2025 Essential Training', 'intro_video': \"- Whether you're dreaming of a career\\nin design or photography,\\nor you just want to spice up your own creative projects,\\nyou're in the right place.\\nIn this course, we'll start with the basics,\\nlike how to open and navigate and work with multiple images.\\nWe'll use Camera Raw to enhance colors, tones, and contrast,\\nwork with profiles and presets,\\nand use masking to isolate\\nand enhance selective areas in an image\\nand remove distracting elements.\\nYou'll learn how to work with Smart Objects and filters,\\nexplore Generative Fill and Expand,\\nand add text and effects.\\n\\nWe'll even touch on using libraries,\\nartboards, and animations.\\nI'm Julieanne Kost.\\nI've been a part of the Photoshop Team in Adobe\\nfor over 25 years,\\nand I can't wait to share my passion\\nfor this incredible tool with you.\\nSo let's jump in and get started.\\n\"}) (input_keys={'topic', 'intro_video'}): Collection similarity_test already exists. Set `provide_traceback=True` to see the stack trace.\n"
     ]
    },
    {
     "name": "stdout",
     "output_type": "stream",
     "text": [
      "Average Metric: 0.00 / 0 (0%):  20%|█████████████████▌                                                                      | 5/25 [00:00<00:00, 122.85it/s]"
     ]
    },
    {
     "name": "stderr",
     "output_type": "stream",
     "text": [
      "2025/01/11 18:04:09 ERROR dspy.utils.parallelizer: Error processing item Example({'topic': 'Programming Foundations: Beyond the Fundamentals', 'intro_video': \"- If you've gotten a taste of programming\\nand you'd like to broaden your knowledge\\nof programming fundamentals, then roll up your sleeves\\ncuz this course is for you.\\nWe'll walk through understanding\\nand using programming patterns and syntax like loops\\nand collections that are common to many languages.\\nWe'll also cover the basics of processes like debugging\\nand program planning that programmers routinely\\nneed to do while writing applications.\\nNow, if this feels\\nlike it might be a huge leap for you, don't worry.\\n\\nWe're not going to be writing super complex programs here\\nbut we will go through some concepts that are beyond\\nthe basic building blocks you may have worked with so far.\\nThroughout the course,\\nI'll be illustrating these more advanced concepts\\nand trying to help you wrap your head\\naround what these terms mean\\nso that you can continue building your skills\\nas a programmer.\\nI'm Sasha Vodnik and I've been programming computers\\nsince I was a little kid.\\nIf you're ready to take your next step\\nin the fundamental concepts\\nthat underpin computer programming,\\nthen this LinkedIn learning course is for you.\\n\\n\"}) (input_keys={'topic', 'intro_video'}): Collection similarity_test already exists. Set `provide_traceback=True` to see the stack trace.\n"
     ]
    },
    {
     "name": "stdout",
     "output_type": "stream",
     "text": [
      "Average Metric: 0.00 / 0 (0%):  24%|█████████████████████                                                                   | 6/25 [00:00<00:00, 140.26it/s]Error in similarity calculation: Collection 2c62dbff-c968-403d-a204-d540fe5d2a9f does not exist.\n",
      "Average Metric: 0.00 / 1 (0.0%):  28%|████████████████████████                                                              | 7/25 [00:00<00:00, 127.42it/s]"
     ]
    },
    {
     "name": "stderr",
     "output_type": "stream",
     "text": [
      "2025/01/11 18:04:09 ERROR dspy.utils.parallelizer: Error processing item Example({'topic': 'Dynamics 365 for Sales Teams', 'intro_video': \"- [Instructor] Welcome to Dynamics 365 for Sales Teams.\\nThis course shows you how to manage your contacts\\nand track them through the sales life cycle.\\nThe trouble with CRM systems is that they require data\\nto be effective.\\nThis course is all about showing you\\nthe best way to manage your contacts\\nand the fastest way to find the information\\nyou need to close more deals.\\nMy name in Tiffany Songvilay,\\nand I've been a senior business analyst\\nfor the past 12 years.\\nI've worked with product sales and marketing departments,\\nas well as retail chains,\\nteaching them how to use Microsoft Dynamics\\nto increase traffic and create loyal customers.\\n\\nIn this course, I'm going to show you how to import contacts,\\nexport data to Excel for analysis,\\nand create a custom email template.\\nYou'll learn how to optimize your contacts\\nby creating a hierarchy of accounts\\nand learn valuable monitoring tricks\\nto quickly see what's new for you to follow up on.\\nIn this highly competitive line of work,\\nwe're all striving to funnel more customers\\ninto our sales pipeline.\\nTo do that, we're going to need to know\\nas much as we can about our CRM system.\\n\\nLet's get started.\\n\\n\"}) (input_keys={'topic', 'intro_video'}): Collection similarity_test already exists. Set `provide_traceback=True` to see the stack trace.\n"
     ]
    },
    {
     "name": "stdout",
     "output_type": "stream",
     "text": [
      "Average Metric: 0.00 / 1 (0.0%):  32%|███████████████████████████▌                                                          | 8/25 [00:00<00:00, 137.56it/s]"
     ]
    },
    {
     "name": "stderr",
     "output_type": "stream",
     "text": [
      "2025/01/11 18:04:09 ERROR dspy.utils.parallelizer: Error processing item Example({'topic': 'Disability Readiness for Leaders and Managers', 'intro_video': \" - What if I told you there are over 1 billion people,  \\n or 15% of the world's population who have a disability?  \\n It's true.  \\n And you hold an important role in prioritizing  \\n disability inclusion in your workplace.  \\n Hi, I'm Tarena.  \\n At Microsoft I run hiring programs  \\n to bring talent with disabilities into the company.  \\n So you may be wondering,  \\n how can my company become disability inclusive?  \\n Well, your investment in this course is the first start.  \\n This course will take you through supporting individuals  \\n with disabilities through the full employee experience,  \\n including recruitment, hiring, onboarding  \\n and employee support.  \\n So let's get you ready  \\n to lead a disability-inclusive workplace.  \\n \\n\\n\"}) (input_keys={'topic', 'intro_video'}): Collection 68de5672-f1b4-4fe7-9cb7-c9f447cdba4e already exists. Set `provide_traceback=True` to see the stack trace.\n"
     ]
    },
    {
     "name": "stdout",
     "output_type": "stream",
     "text": [
      "Average Metric: 0.00 / 1 (0.0%):  36%|██████████████████████████████▉                                                       | 9/25 [00:00<00:00, 151.49it/s]"
     ]
    },
    {
     "name": "stderr",
     "output_type": "stream",
     "text": [
      "2025/01/11 18:04:09 INFO dspy.teleprompt.mipro_optimizer_v2: Score: 0.0 on minibatch of size 25 with parameters ['Predictor 0: Instruction 1', 'Predictor 0: Few-Shot Set 2'].\n",
      "2025/01/11 18:04:09 INFO dspy.teleprompt.mipro_optimizer_v2: Minibatch scores so far: [0.0, 0.0, 0.0, 0.0, 0.0, 0.0, 0.0, 0.0, 0.0, 0.0, 0.0]\n",
      "2025/01/11 18:04:09 INFO dspy.teleprompt.mipro_optimizer_v2: Full eval scores so far: [0.0, 0.0]\n",
      "2025/01/11 18:04:09 INFO dspy.teleprompt.mipro_optimizer_v2: Best full score so far: 0.0\n",
      "2025/01/11 18:04:09 INFO dspy.teleprompt.mipro_optimizer_v2: =============================\n",
      "\n",
      "\n",
      "2025/01/11 18:04:09 INFO dspy.teleprompt.mipro_optimizer_v2: == Minibatch Trial 12 / 30 ==\n",
      "2025/01/11 18:04:09 INFO dspy.teleprompt.mipro_optimizer_v2: Evaluating the following candidate program...\n",
      "\n"
     ]
    },
    {
     "name": "stdout",
     "output_type": "stream",
     "text": [
      "Exception occurred: Collection 91ebb042-5467-41b0-9908-0bdafa24a94d already exists\n",
      "Predictor 0\n",
      "i: Generate a markdown-formatted video transcript for the introduction of a course on the specified topic. The transcript should be approximately 250 words and should effectively communicate the course's purpose and content while engaging prospective students. Include a reasoning section that outlines the thought process behind the content creation, ensuring the introduction is relatable and applicable to real-world scenarios.\n",
      "p: Intro Video:\n",
      "\n",
      "\n",
      "  0%|                                                                                                                                | 0/25 [00:00<?, ?it/s]"
     ]
    },
    {
     "name": "stderr",
     "output_type": "stream",
     "text": [
      "2025/01/11 18:04:09 ERROR dspy.utils.parallelizer: Error processing item Example({'topic': 'Additive Manufacturing: Troubleshoot 3D Prints', 'intro_video': \" - [Narrator] Getting the best quality 3D prints  \\n requires that the printer itself,  \\n the materials, and the geometry of what you're printing  \\n are all set up consistently.  \\n When one or more of these things are off,  \\n it can be tricky to tease out what's going on.  \\n In this course we'll lay out for you some systematic ways  \\n of debugging issues that come up.  \\n Focusing on 3D printers that use filament as a raw material.  \\n - [Instructor] Print artifacts may be caused  \\n by issues with the printer hardware or calibration  \\n or you may be working with a material  \\n that's trickier to use than you thought  \\n or a part with geometry that has some surprising challenges.  \\n - [Narrator] 3D printer slicing software  \\n has a vast array of settings.  \\n And how can you tell what to change  \\n if your print is disappointing?  \\n - [Narrator] And how can you tell where to start  \\n if it might be any or all of these issues?  \\n - [Narrator] We're Joan Horvath and Rich Cameron,  \\n the co-founders of Nonscriptum LLC 3D Printing  \\n and Maker Tech Consulting.  \\n We're also the authors of many books  \\n and LinkedIn learning courses on 3D printing  \\n and other technologies.  \\n Join us as we show you ways to systematically work  \\n through the challenges of getting great 3D prints.  \\n \\n\\n\"}) (input_keys={'topic', 'intro_video'}): Collection a8bf84c8-4a66-4db3-ae82-060406a6eb69 already exists. Set `provide_traceback=True` to see the stack trace.\n"
     ]
    },
    {
     "name": "stdout",
     "output_type": "stream",
     "text": [
      "Average Metric: 0.00 / 0 (0%):   4%|███▌                                                                                     | 1/25 [00:00<00:06,  3.76it/s]"
     ]
    },
    {
     "name": "stderr",
     "output_type": "stream",
     "text": [
      "2025/01/11 18:04:09 ERROR dspy.utils.parallelizer: Error processing item Example({'topic': 'Music Theory for Songwriters: The Fundamentals', 'intro_video': \" - Hi, I'm Julian Velard,  \\n and welcome to music theory for songwriters.  \\n Songwriting is often considered an art  \\n born solely of inspiration.  \\n And while inspiration is at the heart of music,  \\n music theory is the language  \\n that lets us shape our inspiration into songs.  \\n By having a deeper understanding  \\n of the principles of music theory,  \\n we can improve our songwriting skills  \\n and broaden the types of songs we can write.  \\n This course is for anyone who either wants  \\n to start writing songs, or already writes songs  \\n and wants a better understanding of how music works.  \\n I'll show you how the core principles of music theory  \\n apply to the world of songwriting.  \\n First, I'll break down the building blocks of music,  \\n starting with notes, intervals, and skills.  \\n Then I'll move on to the basics of chords  \\n and chord progressions,  \\n and how we put them together into musical phrases.  \\n I'll show you how those elements are organized  \\n into verses, choruses, bridges, and other sections,  \\n ultimately forming an entire song.  \\n Finally, we'll explore common song forms,  \\n giving you multiple templates  \\n for organizing your inspired ideas into songs.  \\n Along the way, I'll show you how I use music theory  \\n in my own compositions  \\n by performing some of my original songs  \\n and following them up with analysis,  \\n demonstrating the concepts we covered in the course.  \\n I can't wait to share with you all the amazing things  \\n I've learned about songwriting.  \\n Let's get started in music theory for songwriters.  \\n \\n\\n\"}) (input_keys={'topic', 'intro_video'}): Collection similarity_test already exists. Set `provide_traceback=True` to see the stack trace.\n"
     ]
    },
    {
     "name": "stdout",
     "output_type": "stream",
     "text": [
      "Average Metric: 0.00 / 0 (0%):   4%|███▌                                                                                     | 1/25 [00:00<00:06,  3.76it/s]"
     ]
    },
    {
     "name": "stderr",
     "output_type": "stream",
     "text": [
      "2025/01/11 18:04:09 ERROR dspy.utils.parallelizer: Error processing item Example({'topic': 'Cisco CCNP SCOR Security (350-701) Cert Prep: 1 Security Concepts and Network Security', 'intro_video': \"- Welcome to part one\\nof the Implementing and Operating Cisco Security\\nCore Technologies Course.\\nThis three part course on LinkedIn Learning\\nwill touch on all of the exam topics outlined\\nby Cisco's SCOR 350-701 exam blueprint.\\nMy name is Charles Judd\\nand I'll be your instructor throughout this course.\\nIn part one of the SCOR course we're going to focus\\non fundamental security concepts, including common threats\\nand vulnerabilities, and also network security topics\\nsuch as some specific security solutions\\nand layer two security techniques.\\n\\nThanks so much for joining me, now let's get started.\\n\"}) (input_keys={'topic', 'intro_video'}): Collection similarity_test already exists. Set `provide_traceback=True` to see the stack trace.\n"
     ]
    },
    {
     "name": "stdout",
     "output_type": "stream",
     "text": [
      "Average Metric: 0.00 / 0 (0%):   8%|███████                                                                                  | 2/25 [00:00<00:06,  3.76it/s]"
     ]
    },
    {
     "name": "stderr",
     "output_type": "stream",
     "text": [
      "2025/01/11 18:04:09 ERROR dspy.utils.parallelizer: Error processing item Example({'topic': 'Train the Trainer', 'intro_video': \"- Every day, you most likely share\\nyour knowledge and experiences\\nwith coworkers, friends, and family.\\nThose who master the skill to help people acquire\\nand more importantly apply the knowledge,\\nset themselves apart\\nand are seen as the organization's go-to resource.\\nWhether you're communicating with your team\\nor responsible for training a group of people,\\nyou shoulder an important responsibility,\\nand that's to ensure everyone engages\\nwith what you're sharing,\\nso they become more effective in their jobs.\\n\\nI'm Ajay Pangarkar,\\nand I've been an award-winning author,\\nemployee performance strategist,\\nand learning professional for more than 25 years.\\nIn this course, I'll share with you\\nthe essential people development skills\\nyou'll be able to apply\\nwhether you're conducting a training session,\\nspeaking publicly,\\nleading a team,\\nor simply coaching individuals.\\nI'll share with you a set of techniques and behaviors\\nthat will make your training efforts deliver results.\\n\\nI'll focus on what you need to do\\nand how to empower people when they leave your session.\\nWe have a lot to cover, so let's get started.\\n\\n\"}) (input_keys={'topic', 'intro_video'}): Collection d1eac483-7267-49df-bf93-7a2bf338ab42 already exists. Set `provide_traceback=True` to see the stack trace.\n"
     ]
    },
    {
     "name": "stdout",
     "output_type": "stream",
     "text": [
      "Average Metric: 0.00 / 0 (0%):  12%|██████████▋                                                                              | 3/25 [00:00<00:05,  3.76it/s]"
     ]
    },
    {
     "name": "stderr",
     "output_type": "stream",
     "text": [
      "2025/01/11 18:04:09 ERROR dspy.utils.parallelizer: Error processing item Example({'topic': 'Problem-Solving Strategies for Data Engineers', 'intro_video': \" - Data engineers face a wide variety of challenges daily.  \\n Do you feel like you're stumbling  \\n from one problem to the next?  \\n You're not alone.  \\n In this course, I will take you  \\n through successful problem-solving strategies  \\n for data engineers.  \\n We'll take a practical approach  \\n through all phases of data projects,  \\n from planning to operations.  \\n Hi, my name is Andreas Kretz,  \\n and I'm a data engineer with over a decade of experience  \\n with all phases of data projects.  \\n Join me to take your problem-solving skills  \\n to the next level and let's make engineering fun.  \\n \\n\\n\"}) (input_keys={'topic', 'intro_video'}): Collection similarity_test already exists. Set `provide_traceback=True` to see the stack trace.\n"
     ]
    },
    {
     "name": "stdout",
     "output_type": "stream",
     "text": [
      "Average Metric: 0.00 / 0 (0%):  16%|██████████████▏                                                                          | 4/25 [00:00<00:05,  3.76it/s]"
     ]
    },
    {
     "name": "stderr",
     "output_type": "stream",
     "text": [
      "2025/01/11 18:04:09 ERROR dspy.utils.parallelizer: Error processing item Example({'topic': 'Financial Record Keeping', 'intro_video': \" - Hi, I'm Jim Stice.  \\n I'm a professor of accounting at Brigham Young University.  \\n This is my brother, Kay.  \\n - I am also a professor of accounting  \\n at Brigham Young University.  \\n - We have been studying bookkeeping  \\n and financial recordkeeping  \\n since way back in our high school days.  \\n - Trust me, that represents many, many,  \\n many years of experience with financial recordkeeping.  \\n - Now, in our younger days,  \\n we even worked as bookkeepers  \\n in both old-fashioned paper-based systems  \\n and modern computerized systems.  \\n - And we've been teaching accounting  \\n to undergraduate students  \\n for a combined total of almost 70 years now.  \\n - Now, in this course,  \\n we will teach you about the importance  \\n of financial recordkeeping.  \\n - We will show you how to construct a set  \\n of forecasted financial statements  \\n as part of a quantitative business plan.  \\n - [Jim] We will also show you  \\n how even the most rudimentary financial records,  \\n handwritten notes on a piece of paper,  \\n can improve your business operations  \\n and make your decision-making process better.  \\n - Now, we've designed this financial recordkeeping course  \\n to be self-contained,  \\n and we carefully explain any terminology that we use.  \\n - In short, this is an introductory course  \\n with no prior accounting knowledge required.  \\n - So let's learn about financial recordkeeping,  \\n the processes and the reports.  \\n \\n\\n\"}) (input_keys={'topic', 'intro_video'}): Collection similarity_test already exists. Set `provide_traceback=True` to see the stack trace.\n"
     ]
    },
    {
     "name": "stdout",
     "output_type": "stream",
     "text": [
      "Average Metric: 0.00 / 0 (0%):  20%|█████████████████▊                                                                       | 5/25 [00:00<00:05,  3.76it/s]"
     ]
    },
    {
     "name": "stderr",
     "output_type": "stream",
     "text": [
      "2025/01/11 18:04:09 ERROR dspy.utils.parallelizer: Error processing item Example({'topic': 'macOS for IT Administrators', 'intro_video': \" - [Instructor] You've been airdropped into a digital forest.  \\n You don't know where anything is,  \\n but you need to learn quickly.  \\n Many IT administrators recently tasked with a fleet  \\n of macOS systems feel just like this.  \\n As your guide to get you out of the forest  \\n there are some things I'm actually excited  \\n to show you along the way.  \\n I'm most excited about what the new sidecar feature opens up  \\n for portability with the macOS.  \\n The new Enterprise SSO enables bind less active directory  \\n and Apple's integration with cloud based authentication  \\n services enables in application authentication  \\n in ways never possible before.  \\n Every admin needs to understand MDM  \\n and how to use it to efficiency manage Apple technology.  \\n Caching is a double bladed sword you need to master.  \\n It can bring down a network if not controlled  \\n and save your entire network from floods of data  \\n if deployed properly.  \\n Hi, I'm Sean Colins.  \\n I've had a long and interesting relationship  \\n with macOS and Apple.  \\n I'm excited to share the best practices I've learned,  \\n and the changes I've discovered.  \\n Join me on my LinkedIn Learning course,  \\n specifically geared toward IT admin for macOS.  \\n \\n\\n\"}) (input_keys={'topic', 'intro_video'}): Collection similarity_test already exists. Set `provide_traceback=True` to see the stack trace.\n"
     ]
    },
    {
     "name": "stdout",
     "output_type": "stream",
     "text": [
      "Average Metric: 0.00 / 0 (0%):  24%|█████████████████████▎                                                                   | 6/25 [00:00<00:05,  3.76it/s]"
     ]
    },
    {
     "name": "stderr",
     "output_type": "stream",
     "text": [
      "2025/01/11 18:04:09 ERROR dspy.utils.parallelizer: Error processing item Example({'topic': 'Python GUI Development with Tkinter', 'intro_video': \"- Hi, I'm Barron Stone and welcome\\nto Python GUI Development with Tkinter.\\nIn this course, you'll see how to build\\na functional and professional looking\\ngraphical user interface for your Python applications.\\nTkinter is the defacto module for Python GUI development\\nand comes included with the standard Python distributions.\\nIt provides an interface to the TK GUI toolkit,\\nwhich is available for most operating systems\\nand includes themed GUI elements\\nthat maintain a consistent look and feel\\nwith those operating systems.\\n\\nThis course will introduce you\\nto the most commonly used Tk widgets,\\nand it will teach you how to create and configure them\\nwith a customized appearance and behavior.\\nI'll show you the three different ways\\nto manage the placement of those widgets on your GUI,\\nand understand when it's appropriate\\nto use each of those methods.\\nAnd finally, a graphical user interface isn't very useful\\nif it doesn't react to a user's actions.\\nSo, we'll take a look at how to use\\nevent driven programming in Tk to execute\\nthe appropriate code when user actions or events occur.\\n\\nTkinter let's you put the days\\nof writing command-line interfaces\\nfor your Python applications behind you, once and for all.\\nLet's jump in to Python GUI Development with Tkinter.\\n\"}) (input_keys={'topic', 'intro_video'}): Collection similarity_test already exists. Set `provide_traceback=True` to see the stack trace.\n"
     ]
    },
    {
     "name": "stdout",
     "output_type": "stream",
     "text": [
      "Average Metric: 0.00 / 0 (0%):  28%|████████████████████████▉                                                                | 7/25 [00:00<00:04,  3.76it/s]"
     ]
    },
    {
     "name": "stderr",
     "output_type": "stream",
     "text": [
      "2025/01/11 18:04:09 ERROR dspy.utils.parallelizer: Error processing item Example({'topic': 'Speaking Up for Yourself and Underrepresented Groups', 'intro_video': \" - For many years I sat in meetings just like this one here  \\n and I didn't say a word.  \\n I had a difficult time figuring  \\n out how to speak up and share my ideas  \\n but it didn't take long for me to see  \\n that learning how to advocate  \\n for myself was incredibly important.  \\n Putting my head down, doing the work  \\n and hoping people would just notice wasn't going to cut it.  \\n If you've struggled with feeling this way,  \\n this course is meant to help you.  \\n Hi, my name is Jessica Chen  \\n and I am the founder and CEO of Soulcast Media,  \\n a global communications training company.  \\n I'm a former Emmy award-winning TV reporter  \\n and my communications courses have been viewed  \\n over one million times.  \\n Needless to say, learning and teaching people how  \\n to be an effective communicator is something I think  \\n about all the time.  \\n This course is two parts.  \\n First, I'll be teaching you how you can better advocate  \\n for yourself in the workplace.  \\n This starts with coming face to face  \\n with the challenges of being a minority in the workplace.  \\n The second is teaching folks how they can better advocate  \\n for people like us.  \\n Because the truth is, we need both and I am excited  \\n to start this conversation with you.  \\n Let's dive in.  \\n So you were saying?  \\n \\n\\n\"}) (input_keys={'topic', 'intro_video'}): Collection similarity_test already exists. Set `provide_traceback=True` to see the stack trace.\n"
     ]
    },
    {
     "name": "stdout",
     "output_type": "stream",
     "text": [
      "Average Metric: 0.00 / 0 (0%):  32%|████████████████████████████▍                                                            | 8/25 [00:00<00:04,  3.76it/s]Error in similarity calculation: Collection a5654a7e-a479-4e3f-8bd5-9bd442d0023a does not exist.\n",
      "Average Metric: 0.00 / 1 (0.0%):  36%|███████████████████████████████▎                                                       | 9/25 [00:00<00:04,  3.76it/s]Error in similarity calculation: Collection f2aa5041-c234-418e-8491-37367cf5e391 does not exist.\n",
      "Average Metric: 0.00 / 2 (0.0%):  40%|██████████████████████████████████▍                                                   | 10/25 [00:00<00:03,  3.76it/s]Error in similarity calculation: Collection 0f58c7bc-613c-4133-bffc-a1946f4963e0 does not exist.\n",
      "Average Metric: 0.00 / 16 (0.0%): 100%|█████████████████████████████████████████████████████████████████████████████████████| 25/25 [00:05<00:00,  4.27it/s]"
     ]
    },
    {
     "name": "stderr",
     "output_type": "stream",
     "text": [
      "2025/01/11 18:04:15 INFO dspy.evaluate.evaluate: Average Metric: 0.0 / 25 (0.0%)\n",
      "2025/01/11 18:04:15 INFO dspy.teleprompt.mipro_optimizer_v2: Score: 0.0 on minibatch of size 25 with parameters ['Predictor 0: Instruction 6', 'Predictor 0: Few-Shot Set 2'].\n",
      "2025/01/11 18:04:15 INFO dspy.teleprompt.mipro_optimizer_v2: Minibatch scores so far: [0.0, 0.0, 0.0, 0.0, 0.0, 0.0, 0.0, 0.0, 0.0, 0.0, 0.0, 0.0]\n",
      "2025/01/11 18:04:15 INFO dspy.teleprompt.mipro_optimizer_v2: Full eval scores so far: [0.0, 0.0]\n",
      "2025/01/11 18:04:15 INFO dspy.teleprompt.mipro_optimizer_v2: Best full score so far: 0.0\n",
      "2025/01/11 18:04:15 INFO dspy.teleprompt.mipro_optimizer_v2: =============================\n",
      "\n",
      "\n",
      "2025/01/11 18:04:15 INFO dspy.teleprompt.mipro_optimizer_v2: == Minibatch Trial 13 / 30 ==\n",
      "2025/01/11 18:04:15 INFO dspy.teleprompt.mipro_optimizer_v2: Evaluating the following candidate program...\n",
      "\n"
     ]
    },
    {
     "name": "stdout",
     "output_type": "stream",
     "text": [
      "\n",
      "Predictor 0\n",
      "i: Generate a markdown-formatted video transcript of approximately 250 words for the introduction of a course on the specified topic, ensuring it is engaging and informative while clearly communicating the course's purpose and content to prospective students.\n",
      "p: Intro Video:\n",
      "\n",
      "\n",
      "Average Metric: 0.00 / 1 (0.0%):   4%|███▍                                                                                   | 1/25 [00:02<01:05,  2.74s/it]Error in similarity calculation: Collection c39bb96a-4832-4f22-9790-cc1e78981492 does not exist.\n",
      "Average Metric: 0.00 / 2 (0.0%):   8%|██████▉                                                                                | 2/25 [00:02<00:28,  1.25s/it]Error in similarity calculation: Collection d0172cc6-9933-4b0c-aa0d-35fae08d9c11 does not exist.\n",
      "Average Metric: 0.00 / 3 (0.0%):   8%|██████▉                                                                                | 2/25 [00:02<00:28,  1.25s/it]Error in similarity calculation: Collection 0e5f826a-9814-46d7-b12a-e772d723412d does not exist.\n",
      "Average Metric: 0.00 / 4 (0.0%):  12%|██████████▍                                                                            | 3/25 [00:02<00:27,  1.25s/it]Error in similarity calculation: Collection c4622692-e42b-4012-a35f-6f67cc29ac76 does not exist.\n",
      "Average Metric: 0.00 / 5 (0.0%):  16%|█████████████▉                                                                         | 4/25 [00:03<00:26,  1.25s/it]Error in similarity calculation: Collection 298d6c02-b8fe-4d9f-bd32-073c7009dcde does not exist.\n",
      "Average Metric: 0.00 / 6 (0.0%):  24%|████████████████████▉                                                                  | 6/25 [00:03<00:05,  3.25it/s]Error in similarity calculation: Collection 4754f7dd-f35f-4ac8-bf47-e7a4290fdbca does not exist.\n",
      "Average Metric: 0.00 / 7 (0.0%):  24%|████████████████████▉                                                                  | 6/25 [00:03<00:05,  3.25it/s]Error in similarity calculation: Collection 0cf11937-f06a-4ea4-865a-5158a67a0192 does not exist.\n",
      "Average Metric: 0.00 / 8 (0.0%):  28%|████████████████████████▎                                                              | 7/25 [00:03<00:05,  3.25it/s]Error in similarity calculation: Collection a71d1a5c-6989-4e24-942a-9ac2ebc7f142 does not exist.\n",
      "Average Metric: 0.00 / 9 (0.0%):  32%|███████████████████████████▊                                                           | 8/25 [00:03<00:05,  3.25it/s]Error in similarity calculation: Collection 07ed7e77-81d9-4fe0-b57c-923eddc683f5 does not exist.\n",
      "Average Metric: 0.00 / 10 (0.0%):  40%|██████████████████████████████████                                                   | 10/25 [00:03<00:02,  6.11it/s]Error in similarity calculation: Collection 03b2d6ac-ccb5-44ec-82be-677d384840d2 does not exist.\n",
      "Average Metric: 0.00 / 11 (0.0%):  40%|██████████████████████████████████                                                   | 10/25 [00:03<00:02,  6.11it/s]Error in similarity calculation: Collection ab290ba7-8e99-4356-928a-6deafe0cfafe does not exist.\n",
      "Average Metric: 0.00 / 12 (0.0%):  44%|█████████████████████████████████████▍                                               | 11/25 [00:03<00:02,  6.11it/s]Error in similarity calculation: Collection cfcef633-7ae0-4e89-8acc-2142b6da2724 does not exist.\n",
      "Average Metric: 0.00 / 13 (0.0%):  48%|████████████████████████████████████████▊                                            | 12/25 [00:03<00:02,  6.11it/s]Error in similarity calculation: Collection 59752007-82a5-42ab-9184-b2343640e467 does not exist.\n",
      "Average Metric: 0.00 / 14 (0.0%):  52%|████████████████████████████████████████████▏                                        | 13/25 [00:03<00:01,  6.11it/s]Error in similarity calculation: Collection 689fc2ec-e96b-4059-afab-8f3c6488f366 not found\n",
      "Average Metric: 0.00 / 15 (0.0%):  56%|███████████████████████████████████████████████▌                                     | 14/25 [00:03<00:01,  6.11it/s]Error in similarity calculation: Collection 97556bb3-d56c-422a-80ff-4c6ac6fb84c4 not found\n",
      "Average Metric: 0.00 / 17 (0.0%):  64%|██████████████████████████████████████████████████████▍                              | 16/25 [00:03<00:00, 11.49it/s]Error in similarity calculation: Collection 4c64d6a8-2289-4aa1-b41e-8a33dc4f6639 does not exist.\n",
      "Average Metric: 0.00 / 18 (0.0%):  68%|█████████████████████████████████████████████████████████▊                           | 17/25 [00:03<00:00, 11.49it/s]Error in similarity calculation: Collection aeb90579-4140-4c51-bc50-2a78d281f99f does not exist.\n",
      "Average Metric: 0.00 / 25 (0.0%): 100%|█████████████████████████████████████████████████████████████████████████████████████| 25/25 [00:06<00:00,  4.10it/s]"
     ]
    },
    {
     "name": "stderr",
     "output_type": "stream",
     "text": [
      "2025/01/11 18:04:21 INFO dspy.evaluate.evaluate: Average Metric: 0 / 25 (0.0%)\n",
      "2025/01/11 18:04:21 INFO dspy.teleprompt.mipro_optimizer_v2: Score: 0.0 on minibatch of size 25 with parameters ['Predictor 0: Instruction 5', 'Predictor 0: Few-Shot Set 2'].\n",
      "2025/01/11 18:04:21 INFO dspy.teleprompt.mipro_optimizer_v2: Minibatch scores so far: [0.0, 0.0, 0.0, 0.0, 0.0, 0.0, 0.0, 0.0, 0.0, 0.0, 0.0, 0.0, 0.0]\n",
      "2025/01/11 18:04:21 INFO dspy.teleprompt.mipro_optimizer_v2: Full eval scores so far: [0.0, 0.0]\n",
      "2025/01/11 18:04:21 INFO dspy.teleprompt.mipro_optimizer_v2: Best full score so far: 0.0\n",
      "2025/01/11 18:04:21 INFO dspy.teleprompt.mipro_optimizer_v2: =============================\n",
      "\n",
      "\n",
      "2025/01/11 18:04:21 INFO dspy.teleprompt.mipro_optimizer_v2: == Minibatch Trial 14 / 30 ==\n",
      "2025/01/11 18:04:21 INFO dspy.teleprompt.mipro_optimizer_v2: Evaluating the following candidate program...\n",
      "\n"
     ]
    },
    {
     "name": "stdout",
     "output_type": "stream",
     "text": [
      "\n",
      "Predictor 0\n",
      "i: Generate a markdown-formatted video transcript for the introduction of a course on the specified topic. The transcript should be approximately 250 words and should effectively communicate the course's purpose and content while engaging prospective students. Include a reasoning section that outlines the thought process behind the content creation, ensuring the introduction is relatable and applicable to real-world scenarios.\n",
      "p: Intro Video:\n",
      "\n",
      "\n",
      "Average Metric: 0.00 / 3 (0.0%):  12%|██████████▍                                                                            | 3/25 [00:03<00:17,  1.23it/s]Error in similarity calculation: Collection 8f641bce-3007-491e-bcc7-c8d0f7ef627e does not exist.\n",
      "Average Metric: 0.00 / 4 (0.0%):  12%|██████████▍                                                                            | 3/25 [00:03<00:17,  1.23it/s]Error in similarity calculation: Collection 45e6a394-92a2-4142-9203-f43a8ffa5222 does not exist.\n",
      "Average Metric: 0.00 / 5 (0.0%):  16%|█████████████▉                                                                         | 4/25 [00:03<00:17,  1.23it/s]Error in similarity calculation: Collection 2dc0a416-caaa-40e8-9477-b2a9fa527164 does not exist.\n",
      "Average Metric: 0.00 / 7 (0.0%):  28%|████████████████████████▎                                                              | 7/25 [00:03<00:05,  3.33it/s]Error in similarity calculation: Collection 0c8751a7-97fc-4a2d-8940-c5aa03b2de8c does not exist.\n",
      "Average Metric: 0.00 / 8 (0.0%):  32%|███████████████████████████▊                                                           | 8/25 [00:04<00:07,  2.36it/s]Error in similarity calculation: Collection f1fad8eb-ef6f-490d-bd36-d6fafcd94c88 does not exist.\n",
      "Average Metric: 0.00 / 9 (0.0%):  32%|███████████████████████████▊                                                           | 8/25 [00:04<00:07,  2.36it/s]Error in similarity calculation: Collection 35840e8e-c730-4b2b-b785-58d418a22fbc does not exist.\n",
      "Average Metric: 0.00 / 10 (0.0%):  36%|██████████████████████████████▉                                                       | 9/25 [00:04<00:06,  2.36it/s]Error in similarity calculation: Collection a5700e26-7b92-4b4c-9c17-a99a6d2014ac does not exist.\n",
      "Average Metric: 0.00 / 11 (0.0%):  44%|█████████████████████████████████████▍                                               | 11/25 [00:04<00:03,  4.14it/s]Error in similarity calculation: Collection 2b71f2f2-47ee-44a9-bad5-39f468d4c881 does not exist.\n",
      "Average Metric: 0.00 / 12 (0.0%):  44%|█████████████████████████████████████▍                                               | 11/25 [00:04<00:03,  4.14it/s]Error in similarity calculation: Collection c1ef4cf1-1721-4cd1-804b-bd74753458fa does not exist.\n",
      "Average Metric: 0.00 / 15 (0.0%):  56%|███████████████████████████████████████████████▌                                     | 14/25 [00:05<00:01,  6.17it/s]Error in similarity calculation: Collection d8caa1d6-915a-4177-a866-b1c61a4aaaf6 does not exist.\n",
      "Average Metric: 0.00 / 16 (0.0%):  64%|██████████████████████████████████████████████████████▍                              | 16/25 [00:05<00:01,  5.64it/s]Error in similarity calculation: Collection c5231fb3-170b-4c53-abfe-0931c31d08c2 does not exist.\n",
      "Average Metric: 0.00 / 17 (0.0%):  64%|██████████████████████████████████████████████████████▍                              | 16/25 [00:05<00:01,  5.64it/s]Error in similarity calculation: Collection 47213c5d-0114-4661-bc34-5cd935c1201a does not exist.\n",
      "Average Metric: 0.00 / 25 (0.0%): 100%|█████████████████████████████████████████████████████████████████████████████████████| 25/25 [00:12<00:00,  1.98it/s]"
     ]
    },
    {
     "name": "stderr",
     "output_type": "stream",
     "text": [
      "2025/01/11 18:04:34 INFO dspy.evaluate.evaluate: Average Metric: 0 / 25 (0.0%)\n",
      "2025/01/11 18:04:34 INFO dspy.teleprompt.mipro_optimizer_v2: Score: 0.0 on minibatch of size 25 with parameters ['Predictor 0: Instruction 6', 'Predictor 0: Few-Shot Set 1'].\n",
      "2025/01/11 18:04:34 INFO dspy.teleprompt.mipro_optimizer_v2: Minibatch scores so far: [0.0, 0.0, 0.0, 0.0, 0.0, 0.0, 0.0, 0.0, 0.0, 0.0, 0.0, 0.0, 0.0, 0.0]\n",
      "2025/01/11 18:04:34 INFO dspy.teleprompt.mipro_optimizer_v2: Full eval scores so far: [0.0, 0.0]\n",
      "2025/01/11 18:04:34 INFO dspy.teleprompt.mipro_optimizer_v2: Best full score so far: 0.0\n",
      "2025/01/11 18:04:34 INFO dspy.teleprompt.mipro_optimizer_v2: =============================\n",
      "\n",
      "\n",
      "2025/01/11 18:04:34 INFO dspy.teleprompt.mipro_optimizer_v2: == Minibatch Trial 15 / 30 ==\n",
      "2025/01/11 18:04:34 INFO dspy.teleprompt.mipro_optimizer_v2: Evaluating the following candidate program...\n",
      "\n"
     ]
    },
    {
     "name": "stdout",
     "output_type": "stream",
     "text": [
      "\n",
      "Predictor 0\n",
      "i: You are an experienced educator creating an engaging introduction for a course. Write a video transcript for the intro video to a course on the given topic. Ensure the transcript is approximately 250 words and is formatted in markdown. Use personal storytelling and practical examples to enhance relatability, and aim to promote a growth mindset while encouraging learner interaction.\n",
      "p: Intro Video:\n",
      "\n",
      "\n",
      "  0%|                                                                                                                                | 0/25 [00:00<?, ?it/s]Error in similarity calculation: Collection 483ce944-0ffb-4f57-96eb-b835b57bfd63 does not exist.\n",
      "Average Metric: 0.00 / 1 (0.0%):   4%|███▍                                                                                   | 1/25 [00:02<01:10,  2.96s/it]Error in similarity calculation: Collection 7d74e8b3-2ec0-43d8-a6ce-a0d8afc78932 does not exist.\n",
      "Average Metric: 0.00 / 6 (0.0%):  24%|████████████████████▉                                                                  | 6/25 [00:03<00:06,  2.78it/s]Error in similarity calculation: Collection c4e86b48-5b52-4321-a9c1-1a527896228d does not exist.\n",
      "Average Metric: 0.00 / 7 (0.0%):  24%|████████████████████▉                                                                  | 6/25 [00:03<00:06,  2.78it/s]Error in similarity calculation: Collection 5f679ed6-cb7b-4bec-a5f8-f7e10dec3052 does not exist.\n",
      "Average Metric: 0.00 / 8 (0.0%):  28%|████████████████████████▎                                                              | 7/25 [00:03<00:06,  2.78it/s]"
     ]
    },
    {
     "name": "stderr",
     "output_type": "stream",
     "text": [
      "2025/01/11 18:04:38 ERROR dspy.utils.parallelizer: Error processing item Example({'topic': 'Azure AI Engineer Associate (AI-102) Cert Prep: Implement Knowledge Mining Solutions and Document Intelligence Solutions', 'intro_video': \"- Data is not always neatly structured\\nin a SQL database or a perfectly formatted table.\\nOrganizations depend on quickly and accurately\\nquerying unstructured data from things\\nlike PDFs, images, PowerPoints,\\nand even just text files in different languages.\\nAzure AI search and document intelligence\\nare powerful tool sets to help you discover\\nthe opportunity embedded within your data.\\nIn this course, we will be covering\\nhow to implement a knowledge mining solution\\nwith AI enrichments to different types of data sources.\\n\\nNow, this course is part of the learning track\\nfor sitting the exam AI-102, which is required\\nfor the Azure AI engineer associate certification.\\nI'll focus on exam topics for implementing\\na cognitive search solution and AI document intelligence.\\nAlong the way, I'll highlight important concepts\\nand walk you through demonstrations\\nto show you how these products are used in real life.\\nHi, I'm Akanksha Malik, a data consultant\\nand Microsoft AI MVP, and an international speaker.\\n\\nI want to help you use the tools\\nand techniques taught in this course\\nto help you distinguish yourself\\nby making more informed decisions with your data.\\nLet's get started.\\n\"}) (input_keys={'topic', 'intro_video'}): Collection similarity_test already exists. Set `provide_traceback=True` to see the stack trace.\n"
     ]
    },
    {
     "name": "stdout",
     "output_type": "stream",
     "text": [
      "Average Metric: 0.00 / 8 (0.0%):  36%|███████████████████████████████▎                                                       | 9/25 [00:03<00:02,  5.34it/s]Error in similarity calculation: Collection be1360dc-9b82-41e2-8c30-3efc87821eb1 does not exist.\n",
      "Average Metric: 0.00 / 9 (0.0%):  36%|███████████████████████████████▎                                                       | 9/25 [00:03<00:02,  5.34it/s]Error in similarity calculation: Collection 5a1aa9df-bde9-4993-90e0-91f1d2405f18 does not exist.\n",
      "Average Metric: 0.00 / 10 (0.0%):  40%|██████████████████████████████████                                                   | 10/25 [00:03<00:02,  5.34it/s]Error in similarity calculation: Collection 2eda6e0e-7469-4aa9-b249-e7cea3fd6223 does not exist.\n",
      "Error in similarity calculation: Collection 9ef428a6-3aa0-47f3-84a8-62b562b63a57 not found\n",
      "Average Metric: 0.00 / 13 (0.0%):  52%|████████████████████████████████████████████▏                                        | 13/25 [00:03<00:01,  8.19it/s]Error in similarity calculation: Collection 3e88ef5b-64cc-44a6-b16e-bf0aa068d84c does not exist.\n",
      "Average Metric: 0.00 / 14 (0.0%):  60%|███████████████████████████████████████████████████                                  | 15/25 [00:03<00:01,  9.83it/s]Error in similarity calculation: Collection 16064e81-2a74-44d9-9d90-08e997c1c3db does not exist.\n",
      "Average Metric: 0.00 / 24 (0.0%): 100%|█████████████████████████████████████████████████████████████████████████████████████| 25/25 [00:07<00:00,  3.47it/s]"
     ]
    },
    {
     "name": "stderr",
     "output_type": "stream",
     "text": [
      "2025/01/11 18:04:42 INFO dspy.evaluate.evaluate: Average Metric: 0.0 / 25 (0.0%)\n",
      "2025/01/11 18:04:42 INFO dspy.teleprompt.mipro_optimizer_v2: Score: 0.0 on minibatch of size 25 with parameters ['Predictor 0: Instruction 1', 'Predictor 0: Few-Shot Set 6'].\n",
      "2025/01/11 18:04:42 INFO dspy.teleprompt.mipro_optimizer_v2: Minibatch scores so far: [0.0, 0.0, 0.0, 0.0, 0.0, 0.0, 0.0, 0.0, 0.0, 0.0, 0.0, 0.0, 0.0, 0.0, 0.0]\n",
      "2025/01/11 18:04:42 INFO dspy.teleprompt.mipro_optimizer_v2: Full eval scores so far: [0.0, 0.0]\n",
      "2025/01/11 18:04:42 INFO dspy.teleprompt.mipro_optimizer_v2: Best full score so far: 0.0\n",
      "2025/01/11 18:04:42 INFO dspy.teleprompt.mipro_optimizer_v2: =============================\n",
      "\n",
      "\n",
      "2025/01/11 18:04:42 INFO dspy.teleprompt.mipro_optimizer_v2: == Minibatch Trial 16 / 30 ==\n",
      "2025/01/11 18:04:42 INFO dspy.teleprompt.mipro_optimizer_v2: Evaluating the following candidate program...\n",
      "\n"
     ]
    },
    {
     "name": "stdout",
     "output_type": "stream",
     "text": [
      "\n",
      "Predictor 0\n",
      "i: Generate a markdown-formatted video transcript for the introduction of a course on the specified topic. The transcript should be approximately 250 words and should effectively communicate the course's purpose and content while engaging prospective students. Include a reasoning section that outlines the thought process behind the content creation, ensuring the introduction is relatable and applicable to real-world scenarios.\n",
      "p: Intro Video:\n",
      "\n",
      "\n",
      "  0%|                                                                                                                                | 0/25 [00:00<?, ?it/s]Error in similarity calculation: Collection aca3bdb1-b321-4752-a40b-091721b9579c does not exist.\n",
      "Average Metric: 0.00 / 1 (0.0%):   4%|███▍                                                                                   | 1/25 [00:03<01:13,  3.05s/it]Error in similarity calculation: Collection 8da60f62-f739-479f-98eb-c9765fb39dee does not exist.\n",
      "Average Metric: 0.00 / 2 (0.0%):   4%|███▍                                                                                   | 1/25 [00:03<01:13,  3.05s/it]Error in similarity calculation: Collection ca6c8a3f-aa23-4c13-94c7-1eca0cdabceb does not exist.\n",
      "Average Metric: 0.00 / 3 (0.0%):  12%|██████████▍                                                                            | 3/25 [00:03<00:18,  1.17it/s]Error in similarity calculation: Collection e0a805c1-235f-4074-871e-6856c6e84bfc does not exist.\n",
      "Average Metric: 0.00 / 6 (0.0%):  24%|████████████████████▉                                                                  | 6/25 [00:03<00:07,  2.69it/s]Error in similarity calculation: Collection c1dc4e12-49e7-4476-a2af-c77fb86fca18 does not exist.\n",
      "Average Metric: 0.00 / 7 (0.0%):  24%|████████████████████▉                                                                  | 6/25 [00:03<00:07,  2.69it/s]Error in similarity calculation: Collection 6fd07d9c-2cb7-4301-880d-d77db47b7163 does not exist.\n",
      "Average Metric: 0.00 / 8 (0.0%):  28%|████████████████████████▎                                                              | 7/25 [00:03<00:06,  2.69it/s]Error in similarity calculation: Collection da241583-4305-4ed1-9ab1-6c1108acc539 does not exist.\n",
      "Error in similarity calculation: Collection 32e0cad5-7134-461f-a5c4-82799be53cfc not found\n",
      "Average Metric: 0.00 / 10 (0.0%):  36%|██████████████████████████████▉                                                       | 9/25 [00:03<00:03,  4.23it/s]"
     ]
    },
    {
     "name": "stderr",
     "output_type": "stream",
     "text": [
      "2025/01/11 18:04:46 ERROR dspy.utils.parallelizer: Error processing item Example({'topic': 'C# Cross-Platform Development', 'intro_video': \" - Hi, my name is Jesse Freeman,  \\n and in this course you'll build a cross platform,  \\n note taking console app called HelloNote,  \\n using .NET7 and Visual Studio.  \\n You'll be introduced to essential .NET development practices  \\n such as the command pattern, create, read, update,  \\n and delete operations, data modeling with EF Core,  \\n and setting up an SQLite database.  \\n In addition, we'll also explore more advanced features  \\n like establishing relationships between data models,  \\n and implementing a search functionality.  \\n By the end of this course, you'll have a solid understanding  \\n of .NET application development.  \\n Now let's get started.  \\n \\n\\n\"}) (input_keys={'topic', 'intro_video'}): Collection similarity_test already exists. Set `provide_traceback=True` to see the stack trace.\n"
     ]
    },
    {
     "name": "stdout",
     "output_type": "stream",
     "text": [
      "Average Metric: 0.00 / 10 (0.0%):  40%|██████████████████████████████████                                                   | 10/25 [00:03<00:03,  4.23it/s]Error in similarity calculation: Collection ef991e96-d97a-40e4-b69d-dbd0359e0d77 does not exist.\n",
      "Average Metric: 0.00 / 11 (0.0%):  44%|█████████████████████████████████████▍                                               | 11/25 [00:03<00:03,  4.23it/s]Error in similarity calculation: Collection 365e0975-37ba-4220-9186-721584fcd781 does not exist.\n",
      "Average Metric: 0.00 / 15 (0.0%):  64%|██████████████████████████████████████████████████████▍                              | 16/25 [00:04<00:01,  5.48it/s]Error in similarity calculation: Collection 976d810e-8b64-4648-95a9-c283493d08c5 not found\n",
      "Average Metric: 0.00 / 18 (0.0%):  76%|████████████████████████████████████████████████████████████████▌                    | 19/25 [00:04<00:00,  6.57it/s]Error in similarity calculation: Collection b3cf8250-6eed-4711-8675-3aaebdd8ee0d does not exist.\n",
      "Average Metric: 0.00 / 19 (0.0%):  80%|████████████████████████████████████████████████████████████████████                 | 20/25 [00:05<00:00,  5.56it/s]Error in similarity calculation: Collection 1f10bc70-52ad-4a70-b1eb-bc2b8f04450d does not exist.\n",
      "Average Metric: 0.00 / 24 (0.0%): 100%|█████████████████████████████████████████████████████████████████████████████████████| 25/25 [00:07<00:00,  3.31it/s]"
     ]
    },
    {
     "name": "stderr",
     "output_type": "stream",
     "text": [
      "2025/01/11 18:04:50 INFO dspy.evaluate.evaluate: Average Metric: 0.0 / 25 (0.0%)\n",
      "2025/01/11 18:04:50 INFO dspy.teleprompt.mipro_optimizer_v2: Score: 0.0 on minibatch of size 25 with parameters ['Predictor 0: Instruction 6', 'Predictor 0: Few-Shot Set 9'].\n",
      "2025/01/11 18:04:50 INFO dspy.teleprompt.mipro_optimizer_v2: Minibatch scores so far: [0.0, 0.0, 0.0, 0.0, 0.0, 0.0, 0.0, 0.0, 0.0, 0.0, 0.0, 0.0, 0.0, 0.0, 0.0, 0.0]\n",
      "2025/01/11 18:04:50 INFO dspy.teleprompt.mipro_optimizer_v2: Full eval scores so far: [0.0, 0.0]\n",
      "2025/01/11 18:04:50 INFO dspy.teleprompt.mipro_optimizer_v2: Best full score so far: 0.0\n",
      "2025/01/11 18:04:50 INFO dspy.teleprompt.mipro_optimizer_v2: =============================\n",
      "\n",
      "\n",
      "2025/01/11 18:04:50 INFO dspy.teleprompt.mipro_optimizer_v2: == Minibatch Trial 17 / 30 ==\n",
      "2025/01/11 18:04:50 INFO dspy.teleprompt.mipro_optimizer_v2: Evaluating the following candidate program...\n",
      "\n"
     ]
    },
    {
     "name": "stdout",
     "output_type": "stream",
     "text": [
      "\n",
      "Predictor 0\n",
      "i: Generate a markdown-formatted video transcript for the introduction of a course on the specified topic. The transcript should be approximately 250 words and should effectively communicate the course's purpose and content while engaging prospective students. Include a reasoning section that outlines the thought process behind the content creation, ensuring the introduction is relatable and applicable to real-world scenarios.\n",
      "p: Intro Video:\n",
      "\n",
      "\n",
      "  0%|                                                                                                                                | 0/25 [00:00<?, ?it/s]"
     ]
    },
    {
     "name": "stderr",
     "output_type": "stream",
     "text": [
      "2025/01/11 18:04:50 ERROR dspy.utils.parallelizer: Error processing item Example({'topic': 'How to Become a Project Management Entrepreneur', 'intro_video': \" - You might wonder how to build your career,  \\n as an entrepreneur, to last a lifetime  \\n or as long as you want to work.  \\n Becoming a project management entrepreneur is a project  \\n in its own right, which means you can put  \\n your project planning skills to work.  \\n Your planning begins with deciding what you want to do,  \\n whether you focus in an industry, project management role  \\n or project management tool.  \\n With that target in place,  \\n you can work on learning what you need to know,  \\n gaining experience to build your resume  \\n and obtaining certificates to validate your expertise.  \\n Once you begin working as an entrepreneur,  \\n you need to nurture your career in several ways.  \\n Marketing is key to get in work,  \\n and there are many ways to do that,  \\n from building a solid network, promoting the work you do  \\n and working with other organizations and individuals.  \\n In this course, we'll explore options  \\n for each step of your entrepreneurship journey  \\n so you can choose the approaches that fit your situation.  \\n Hi, I'm Seyi Kukoyi also known as Kuks.  \\n I'm an entrepreneur, educator and filmmaker.  \\n I also run a project management firm, Kuks & Co.  \\n My firm specializes in planning and controlling projects,  \\n delivering guidance to help navigate unforeseen delays  \\n and complete projects on time and within budget.  \\n If you're ready to get off the fence and begin your journey,  \\n I invite you to join me  \\n in my Project Management Entrepreneurship course.  \\n \\n\\n\"}) (input_keys={'topic', 'intro_video'}): Collection similarity_test already exists. Set `provide_traceback=True` to see the stack trace.\n"
     ]
    },
    {
     "name": "stdout",
     "output_type": "stream",
     "text": [
      "Average Metric: 0.00 / 0 (0%):   4%|███▌                                                                                     | 1/25 [00:00<00:02,  8.66it/s]"
     ]
    },
    {
     "name": "stderr",
     "output_type": "stream",
     "text": [
      "2025/01/11 18:04:50 ERROR dspy.utils.parallelizer: Error processing item Example({'topic': 'Game Development Foundations: Game-Related Math', 'intro_video': \"- [Jesse] Hello, my name is Jesse Freeman,\\nand in Game Development Foundations: Game-Related Math,\\nwe're going to learn some common mathematical\\ntechniques for building your own games.\\nWhile the content of this course\\napplies to any programming language,\\nwe'll focus specifically on JavaScript\\nto keep the examples easy to follow.\\nIn this course, I'll cover laying out objects,\\nfrom centering them to drawing a grid.\\nNext, we'll cover basic point and bounding box\\ncollision detection, and finally,\\nwe'll wrap up with some commonly used formulas\\nfor displaying health, calculating XP,\\nand animating objects on the screen.\\n\\nI hope you enjoy this course\\nas much as I did making it.\\nNow let's get started.\\n\\n\"}) (input_keys={'topic', 'intro_video'}): Collection similarity_test already exists. Set `provide_traceback=True` to see the stack trace.\n"
     ]
    },
    {
     "name": "stdout",
     "output_type": "stream",
     "text": [
      "Average Metric: 0.00 / 0 (0%):   4%|███▌                                                                                     | 1/25 [00:00<00:02,  8.66it/s]"
     ]
    },
    {
     "name": "stderr",
     "output_type": "stream",
     "text": [
      "2025/01/11 18:04:50 ERROR dspy.utils.parallelizer: Error processing item Example({'topic': 'Financial Record Keeping', 'intro_video': \" - Hi, I'm Jim Stice.  \\n I'm a professor of accounting at Brigham Young University.  \\n This is my brother, Kay.  \\n - I am also a professor of accounting  \\n at Brigham Young University.  \\n - We have been studying bookkeeping  \\n and financial recordkeeping  \\n since way back in our high school days.  \\n - Trust me, that represents many, many,  \\n many years of experience with financial recordkeeping.  \\n - Now, in our younger days,  \\n we even worked as bookkeepers  \\n in both old-fashioned paper-based systems  \\n and modern computerized systems.  \\n - And we've been teaching accounting  \\n to undergraduate students  \\n for a combined total of almost 70 years now.  \\n - Now, in this course,  \\n we will teach you about the importance  \\n of financial recordkeeping.  \\n - We will show you how to construct a set  \\n of forecasted financial statements  \\n as part of a quantitative business plan.  \\n - [Jim] We will also show you  \\n how even the most rudimentary financial records,  \\n handwritten notes on a piece of paper,  \\n can improve your business operations  \\n and make your decision-making process better.  \\n - Now, we've designed this financial recordkeeping course  \\n to be self-contained,  \\n and we carefully explain any terminology that we use.  \\n - In short, this is an introductory course  \\n with no prior accounting knowledge required.  \\n - So let's learn about financial recordkeeping,  \\n the processes and the reports.  \\n \\n\\n\"}) (input_keys={'topic', 'intro_video'}): Collection similarity_test already exists. Set `provide_traceback=True` to see the stack trace.\n"
     ]
    },
    {
     "name": "stdout",
     "output_type": "stream",
     "text": [
      "Average Metric: 0.00 / 0 (0%):   8%|███████                                                                                  | 2/25 [00:00<00:02,  8.66it/s]Error in similarity calculation: \n",
      "Average Metric: 0.00 / 1 (0.0%):  12%|██████████▍                                                                            | 3/25 [00:00<00:02,  8.66it/s]"
     ]
    },
    {
     "name": "stderr",
     "output_type": "stream",
     "text": [
      "2025/01/11 18:04:50 ERROR dspy.utils.parallelizer: Error processing item Example({'topic': 'Interviewing Techniques', 'intro_video': \" - If you're not hiring or placing exceptional talent  \\n it may be because your interview process is not designed  \\n to excite passive candidates.  \\n When was the last time you reviewed your interview process?  \\n Is it time to consider different interview styles?  \\n My name is Barb Bruno.  \\n I've been in the recruiting profession for over 25 years  \\n and my company has placed more than 10,000 people in jobs.  \\n I've trained thousands of recruiters  \\n and talent acquisition professionals on how to improve  \\n their interviewing skills to fill more jobs.  \\n In this course, we're going to talk about the best way  \\n to prepare for an interview.  \\n You'll learn how screening interviews help eliminate bias  \\n and emotion from the process.  \\n We'll also discuss why it's important for you  \\n to understand the opportunity and clarify performance  \\n that will lead to success on the job.  \\n In addition, we'll review the different types  \\n of interviews and provide interview tips as well  \\n as sample lists of the most effective questions to ask  \\n and a scorecard to rate candidates interviewed.  \\n You'll learn how to create brand awareness  \\n and improve the candidate experience that will lead  \\n to increased referrals of top talent.  \\n If you're willing to make subtle changes  \\n to your interviewing techniques to attract the best talent  \\n this course was written for you.  \\n Let's get started.  \\n \\n\\n\"}) (input_keys={'topic', 'intro_video'}): Collection similarity_test already exists. Set `provide_traceback=True` to see the stack trace.\n"
     ]
    },
    {
     "name": "stdout",
     "output_type": "stream",
     "text": [
      "Error in similarity calculation: Collection d32ec2a7-e1b7-4767-a0f3-ebfe4905b8fb does not exist.\n",
      "Average Metric: 0.00 / 1 (0.0%):  16%|█████████████▉                                                                         | 4/25 [00:00<00:02,  8.66it/s]"
     ]
    },
    {
     "name": "stderr",
     "output_type": "stream",
     "text": [
      "2025/01/11 18:04:50 ERROR dspy.utils.parallelizer: Error processing item Example({'topic': 'Implementing the Metaverse', 'intro_video': \" - What is the metaverse  \\n and what does it mean for you and your organization?  \\n The Metaverse is probably one of the most confusing  \\n and hyped up technologies in recent years.  \\n Over the last two decades,  \\n I have worked relentlessly with hundreds  \\n of organizations to help them understand technology better.  \\n And now I can help you understand the Metaverse  \\n through this new LinkedIn Learning course.  \\n We'll cover topics such as marketing, operations, privacy  \\n and more that are part  \\n of making the Metaverse an integral part  \\n of your organization.  \\n And today is a great time to jump in.  \\n \\n\\n\"}) (input_keys={'topic', 'intro_video'}): Collection ac653d76-83f2-49e5-9e2f-85a428be6f0a already exists. Set `provide_traceback=True` to see the stack trace.\n"
     ]
    },
    {
     "name": "stdout",
     "output_type": "stream",
     "text": [
      "Average Metric: 0.00 / 2 (0.0%):  24%|████████████████████▉                                                                  | 6/25 [00:00<00:02,  8.66it/s]Error in similarity calculation: Collection 20eb3d80-3ea6-4aec-a0b5-2343a67b35cc does not exist.\n",
      "Average Metric: 0.00 / 3 (0.0%):  28%|████████████████████████▎                                                              | 7/25 [00:00<00:02,  8.66it/s]Error in similarity calculation: Collection 6e15b658-0331-4c3f-8f7b-04d9a7219c10 does not exist.\n",
      "Average Metric: 0.00 / 4 (0.0%):  32%|███████████████████████████▊                                                           | 8/25 [00:00<00:01,  8.66it/s]"
     ]
    },
    {
     "name": "stderr",
     "output_type": "stream",
     "text": [
      "2025/01/11 18:04:53 ERROR dspy.utils.parallelizer: Error processing item Example({'topic': 'AWS: Automation and Optimization', 'intro_video': \"- [Shyam] AWS provides on-demand\\ncloud computing services that offer compute,\\nstorage, content delivery and other functionality\\nfor a wide variety of use cases.\\nAutomating and optimizing your processes\\ncan lead to enhanced productivity,\\nimproved performance and cost reduction.\\nThis course will walk you through the different\\ncost optimization strategies\\nthat you can employ to build highly-available solutions\\nwith efficient resource utilization.\\nHi, I'm Shyam, and I'd like to welcome you\\nto this course on Amazon Web Services:\\nAutomation and Optimization.\\n\\nI'm a technical instructor and industry specialist\\non networking, cloud computing and security.\\nLet's get started.\\n \\n\\n\"}) (input_keys={'topic', 'intro_video'}): Collection similarity_test already exists. Set `provide_traceback=True` to see the stack trace.\n"
     ]
    },
    {
     "name": "stdout",
     "output_type": "stream",
     "text": [
      "Average Metric: 0.00 / 4 (0.0%):  40%|██████████████████████████████████▍                                                   | 10/25 [00:02<00:04,  3.39it/s]Error in similarity calculation: Collection 1fe70754-df40-42bd-8ec7-6fe294ef2c20 does not exist.\n",
      "Average Metric: 0.00 / 5 (0.0%):  40%|██████████████████████████████████▍                                                   | 10/25 [00:02<00:04,  3.39it/s]Error in similarity calculation: Collection 7d5802fe-3c66-4ce8-9ef7-05dde7aae0c9 does not exist.\n",
      "Average Metric: 0.00 / 7 (0.0%):  52%|████████████████████████████████████████████▋                                         | 13/25 [00:03<00:02,  4.24it/s]Error in similarity calculation: Collection 09735fa6-d8a0-47f7-85ac-87f4a83bfc50 does not exist.\n",
      "Average Metric: 0.00 / 8 (0.0%):  56%|████████████████████████████████████████████████▏                                     | 14/25 [00:03<00:02,  4.26it/s]Error in similarity calculation: Collection f94b15a8-7340-4012-b83b-2e10c6852fbd does not exist.\n",
      "Average Metric: 0.00 / 12 (0.0%):  72%|█████████████████████████████████████████████████████████████▏                       | 18/25 [00:04<00:01,  5.09it/s]Error in similarity calculation: Collection f4fa9aec-ca23-4c5a-80e7-ff4cc5ed5336 does not exist.\n",
      "Average Metric: 0.00 / 13 (0.0%):  76%|████████████████████████████████████████████████████████████████▌                    | 19/25 [00:04<00:01,  3.68it/s]Error in similarity calculation: Collection 5e19c722-0078-4a34-b410-98f967efaaea does not exist.\n",
      "Average Metric: 0.00 / 14 (0.0%):  76%|████████████████████████████████████████████████████████████████▌                    | 19/25 [00:04<00:01,  3.68it/s]Error in similarity calculation: Collection fc452dc7-aa7f-4994-80bb-a80869b1fc96 does not exist.\n",
      "Average Metric: 0.00 / 15 (0.0%):  84%|███████████████████████████████████████████████████████████████████████▍             | 21/25 [00:04<00:00,  4.46it/s]Error in similarity calculation: Collection ed7d6504-4952-4eec-83f8-efac7b8b353c does not exist.\n",
      "Average Metric: 0.00 / 19 (0.0%): 100%|█████████████████████████████████████████████████████████████████████████████████████| 25/25 [00:08<00:00,  2.94it/s]"
     ]
    },
    {
     "name": "stderr",
     "output_type": "stream",
     "text": [
      "2025/01/11 18:04:59 INFO dspy.evaluate.evaluate: Average Metric: 0.0 / 25 (0.0%)\n",
      "2025/01/11 18:04:59 INFO dspy.teleprompt.mipro_optimizer_v2: Score: 0.0 on minibatch of size 25 with parameters ['Predictor 0: Instruction 7', 'Predictor 0: Few-Shot Set 2'].\n",
      "2025/01/11 18:04:59 INFO dspy.teleprompt.mipro_optimizer_v2: Minibatch scores so far: [0.0, 0.0, 0.0, 0.0, 0.0, 0.0, 0.0, 0.0, 0.0, 0.0, 0.0, 0.0, 0.0, 0.0, 0.0, 0.0, 0.0]\n",
      "2025/01/11 18:04:59 INFO dspy.teleprompt.mipro_optimizer_v2: Full eval scores so far: [0.0, 0.0]\n",
      "2025/01/11 18:04:59 INFO dspy.teleprompt.mipro_optimizer_v2: Best full score so far: 0.0\n",
      "2025/01/11 18:04:59 INFO dspy.teleprompt.mipro_optimizer_v2: =============================\n",
      "\n",
      "\n",
      "2025/01/11 18:04:59 INFO dspy.teleprompt.mipro_optimizer_v2: == Minibatch Trial 18 / 30 ==\n",
      "2025/01/11 18:04:59 INFO dspy.teleprompt.mipro_optimizer_v2: Evaluating the following candidate program...\n",
      "\n"
     ]
    },
    {
     "name": "stdout",
     "output_type": "stream",
     "text": [
      "\n",
      "Predictor 0\n",
      "i: Create an engaging and informative video transcript for the introductory segment of a course centered on the specified topic. The transcript should be approximately 250 words long, formatted in markdown, and should effectively convey the course's objectives, key themes, and the importance of the topic in a relatable manner that encourages prospective students to enroll. Include elements of storytelling and highlight the integration of practical skills and ethical considerations to foster a growth mindset.\n",
      "p: Intro Video:\n",
      "\n",
      "\n",
      "  0%|                                                                                                                                | 0/25 [00:00<?, ?it/s]"
     ]
    },
    {
     "name": "stderr",
     "output_type": "stream",
     "text": [
      "2025/01/11 18:05:03 ERROR dspy.utils.parallelizer: Error processing item Example({'topic': 'Generative AI for Product Managers', 'intro_video': \" - Ever wonder how GenAI can transform product management?  \\n Beyond just creating content like images or music,  \\n this advanced AI has the power to revolutionize  \\n the products you bring to life.  \\n Leveraging AI can enhance or amplify your impact  \\n throughout the entire product development lifecycle.  \\n But in what ways and when should you integrate AI  \\n into your workflow?  \\n Hello, I'm Marily Nika.  \\n I am an AI product lead in big tech companies  \\n like Meta and Google, with a passion  \\n for bringing AI products to life.  \\n Having ventured deep into AI for over a decade,  \\n I have identified the best ways and the best prompts  \\n for GenAI to make me a better PM.  \\n I now work smarter, faster,  \\n and launch better and more impactful products because of it.  \\n Join me now as we explore how AI  \\n can enhance your day-to-day as a product manager.  \\n \\n\\n\"}) (input_keys={'topic', 'intro_video'}): Collection similarity_test already exists. Set `provide_traceback=True` to see the stack trace.\n"
     ]
    },
    {
     "name": "stdout",
     "output_type": "stream",
     "text": [
      "Average Metric: 0.00 / 0 (0%):   4%|███▌                                                                                     | 1/25 [00:04<01:49,  4.57s/it]Error in similarity calculation: Collection 42534ab5-bb88-4ff3-8a01-a34f6d6ddc79 does not exist.\n",
      "Average Metric: 0.00 / 1 (0.0%):   4%|███▍                                                                                   | 1/25 [00:04<01:49,  4.57s/it]Error in similarity calculation: Collection d7bb8690-528a-4b77-9114-8b360efbeb71 does not exist.\n",
      "Average Metric: 0.00 / 2 (0.0%):   8%|██████▉                                                                                | 2/25 [00:04<01:45,  4.57s/it]Error in similarity calculation: Collection 3371f212-779e-448e-9a28-5d7e0cfae06d does not exist.\n",
      "Average Metric: 0.00 / 3 (0.0%):  16%|█████████████▉                                                                         | 4/25 [00:04<00:19,  1.09it/s]Error in similarity calculation: Collection 9501e716-f489-4835-8306-1d99e164537c does not exist.\n",
      "Average Metric: 0.00 / 4 (0.0%):  16%|█████████████▉                                                                         | 4/25 [00:04<00:19,  1.09it/s]Error in similarity calculation: Collection 758d1224-dfdc-4cd1-a969-bf31bad0aaf9 does not exist.\n",
      "Average Metric: 0.00 / 5 (0.0%):  20%|█████████████████▍                                                                     | 5/25 [00:04<00:18,  1.09it/s]Error in similarity calculation: Collection 04f457f4-30cb-4922-ac74-7c32145f453b does not exist.\n",
      "Average Metric: 0.00 / 6 (0.0%):  28%|████████████████████████▎                                                              | 7/25 [00:04<00:08,  2.18it/s]Error in similarity calculation: Collection 37324080-3a27-4031-857e-0ab4cb2cde1c does not exist.\n",
      "Average Metric: 0.00 / 7 (0.0%):  28%|████████████████████████▎                                                              | 7/25 [00:04<00:08,  2.18it/s]Error in similarity calculation: Collection 06c2b43f-24f4-41c1-a183-68b0d1abfa7a does not exist.\n",
      "Average Metric: 0.00 / 8 (0.0%):  32%|███████████████████████████▊                                                           | 8/25 [00:04<00:07,  2.18it/s]Error in similarity calculation: Collection 2230dd38-b58f-4411-b2ea-b2f6bbe25f43 does not exist.\n",
      "Average Metric: 0.00 / 9 (0.0%):  36%|███████████████████████████████▎                                                       | 9/25 [00:05<00:07,  2.18it/s]Error in similarity calculation: Collection f06b00c1-918a-46cb-b6f6-47aa14e53866 does not exist.\n",
      "Average Metric: 0.00 / 12 (0.0%):  48%|████████████████████████████████████████▊                                            | 12/25 [00:05<00:03,  4.15it/s]Error in similarity calculation: Collection c605ab21-0e14-4e7d-80ca-7b9e2ddc0f88 does not exist.\n",
      "Error in similarity calculation: Collection 97cbda12-d2fc-486e-8d3d-ad9fbe0c0055 does not exist.\n",
      "Average Metric: 0.00 / 14 (0.0%):  56%|███████████████████████████████████████████████▌                                     | 14/25 [00:05<00:02,  5.03it/s]Error in similarity calculation: Collection a25293df-f33b-490c-bb6f-311acc7869d8 does not exist.\n",
      "Average Metric: 0.00 / 15 (0.0%):  60%|███████████████████████████████████████████████████                                  | 15/25 [00:05<00:01,  5.03it/s]Error in similarity calculation: Collection 92dcaec5-1fad-4ee3-baeb-6f1298a51888 does not exist.\n",
      "Average Metric: 0.00 / 16 (0.0%):  64%|██████████████████████████████████████████████████████▍                              | 16/25 [00:05<00:01,  5.03it/s]Error in similarity calculation: Collection bde627e9-4797-4465-a5a2-2489630ebe2b not found\n",
      "Average Metric: 0.00 / 24 (0.0%): 100%|█████████████████████████████████████████████████████████████████████████████████████| 25/25 [00:14<00:00,  1.78it/s]"
     ]
    },
    {
     "name": "stderr",
     "output_type": "stream",
     "text": [
      "2025/01/11 18:05:13 INFO dspy.evaluate.evaluate: Average Metric: 0.0 / 25 (0.0%)\n",
      "2025/01/11 18:05:13 INFO dspy.teleprompt.mipro_optimizer_v2: Score: 0.0 on minibatch of size 25 with parameters ['Predictor 0: Instruction 8', 'Predictor 0: Few-Shot Set 0'].\n",
      "2025/01/11 18:05:13 INFO dspy.teleprompt.mipro_optimizer_v2: Minibatch scores so far: [0.0, 0.0, 0.0, 0.0, 0.0, 0.0, 0.0, 0.0, 0.0, 0.0, 0.0, 0.0, 0.0, 0.0, 0.0, 0.0, 0.0, 0.0]\n",
      "2025/01/11 18:05:13 INFO dspy.teleprompt.mipro_optimizer_v2: Full eval scores so far: [0.0, 0.0]\n",
      "2025/01/11 18:05:13 INFO dspy.teleprompt.mipro_optimizer_v2: Best full score so far: 0.0\n",
      "2025/01/11 18:05:13 INFO dspy.teleprompt.mipro_optimizer_v2: =============================\n",
      "\n",
      "\n",
      "2025/01/11 18:05:13 INFO dspy.teleprompt.mipro_optimizer_v2: == Minibatch Trial 19 / 30 ==\n",
      "2025/01/11 18:05:13 INFO dspy.teleprompt.mipro_optimizer_v2: Evaluating the following candidate program...\n",
      "\n"
     ]
    },
    {
     "name": "stdout",
     "output_type": "stream",
     "text": [
      "\n",
      "Predictor 0\n",
      "i: Create an engaging and informative video transcript for the introductory segment of a course centered on the specified topic. The transcript should be approximately 250 words long, formatted in markdown, and should effectively convey the course's objectives, key themes, and the importance of the topic in a relatable manner that encourages prospective students to enroll. Include elements of storytelling and highlight the integration of practical skills and ethical considerations to foster a growth mindset.\n",
      "p: Intro Video:\n",
      "\n",
      "\n",
      "Average Metric: 0.00 / 1 (0.0%):   4%|███▍                                                                                   | 1/25 [00:03<01:23,  3.49s/it]Error in similarity calculation: Collection 4eadbe07-f8be-4bd8-94a9-2a77b5cd03ba does not exist.\n",
      "Average Metric: 0.00 / 2 (0.0%):   8%|██████▉                                                                                | 2/25 [00:03<00:35,  1.55s/it]Error in similarity calculation: Collection 10f9b757-3d0f-47a8-8677-455099379b57 does not exist.\n",
      "Average Metric: 0.00 / 12 (0.0%):  48%|████████████████████████████████████████▊                                            | 12/25 [00:05<00:03,  3.91it/s]Error in similarity calculation: Collection 2b013bf8-341a-4c44-83b7-1598234762e1 not found\n",
      "Average Metric: 0.00 / 13 (0.0%):  48%|████████████████████████████████████████▊                                            | 12/25 [00:05<00:03,  3.91it/s]Error in similarity calculation: Collection 1aca6ab8-0178-4588-8edd-9a0606621398 does not exist.\n",
      "Average Metric: 0.00 / 14 (0.0%):  56%|███████████████████████████████████████████████▌                                     | 14/25 [00:05<00:02,  5.35it/s]Error in similarity calculation: Collection 3a2ecd44-2769-4e0d-aec4-910633dd9f3b does not exist.\n",
      "Average Metric: 0.00 / 17 (0.0%):  64%|██████████████████████████████████████████████████████▍                              | 16/25 [00:05<00:01,  6.35it/s]Error in similarity calculation: Collection a24af240-665c-4201-9ee5-7fd80caf6b7e does not exist.\n",
      "Average Metric: 0.00 / 18 (0.0%):  72%|█████████████████████████████████████████████████████████████▏                       | 18/25 [00:06<00:01,  5.76it/s]Error in similarity calculation: Collection 05a4c7fa-c757-4f81-ad66-e3d075b9a308 does not exist.\n",
      "Average Metric: 0.00 / 22 (0.0%):  88%|██████████████████████████████████████████████████████████████████████████▊          | 22/25 [00:07<00:00,  3.34it/s]Error in similarity calculation: Collection d1f26a9d-c5f7-4cbd-a13f-7f7303cb4e30 does not exist.\n",
      "Average Metric: 0.00 / 23 (0.0%):  92%|██████████████████████████████████████████████████████████████████████████████▏      | 23/25 [00:08<00:00,  3.02it/s]Error in similarity calculation: Collection f772860a-19dc-4341-b40f-9686d8115b3b does not exist.\n",
      "Average Metric: 0.00 / 25 (0.0%): 100%|█████████████████████████████████████████████████████████████████████████████████████| 25/25 [00:08<00:00,  2.90it/s]"
     ]
    },
    {
     "name": "stderr",
     "output_type": "stream",
     "text": [
      "2025/01/11 18:05:22 INFO dspy.evaluate.evaluate: Average Metric: 0 / 25 (0.0%)\n",
      "2025/01/11 18:05:22 INFO dspy.teleprompt.mipro_optimizer_v2: Score: 0.0 on minibatch of size 25 with parameters ['Predictor 0: Instruction 3', 'Predictor 0: Few-Shot Set 2'].\n",
      "2025/01/11 18:05:22 INFO dspy.teleprompt.mipro_optimizer_v2: Minibatch scores so far: [0.0, 0.0, 0.0, 0.0, 0.0, 0.0, 0.0, 0.0, 0.0, 0.0, 0.0, 0.0, 0.0, 0.0, 0.0, 0.0, 0.0, 0.0, 0.0]\n",
      "2025/01/11 18:05:22 INFO dspy.teleprompt.mipro_optimizer_v2: Full eval scores so far: [0.0, 0.0]\n",
      "2025/01/11 18:05:22 INFO dspy.teleprompt.mipro_optimizer_v2: Best full score so far: 0.0\n",
      "2025/01/11 18:05:22 INFO dspy.teleprompt.mipro_optimizer_v2: =============================\n",
      "\n",
      "\n",
      "2025/01/11 18:05:22 INFO dspy.teleprompt.mipro_optimizer_v2: == Minibatch Trial 20 / 30 ==\n",
      "2025/01/11 18:05:22 INFO dspy.teleprompt.mipro_optimizer_v2: Evaluating the following candidate program...\n",
      "\n"
     ]
    },
    {
     "name": "stdout",
     "output_type": "stream",
     "text": [
      "\n",
      "Predictor 0\n",
      "i: You are an experienced educator creating an engaging introduction for a course. Write a video transcript for the intro video to a course on the given topic. Ensure the transcript is approximately 250 words and is formatted in markdown. Use personal storytelling and practical examples to enhance relatability, and aim to promote a growth mindset while encouraging learner interaction.\n",
      "p: Intro Video:\n",
      "\n",
      "\n",
      "Average Metric: 0.00 / 1 (0.0%):   4%|███▍                                                                                   | 1/25 [00:02<01:05,  2.75s/it]Error in similarity calculation: Collection 185a93df-de8c-4675-9ade-9037a62679a3 does not exist.\n",
      "Average Metric: 0.00 / 2 (0.0%):   8%|██████▉                                                                                | 2/25 [00:03<00:32,  1.43s/it]Error in similarity calculation: Collection 831dce1d-3bed-42a8-b296-607371774813 does not exist.\n",
      "Average Metric: 0.00 / 3 (0.0%):   8%|██████▉                                                                                | 2/25 [00:03<00:32,  1.43s/it]"
     ]
    },
    {
     "name": "stderr",
     "output_type": "stream",
     "text": [
      "2025/01/11 18:05:25 ERROR dspy.utils.parallelizer: Error processing item Example({'topic': 'SharePoint: Migrating from Designer to Power Automate', 'intro_video': \" - [April] Are you ready to take advantage of the rich  \\n automation capabilities that Office 365 has to offer?  \\n It's time to ditch those old SharePoint  \\n Designer workflows and embrace the modern power  \\n of Power Automate.  \\n Hi, I'm April Dunnam,  \\n a partner, technical architect at Microsoft.  \\n I've been a consultant focused  \\n on helping businesses get the most  \\n out of their collaboration tools for over 10 years.  \\n If you're looking for guidance on what Power Automate  \\n has to offer, and how to migrate  \\n your old SharePoint Designer workflows to it,  \\n then you've come to the right place.  \\n \\n\\n\"}) (input_keys={'topic', 'intro_video'}): Collection similarity_test already exists. Set `provide_traceback=True` to see the stack trace.\n"
     ]
    },
    {
     "name": "stdout",
     "output_type": "stream",
     "text": [
      "Average Metric: 0.00 / 3 (0.0%):  16%|█████████████▉                                                                         | 4/25 [00:03<00:12,  1.66it/s]Error in similarity calculation: Collection a83e5d01-6ed6-4b64-aadd-962ba30b6dd3 does not exist.\n",
      "Average Metric: 0.00 / 4 (0.0%):  16%|█████████████▉                                                                         | 4/25 [00:03<00:12,  1.66it/s]Error in similarity calculation: Collection 3c871aeb-af14-494f-a40d-ee35cc885c3d does not exist.\n",
      "Average Metric: 0.00 / 5 (0.0%):  20%|█████████████████▍                                                                     | 5/25 [00:03<00:12,  1.66it/s]Error in similarity calculation: Collection e75448bf-5253-4006-bc5a-1fff0f93deb0 does not exist.\n",
      "Average Metric: 0.00 / 6 (0.0%):  24%|████████████████████▉                                                                  | 6/25 [00:03<00:11,  1.66it/s]Error in similarity calculation: Collection 4fa4d623-2155-4e1a-987e-3d757a1d41db does not exist.\n",
      "Average Metric: 0.00 / 10 (0.0%):  40%|██████████████████████████████████                                                   | 10/25 [00:03<00:03,  5.00it/s]Error in similarity calculation: Collection 7a616890-4cb5-403c-bde0-08150c9932b2 does not exist.\n",
      "Average Metric: 0.00 / 11 (0.0%):  48%|████████████████████████████████████████▊                                            | 12/25 [00:04<00:02,  5.35it/s]Error in similarity calculation: Collection edb298b9-c1a7-4fe6-b970-5f7f4e8c0cbb does not exist.\n",
      "Average Metric: 0.00 / 14 (0.0%):  60%|███████████████████████████████████████████████████                                  | 15/25 [00:04<00:01,  7.46it/s]Error in similarity calculation: Collection b8b75d48-1b20-4654-ad2e-083f5027e3fd does not exist.\n",
      "Average Metric: 0.00 / 15 (0.0%):  60%|███████████████████████████████████████████████████                                  | 15/25 [00:04<00:01,  7.46it/s]Error in similarity calculation: Collection c8443bfb-6f39-4077-90e9-f988640e7490 does not exist.\n",
      "Average Metric: 0.00 / 16 (0.0%):  64%|██████████████████████████████████████████████████████▍                              | 16/25 [00:04<00:01,  7.46it/s]Error in similarity calculation: Collection 566d079b-8576-4ddf-9436-8f6e8e0671a8 does not exist.\n",
      "Average Metric: 0.00 / 17 (0.0%):  72%|█████████████████████████████████████████████████████████████▏                       | 18/25 [00:04<00:01,  6.67it/s]Error in similarity calculation: Collection fca2a454-b0b1-49b2-b183-3126b013c3c8 does not exist.\n",
      "Average Metric: 0.00 / 18 (0.0%):  72%|█████████████████████████████████████████████████████████████▏                       | 18/25 [00:04<00:01,  6.67it/s]Error in similarity calculation: Collection 73f7d478-5157-4582-9ea4-47538e0f5b8f not found\n",
      "Average Metric: 0.00 / 20 (0.0%):  80%|████████████████████████████████████████████████████████████████████                 | 20/25 [00:04<00:00,  7.73it/s]Error in similarity calculation: Collection 3919c12d-97ad-40ea-b87f-74f6cfa90fb2 does not exist.\n",
      "Average Metric: 0.00 / 21 (0.0%):  88%|██████████████████████████████████████████████████████████████████████████▊          | 22/25 [00:05<00:00,  7.78it/s]Error in similarity calculation: Collection 858042d3-3cf4-4653-a1e2-1e561ef16d02 does not exist.\n",
      "Average Metric: 0.00 / 24 (0.0%): 100%|█████████████████████████████████████████████████████████████████████████████████████| 25/25 [00:07<00:00,  3.55it/s]"
     ]
    },
    {
     "name": "stderr",
     "output_type": "stream",
     "text": [
      "2025/01/11 18:05:29 INFO dspy.evaluate.evaluate: Average Metric: 0.0 / 25 (0.0%)\n",
      "2025/01/11 18:05:29 INFO dspy.teleprompt.mipro_optimizer_v2: Score: 0.0 on minibatch of size 25 with parameters ['Predictor 0: Instruction 1', 'Predictor 0: Few-Shot Set 3'].\n",
      "2025/01/11 18:05:29 INFO dspy.teleprompt.mipro_optimizer_v2: Minibatch scores so far: [0.0, 0.0, 0.0, 0.0, 0.0, 0.0, 0.0, 0.0, 0.0, 0.0, 0.0, 0.0, 0.0, 0.0, 0.0, 0.0, 0.0, 0.0, 0.0, 0.0]\n",
      "2025/01/11 18:05:29 INFO dspy.teleprompt.mipro_optimizer_v2: Full eval scores so far: [0.0, 0.0]\n",
      "2025/01/11 18:05:29 INFO dspy.teleprompt.mipro_optimizer_v2: Best full score so far: 0.0\n",
      "2025/01/11 18:05:29 INFO dspy.teleprompt.mipro_optimizer_v2: =============================\n",
      "\n",
      "\n",
      "2025/01/11 18:05:29 INFO dspy.teleprompt.mipro_optimizer_v2: ===== Full Eval 2 =====\n",
      "2025/01/11 18:05:29 INFO dspy.teleprompt.mipro_optimizer_v2: Doing full eval on next top averaging program (Avg Score: 0.0) from minibatch trials...\n"
     ]
    },
    {
     "name": "stdout",
     "output_type": "stream",
     "text": [
      "\n",
      "  0%|                                                                                                                                | 0/80 [00:00<?, ?it/s]"
     ]
    },
    {
     "name": "stderr",
     "output_type": "stream",
     "text": [
      "2025/01/11 18:05:29 ERROR dspy.utils.parallelizer: Error processing item Example({'topic': 'How to Work with a Micromanager', 'intro_video': \" - I was so excited about my first job out of college.  \\n I had worked so hard to land the job  \\n and I was ready to show my boss  \\n what I was made of.  \\n I planned to impress him with my independent  \\n working skills.  \\n I was going to get things done efficiently  \\n and prove that I was a worthy hire.  \\n I was going to take the lead and show my manager  \\n that I could be trusted with more  \\n and more responsibility.  \\n But my manager had different plans.  \\n He wanted to give me instructions  \\n on things I didn't really think  \\n I needed instructions on.  \\n He checked in on my progress multiples times a day  \\n and he even hovered over me as I worked  \\n at my cubicle.  \\n Talk about stressful.  \\n I couldn't get anything done because I felt  \\n like I was constantly playing defense with him.  \\n My confidence was deflated.  \\n I was stressed out and I felt like my manager  \\n didn't trust me.  \\n And that is when I realized my manager  \\n was a micromanager.  \\n Maybe you're in a similar situation.  \\n Maybe you have a manager who nitpicks  \\n every little thing that you do.  \\n Maybe your manager slows down your progress  \\n and maybe you feel like your manager  \\n is stealing your opportunity to learn and grow.  \\n I so get that.  \\n While you can't change your manager,  \\n there are things that you can do  \\n to make the experience much more enjoyable and sustainable,  \\n and in this course, I am going to teach you.  \\n Working with a micromanager can feel  \\n really overwhelming at times.  \\n I know it was for me.  \\n But over time, with dedication and some proven strategies,  \\n you'll be able to nurture a healthy relationship  \\n with your manager.  \\n You don't have to merely survive  \\n as you work with a micromanager.  \\n I'm going to teach you how to thrive.  \\n \\n\\n\"}) (input_keys={'topic', 'intro_video'}): Collection 0830fa02-d250-4bba-a72e-890540db0462 already exists. Set `provide_traceback=True` to see the stack trace.\n"
     ]
    },
    {
     "name": "stdout",
     "output_type": "stream",
     "text": [
      "Average Metric: 0.00 / 0 (0%):   0%|                                                                                                 | 0/80 [00:00<?, ?it/s]"
     ]
    },
    {
     "name": "stderr",
     "output_type": "stream",
     "text": [
      "2025/01/11 18:05:29 ERROR dspy.utils.parallelizer: Error processing item Example({'topic': 'Transitioning from Java to Kotlin', 'intro_video': \" - [Nate] Kotlin is one of the most popular  \\n programming languages for building mobile applications  \\n but it's also a great choice for JVM-based web development.  \\n It's concise, flexible,  \\n and includes a powerful set of modern language features.  \\n With Kotlin, developers can build scalable applications  \\n using the JVM tooling and libraries they're familiar with,  \\n while adding in additional Kotlin language features,  \\n such as type safe builders and co-routines.  \\n I'm going to show you how to start transitioning  \\n from Java to Kotlin for backend JVM development.  \\n We'll start by exploring Kotlin's place  \\n in the JVM ecosystem.  \\n We'll then migrate a Spring Boot application  \\n from Java to Kotlin,  \\n and finally build a set of rest end points from scratch  \\n using the Ktor client server framework.  \\n My name is Nate Ebel.  \\n I've been using Kotlin for over 10 years,  \\n since before it's 1.0 release.  \\n If you're excited to start learning Kotlin,  \\n then join me in my LinkedIn learning course  \\n on moving from Java to Kotlin.  \\n \\n\\n\"}) (input_keys={'topic', 'intro_video'}): Collection similarity_test already exists. Set `provide_traceback=True` to see the stack trace.\n"
     ]
    },
    {
     "name": "stdout",
     "output_type": "stream",
     "text": [
      "Average Metric: 0.00 / 0 (0%):   1%|█                                                                                        | 1/80 [00:00<00:04, 16.38it/s]"
     ]
    },
    {
     "name": "stderr",
     "output_type": "stream",
     "text": [
      "2025/01/11 18:05:29 ERROR dspy.utils.parallelizer: Error processing item Example({'topic': 'The BIM Execution Plan for Architects', 'intro_video': \"- Building information modeling has reinvented much\\nof how architectural projects are won and produced.\\nThere is not a solitary path\\nto BIM success within the industry,\\nand being a BIM leader requires flexibility.\\nTechnology is always advancing.\\nWe must all practice continual learning\\nin order to keep up.\\nThe number of BIM tools we have at our disposal\\nadvances daily.\\nNavigating those waters to lead a team towards efficiencies\\nand also fostering exploration\\nis a challenging, but rewarding, endeavor.\\n\\nIn my LinkedIn Learning course, I review\\nhow developing an architect's BIM execution plan\\ncan help structure your firm's BIM management\\nto bring consistency to your successes\\nwhile mitigating your challenges.\\nMy name is Megan Johnson.\\nI am the Director of BIM at ODELL Architects,\\nan international architectural firm\\nheadquartered in Charlotte, North Carolina.\\nI hope you join me as I discuss how developing this document\\ncan advance your firm's BIM approach\\nto get your firm to the next level.\\n\\n \\n\\n\"}) (input_keys={'topic', 'intro_video'}): Collection similarity_test already exists. Set `provide_traceback=True` to see the stack trace.\n"
     ]
    },
    {
     "name": "stdout",
     "output_type": "stream",
     "text": [
      "Average Metric: 0.00 / 0 (0%):   2%|██▏                                                                                      | 2/80 [00:00<00:02, 30.71it/s]"
     ]
    },
    {
     "name": "stderr",
     "output_type": "stream",
     "text": [
      "2025/01/11 18:05:29 ERROR dspy.utils.parallelizer: Error processing item Example({'topic': 'Photoshop: Creative Lab Color', 'intro_video': \"- [Harold] Folks often ask me why my landscapes,\\ntravel images, and abstracts are so colorful and vibrant.\\nOf course, part of that answer is that\\none needs to understand and work with light,\\nbe in the right time and the right place\\nwith one's camera when the light is right,\\nbut to some extent, in the case of my imagery,\\nthe answer is via LAB color adjustment in post-production.\\nWhat my images all have in common\\nis that they use LAB color to enhance, sharpen, invert,\\nor to make a whole new genre and category of wild imagery.\\n\\nThe creative potential of LAB color is so much greater\\nthan retouching and conventional color adjustments,\\nwhich is normally thought to be the bailiwick of LAB.\\nBy the way, to be technically correct,\\nthe term is really L-A-B color\\nwith each separate letter pronounced,\\nbut many of us who work with LAB just use the shortcut\\nLAB color.\\nLAB is something of a forgotten backwater of Photoshop\\nin popular perception,\\nbut it's hard to exaggerate the creative power\\nof LAB techniques in Photoshop,\\nparticularly as I'll show you when those LAB techniques\\nare combined with Photoshop's blending modes.\\n\\nIt's therefore my great and extraordinary pleasure\\nto be your guide into one of my very favorite\\npost-production toolkits in Photoshop\\ninto the power, grace, and style of LAB color.\\nI'll start by explaining how LAB fits in\\nwith the other color schemes called color spaces,\\nand the concepts behind LAB color.\\nPretty quickly from there,\\nwe'll move on to LAB's implementation in Photoshop,\\nLAB in relationship to your individual workflow,\\nand how to use LAB color to enhance your images\\nin a number of different specific ways.\\n\\nAll this would be good enough reason to master LAB,\\nbut the icing on the cake is the entirely new framework\\nthat LAB presents for creative image making.\\n \\n\\n\"}) (input_keys={'topic', 'intro_video'}): Collection similarity_test already exists. Set `provide_traceback=True` to see the stack trace.\n"
     ]
    },
    {
     "name": "stdout",
     "output_type": "stream",
     "text": [
      "Average Metric: 0.00 / 0 (0%):   4%|███▎                                                                                     | 3/80 [00:00<00:01, 41.18it/s]"
     ]
    },
    {
     "name": "stderr",
     "output_type": "stream",
     "text": [
      "2025/01/11 18:05:29 ERROR dspy.utils.parallelizer: Error processing item Example({'topic': 'VPC Networking: Designing a Software Defined Data Center on AWS', 'intro_video': '- [Mark] To properly understand the AWS cloud,\\nyou have to first master how AWS networking works.\\nThat\\'s the goal of this class.\\nTo provide enough detail\\nabout Amazon\\'s software defined network stack\\nand how you can deploy your two and three-tier applications.\\nMy name\\'s Mark Wilkins and I\\'ve been involved with the cloud\\nand specifically the AWS cloud for the last six years.\\nI\\'ve worked with many different types of AWS customers\\nand the reality is pretty well the same\\nfor everybody I\\'ve worked with.\\n\\n\"Hey Mark, what are these AWS terms?\\n\"And where exactly do I go after I log into the console?\"\\nTerms like, VPC, Internet gateway,\\negress-only Internet gateways, security groups,\\nNACLs, and of course subnets and IP addresses are some\\nof the many concepts that we\\'re going to be covering.\\nAfter taking this class, you will be well on the way\\nto mastering AWS networking and understanding\\nwhat you should do and what you should avoid.\\n\\nSound good?\\nGreat.\\nGet a big cup of java and let\\'s get goin\\'.\\n \\n\\n'}) (input_keys={'topic', 'intro_video'}): Collection similarity_test already exists. Set `provide_traceback=True` to see the stack trace.\n"
     ]
    },
    {
     "name": "stdout",
     "output_type": "stream",
     "text": [
      "Average Metric: 0.00 / 0 (0%):   6%|█████▌                                                                                   | 5/80 [00:00<00:01, 45.91it/s]"
     ]
    },
    {
     "name": "stderr",
     "output_type": "stream",
     "text": [
      "2025/01/11 18:05:29 ERROR dspy.utils.parallelizer: Error processing item Example({'topic': 'macOS for IT Administrators', 'intro_video': \" - [Instructor] You've been airdropped into a digital forest.  \\n You don't know where anything is,  \\n but you need to learn quickly.  \\n Many IT administrators recently tasked with a fleet  \\n of macOS systems feel just like this.  \\n As your guide to get you out of the forest  \\n there are some things I'm actually excited  \\n to show you along the way.  \\n I'm most excited about what the new sidecar feature opens up  \\n for portability with the macOS.  \\n The new Enterprise SSO enables bind less active directory  \\n and Apple's integration with cloud based authentication  \\n services enables in application authentication  \\n in ways never possible before.  \\n Every admin needs to understand MDM  \\n and how to use it to efficiency manage Apple technology.  \\n Caching is a double bladed sword you need to master.  \\n It can bring down a network if not controlled  \\n and save your entire network from floods of data  \\n if deployed properly.  \\n Hi, I'm Sean Colins.  \\n I've had a long and interesting relationship  \\n with macOS and Apple.  \\n I'm excited to share the best practices I've learned,  \\n and the changes I've discovered.  \\n Join me on my LinkedIn Learning course,  \\n specifically geared toward IT admin for macOS.  \\n \\n\\n\"}) (input_keys={'topic', 'intro_video'}): Collection similarity_test already exists. Set `provide_traceback=True` to see the stack trace.\n"
     ]
    },
    {
     "name": "stdout",
     "output_type": "stream",
     "text": [
      "Average Metric: 0.00 / 0 (0%):   6%|█████▌                                                                                   | 5/80 [00:00<00:01, 45.91it/s]"
     ]
    },
    {
     "name": "stderr",
     "output_type": "stream",
     "text": [
      "2025/01/11 18:05:29 ERROR dspy.utils.parallelizer: Error processing item Example({'topic': 'Change Management for Projects', 'intro_video': \"- People are creatures of habit.\\nWe really don't like change.\\nIn fact, recent studies have shown\\nthat nearly 80% of change initiatives are still failing\\nto realize full benefits, or change is simply not sticking.\\nThe most common causes stated are a lack\\nof people management skills, inadequate communications,\\npoor leadership, and ineffective management.\\nSo that's what this course is all about,\\naddressing the people side of project management\\nso changes will stick.\\n\\nI'm Claudine Peet, and I've been working,\\ntraining, and consulting in project\\nand change management for over 20 years.\\nJoin me on this LinkedIn Learning course\\nand let's enhance your project management skills\\nand make you a valuable asset to your project\\nand organization and help your project's changes stick.\\n\"}) (input_keys={'topic', 'intro_video'}): Collection similarity_test already exists. Set `provide_traceback=True` to see the stack trace.\n"
     ]
    },
    {
     "name": "stdout",
     "output_type": "stream",
     "text": [
      "Average Metric: 0.00 / 0 (0%):   8%|██████▋                                                                                  | 6/80 [00:00<00:01, 45.91it/s]"
     ]
    },
    {
     "name": "stderr",
     "output_type": "stream",
     "text": [
      "2025/01/11 18:05:29 ERROR dspy.utils.parallelizer: Error processing item Example({'topic': 'Python GUI Development with Tkinter', 'intro_video': \"- Hi, I'm Barron Stone and welcome\\nto Python GUI Development with Tkinter.\\nIn this course, you'll see how to build\\na functional and professional looking\\ngraphical user interface for your Python applications.\\nTkinter is the defacto module for Python GUI development\\nand comes included with the standard Python distributions.\\nIt provides an interface to the TK GUI toolkit,\\nwhich is available for most operating systems\\nand includes themed GUI elements\\nthat maintain a consistent look and feel\\nwith those operating systems.\\n\\nThis course will introduce you\\nto the most commonly used Tk widgets,\\nand it will teach you how to create and configure them\\nwith a customized appearance and behavior.\\nI'll show you the three different ways\\nto manage the placement of those widgets on your GUI,\\nand understand when it's appropriate\\nto use each of those methods.\\nAnd finally, a graphical user interface isn't very useful\\nif it doesn't react to a user's actions.\\nSo, we'll take a look at how to use\\nevent driven programming in Tk to execute\\nthe appropriate code when user actions or events occur.\\n\\nTkinter let's you put the days\\nof writing command-line interfaces\\nfor your Python applications behind you, once and for all.\\nLet's jump in to Python GUI Development with Tkinter.\\n\"}) (input_keys={'topic', 'intro_video'}): Collection 33668fb0-a1f7-4c34-91af-8e09cea70a37 already exists. Set `provide_traceback=True` to see the stack trace.\n"
     ]
    },
    {
     "name": "stdout",
     "output_type": "stream",
     "text": [
      "Average Metric: 0.00 / 0 (0%):   9%|███████▊                                                                                 | 7/80 [00:00<00:01, 45.91it/s]"
     ]
    },
    {
     "name": "stderr",
     "output_type": "stream",
     "text": [
      "2025/01/11 18:05:29 ERROR dspy.utils.parallelizer: Error processing item Example({'topic': 'AWS: Automation and Optimization', 'intro_video': \"- [Shyam] AWS provides on-demand\\ncloud computing services that offer compute,\\nstorage, content delivery and other functionality\\nfor a wide variety of use cases.\\nAutomating and optimizing your processes\\ncan lead to enhanced productivity,\\nimproved performance and cost reduction.\\nThis course will walk you through the different\\ncost optimization strategies\\nthat you can employ to build highly-available solutions\\nwith efficient resource utilization.\\nHi, I'm Shyam, and I'd like to welcome you\\nto this course on Amazon Web Services:\\nAutomation and Optimization.\\n\\nI'm a technical instructor and industry specialist\\non networking, cloud computing and security.\\nLet's get started.\\n \\n\\n\"}) (input_keys={'topic', 'intro_video'}): Collection similarity_test already exists. Set `provide_traceback=True` to see the stack trace.\n"
     ]
    },
    {
     "name": "stdout",
     "output_type": "stream",
     "text": [
      "Average Metric: 0.00 / 0 (0%):  10%|████████▉                                                                                | 8/80 [00:00<00:01, 45.91it/s]Error in similarity calculation: Collection f50e2c43-5fa1-45d5-b63f-b6fae785987b does not exist.\n",
      "Error in similarity calculation: Collection 57a1dfc3-5edd-463c-bade-6e30ff80fa8b does not exist.\n",
      "Error in similarity calculation: Collection ae251401-4c7a-48ab-8aa2-3212f39d3163 does not exist.\n",
      "Error in similarity calculation: Collection 7413ecd7-98bc-47a8-8bd0-1eda2622a0b4 does not exist.\n",
      "Error in similarity calculation: Collection d1bc7981-e612-4659-877d-15150fa6f98f does not exist.\n",
      "Error in similarity calculation: Collection 9ce02280-7d50-4295-b91d-ccc04e9c272d does not exist.\n"
     ]
    },
    {
     "name": "stderr",
     "output_type": "stream",
     "text": [
      "2025/01/11 18:05:35 INFO dspy.teleprompt.mipro_optimizer_v2: Full eval scores so far: [0.0, 0.0, 0.0]\n",
      "2025/01/11 18:05:35 INFO dspy.teleprompt.mipro_optimizer_v2: Best full score so far: 0.0\n",
      "2025/01/11 18:05:35 INFO dspy.teleprompt.mipro_optimizer_v2: =======================\n",
      "2025/01/11 18:05:35 INFO dspy.teleprompt.mipro_optimizer_v2: \n",
      "\n",
      "2025/01/11 18:05:35 INFO dspy.teleprompt.mipro_optimizer_v2: == Minibatch Trial 21 / 30 ==\n",
      "2025/01/11 18:05:35 INFO dspy.teleprompt.mipro_optimizer_v2: Evaluating the following candidate program...\n",
      "\n"
     ]
    },
    {
     "name": "stdout",
     "output_type": "stream",
     "text": [
      "Exception occurred: Collection similarity_test already exists\n",
      "Predictor 0\n",
      "i: Generate a markdown-formatted video transcript of approximately 250 words for the introduction of a course on the specified topic, ensuring it is engaging and informative while clearly communicating the course's purpose and content to prospective students.\n",
      "p: Intro Video:\n",
      "\n",
      "\n",
      "  0%|                                                                                                                                | 0/25 [00:00<?, ?it/s]"
     ]
    },
    {
     "name": "stderr",
     "output_type": "stream",
     "text": [
      "2025/01/11 18:05:35 ERROR dspy.utils.parallelizer: Error processing item Example({'topic': 'DevOps Foundations: Effective Postmortems', 'intro_video': \" - DevOps is about developers and operations working together  \\n to deliver software at high speed to your users.  \\n But no matter how good you are  \\n and how well you code and test, things break.  \\n You hurry to fix these incidents when they happen,  \\n but how do you use these experiences to improve over time?  \\n Postmortems are how we investigate the scene afterward  \\n to find out what went wrong,  \\n and use that to learn and improve.  \\n I'm Ernest Muller, incident detective.  \\n I'm also head of engineering operations  \\n at Precision Autonomy, where I work with a team  \\n running online services supporting owners and operators  \\n of drones and other autonomous vehicles.  \\n In this course, I will help you prepare, practice,  \\n and perfect your incident investigation skills  \\n so that you can help your organization  \\n perform effective postmortems.  \\n It can be a tricky process, because after a messy incident  \\n it's easy to mistake what really happened  \\n or just pin it on someone and move on.  \\n Join me in my LinkedIn Learning course  \\n as we explore incident postmortems the DevOps way.  \\n \\n\\n\"}) (input_keys={'topic', 'intro_video'}): Collection similarity_test already exists. Set `provide_traceback=True` to see the stack trace.\n"
     ]
    },
    {
     "name": "stdout",
     "output_type": "stream",
     "text": [
      "Average Metric: 0.00 / 0 (0%):   4%|███▌                                                                                     | 1/25 [00:00<00:03,  6.30it/s]"
     ]
    },
    {
     "name": "stderr",
     "output_type": "stream",
     "text": [
      "2025/01/11 18:05:35 ERROR dspy.utils.parallelizer: Error processing item Example({'topic': 'Microsoft Azure Developer Associate (AZ-204) Exam Tips', 'intro_video': \" - The cloud is a technology  \\n which is quickly becoming a key part in all of our lives.  \\n Five years ago, we, or at least I,  \\n might have associated the cloud  \\n mainly with an online place to store files.  \\n But it's become so much more than that.  \\n The cloud is now a key part  \\n in almost every industry worldwide.  \\n Gartner predicts that 80% of all mission critical  \\n or large scale workloads will rely on the cloud by 2025.  \\n There is an ever expanding range  \\n of services and technologies available,  \\n which support an almost inconceivable number  \\n of different scenarios.  \\n Hi, I'm Carmel Eve.  \\n I'm a developer  \\n and a Microsoft Certified Azure Developer Associate.  \\n I'd like you to join me for my course on LinkedIn Learning.  \\n We'll go through the AZ-204 exam together.  \\n We'll look at how it's structured  \\n and the areas you want to focus on  \\n as you prepare for Microsoft's AZ-204 Certification Exam.  \\n \\n\\n\"}) (input_keys={'topic', 'intro_video'}): Collection similarity_test already exists. Set `provide_traceback=True` to see the stack trace.\n"
     ]
    },
    {
     "name": "stdout",
     "output_type": "stream",
     "text": [
      "Average Metric: 0.00 / 0 (0%):   4%|███▌                                                                                     | 1/25 [00:00<00:03,  6.30it/s]"
     ]
    },
    {
     "name": "stderr",
     "output_type": "stream",
     "text": [
      "2025/01/11 18:05:35 ERROR dspy.utils.parallelizer: Error processing item Example({'topic': 'Creating an Interior Scene with Blender', 'intro_video': \"- [Voiceover] Hi, I'm Darrin Lile and welcome to\\nCreating an Interior Scene in Blender.\\nIn this course we'll go through the process\\nof creating a modern condominium interior.\\nWe'll make the walls and windows of the scene\\nbased on blueprints that we import into Blender.\\nThen we'll model the furniture in the room\\nbased on our reference images.\\nOnce this is done, we'll UV map the furniture,\\napply textures, and set up materials in the node editor.\\nFinally, we'll add lights to our scene\\nand render the final image.\\n\\nI'm looking forward to getting started so please\\njoin me for Creating an Interior Scene in Blender.\\n\\n\"}) (input_keys={'topic', 'intro_video'}): Collection similarity_test already exists. Set `provide_traceback=True` to see the stack trace.\n"
     ]
    },
    {
     "name": "stdout",
     "output_type": "stream",
     "text": [
      "Average Metric: 0.00 / 0 (0%):   8%|███████                                                                                  | 2/25 [00:00<00:03,  6.30it/s]"
     ]
    },
    {
     "name": "stderr",
     "output_type": "stream",
     "text": [
      "2025/01/11 18:05:35 ERROR dspy.utils.parallelizer: Error processing item Example({'topic': 'Marketing on Facebook: Managing a Company Page', 'intro_video': \" - [Megan] It's important to stay consistent,  \\n create compelling content,  \\n and spark conversation on your company Facebook page.  \\n Your Facebook company page  \\n is one of the cornerstones of your online identity.  \\n My name's Megan Adams.  \\n I'm a social media strategist  \\n who's helped thousands of businesses  \\n from big to small understand  \\n how they can leverage their company page  \\n to meet their business and marketing goals.  \\n I'm going to teach you  \\n how to manage your company Facebook page effectively  \\n and efficiently to help you meet your business  \\n and marketing goals, and to make your job a lot easier.  \\n Let's dive in.  \\n \\n\\n\"}) (input_keys={'topic', 'intro_video'}): Collection similarity_test already exists. Set `provide_traceback=True` to see the stack trace.\n"
     ]
    },
    {
     "name": "stdout",
     "output_type": "stream",
     "text": [
      "Average Metric: 0.00 / 0 (0%):  12%|██████████▋                                                                              | 3/25 [00:00<00:03,  6.30it/s]Error in similarity calculation: Collection f8feddd0-6fa2-476c-a9a1-142229833229 does not exist.\n",
      "Average Metric: 0.00 / 1 (0.0%):  16%|█████████████▉                                                                         | 4/25 [00:00<00:03,  6.30it/s]Error in similarity calculation: Collection 73327fbc-2a8a-490d-babc-4e8b6badedb1 does not exist.\n",
      "Average Metric: 0.00 / 2 (0.0%):  20%|█████████████████▍                                                                     | 5/25 [00:00<00:03,  6.30it/s]Error in similarity calculation: Collection 4328cf79-1617-4d3e-b4f1-5ef92871e6e3 does not exist.\n",
      "Average Metric: 0.00 / 3 (0.0%):  28%|████████████████████████▎                                                              | 7/25 [00:02<00:07,  2.54it/s]Error in similarity calculation: Collection 5add3d4a-de53-45c1-bc96-90ebfaf6d2f8 does not exist.\n",
      "Average Metric: 0.00 / 5 (0.0%):  32%|███████████████████████████▊                                                           | 8/25 [00:02<00:06,  2.54it/s]Error in similarity calculation: Collection e7ae0678-896e-4b7a-8898-a76f9e919ae2 does not exist.\n",
      "Average Metric: 0.00 / 6 (0.0%):  40%|██████████████████████████████████▍                                                   | 10/25 [00:02<00:03,  3.93it/s]Error in similarity calculation: Collection 43fdd165-3e08-4d73-96b2-545098076e0e does not exist.\n",
      "Average Metric: 0.00 / 7 (0.0%):  40%|██████████████████████████████████▍                                                   | 10/25 [00:02<00:03,  3.93it/s]Error in similarity calculation: Collection 721e89fc-20da-4182-984f-0c731d435cda does not exist.\n",
      "Average Metric: 0.00 / 8 (0.0%):  44%|█████████████████████████████████████▊                                                | 11/25 [00:02<00:03,  3.93it/s]Error in similarity calculation: Collection 55a18009-81e4-46ee-9a82-845951752c31 does not exist.\n",
      "Average Metric: 0.00 / 9 (0.0%):  48%|█████████████████████████████████████████▎                                            | 12/25 [00:02<00:03,  3.93it/s]Error in similarity calculation: Collection 5c2fd683-e5fa-4e40-8f34-3db6327cb13b not found\n",
      "Average Metric: 0.00 / 12 (0.0%):  60%|███████████████████████████████████████████████████                                  | 15/25 [00:03<00:01,  6.38it/s]Error in similarity calculation: Collection 0a5c2275-0823-4441-a9d0-1fa4427f494a does not exist.\n",
      "Average Metric: 0.00 / 13 (0.0%):  68%|█████████████████████████████████████████████████████████▊                           | 17/25 [00:03<00:01,  6.94it/s]Error in similarity calculation: Collection 69f1c1bd-794c-4ed5-b3a1-1b4f691706b1 does not exist.\n",
      "Average Metric: 0.00 / 14 (0.0%):  68%|█████████████████████████████████████████████████████████▊                           | 17/25 [00:03<00:01,  6.94it/s]Error in similarity calculation: Collection 639e566a-71a0-4575-8e1f-3eddc577e763 does not exist.\n",
      "Average Metric: 0.00 / 15 (0.0%):  72%|█████████████████████████████████████████████████████████████▏                       | 18/25 [00:03<00:01,  6.94it/s]Error in similarity calculation: Collection c8ddc86a-af0a-45da-8e9f-129bd3036bdc does not exist.\n",
      "Average Metric: 0.00 / 16 (0.0%):  76%|████████████████████████████████████████████████████████████████▌                    | 19/25 [00:03<00:00,  6.94it/s]Error in similarity calculation: Collection 3ac431f2-1dd2-4a2e-a13c-6fc176886ff9 does not exist.\n",
      "Average Metric: 0.00 / 17 (0.0%):  84%|███████████████████████████████████████████████████████████████████████▍             | 21/25 [00:03<00:00,  9.00it/s]Error in similarity calculation: Collection 62b7c7b1-e6ea-4eda-a7a9-4669898b4236 does not exist.\n",
      "Average Metric: 0.00 / 21 (0.0%): 100%|█████████████████████████████████████████████████████████████████████████████████████| 25/25 [00:04<00:00,  5.69it/s]"
     ]
    },
    {
     "name": "stderr",
     "output_type": "stream",
     "text": [
      "2025/01/11 18:05:40 INFO dspy.evaluate.evaluate: Average Metric: 0.0 / 25 (0.0%)\n",
      "2025/01/11 18:05:40 INFO dspy.teleprompt.mipro_optimizer_v2: Score: 0.0 on minibatch of size 25 with parameters ['Predictor 0: Instruction 2', 'Predictor 0: Few-Shot Set 2'].\n",
      "2025/01/11 18:05:40 INFO dspy.teleprompt.mipro_optimizer_v2: Minibatch scores so far: [0.0, 0.0, 0.0, 0.0, 0.0, 0.0, 0.0, 0.0, 0.0, 0.0, 0.0, 0.0, 0.0, 0.0, 0.0, 0.0, 0.0, 0.0, 0.0, 0.0, 0.0]\n",
      "2025/01/11 18:05:40 INFO dspy.teleprompt.mipro_optimizer_v2: Full eval scores so far: [0.0, 0.0, 0.0]\n",
      "2025/01/11 18:05:40 INFO dspy.teleprompt.mipro_optimizer_v2: Best full score so far: 0.0\n",
      "2025/01/11 18:05:40 INFO dspy.teleprompt.mipro_optimizer_v2: =============================\n",
      "\n",
      "\n",
      "2025/01/11 18:05:40 INFO dspy.teleprompt.mipro_optimizer_v2: == Minibatch Trial 22 / 30 ==\n",
      "2025/01/11 18:05:40 INFO dspy.teleprompt.mipro_optimizer_v2: Evaluating the following candidate program...\n",
      "\n"
     ]
    },
    {
     "name": "stdout",
     "output_type": "stream",
     "text": [
      "\n",
      "Predictor 0\n",
      "i: Create an engaging and informative video transcript for the introductory segment of a course centered on the specified topic. The transcript should be approximately 250 words long, formatted in markdown, and should effectively convey the course's objectives, key themes, and the importance of the topic in a relatable manner that encourages prospective students to enroll. Include elements of storytelling and highlight the integration of practical skills and ethical considerations to foster a growth mindset.\n",
      "p: Intro Video:\n",
      "\n",
      "\n",
      "  0%|                                                                                                                                | 0/25 [00:00<?, ?it/s]"
     ]
    },
    {
     "name": "stderr",
     "output_type": "stream",
     "text": [
      "2025/01/11 18:05:40 ERROR dspy.utils.parallelizer: Error processing item Example({'topic': 'Social Media Marketing Tips', 'intro_video': \" - Chances are your target customers  \\n are utilizing social media in some way, shape or form.  \\n The big question is how do you use social media  \\n in a way that engages them  \\n and encourages them to follow you,  \\n visit your website and make buying decisions?  \\n Hi, my name is Sam Dey,  \\n and I am a digital marketing consultant  \\n and online entrepreneur.  \\n During this course, I'm going to be showing you  \\n not just how you can build up your social media profiles,  \\n but also how you can turn your followers  \\n into tangible leads and sales back to your website  \\n and to your business.  \\n If you're ready to revolutionize the way  \\n you are using social media for your business,  \\n then let's get this ball rolling.  \\n \\n\\n\"}) (input_keys={'topic', 'intro_video'}): Collection similarity_test already exists. Set `provide_traceback=True` to see the stack trace.\n"
     ]
    },
    {
     "name": "stdout",
     "output_type": "stream",
     "text": [
      "Average Metric: 0.00 / 0 (0%):   0%|                                                                                                 | 0/25 [00:00<?, ?it/s]"
     ]
    },
    {
     "name": "stderr",
     "output_type": "stream",
     "text": [
      "2025/01/11 18:05:40 ERROR dspy.utils.parallelizer: Error processing item Example({'topic': 'HTML and CSS: Linking', 'intro_video': \" - Links are the heart of the web.  \\n If there were no links, would the web even exist?  \\n In this course we'll look in detail at the humble link.  \\n We'll use HTML to link within a page, between pages,  \\n to different websites, email, phone numbers,  \\n and to documents like PDFs.  \\n We'll also make our links pretty with CSS,  \\n and look at link maintenance to make sure that they're up  \\n to date with the changing web.  \\n I'm Jen Kramer, an educator and web developer,  \\n and I think I've coded at least half  \\n of the links on the web in my 23-year career.  \\n So if you're ready, let's get started with HTML  \\n and CSS linking.  \\n \\n\\n\"}) (input_keys={'topic', 'intro_video'}): Collection 25bc391f-f4f4-4bc3-99e8-57a7a05b4c9c already exists. Set `provide_traceback=True` to see the stack trace.\n",
      "2025/01/11 18:05:40 ERROR dspy.utils.parallelizer: Error processing item Example({'topic': 'Express Essentials: Build Powerful Web Apps with Node.js', 'intro_video': \" - [Jamie] One of the most popular application frameworks  \\n for Node.js is Express.  \\n Both Node.js and Express use JavaScript,  \\n making it incredibly appealing  \\n for more front-end tailored engineers,  \\n to learn how to handle APIs,  \\n and other backend functionality of their web applications.  \\n As you've learned to master JavaScript,  \\n and create client side code,  \\n perhaps you've wanted to learn the other side  \\n of the application,  \\n and learn more about how things on the server side work.  \\n Express is a great framework to generate  \\n server side code for your application.  \\n This course was created to help you get up and running  \\n with Express.  \\n Perhaps you've been curious about creating  \\n end points for your applications,  \\n and weren't sure how to get started.  \\n In this course, we will cover everything  \\n from installation of Express,  \\n creating a server, and the various routing knowledge needed  \\n to generate server side code.  \\n Hi, I'm Jamie Pittman and I'm a front-end software engineer.  \\n Join me and learn more about the essentials of Express.  \\n \\n\\n\"}) (input_keys={'topic', 'intro_video'}): Collection similarity_test already exists. Set `provide_traceback=True` to see the stack trace.\n"
     ]
    },
    {
     "name": "stdout",
     "output_type": "stream",
     "text": [
      "Average Metric: 0.00 / 0 (0%):   8%|███████                                                                                  | 2/25 [00:00<00:00, 24.40it/s]"
     ]
    },
    {
     "name": "stderr",
     "output_type": "stream",
     "text": [
      "2025/01/11 18:05:40 ERROR dspy.utils.parallelizer: Error processing item Example({'topic': 'Learning YouTube SEO', 'intro_video': \" - [Instructor] So you're a YouTuber  \\n and you want to take your channel to the next level, huh?  \\n Maybe you've got the content grind down,  \\n but you're just not getting the clicks you were hoping for.  \\n Well, never fear for I, the YouTube wizard,  \\n trademark pending, is here to help.  \\n In this course, I'll help you discover  \\n the power of YouTube SEO  \\n and show you handy tips you can do before and after  \\n recording your videos, to help them rank in search.  \\n Plus I'll also give you tips  \\n on how to increase your user engagement,  \\n as well as tools that can boost your SEO.  \\n So grab your magic staff  \\n or whatever it is you use to record your videos  \\n and let's get started.  \\n Man, this beard is really itchy.  \\n \\n\\n\"}) (input_keys={'topic', 'intro_video'}): Collection similarity_test already exists. Set `provide_traceback=True` to see the stack trace.\n"
     ]
    },
    {
     "name": "stdout",
     "output_type": "stream",
     "text": [
      "Average Metric: 0.00 / 0 (0%):  12%|██████████▋                                                                              | 3/25 [00:00<00:00, 34.10it/s]"
     ]
    },
    {
     "name": "stderr",
     "output_type": "stream",
     "text": [
      "2025/01/11 18:05:40 ERROR dspy.utils.parallelizer: Error processing item Example({'topic': 'Own It: The Power of Women at Work', 'intro_video': ' - [Presenter] Can professional women  \\n break through the glass ceiling at work  \\n without having to follow the restrictive rules  \\n and expectations established by their male counterparts  \\n for how women are supposed to act and behave at work?  \\n The answer is yes, according to Sallie Krawcheck,  \\n one of the highest ranked women ever to work on Wall Street  \\n and Co-founder and CEO of Ellevest,  \\n a digital investment platform for women.  \\n Sallie has made it her life\\'s mission  \\n to advance women in business  \\n by showing them how to embrace and invest  \\n in the unique traits proven to make women stronger leaders,  \\n better team players, and more valuable assets  \\n to companies and employers.  \\n In this audio course, Sallie offers key lessons  \\n from her best-selling career guide,  \\n \"Own It: The Power of Women at Work,\"  \\n published by Penguin Random House.  \\n The hard-won wisdom and insights Sallie shares  \\n will help you network and negotiate better  \\n and get the feedback you need to elevate your career  \\n to a whole new level of success.  \\n \\n\\n'}) (input_keys={'topic', 'intro_video'}): Collection 1d4d27dd-5ed8-4d22-8bee-061ed9b0949b already exists. Set `provide_traceback=True` to see the stack trace.\n"
     ]
    },
    {
     "name": "stdout",
     "output_type": "stream",
     "text": [
      "Average Metric: 0.00 / 0 (0%):  16%|██████████████▏                                                                          | 4/25 [00:00<00:00, 44.41it/s]"
     ]
    },
    {
     "name": "stderr",
     "output_type": "stream",
     "text": [
      "2025/01/11 18:05:40 ERROR dspy.utils.parallelizer: Error processing item Example({'topic': 'Implementing the Metaverse', 'intro_video': \" - What is the metaverse  \\n and what does it mean for you and your organization?  \\n The Metaverse is probably one of the most confusing  \\n and hyped up technologies in recent years.  \\n Over the last two decades,  \\n I have worked relentlessly with hundreds  \\n of organizations to help them understand technology better.  \\n And now I can help you understand the Metaverse  \\n through this new LinkedIn Learning course.  \\n We'll cover topics such as marketing, operations, privacy  \\n and more that are part  \\n of making the Metaverse an integral part  \\n of your organization.  \\n And today is a great time to jump in.  \\n \\n\\n\"}) (input_keys={'topic', 'intro_video'}): Collection similarity_test already exists. Set `provide_traceback=True` to see the stack trace.\n"
     ]
    },
    {
     "name": "stdout",
     "output_type": "stream",
     "text": [
      "Average Metric: 0.00 / 0 (0%):  20%|█████████████████▊                                                                       | 5/25 [00:00<00:00, 52.81it/s]Error in similarity calculation: Collection 0c42d9c7-1b10-4fc2-8eec-6eff3c337013 does not exist.\n",
      "Average Metric: 0.00 / 1 (0.0%):  28%|████████████████████████▎                                                              | 7/25 [00:00<00:00, 58.57it/s]Error in similarity calculation: Collection ba05dab2-0518-42ce-b18a-2b9197017b17 does not exist.\n",
      "Average Metric: 0.00 / 2 (0.0%):  28%|████████████████████████▎                                                              | 7/25 [00:00<00:00, 58.57it/s]Error in similarity calculation: Collection 4bd4fe17-c64e-48b5-bf84-5949748b6ac6 does not exist.\n",
      "Average Metric: 0.00 / 6 (0.0%):  44%|█████████████████████████████████████▊                                                | 11/25 [00:03<00:00, 58.57it/s]Error in similarity calculation: Collection beef69b8-1014-4ac7-a803-c1c6cdcd2442 does not exist.\n",
      "Error in similarity calculation: Collection b4b09489-0b6a-4d71-bba0-16d0b9abe621 does not exist.\n",
      "Average Metric: 0.00 / 11 (0.0%):  64%|██████████████████████████████████████████████████████▍                              | 16/25 [00:04<00:03,  2.99it/s]Error in similarity calculation: Collection f632610e-1ce6-4773-be6d-bf6e878d3b05 does not exist.\n",
      "Average Metric: 0.00 / 12 (0.0%):  72%|█████████████████████████████████████████████████████████████▏                       | 18/25 [00:05<00:02,  3.18it/s]Error in similarity calculation: Collection c10678c4-b605-4df5-a28f-e149f67bc414 does not exist.\n",
      "Average Metric: 0.00 / 16 (0.0%):  88%|██████████████████████████████████████████████████████████████████████████▊          | 22/25 [00:07<00:01,  2.21it/s]Error in similarity calculation: Collection 087a705e-fe9c-4a4c-82eb-91c675776e30 does not exist.\n",
      "Average Metric: 0.00 / 17 (0.0%):  92%|██████████████████████████████████████████████████████████████████████████████▏      | 23/25 [00:07<00:00,  2.10it/s]Error in similarity calculation: Collection 6bd5e958-6d14-4176-a582-9be6c90e4449 does not exist.\n",
      "Average Metric: 0.00 / 19 (0.0%): 100%|█████████████████████████████████████████████████████████████████████████████████████| 25/25 [00:08<00:00,  2.79it/s]"
     ]
    },
    {
     "name": "stderr",
     "output_type": "stream",
     "text": [
      "2025/01/11 18:05:49 INFO dspy.evaluate.evaluate: Average Metric: 0.0 / 25 (0.0%)\n",
      "2025/01/11 18:05:49 INFO dspy.teleprompt.mipro_optimizer_v2: Score: 0.0 on minibatch of size 25 with parameters ['Predictor 0: Instruction 8', 'Predictor 0: Few-Shot Set 6'].\n",
      "2025/01/11 18:05:49 INFO dspy.teleprompt.mipro_optimizer_v2: Minibatch scores so far: [0.0, 0.0, 0.0, 0.0, 0.0, 0.0, 0.0, 0.0, 0.0, 0.0, 0.0, 0.0, 0.0, 0.0, 0.0, 0.0, 0.0, 0.0, 0.0, 0.0, 0.0, 0.0]\n",
      "2025/01/11 18:05:49 INFO dspy.teleprompt.mipro_optimizer_v2: Full eval scores so far: [0.0, 0.0, 0.0]\n",
      "2025/01/11 18:05:49 INFO dspy.teleprompt.mipro_optimizer_v2: Best full score so far: 0.0\n",
      "2025/01/11 18:05:49 INFO dspy.teleprompt.mipro_optimizer_v2: =============================\n",
      "\n",
      "\n",
      "2025/01/11 18:05:49 INFO dspy.teleprompt.mipro_optimizer_v2: == Minibatch Trial 23 / 30 ==\n",
      "2025/01/11 18:05:49 INFO dspy.teleprompt.mipro_optimizer_v2: Evaluating the following candidate program...\n",
      "\n"
     ]
    },
    {
     "name": "stdout",
     "output_type": "stream",
     "text": [
      "\n",
      "Predictor 0\n",
      "i: Generate a markdown-formatted video transcript of approximately 250 words for the introduction of a course on the specified topic, ensuring it is engaging and informative while clearly communicating the course's purpose and content to prospective students.\n",
      "p: Intro Video:\n",
      "\n",
      "\n",
      "  0%|                                                                                                                                | 0/25 [00:00<?, ?it/s]Error in similarity calculation: Collection 709a77af-db2d-4f2d-85a6-a622617f2d85 does not exist.\n",
      "Average Metric: 0.00 / 1 (0.0%):   4%|███▍                                                                                   | 1/25 [00:03<01:14,  3.10s/it]Error in similarity calculation: Collection 072c2036-399b-4f52-984f-cf8cc86dbaf2 does not exist.\n",
      "Average Metric: 0.00 / 2 (0.0%):   4%|███▍                                                                                   | 1/25 [00:03<01:14,  3.10s/it]"
     ]
    },
    {
     "name": "stderr",
     "output_type": "stream",
     "text": [
      "2025/01/11 18:05:52 ERROR dspy.utils.parallelizer: Error processing item Example({'topic': 'Interviewing Techniques', 'intro_video': \" - If you're not hiring or placing exceptional talent  \\n it may be because your interview process is not designed  \\n to excite passive candidates.  \\n When was the last time you reviewed your interview process?  \\n Is it time to consider different interview styles?  \\n My name is Barb Bruno.  \\n I've been in the recruiting profession for over 25 years  \\n and my company has placed more than 10,000 people in jobs.  \\n I've trained thousands of recruiters  \\n and talent acquisition professionals on how to improve  \\n their interviewing skills to fill more jobs.  \\n In this course, we're going to talk about the best way  \\n to prepare for an interview.  \\n You'll learn how screening interviews help eliminate bias  \\n and emotion from the process.  \\n We'll also discuss why it's important for you  \\n to understand the opportunity and clarify performance  \\n that will lead to success on the job.  \\n In addition, we'll review the different types  \\n of interviews and provide interview tips as well  \\n as sample lists of the most effective questions to ask  \\n and a scorecard to rate candidates interviewed.  \\n You'll learn how to create brand awareness  \\n and improve the candidate experience that will lead  \\n to increased referrals of top talent.  \\n If you're willing to make subtle changes  \\n to your interviewing techniques to attract the best talent  \\n this course was written for you.  \\n Let's get started.  \\n \\n\\n\"}) (input_keys={'topic', 'intro_video'}): Collection 7ad8fde6-68a5-4230-8227-3b51e16ad7aa already exists. Set `provide_traceback=True` to see the stack trace.\n"
     ]
    },
    {
     "name": "stdout",
     "output_type": "stream",
     "text": [
      "Average Metric: 0.00 / 2 (0.0%):   8%|██████▉                                                                                | 2/25 [00:03<01:11,  3.10s/it]Error in similarity calculation: Collection d7614ea4-4d41-4d34-84d4-998902d374b1 does not exist.\n",
      "Average Metric: 0.00 / 3 (0.0%):  12%|██████████▍                                                                            | 3/25 [00:03<01:08,  3.10s/it]Error in similarity calculation: Collection eedfde16-35f1-48c3-a815-1f73468b8599 does not exist.\n",
      "Average Metric: 0.00 / 4 (0.0%):  16%|█████████████▉                                                                         | 4/25 [00:03<01:05,  3.10s/it]Error in similarity calculation: Collection 2c87121c-fa5b-4d9f-9623-1995060dd0e1 does not exist.\n",
      "Average Metric: 0.00 / 5 (0.0%):  20%|█████████████████▍                                                                     | 5/25 [00:03<01:02,  3.10s/it]Error in similarity calculation: Collection c8f24cde-4cad-4752-bdd1-0d8ae73a0029 does not exist.\n",
      "Average Metric: 0.00 / 6 (0.0%):  28%|████████████████████████▎                                                              | 7/25 [00:03<00:06,  2.88it/s]Error in similarity calculation: Collection 75e93f8a-d805-4823-9fc5-d524b386750a does not exist.\n",
      "Average Metric: 0.00 / 8 (0.0%):  32%|███████████████████████████▊                                                           | 8/25 [00:03<00:05,  2.88it/s]"
     ]
    },
    {
     "name": "stderr",
     "output_type": "stream",
     "text": [
      "2025/01/11 18:05:53 ERROR dspy.utils.parallelizer: Error processing item Example({'topic': 'Creating an Interior Scene with Blender', 'intro_video': \"- [Voiceover] Hi, I'm Darrin Lile and welcome to\\nCreating an Interior Scene in Blender.\\nIn this course we'll go through the process\\nof creating a modern condominium interior.\\nWe'll make the walls and windows of the scene\\nbased on blueprints that we import into Blender.\\nThen we'll model the furniture in the room\\nbased on our reference images.\\nOnce this is done, we'll UV map the furniture,\\napply textures, and set up materials in the node editor.\\nFinally, we'll add lights to our scene\\nand render the final image.\\n\\nI'm looking forward to getting started so please\\njoin me for Creating an Interior Scene in Blender.\\n\\n\"}) (input_keys={'topic', 'intro_video'}): Collection similarity_test already exists. Set `provide_traceback=True` to see the stack trace.\n"
     ]
    },
    {
     "name": "stdout",
     "output_type": "stream",
     "text": [
      "Average Metric: 0.00 / 8 (0.0%):  40%|██████████████████████████████████▍                                                   | 10/25 [00:03<00:03,  4.03it/s]Error in similarity calculation: Collection d6539d1d-f9e9-4bdd-81d3-8a76dca6cf79 does not exist.\n",
      "Average Metric: 0.00 / 9 (0.0%):  40%|██████████████████████████████████▍                                                   | 10/25 [00:03<00:03,  4.03it/s]Error in similarity calculation: Collection ea809fdc-a29b-4f4a-a4fc-cd94c4167424 does not exist.\n",
      "Average Metric: 0.00 / 10 (0.0%):  44%|█████████████████████████████████████▍                                               | 11/25 [00:03<00:03,  4.03it/s]Error in similarity calculation: Collection 9c1f3d2a-e75c-4cab-bcbc-1bab3e8514ce does not exist.\n",
      "Average Metric: 0.00 / 11 (0.0%):  48%|████████████████████████████████████████▊                                            | 12/25 [00:03<00:03,  4.03it/s]Error in similarity calculation: Collection c25a1fcb-5686-42a0-8116-1fbeb2a38e38 does not exist.\n",
      "Average Metric: 0.00 / 12 (0.0%):  56%|███████████████████████████████████████████████▌                                     | 14/25 [00:03<00:01,  6.50it/s]Error in similarity calculation: Collection 9ca7e9ff-622f-497e-91ce-774740f70354 does not exist.\n",
      "Average Metric: 0.00 / 14 (0.0%):  60%|███████████████████████████████████████████████████                                  | 15/25 [00:03<00:01,  6.50it/s]Error in similarity calculation: Collection 314b32b3-9d96-4bf4-bb12-aa61b0aa45a3 not found\n",
      "Average Metric: 0.00 / 15 (0.0%):  68%|█████████████████████████████████████████████████████████▊                           | 17/25 [00:03<00:00,  8.46it/s]Error in similarity calculation: Collection 1a1f7493-3a60-47a9-a38c-b6215f5a1127 does not exist.\n",
      "Average Metric: 0.00 / 16 (0.0%):  68%|█████████████████████████████████████████████████████████▊                           | 17/25 [00:03<00:00,  8.46it/s]Error in similarity calculation: Collection 38db40d2-bfe2-40cd-a9f0-20aa59d06483 does not exist.\n",
      "Average Metric: 0.00 / 20 (0.0%):  84%|███████████████████████████████████████████████████████████████████████▍             | 21/25 [00:04<00:00, 10.61it/s]Error in similarity calculation: Collection 3811bf92-ab5a-46a1-a9cb-30314730804f does not exist.\n",
      "Average Metric: 0.00 / 21 (0.0%):  92%|██████████████████████████████████████████████████████████████████████████████▏      | 23/25 [00:05<00:00,  5.56it/s]Error in similarity calculation: Collection ce03932a-c131-4f3a-b0a0-37b28c6fb2ff does not exist.\n",
      "Average Metric: 0.00 / 23 (0.0%): 100%|█████████████████████████████████████████████████████████████████████████████████████| 25/25 [00:06<00:00,  3.65it/s]"
     ]
    },
    {
     "name": "stderr",
     "output_type": "stream",
     "text": [
      "2025/01/11 18:05:56 INFO dspy.evaluate.evaluate: Average Metric: 0.0 / 25 (0.0%)\n",
      "2025/01/11 18:05:56 INFO dspy.teleprompt.mipro_optimizer_v2: Score: 0.0 on minibatch of size 25 with parameters ['Predictor 0: Instruction 5', 'Predictor 0: Few-Shot Set 6'].\n",
      "2025/01/11 18:05:56 INFO dspy.teleprompt.mipro_optimizer_v2: Minibatch scores so far: [0.0, 0.0, 0.0, 0.0, 0.0, 0.0, 0.0, 0.0, 0.0, 0.0, 0.0, 0.0, 0.0, 0.0, 0.0, 0.0, 0.0, 0.0, 0.0, 0.0, 0.0, 0.0, 0.0]\n",
      "2025/01/11 18:05:56 INFO dspy.teleprompt.mipro_optimizer_v2: Full eval scores so far: [0.0, 0.0, 0.0]\n",
      "2025/01/11 18:05:56 INFO dspy.teleprompt.mipro_optimizer_v2: Best full score so far: 0.0\n",
      "2025/01/11 18:05:56 INFO dspy.teleprompt.mipro_optimizer_v2: =============================\n",
      "\n",
      "\n",
      "2025/01/11 18:05:56 INFO dspy.teleprompt.mipro_optimizer_v2: == Minibatch Trial 24 / 30 ==\n",
      "2025/01/11 18:05:56 INFO dspy.teleprompt.mipro_optimizer_v2: Evaluating the following candidate program...\n",
      "\n"
     ]
    },
    {
     "name": "stdout",
     "output_type": "stream",
     "text": [
      "\n",
      "Predictor 0\n",
      "i: Create an engaging and informative video transcript for the introductory segment of a course centered on the specified topic. The transcript should be approximately 250 words long, formatted in markdown, and should effectively convey the course's objectives, key themes, and the importance of the topic in a relatable manner that encourages prospective students to enroll. Include elements of storytelling and highlight the integration of practical skills and ethical considerations to foster a growth mindset.\n",
      "p: Intro Video:\n",
      "\n",
      "\n",
      "Average Metric: 0.00 / 1 (0.0%):   4%|███▍                                                                                   | 1/25 [00:03<01:13,  3.07s/it]Error in similarity calculation: Collection 323326fb-8538-4ea6-bdff-a17b7dd4eef2 does not exist.\n",
      "Average Metric: 0.00 / 2 (0.0%):   4%|███▍                                                                                   | 1/25 [00:03<01:13,  3.07s/it]Error in similarity calculation: Collection a06d7564-114e-4dca-a3a5-faf5752379f0 does not exist.\n",
      "Average Metric: 0.00 / 4 (0.0%):  12%|██████████▍                                                                            | 3/25 [00:03<00:18,  1.20it/s]Error in similarity calculation: Collection a9b0d0f8-55c3-4134-8b24-17f07e8cb31b does not exist.\n",
      "Average Metric: 0.00 / 5 (0.0%):  20%|█████████████████▍                                                                     | 5/25 [00:03<00:11,  1.72it/s]Error in similarity calculation: Collection aafa4e73-ed22-4930-9249-4d5eb3ad96cb does not exist.\n",
      "Average Metric: 0.00 / 13 (0.0%):  48%|████████████████████████████████████████▊                                            | 12/25 [00:04<00:03,  4.32it/s]Error in similarity calculation: Collection f4501e3b-3561-4b9c-be12-c0a244ff107f does not exist.\n",
      "Error in similarity calculation: Collection 7c7498ba-441b-467d-9b5f-53a4f2f35d59 not found\n",
      "Average Metric: 0.00 / 15 (0.0%):  56%|███████████████████████████████████████████████▌                                     | 14/25 [00:04<00:02,  4.67it/s]Error in similarity calculation: Collection 88d385a0-1b16-4bc4-8f25-c3e45a315e2c does not exist.\n",
      "Average Metric: 0.00 / 18 (0.0%):  68%|█████████████████████████████████████████████████████████▊                           | 17/25 [00:05<00:01,  6.88it/s]Error in similarity calculation: Collection a2e296ba-b73e-4f8e-8439-6922c7655613 does not exist.\n",
      "Average Metric: 0.00 / 19 (0.0%):  76%|████████████████████████████████████████████████████████████████▌                    | 19/25 [00:05<00:00,  6.44it/s]Error in similarity calculation: Collection b68f88f0-a702-430d-841c-a9f17472dcab does not exist.\n",
      "Average Metric: 0.00 / 20 (0.0%):  76%|████████████████████████████████████████████████████████████████▌                    | 19/25 [00:05<00:00,  6.44it/s]Error in similarity calculation: Collection f8731121-e08c-45e7-b535-16d8fd695c9e does not exist.\n",
      "Average Metric: 0.00 / 25 (0.0%): 100%|█████████████████████████████████████████████████████████████████████████████████████| 25/25 [00:06<00:00,  3.78it/s]"
     ]
    },
    {
     "name": "stderr",
     "output_type": "stream",
     "text": [
      "2025/01/11 18:06:03 INFO dspy.evaluate.evaluate: Average Metric: 0 / 25 (0.0%)\n",
      "2025/01/11 18:06:03 INFO dspy.teleprompt.mipro_optimizer_v2: Score: 0.0 on minibatch of size 25 with parameters ['Predictor 0: Instruction 8', 'Predictor 0: Few-Shot Set 1'].\n",
      "2025/01/11 18:06:03 INFO dspy.teleprompt.mipro_optimizer_v2: Minibatch scores so far: [0.0, 0.0, 0.0, 0.0, 0.0, 0.0, 0.0, 0.0, 0.0, 0.0, 0.0, 0.0, 0.0, 0.0, 0.0, 0.0, 0.0, 0.0, 0.0, 0.0, 0.0, 0.0, 0.0, 0.0]\n",
      "2025/01/11 18:06:03 INFO dspy.teleprompt.mipro_optimizer_v2: Full eval scores so far: [0.0, 0.0, 0.0]\n",
      "2025/01/11 18:06:03 INFO dspy.teleprompt.mipro_optimizer_v2: Best full score so far: 0.0\n",
      "2025/01/11 18:06:03 INFO dspy.teleprompt.mipro_optimizer_v2: =============================\n",
      "\n",
      "\n",
      "2025/01/11 18:06:03 INFO dspy.teleprompt.mipro_optimizer_v2: == Minibatch Trial 25 / 30 ==\n",
      "2025/01/11 18:06:03 INFO dspy.teleprompt.mipro_optimizer_v2: Evaluating the following candidate program...\n",
      "\n"
     ]
    },
    {
     "name": "stdout",
     "output_type": "stream",
     "text": [
      "\n",
      "Predictor 0\n",
      "i: You are an experienced educator creating an engaging introduction for a course. Write a video transcript for the intro video to a course on the given topic. Ensure the transcript is approximately 250 words and is formatted in markdown. Use personal storytelling and practical examples to enhance relatability, and aim to promote a growth mindset while encouraging learner interaction.\n",
      "p: Intro Video:\n",
      "\n",
      "\n",
      "Average Metric: 0.00 / 4 (0.0%):  16%|█████████████▉                                                                         | 4/25 [00:04<00:17,  1.23it/s]Error in similarity calculation: Collection f23fc0c5-7276-4c48-a052-6e14f0373006 does not exist.\n",
      "Average Metric: 0.00 / 5 (0.0%):  16%|█████████████▉                                                                         | 4/25 [00:05<00:17,  1.23it/s]Error in similarity calculation: Collection 428db7d3-8cb3-45f0-9017-3f70a65abe20 does not exist.\n",
      "Average Metric: 0.00 / 6 (0.0%):  20%|█████████████████▍                                                                     | 5/25 [00:05<00:16,  1.23it/s]Error in similarity calculation: Collection 075a0868-3c22-4011-a511-e6822326d074 does not exist.\n",
      "Average Metric: 0.00 / 7 (0.0%):  24%|████████████████████▉                                                                  | 6/25 [00:05<00:15,  1.23it/s]Error in similarity calculation: Collection 5b7cfb1c-02ae-4fa1-ab3d-567930794a39 does not exist.\n",
      "Average Metric: 0.00 / 8 (0.0%):  32%|███████████████████████████▊                                                           | 8/25 [00:05<00:05,  3.25it/s]Error in similarity calculation: Collection 979eb58b-5e2f-4ea4-aa88-6a6b251c2948 does not exist.\n",
      "Average Metric: 0.00 / 9 (0.0%):  32%|███████████████████████████▊                                                           | 8/25 [00:05<00:05,  3.25it/s]"
     ]
    },
    {
     "name": "stderr",
     "output_type": "stream",
     "text": [
      "2025/01/11 18:06:08 ERROR dspy.utils.parallelizer: Error processing item Example({'topic': 'AI Strategy and Growth for the Modern Board: A Conversation with Dr. Lisa Palmer', 'intro_video': \"- AI is reshaping the business landscape\\nand board leaders are at the forefront\\nof this transformation.\\nSo, how can boards align AI with long-term goals,\\nspark innovation,\\nand tackle ethical and organizational challenges?\\nIn this important conversation\\nwith AI startup founder and CEO Dr. Lisa Palmer,\\nwe dive into the evolving role\\nof board leadership in the AI era.\\nFrom embedding AI into business strategy\\nto fostering innovation culture\\nto promoting customer-focused approaches to tackling risks,\\nDr. Palmer shares actionable insights\\nto help leaders drive meaningful impact.\\n\\nI'm senior staff instructor Ashley Kennedy\\nand I'm thrilled to guide this exploration.\\nWhether you're a seasoned leader or new to AI,\\nthis course offers tools to leverage AI\\nfor growth and success.\\n\"}) (input_keys={'topic', 'intro_video'}): Collection similarity_test already exists. Set `provide_traceback=True` to see the stack trace.\n"
     ]
    },
    {
     "name": "stdout",
     "output_type": "stream",
     "text": [
      "Average Metric: 0.00 / 9 (0.0%):  36%|███████████████████████████████▎                                                       | 9/25 [00:05<00:04,  3.25it/s]Error in similarity calculation: Collection 92507ddf-1634-4b7a-b344-a7386aeff153 does not exist.\n",
      "Average Metric: 0.00 / 10 (0.0%):  40%|██████████████████████████████████                                                   | 10/25 [00:05<00:04,  3.25it/s]Error in similarity calculation: Collection 9b620bbb-ef8e-4744-bdbd-aa830d6cb648 does not exist.\n",
      "Average Metric: 0.00 / 12 (0.0%):  52%|████████████████████████████████████████████▏                                        | 13/25 [00:05<00:01,  6.41it/s]Error in similarity calculation: Collection 83985fc0-ff4c-4dab-b960-de47fc49dcfe does not exist.\n",
      "Average Metric: 0.00 / 13 (0.0%):  52%|████████████████████████████████████████████▏                                        | 13/25 [00:05<00:01,  6.41it/s]Error in similarity calculation: Collection a6a52cd2-3ae9-4d4d-9cd4-5c13051c030b does not exist.\n",
      "Average Metric: 0.00 / 14 (0.0%):  56%|███████████████████████████████████████████████▌                                     | 14/25 [00:05<00:01,  6.41it/s]Error in similarity calculation: Collection 25bbd09d-ce89-4e1e-b597-6f9a32e1e14f does not exist.\n",
      "Average Metric: 0.00 / 15 (0.0%):  64%|██████████████████████████████████████████████████████▍                              | 16/25 [00:05<00:01,  7.59it/s]Error in similarity calculation: Collection b8fad782-6828-465c-b01a-ec20776573c3 does not exist.\n",
      "Average Metric: 0.00 / 16 (0.0%):  64%|██████████████████████████████████████████████████████▍                              | 16/25 [00:05<00:01,  7.59it/s]Error in similarity calculation: Collection a8085be5-2939-4d85-85bd-0a82af07cd48 does not exist.\n",
      "Average Metric: 0.00 / 19 (0.0%):  80%|████████████████████████████████████████████████████████████████████                 | 20/25 [00:05<00:00,  8.27it/s]Error in similarity calculation: Collection 46b3c3a1-15f3-44ef-b01d-4863b96dc387 does not exist.\n",
      "Average Metric: 0.00 / 20 (0.0%):  80%|████████████████████████████████████████████████████████████████████                 | 20/25 [00:06<00:00,  8.27it/s]Error in similarity calculation: Collection 2dce9d84-a124-4c3b-96b9-6fda422f3fc5 does not exist.\n",
      "Average Metric: 0.00 / 24 (0.0%): 100%|█████████████████████████████████████████████████████████████████████████████████████| 25/25 [00:09<00:00,  2.65it/s]"
     ]
    },
    {
     "name": "stderr",
     "output_type": "stream",
     "text": [
      "2025/01/11 18:06:13 INFO dspy.evaluate.evaluate: Average Metric: 0.0 / 25 (0.0%)\n",
      "2025/01/11 18:06:13 INFO dspy.teleprompt.mipro_optimizer_v2: Score: 0.0 on minibatch of size 25 with parameters ['Predictor 0: Instruction 1', 'Predictor 0: Few-Shot Set 0'].\n",
      "2025/01/11 18:06:13 INFO dspy.teleprompt.mipro_optimizer_v2: Minibatch scores so far: [0.0, 0.0, 0.0, 0.0, 0.0, 0.0, 0.0, 0.0, 0.0, 0.0, 0.0, 0.0, 0.0, 0.0, 0.0, 0.0, 0.0, 0.0, 0.0, 0.0, 0.0, 0.0, 0.0, 0.0, 0.0]\n",
      "2025/01/11 18:06:13 INFO dspy.teleprompt.mipro_optimizer_v2: Full eval scores so far: [0.0, 0.0, 0.0]\n",
      "2025/01/11 18:06:13 INFO dspy.teleprompt.mipro_optimizer_v2: Best full score so far: 0.0\n",
      "2025/01/11 18:06:13 INFO dspy.teleprompt.mipro_optimizer_v2: =============================\n",
      "\n",
      "\n",
      "2025/01/11 18:06:13 INFO dspy.teleprompt.mipro_optimizer_v2: == Minibatch Trial 26 / 30 ==\n",
      "2025/01/11 18:06:13 INFO dspy.teleprompt.mipro_optimizer_v2: Evaluating the following candidate program...\n",
      "\n"
     ]
    },
    {
     "name": "stdout",
     "output_type": "stream",
     "text": [
      "\n",
      "Predictor 0\n",
      "i: Generate a markdown-formatted video transcript for the introduction of a course on the specified topic. The transcript should be approximately 250 words and should effectively communicate the course's purpose and content while engaging prospective students. Include a reasoning section that outlines the thought process behind the content creation, ensuring the introduction is relatable and applicable to real-world scenarios.\n",
      "p: Intro Video:\n",
      "\n",
      "\n",
      "Average Metric: 0.00 / 0 (0%):  11%|██████████                                                                               | 9/80 [02:51<22:29, 19.01s/it]\n",
      "Average Metric: 0.00 / 0 (0%):  36%|████████████████████████████████                                                         | 9/25 [02:50<05:03, 18.97s/it]\n",
      "Average Metric: 0.00 / 0 (0%):  36%|████████████████████████████████                                                         | 9/25 [02:50<05:02, 18.93s/it]\n",
      "Average Metric: 0.00 / 0 (0%):  36%|████████████████████████████████                                                         | 9/25 [02:49<05:01, 18.84s/it]\n",
      "Average Metric: 0.00 / 0 (0%):  36%|████████████████████████████████                                                         | 9/25 [02:49<05:00, 18.81s/it]\n",
      "Average Metric: 0.00 / 0 (0%):  36%|████████████████████████████████                                                         | 9/25 [02:48<05:00, 18.77s/it]\n",
      "Average Metric: 0.00 / 0 (0%):  36%|████████████████████████████████                                                         | 9/25 [02:48<04:59, 18.72s/it]\n",
      "Average Metric: 0.00 / 0 (0%):  36%|████████████████████████████████                                                         | 9/25 [02:48<04:58, 18.69s/it]\n",
      "Average Metric: 0.00 / 1 (0.0%):  40%|██████████████████████████████████▍                                                   | 10/25 [02:04<03:07, 12.50s/it]\n",
      "Average Metric: 0.00 / 0 (0%):  11%|██████████                                                                               | 9/80 [00:44<05:51,  4.95s/it]\n",
      "Error in similarity calculation: Collection 106992ad-e1a6-4f92-8957-8bf01e2b5750 does not exist.\n",
      "Average Metric: 0.00 / 1 (0.0%):   4%|███▍                                                                                   | 1/25 [00:03<01:14,  3.09s/it]Error in similarity calculation: Collection 8e326939-7e40-4c37-9d48-bfb74d09b614 does not exist.\n",
      "Average Metric: 0.00 / 2 (0.0%):   4%|███▍                                                                                   | 1/25 [00:03<01:14,  3.09s/it]Error in similarity calculation: Collection e6444351-db59-4e5e-ac51-b3e955fee017 not found\n",
      "Average Metric: 0.00 / 3 (0.0%):   8%|██████▉                                                                                | 2/25 [00:03<01:11,  3.09s/it]Error in similarity calculation: Collection 114baeb0-8a4b-4314-bbee-542553207416 does not exist.\n",
      "Average Metric: 0.00 / 4 (0.0%):  12%|██████████▍                                                                            | 3/25 [00:03<01:08,  3.09s/it]Error in similarity calculation: Collection 302c147b-ec60-4b28-afd9-16ec123db811 does not exist.\n",
      "Average Metric: 0.00 / 5 (0.0%):  16%|█████████████▉                                                                         | 4/25 [00:03<01:04,  3.09s/it]Error in similarity calculation: Collection a744e47a-b624-41dc-8b18-1e371ec359dc does not exist.\n",
      "Average Metric: 0.00 / 6 (0.0%):  24%|████████████████████▉                                                                  | 6/25 [00:03<00:07,  2.50it/s]Error in similarity calculation: Collection 1f952ce1-e370-4c53-95f8-ef603c3a2b2a does not exist.\n",
      "Average Metric: 0.00 / 7 (0.0%):  24%|████████████████████▉                                                                  | 6/25 [00:03<00:07,  2.50it/s]Error in similarity calculation: Collection 6914c8da-56e0-4a0d-878f-8782b6233ebc does not exist.\n",
      "Average Metric: 0.00 / 10 (0.0%):  36%|██████████████████████████████▉                                                       | 9/25 [00:03<00:04,  3.42it/s]Error in similarity calculation: Collection e81cd8e4-654e-40cc-b2ad-8d08433701a1 does not exist.\n",
      "Average Metric: 0.00 / 11 (0.0%):  44%|█████████████████████████████████████▍                                               | 11/25 [00:04<00:03,  3.63it/s]Error in similarity calculation: Collection 00736553-2051-4776-ace1-e234b6a36b25 does not exist.\n",
      "Average Metric: 0.00 / 18 (0.0%):  72%|█████████████████████████████████████████████████████████████▏                       | 18/25 [00:07<00:03,  2.17it/s]Error in similarity calculation: Collection 4820eb1b-1488-4c30-812b-b4457dbba2b8 does not exist.\n",
      "Average Metric: 0.00 / 19 (0.0%):  76%|████████████████████████████████████████████████████████████████▌                    | 19/25 [00:08<00:02,  2.69it/s]Error in similarity calculation: Collection af1ba61a-a1e5-401d-8666-e103e3bb2db3 does not exist.\n",
      "Average Metric: 0.00 / 21 (0.0%):  84%|███████████████████████████████████████████████████████████████████████▍             | 21/25 [00:08<00:01,  2.49it/s]Error in similarity calculation: Collection 451274c9-0e24-461c-a60d-9fbb880b4fa4 does not exist.\n",
      "Average Metric: 0.00 / 22 (0.0%):  88%|██████████████████████████████████████████████████████████████████████████▊          | 22/25 [00:09<00:01,  2.48it/s]Error in similarity calculation: Collection 7eb4680b-bb06-48e5-a086-ba00de517b0c does not exist.\n",
      "Average Metric: 0.00 / 25 (0.0%): 100%|█████████████████████████████████████████████████████████████████████████████████████| 25/25 [00:10<00:00,  2.49it/s]"
     ]
    },
    {
     "name": "stderr",
     "output_type": "stream",
     "text": [
      "2025/01/11 18:06:23 INFO dspy.evaluate.evaluate: Average Metric: 0 / 25 (0.0%)\n",
      "2025/01/11 18:06:23 INFO dspy.teleprompt.mipro_optimizer_v2: Score: 0.0 on minibatch of size 25 with parameters ['Predictor 0: Instruction 6', 'Predictor 0: Few-Shot Set 6'].\n",
      "2025/01/11 18:06:23 INFO dspy.teleprompt.mipro_optimizer_v2: Minibatch scores so far: [0.0, 0.0, 0.0, 0.0, 0.0, 0.0, 0.0, 0.0, 0.0, 0.0, 0.0, 0.0, 0.0, 0.0, 0.0, 0.0, 0.0, 0.0, 0.0, 0.0, 0.0, 0.0, 0.0, 0.0, 0.0, 0.0]\n",
      "2025/01/11 18:06:23 INFO dspy.teleprompt.mipro_optimizer_v2: Full eval scores so far: [0.0, 0.0, 0.0]\n",
      "2025/01/11 18:06:23 INFO dspy.teleprompt.mipro_optimizer_v2: Best full score so far: 0.0\n",
      "2025/01/11 18:06:23 INFO dspy.teleprompt.mipro_optimizer_v2: =============================\n",
      "\n",
      "\n",
      "2025/01/11 18:06:23 INFO dspy.teleprompt.mipro_optimizer_v2: == Minibatch Trial 27 / 30 ==\n",
      "2025/01/11 18:06:23 INFO dspy.teleprompt.mipro_optimizer_v2: Evaluating the following candidate program...\n",
      "\n"
     ]
    },
    {
     "name": "stdout",
     "output_type": "stream",
     "text": [
      "\n",
      "Predictor 0\n",
      "i: Create an engaging and informative video transcript for the introductory segment of a course centered on the specified topic. The transcript should be approximately 250 words long, formatted in markdown, and should effectively convey the course's objectives, key themes, and the importance of the topic in a relatable manner that encourages prospective students to enroll. Include elements of storytelling and highlight the integration of practical skills and ethical considerations to foster a growth mindset.\n",
      "p: Intro Video:\n",
      "\n",
      "\n",
      "  0%|                                                                                                                                | 0/25 [00:00<?, ?it/s]"
     ]
    },
    {
     "name": "stderr",
     "output_type": "stream",
     "text": [
      "2025/01/11 18:06:23 ERROR dspy.utils.parallelizer: Error processing item Example({'topic': 'Addressing Technical Skills Gaps', 'intro_video': \" - Organizations must find innovative  \\n and equitable ways to address the skills gap  \\n as they focus on keeping up with technology  \\n and bringing new solutions to market.  \\n Addressing the skills gap is more  \\n than just making a few courses available to your team.  \\n It is about understanding  \\n how new technologies will impact your business  \\n and creating a holistic strategy.  \\n This will enable you to build those skills in your team  \\n and empower them to deliver on key strategic initiatives.  \\n Hi, I'm Rashim Mogha, CEO of the eWOW Initiative,  \\n a business leader, and an executive coach.  \\n Join me in this LinkedIn Learning course  \\n where I share insights and personal experiences  \\n on how to address technical skill gaps in your team.  \\n Let's get started.  \\n \\n\\n\"}) (input_keys={'topic', 'intro_video'}): Collection similarity_test already exists. Set `provide_traceback=True` to see the stack trace.\n"
     ]
    },
    {
     "name": "stdout",
     "output_type": "stream",
     "text": [
      "Average Metric: 0.00 / 0 (0%):   4%|███▌                                                                                     | 1/25 [00:00<00:04,  5.26it/s]"
     ]
    },
    {
     "name": "stderr",
     "output_type": "stream",
     "text": [
      "2025/01/11 18:06:23 ERROR dspy.utils.parallelizer: Error processing item Example({'topic': 'Train the Trainer', 'intro_video': \"- Every day, you most likely share\\nyour knowledge and experiences\\nwith coworkers, friends, and family.\\nThose who master the skill to help people acquire\\nand more importantly apply the knowledge,\\nset themselves apart\\nand are seen as the organization's go-to resource.\\nWhether you're communicating with your team\\nor responsible for training a group of people,\\nyou shoulder an important responsibility,\\nand that's to ensure everyone engages\\nwith what you're sharing,\\nso they become more effective in their jobs.\\n\\nI'm Ajay Pangarkar,\\nand I've been an award-winning author,\\nemployee performance strategist,\\nand learning professional for more than 25 years.\\nIn this course, I'll share with you\\nthe essential people development skills\\nyou'll be able to apply\\nwhether you're conducting a training session,\\nspeaking publicly,\\nleading a team,\\nor simply coaching individuals.\\nI'll share with you a set of techniques and behaviors\\nthat will make your training efforts deliver results.\\n\\nI'll focus on what you need to do\\nand how to empower people when they leave your session.\\nWe have a lot to cover, so let's get started.\\n\\n\"}) (input_keys={'topic', 'intro_video'}): Collection abf8e749-eeac-4167-8254-91d03dc99f7e already exists. Set `provide_traceback=True` to see the stack trace.\n"
     ]
    },
    {
     "name": "stdout",
     "output_type": "stream",
     "text": [
      "Average Metric: 0.00 / 0 (0%):   4%|███▌                                                                                     | 1/25 [00:00<00:04,  5.26it/s]"
     ]
    },
    {
     "name": "stderr",
     "output_type": "stream",
     "text": [
      "2025/01/11 18:06:23 ERROR dspy.utils.parallelizer: Error processing item Example({'topic': 'Interaction Design for the Web', 'intro_video': '- Hello, and welcome to this course on\\nInteraction Design for the Web.\\nMy name is Chris Nodder,\\nand I\\'m a User Experience Specialist\\nwith a background in psychology and interaction design.\\nOne thing I\\'ve found in the 20-plus years\\nI\\'ve been working in this field is that\\nwhen it comes to UI design,\\nthere are many guidelines but few hard and fast rules.\\nThat makes it hard for you\\nwhen you\\'re creating a new interface,\\nbecause there isn\\'t a simple checklist.\\nIn fact, people in my profession like to joke\\nthat the most frequent answer we give is, \"It depends.\"\\nBut don\\'t worry.\\n\\nThere\\'s a pretty good workaround for the lack of rules.\\nWhat\\'s important is to know why the guidelines exist,\\nthe underlying psychological principles,\\nso that you can work our for yourself\\nhow best to apply them in your situation.\\nAnd that\\'s what we\\'ll cover in this course.\\nPeople are strange.\\nThe way they interact with our software\\nis often unbelievable to us.\\nIn reality, much of use that\\'s seemingly random behavior\\nis actually very predictable\\nwhen we understand how people think.\\nOnce you\\'re familiar with these thought processes,\\nyou can build software that appeals better to your users.\\n\\nWe\\'ll look at some of the limitations\\nour brains and senses have,\\nand show you how you can use software\\nto help remove those limitations\\nrather than reminding people about them.\\nWe\\'ll see how people bring stuff they learn\\nfrom the physical world into their interactions\\nwith software and how you can make use of this\\nto help them understand how your app or site works.\\nWe\\'ll look at some workflow concepts\\nthat will help you move people\\nbetween the tasks they need to perform,\\nand we\\'ll talk about the importance\\nof telling a good consistent story\\nso that people can follow along.\\n\\nWe\\'ll wrap up this course by talking about\\nthe design tweaks that delight people\\nand make them come back to your software\\ntime and time again.\\nThat\\'s a lot to cover, but we\\'re going to make it fast and fun.\\nSo, let\\'s get started.\\n\\n'}) (input_keys={'topic', 'intro_video'}): Collection 515f39e8-276c-4527-94f8-05dada14bf8a already exists. Set `provide_traceback=True` to see the stack trace.\n"
     ]
    },
    {
     "name": "stdout",
     "output_type": "stream",
     "text": [
      "Average Metric: 0.00 / 0 (0%):   8%|███████                                                                                  | 2/25 [00:00<00:04,  5.26it/s]"
     ]
    },
    {
     "name": "stderr",
     "output_type": "stream",
     "text": [
      "2025/01/11 18:06:23 ERROR dspy.utils.parallelizer: Error processing item Example({'topic': 'SharePoint: Migrating from Designer to Power Automate', 'intro_video': \" - [April] Are you ready to take advantage of the rich  \\n automation capabilities that Office 365 has to offer?  \\n It's time to ditch those old SharePoint  \\n Designer workflows and embrace the modern power  \\n of Power Automate.  \\n Hi, I'm April Dunnam,  \\n a partner, technical architect at Microsoft.  \\n I've been a consultant focused  \\n on helping businesses get the most  \\n out of their collaboration tools for over 10 years.  \\n If you're looking for guidance on what Power Automate  \\n has to offer, and how to migrate  \\n your old SharePoint Designer workflows to it,  \\n then you've come to the right place.  \\n \\n\\n\"}) (input_keys={'topic', 'intro_video'}): Collection efe7f333-971a-4049-bc77-b49456a563f6 already exists. Set `provide_traceback=True` to see the stack trace.\n"
     ]
    },
    {
     "name": "stdout",
     "output_type": "stream",
     "text": [
      "Average Metric: 0.00 / 0 (0%):  12%|██████████▋                                                                              | 3/25 [00:00<00:04,  5.26it/s]"
     ]
    },
    {
     "name": "stderr",
     "output_type": "stream",
     "text": [
      "2025/01/11 18:06:23 ERROR dspy.utils.parallelizer: Error processing item Example({'topic': 'HTML and CSS: Linking', 'intro_video': \" - Links are the heart of the web.  \\n If there were no links, would the web even exist?  \\n In this course we'll look in detail at the humble link.  \\n We'll use HTML to link within a page, between pages,  \\n to different websites, email, phone numbers,  \\n and to documents like PDFs.  \\n We'll also make our links pretty with CSS,  \\n and look at link maintenance to make sure that they're up  \\n to date with the changing web.  \\n I'm Jen Kramer, an educator and web developer,  \\n and I think I've coded at least half  \\n of the links on the web in my 23-year career.  \\n So if you're ready, let's get started with HTML  \\n and CSS linking.  \\n \\n\\n\"}) (input_keys={'topic', 'intro_video'}): Collection similarity_test already exists. Set `provide_traceback=True` to see the stack trace.\n"
     ]
    },
    {
     "name": "stdout",
     "output_type": "stream",
     "text": [
      "Average Metric: 0.00 / 0 (0%):  16%|██████████████▏                                                                          | 4/25 [00:00<00:03,  5.26it/s]Error in similarity calculation: Collection b9a0db65-ddbb-42f9-93dd-68dd83f1cf21 does not exist.\n",
      "Average Metric: 0.00 / 1 (0.0%):  20%|█████████████████▍                                                                     | 5/25 [00:00<00:03,  5.26it/s]Error in similarity calculation: Collection 880f9487-ac42-413f-aa87-12105648a91b does not exist.\n",
      "Average Metric: 0.00 / 2 (0.0%):  24%|████████████████████▉                                                                  | 6/25 [00:00<00:03,  5.26it/s]Error in similarity calculation: Collection ce5140f1-a4cd-43df-95c9-b990d5d08281 does not exist.\n",
      "Average Metric: 0.00 / 4 (0.0%):  36%|███████████████████████████████▎                                                       | 9/25 [00:03<00:06,  2.59it/s]Error in similarity calculation: Collection b173048d-96b5-4e62-bb44-96e660dddfa6 does not exist.\n",
      "Average Metric: 0.00 / 5 (0.0%):  40%|██████████████████████████████████▍                                                   | 10/25 [00:03<00:05,  2.85it/s]Error in similarity calculation: Collection 1167d8bc-1e16-425a-993a-6e29c6ce9ba8 does not exist.\n",
      "Average Metric: 0.00 / 6 (0.0%):  40%|██████████████████████████████████▍                                                   | 10/25 [00:03<00:05,  2.85it/s]Error in similarity calculation: Collection 1cdf1b03-5441-4a0d-a927-55cb85cf1184 does not exist.\n",
      "Average Metric: 0.00 / 7 (0.0%):  48%|█████████████████████████████████████████▎                                            | 12/25 [00:03<00:03,  3.30it/s]Error in similarity calculation: Collection f8e750c6-9a7a-4274-b4b2-f4ac190e5fc5 does not exist.\n",
      "Average Metric: 0.00 / 8 (0.0%):  48%|█████████████████████████████████████████▎                                            | 12/25 [00:03<00:03,  3.30it/s]Error in similarity calculation: Collection 96230506-76b0-4aa5-af52-d8237969ccea does not exist.\n",
      "Average Metric: 0.00 / 9 (0.0%):  52%|████████████████████████████████████████████▋                                         | 13/25 [00:03<00:03,  3.30it/s]Error in similarity calculation: Collection 05a9beea-0ee7-4639-8728-e54b0029e2d0 does not exist.\n",
      "Average Metric: 0.00 / 14 (0.0%):  72%|█████████████████████████████████████████████████████████████▏                       | 18/25 [00:04<00:01,  6.09it/s]Error in similarity calculation: Collection 01ba24b7-5567-4c09-a178-b75496f41c97 does not exist.\n",
      "Average Metric: 0.00 / 15 (0.0%):  80%|████████████████████████████████████████████████████████████████████                 | 20/25 [00:04<00:00,  6.03it/s]Error in similarity calculation: Collection 059869e1-1cd7-4b18-8940-f4a4be0eded3 does not exist.\n",
      "Average Metric: 0.00 / 20 (0.0%): 100%|█████████████████████████████████████████████████████████████████████████████████████| 25/25 [00:08<00:00,  3.11it/s]"
     ]
    },
    {
     "name": "stderr",
     "output_type": "stream",
     "text": [
      "2025/01/11 18:06:31 INFO dspy.evaluate.evaluate: Average Metric: 0.0 / 25 (0.0%)\n",
      "2025/01/11 18:06:31 INFO dspy.teleprompt.mipro_optimizer_v2: Score: 0.0 on minibatch of size 25 with parameters ['Predictor 0: Instruction 8', 'Predictor 0: Few-Shot Set 8'].\n",
      "2025/01/11 18:06:31 INFO dspy.teleprompt.mipro_optimizer_v2: Minibatch scores so far: [0.0, 0.0, 0.0, 0.0, 0.0, 0.0, 0.0, 0.0, 0.0, 0.0, 0.0, 0.0, 0.0, 0.0, 0.0, 0.0, 0.0, 0.0, 0.0, 0.0, 0.0, 0.0, 0.0, 0.0, 0.0, 0.0, 0.0]\n",
      "2025/01/11 18:06:31 INFO dspy.teleprompt.mipro_optimizer_v2: Full eval scores so far: [0.0, 0.0, 0.0]\n",
      "2025/01/11 18:06:31 INFO dspy.teleprompt.mipro_optimizer_v2: Best full score so far: 0.0\n",
      "2025/01/11 18:06:31 INFO dspy.teleprompt.mipro_optimizer_v2: =============================\n",
      "\n",
      "\n",
      "2025/01/11 18:06:31 INFO dspy.teleprompt.mipro_optimizer_v2: == Minibatch Trial 28 / 30 ==\n",
      "2025/01/11 18:06:31 INFO dspy.teleprompt.mipro_optimizer_v2: Evaluating the following candidate program...\n",
      "\n"
     ]
    },
    {
     "name": "stdout",
     "output_type": "stream",
     "text": [
      "\n",
      "Predictor 0\n",
      "i: Create an engaging and informative video transcript for the introductory segment of a course centered on the specified topic. The transcript should be approximately 250 words long, formatted in markdown, and should effectively convey the course's objectives, key themes, and the importance of the topic in a relatable manner that encourages prospective students to enroll. Include elements of storytelling and highlight the integration of practical skills and ethical considerations to foster a growth mindset.\n",
      "p: Intro Video:\n",
      "\n",
      "\n",
      "Average Metric: 0.00 / 4 (0.0%):  12%|██████████▍                                                                            | 3/25 [00:03<00:19,  1.13it/s]Error in similarity calculation: Collection d2460966-c5f7-4335-afcb-2d59cb947a1a does not exist.\n",
      "Average Metric: 0.00 / 5 (0.0%):  20%|█████████████████▍                                                                     | 5/25 [00:03<00:08,  2.37it/s]Error in similarity calculation: Collection 3bea62e3-4866-4219-937b-f4d40dbd2766 does not exist.\n",
      "Average Metric: 0.00 / 12 (0.0%):  44%|█████████████████████████████████████▍                                               | 11/25 [00:04<00:02,  6.29it/s]"
     ]
    },
    {
     "name": "stderr",
     "output_type": "stream",
     "text": [
      "2025/01/11 18:06:36 ERROR dspy.utils.parallelizer: Error processing item Example({'topic': 'Music Theory for Songwriters: The Fundamentals', 'intro_video': \" - Hi, I'm Julian Velard,  \\n and welcome to music theory for songwriters.  \\n Songwriting is often considered an art  \\n born solely of inspiration.  \\n And while inspiration is at the heart of music,  \\n music theory is the language  \\n that lets us shape our inspiration into songs.  \\n By having a deeper understanding  \\n of the principles of music theory,  \\n we can improve our songwriting skills  \\n and broaden the types of songs we can write.  \\n This course is for anyone who either wants  \\n to start writing songs, or already writes songs  \\n and wants a better understanding of how music works.  \\n I'll show you how the core principles of music theory  \\n apply to the world of songwriting.  \\n First, I'll break down the building blocks of music,  \\n starting with notes, intervals, and skills.  \\n Then I'll move on to the basics of chords  \\n and chord progressions,  \\n and how we put them together into musical phrases.  \\n I'll show you how those elements are organized  \\n into verses, choruses, bridges, and other sections,  \\n ultimately forming an entire song.  \\n Finally, we'll explore common song forms,  \\n giving you multiple templates  \\n for organizing your inspired ideas into songs.  \\n Along the way, I'll show you how I use music theory  \\n in my own compositions  \\n by performing some of my original songs  \\n and following them up with analysis,  \\n demonstrating the concepts we covered in the course.  \\n I can't wait to share with you all the amazing things  \\n I've learned about songwriting.  \\n Let's get started in music theory for songwriters.  \\n \\n\\n\"}) (input_keys={'topic', 'intro_video'}): Collection 36b3f0da-bf1a-4e85-a155-b21246b54d3a already exists. Set `provide_traceback=True` to see the stack trace.\n"
     ]
    },
    {
     "name": "stdout",
     "output_type": "stream",
     "text": [
      "Average Metric: 0.00 / 12 (0.0%):  52%|████████████████████████████████████████████▏                                        | 13/25 [00:04<00:02,  5.63it/s]Error in similarity calculation: Collection 5ba70564-36fc-4cc0-ae6c-f9da7e535574 does not exist.\n",
      "Average Metric: 0.00 / 13 (0.0%):  52%|████████████████████████████████████████████▏                                        | 13/25 [00:04<00:02,  5.63it/s]Error in similarity calculation: Collection 7e60a796-5616-404c-8b3d-3f28fe6b8fe4 does not exist.\n",
      "Average Metric: 0.00 / 14 (0.0%):  56%|███████████████████████████████████████████████▌                                     | 14/25 [00:04<00:01,  5.63it/s]Error in similarity calculation: Collection fbf00d70-e40e-4ce0-a382-ede8714c8fd8 does not exist.\n",
      "Average Metric: 0.00 / 15 (0.0%):  64%|██████████████████████████████████████████████████████▍                              | 16/25 [00:04<00:01,  7.01it/s]Error in similarity calculation: Collection 91f2bb99-70b5-4967-9f07-4d0bbb632d4a does not exist.\n",
      "Average Metric: 0.00 / 24 (0.0%): 100%|█████████████████████████████████████████████████████████████████████████████████████| 25/25 [00:10<00:00,  2.40it/s]"
     ]
    },
    {
     "name": "stderr",
     "output_type": "stream",
     "text": [
      "2025/01/11 18:06:42 INFO dspy.evaluate.evaluate: Average Metric: 0.0 / 25 (0.0%)\n",
      "2025/01/11 18:06:42 INFO dspy.teleprompt.mipro_optimizer_v2: Score: 0.0 on minibatch of size 25 with parameters ['Predictor 0: Instruction 8', 'Predictor 0: Few-Shot Set 9'].\n",
      "2025/01/11 18:06:42 INFO dspy.teleprompt.mipro_optimizer_v2: Minibatch scores so far: [0.0, 0.0, 0.0, 0.0, 0.0, 0.0, 0.0, 0.0, 0.0, 0.0, 0.0, 0.0, 0.0, 0.0, 0.0, 0.0, 0.0, 0.0, 0.0, 0.0, 0.0, 0.0, 0.0, 0.0, 0.0, 0.0, 0.0, 0.0]\n",
      "2025/01/11 18:06:42 INFO dspy.teleprompt.mipro_optimizer_v2: Full eval scores so far: [0.0, 0.0, 0.0]\n",
      "2025/01/11 18:06:42 INFO dspy.teleprompt.mipro_optimizer_v2: Best full score so far: 0.0\n",
      "2025/01/11 18:06:42 INFO dspy.teleprompt.mipro_optimizer_v2: =============================\n",
      "\n",
      "\n",
      "2025/01/11 18:06:42 INFO dspy.teleprompt.mipro_optimizer_v2: == Minibatch Trial 29 / 30 ==\n",
      "2025/01/11 18:06:42 INFO dspy.teleprompt.mipro_optimizer_v2: Evaluating the following candidate program...\n",
      "\n"
     ]
    },
    {
     "name": "stdout",
     "output_type": "stream",
     "text": [
      "\n",
      "Predictor 0\n",
      "i: You are an experienced educator creating an engaging introduction for a course. Write a video transcript for the intro video to a course on the given topic. Ensure the transcript is approximately 250 words and is formatted in markdown. Use personal storytelling and practical examples to enhance relatability, and aim to promote a growth mindset while encouraging learner interaction.\n",
      "p: Intro Video:\n",
      "\n",
      "\n",
      "  0%|                                                                                                                                | 0/25 [00:00<?, ?it/s]"
     ]
    },
    {
     "name": "stderr",
     "output_type": "stream",
     "text": [
      "2025/01/11 18:06:42 ERROR dspy.utils.parallelizer: Error processing item Example({'topic': 'Essentials of MLOps with Azure: 3 Spark MLflow Projects on Databricks', 'intro_video': \" - [Instructor] Welcome to Zero to MLOps  \\n with Azure Databricks.  \\n First, in Lesson 1,  \\n we explore the Databricks Azure interface.  \\n In Lesson 2, we run MLflow projects on Databricks.  \\n In Lesson 3, we look at Databricks autologging.  \\n In Lesson 4, we track model development.  \\n Let's go ahead and get started.  \\n \\n\\n\"}) (input_keys={'topic', 'intro_video'}): Collection similarity_test already exists. Set `provide_traceback=True` to see the stack trace.\n"
     ]
    },
    {
     "name": "stdout",
     "output_type": "stream",
     "text": [
      "Average Metric: 0.00 / 0 (0%):   0%|                                                                                                 | 0/25 [00:00<?, ?it/s]"
     ]
    },
    {
     "name": "stderr",
     "output_type": "stream",
     "text": [
      "2025/01/11 18:06:42 ERROR dspy.utils.parallelizer: Error processing item Example({'topic': 'AWS: Automation and Optimization', 'intro_video': \"- [Shyam] AWS provides on-demand\\ncloud computing services that offer compute,\\nstorage, content delivery and other functionality\\nfor a wide variety of use cases.\\nAutomating and optimizing your processes\\ncan lead to enhanced productivity,\\nimproved performance and cost reduction.\\nThis course will walk you through the different\\ncost optimization strategies\\nthat you can employ to build highly-available solutions\\nwith efficient resource utilization.\\nHi, I'm Shyam, and I'd like to welcome you\\nto this course on Amazon Web Services:\\nAutomation and Optimization.\\n\\nI'm a technical instructor and industry specialist\\non networking, cloud computing and security.\\nLet's get started.\\n \\n\\n\"}) (input_keys={'topic', 'intro_video'}): Collection similarity_test already exists. Set `provide_traceback=True` to see the stack trace.\n"
     ]
    },
    {
     "name": "stdout",
     "output_type": "stream",
     "text": [
      "Average Metric: 0.00 / 0 (0%):   4%|███▌                                                                                     | 1/25 [00:00<00:01, 23.96it/s]"
     ]
    },
    {
     "name": "stderr",
     "output_type": "stream",
     "text": [
      "2025/01/11 18:06:42 ERROR dspy.utils.parallelizer: Error processing item Example({'topic': 'Word Essential Training (Microsoft 365)', 'intro_video': \" - [David] Your ideas deserve to get noticed.  \\n Microsoft Word 365 can help.  \\n With Word, you can create documents that stand out,  \\n documents of all kinds, from letters to newsletters  \\n and from brochures to research papers.  \\n Whether you work on your own or collaborate with a team,  \\n Word has the features you need to create documents  \\n that get your message out.  \\n I'm David Rivers  \\n and I've been teaching people how to get the most  \\n out of Microsoft Word since it was first released.  \\n Join me as we explore how Word in Microsoft 365  \\n can help you work faster and easier  \\n as you create, edit, share, and collaborate  \\n on eye-catching documents.  \\n \\n\\n\"}) (input_keys={'topic', 'intro_video'}): Collection similarity_test already exists. Set `provide_traceback=True` to see the stack trace.\n",
      "2025/01/11 18:06:42 ERROR dspy.utils.parallelizer: Error processing item Example({'topic': 'React: Web Workers', 'intro_video': \"- [Shalom] In React projects,\\nweb workers can be seamlessly integrated\\nusing libraries like React Worker or Workbox.\\nBy leveraging web workers, you can optimize performance,\\nreduce latency, and create a seamless user experience.\\nHi, I'm Shalom, your instructor for this course.\\nI specialize in building high performance web applications\\nusing React and JavaScript.\\nI'm excited to share my knowledge with you\\nto help you master web workers in your React projects.\\n\\n\"}) (input_keys={'topic', 'intro_video'}): Collection similarity_test already exists. Set `provide_traceback=True` to see the stack trace.\n"
     ]
    },
    {
     "name": "stdout",
     "output_type": "stream",
     "text": [
      "Average Metric: 0.00 / 0 (0%):  12%|██████████▋                                                                              | 3/25 [00:00<00:00, 62.00it/s]"
     ]
    },
    {
     "name": "stderr",
     "output_type": "stream",
     "text": [
      "2025/01/11 18:06:42 ERROR dspy.utils.parallelizer: Error processing item Example({'topic': 'Being a Good Mentee', 'intro_video': \" - Do you ever feel less than engaged in your job?  \\n Do you wish your work had more meaning,  \\n or perhaps you are seeking clarity  \\n regarding how to be more successful?  \\n If so, here's the great news.  \\n My research shows definitively  \\n that having a network of various types of mentors  \\n can help you feel more engaged, drive greater meaning,  \\n and absolutely enhance your success  \\n through a bigger paycheck and more rapid promotions.  \\n I am Ellen Ensher.  \\n I'm a business professor at Loyola Marymount University  \\n in Los Angeles,  \\n and an expert in mentoring.  \\n In this course,  \\n I'm so excited to share established strategies  \\n to help you connect with a network of mentors.  \\n Mentoring matters.  \\n I believe knowing how to connect with mentors  \\n is the most important life hack you can learn.  \\n So let's get started.  \\n \\n\\n\"}) (input_keys={'topic', 'intro_video'}): Collection similarity_test already exists. Set `provide_traceback=True` to see the stack trace.\n"
     ]
    },
    {
     "name": "stdout",
     "output_type": "stream",
     "text": [
      "Average Metric: 0.00 / 0 (0%):  16%|██████████████▏                                                                          | 4/25 [00:00<00:00, 74.25it/s]"
     ]
    },
    {
     "name": "stderr",
     "output_type": "stream",
     "text": [
      "2025/01/11 18:06:42 ERROR dspy.utils.parallelizer: Error processing item Example({'topic': 'Having Career Conversations with Your Team', 'intro_video': ' - The career conversation I regret the most  \\n is the one I never had.  \\n I was working at a startup  \\n after taking a leave of absence from UCLA,  \\n and then I hit a plateau,  \\n although I didn\\'t have that language at the time.  \\n I couldn\\'t see a growth path,  \\n so I started looking for other jobs.  \\n I interviewed with Google in my car on lunch breaks  \\n and continued the hiring process with them for five months  \\n all while I could have been troubleshooting  \\n the job that I already had.  \\n I walked into the founder\\'s office at the startup  \\n to give him my two weeks\\' notice.  \\n Looking back nearly 15 years later,  \\n I regret that our first career conversation  \\n was also our last.  \\n As a manager, you might be thinking  \\n how do I prevent this from happening on my team?  \\n How can I support my employees  \\n and have a better sense of where they are  \\n in their growth cycle and career aspirations?  \\n Why do people get intimidated around this topic  \\n of career conversations?  \\n I\\'m Jenny Blake, author of \"Pivot:  \\n The Only Move That Matters Is Your Next One.\"  \\n I\\'m a career and business strategist  \\n with over 10 years of coaching  \\n and career development experience.  \\n I worked at the startup for two years,  \\n Google for five and a half  \\n in training and career development,  \\n and since 2011, I\\'ve been running  \\n my own consulting business in New York City,  \\n helping people move beyond burnout, navigate change,  \\n and build sustainable careers and companies.  \\n During my first year at Google in 2006,  \\n I trained over 1,000 new hires.  \\n These were the best and the brightest,  \\n and they would often come up to me a year or two in  \\n feeling like they were hitting a plateau,  \\n getting restless, and ready for change.  \\n These are what I call pivot points,  \\n and they are not a problem nor a personal shortcoming.  \\n It\\'s important to know that pivoting  \\n isn\\'t just about big moves,  \\n a promotion, or even role change.  \\n Rather, it\\'s a framework to help us all  \\n methodically map what\\'s next,  \\n even within one\\'s current role,  \\n by identifying what success looks like  \\n and building from a foundation  \\n of what is already working best.  \\n As a manager, mentor, or coach,  \\n you can play a key role in helping your team  \\n expand within their role through stretch projects or pilots  \\n and pivot internally when they\\'re ready  \\n for development opportunities.  \\n Working through the Pivot Method  \\n enables you and your team members or mentees  \\n to explore career options before creating  \\n more detailed development plans.  \\n By the end of this course, you will learn  \\n how to apply the four-stage Pivot Method  \\n as a career conversation framework.  \\n You can also share the companion course for individuals  \\n with your team members to help them prepare  \\n or dive deeper after a session.  \\n That\\'s in the LinkedIn Learning Library  \\n under Figuring Out Your Next Move.  \\n \\n\\n'}) (input_keys={'topic', 'intro_video'}): Collection d3c99995-e712-43bd-99d5-96c00e3ec95c already exists. Set `provide_traceback=True` to see the stack trace.\n"
     ]
    },
    {
     "name": "stdout",
     "output_type": "stream",
     "text": [
      "Average Metric: 0.00 / 0 (0%):  20%|█████████████████▊                                                                       | 5/25 [00:00<00:00, 90.07it/s]"
     ]
    },
    {
     "name": "stderr",
     "output_type": "stream",
     "text": [
      "2025/01/11 18:06:42 ERROR dspy.utils.parallelizer: Error processing item Example({'topic': 'Implementing the Metaverse', 'intro_video': \" - What is the metaverse  \\n and what does it mean for you and your organization?  \\n The Metaverse is probably one of the most confusing  \\n and hyped up technologies in recent years.  \\n Over the last two decades,  \\n I have worked relentlessly with hundreds  \\n of organizations to help them understand technology better.  \\n And now I can help you understand the Metaverse  \\n through this new LinkedIn Learning course.  \\n We'll cover topics such as marketing, operations, privacy  \\n and more that are part  \\n of making the Metaverse an integral part  \\n of your organization.  \\n And today is a great time to jump in.  \\n \\n\\n\"}) (input_keys={'topic', 'intro_video'}): Collection c23d4550-e109-423f-ae5e-231c3e603d7e already exists. Set `provide_traceback=True` to see the stack trace.\n"
     ]
    },
    {
     "name": "stdout",
     "output_type": "stream",
     "text": [
      "Average Metric: 0.00 / 0 (0%):  24%|█████████████████████▎                                                                   | 6/25 [00:00<00:00, 98.54it/s]"
     ]
    },
    {
     "name": "stderr",
     "output_type": "stream",
     "text": [
      "2025/01/11 18:06:42 ERROR dspy.utils.parallelizer: Error processing item Example({'topic': 'Creating an Interior Scene with Blender', 'intro_video': \"- [Voiceover] Hi, I'm Darrin Lile and welcome to\\nCreating an Interior Scene in Blender.\\nIn this course we'll go through the process\\nof creating a modern condominium interior.\\nWe'll make the walls and windows of the scene\\nbased on blueprints that we import into Blender.\\nThen we'll model the furniture in the room\\nbased on our reference images.\\nOnce this is done, we'll UV map the furniture,\\napply textures, and set up materials in the node editor.\\nFinally, we'll add lights to our scene\\nand render the final image.\\n\\nI'm looking forward to getting started so please\\njoin me for Creating an Interior Scene in Blender.\\n\\n\"}) (input_keys={'topic', 'intro_video'}): Collection similarity_test already exists. Set `provide_traceback=True` to see the stack trace.\n"
     ]
    },
    {
     "name": "stdout",
     "output_type": "stream",
     "text": [
      "Average Metric: 0.00 / 0 (0%):  28%|████████████████████████▋                                                               | 7/25 [00:00<00:00, 111.97it/s]"
     ]
    },
    {
     "name": "stderr",
     "output_type": "stream",
     "text": [
      "2025/01/11 18:06:42 ERROR dspy.utils.parallelizer: Error processing item Example({'topic': 'Learning Bubble', 'intro_video': \" - [Jen] Creating web applications,  \\n particularly highly-customized web applications,  \\n has always been a challenge online.  \\n Either you'd need to learn how to code  \\n or you'd need to pay a developer  \\n tens of thousands of dollars to do it for you.  \\n You could use a starter system like WordPress,  \\n but then you might have some limitations  \\n to what the plugins could do for you.  \\n Otherwise, you're back to hiring a developer again  \\n or learning to code yourself.  \\n Bubble is a new approach to this old problem.  \\n Established in 2012 as a visual development platform,  \\n Bubble's popularity has exploded in the last two years  \\n as more people discover the power of Bubble.  \\n In this course, you'll get a quick introduction  \\n to some of Bubble's features and functionality,  \\n just enough to get you up and running  \\n with a quick application.  \\n First, we'll build an app for making grocery lists,  \\n we'll explore some pre-configured components  \\n that we can drop into our app, like a header for the site.  \\n We'll set up an interface for making a grocery list  \\n and pairing it with the department  \\n where we might find that grocery item.  \\n We'll check off items as we purchase them  \\n and we'll bring back items  \\n that might make our list over and over.  \\n Finally, we'll personalize our grocery lists,  \\n hiding them behind a log-in.  \\n I'm Jen Kramer,  \\n and I have been building websites for over 20 years.  \\n I'm excited about the world that Bubble opens  \\n to those without a coding background,  \\n so they can make their own web applications.  \\n So if you're ready, let's get started with learning Bubble.  \\n \\n\\n\"}) (input_keys={'topic', 'intro_video'}): Collection similarity_test already exists. Set `provide_traceback=True` to see the stack trace.\n"
     ]
    },
    {
     "name": "stdout",
     "output_type": "stream",
     "text": [
      "Average Metric: 0.00 / 0 (0%):  32%|████████████████████████████▏                                                           | 8/25 [00:00<00:00, 120.28it/s]"
     ]
    },
    {
     "name": "stderr",
     "output_type": "stream",
     "text": [
      "2025/01/11 18:06:42 INFO dspy.teleprompt.mipro_optimizer_v2: Score: 0.0 on minibatch of size 25 with parameters ['Predictor 0: Instruction 4', 'Predictor 0: Few-Shot Set 2'].\n",
      "2025/01/11 18:06:42 INFO dspy.teleprompt.mipro_optimizer_v2: Minibatch scores so far: [0.0, 0.0, 0.0, 0.0, 0.0, 0.0, 0.0, 0.0, 0.0, 0.0, 0.0, 0.0, 0.0, 0.0, 0.0, 0.0, 0.0, 0.0, 0.0, 0.0, 0.0, 0.0, 0.0, 0.0, 0.0, 0.0, 0.0, 0.0, 0.0]\n",
      "2025/01/11 18:06:42 INFO dspy.teleprompt.mipro_optimizer_v2: Full eval scores so far: [0.0, 0.0, 0.0]\n",
      "2025/01/11 18:06:42 INFO dspy.teleprompt.mipro_optimizer_v2: Best full score so far: 0.0\n",
      "2025/01/11 18:06:42 INFO dspy.teleprompt.mipro_optimizer_v2: =============================\n",
      "\n",
      "\n",
      "2025/01/11 18:06:42 INFO dspy.teleprompt.mipro_optimizer_v2: == Minibatch Trial 30 / 30 ==\n",
      "2025/01/11 18:06:42 INFO dspy.teleprompt.mipro_optimizer_v2: Evaluating the following candidate program...\n",
      "\n"
     ]
    },
    {
     "name": "stdout",
     "output_type": "stream",
     "text": [
      "Error in similarity calculation: Collection b10e2bc1-8529-4eea-9862-f32a58cd353a does not exist.\n",
      "Error in similarity calculation: Collection eefdd60e-4383-48c2-ba98-7b81c0860a15 does not exist.\n",
      "Error in similarity calculation: Collection 4bbc98db-5537-475a-8c80-9991de4020b8 does not exist.\n",
      "Error in similarity calculation: Collection 52d6fb08-e270-41df-b829-3351d4fbfd65 does not exist.\n",
      "Error in similarity calculation: Collection 21db1aa8-0e9f-4f26-8d79-50e00ca762b7 does not exist.\n",
      "Exception occurred: Collection similarity_test already exists\n",
      "Predictor 0\n",
      "i: You are an experienced educator creating an engaging introduction for a course. Write a video transcript for the intro video to a course on the given topic. Ensure the transcript is approximately 250 words and is formatted in markdown. Use personal storytelling and practical examples to enhance relatability, and aim to promote a growth mindset while encouraging learner interaction.\n",
      "p: Intro Video:\n",
      "\n",
      "\n",
      "  0%|                                                                                                                                | 0/25 [00:00<?, ?it/s]"
     ]
    },
    {
     "name": "stderr",
     "output_type": "stream",
     "text": [
      "2025/01/11 18:06:43 ERROR dspy.utils.parallelizer: Error processing item Example({'topic': 'Learning Amazon Cognito', 'intro_video': \" - [Bear] Just about every app and website these days  \\n requires you to have an account and log in.  \\n Are you developing an app or website  \\n that needs the user to log in?  \\n If so, Cognito can be a great solution.  \\n Hi, I'm Bear Cahill, head binary sequencer at Brainwash Inc.  \\n In this course, we'll go over the general information  \\n on Cognito in AWS.  \\n We'll also go into detail of user pools and identity pools.  \\n We'll also cover some other areas of Cognito user management  \\n like running Lambda code triggered by Cognito actions.  \\n Let's get started.  \\n \\n\\n\"}) (input_keys={'topic', 'intro_video'}): Collection c2c747e2-e678-41a7-8e6c-429d6074a59d already exists. Set `provide_traceback=True` to see the stack trace.\n"
     ]
    },
    {
     "name": "stdout",
     "output_type": "stream",
     "text": [
      "Average Metric: 0.00 / 0 (0%):   0%|                                                                                                 | 0/25 [00:00<?, ?it/s]"
     ]
    },
    {
     "name": "stderr",
     "output_type": "stream",
     "text": [
      "2025/01/11 18:06:43 ERROR dspy.utils.parallelizer: Error processing item Example({'topic': 'Interviewing Techniques', 'intro_video': \" - If you're not hiring or placing exceptional talent  \\n it may be because your interview process is not designed  \\n to excite passive candidates.  \\n When was the last time you reviewed your interview process?  \\n Is it time to consider different interview styles?  \\n My name is Barb Bruno.  \\n I've been in the recruiting profession for over 25 years  \\n and my company has placed more than 10,000 people in jobs.  \\n I've trained thousands of recruiters  \\n and talent acquisition professionals on how to improve  \\n their interviewing skills to fill more jobs.  \\n In this course, we're going to talk about the best way  \\n to prepare for an interview.  \\n You'll learn how screening interviews help eliminate bias  \\n and emotion from the process.  \\n We'll also discuss why it's important for you  \\n to understand the opportunity and clarify performance  \\n that will lead to success on the job.  \\n In addition, we'll review the different types  \\n of interviews and provide interview tips as well  \\n as sample lists of the most effective questions to ask  \\n and a scorecard to rate candidates interviewed.  \\n You'll learn how to create brand awareness  \\n and improve the candidate experience that will lead  \\n to increased referrals of top talent.  \\n If you're willing to make subtle changes  \\n to your interviewing techniques to attract the best talent  \\n this course was written for you.  \\n Let's get started.  \\n \\n\\n\"}) (input_keys={'topic', 'intro_video'}): Collection 34e1f0dc-6a17-4e21-92e0-56374dde84df already exists. Set `provide_traceback=True` to see the stack trace.\n"
     ]
    },
    {
     "name": "stdout",
     "output_type": "stream",
     "text": [
      "Average Metric: 0.00 / 0 (0%):   4%|███▌                                                                                     | 1/25 [00:00<00:05,  4.40it/s]"
     ]
    },
    {
     "name": "stderr",
     "output_type": "stream",
     "text": [
      "2025/01/11 18:06:43 ERROR dspy.utils.parallelizer: Error processing item Example({'topic': 'PLC Simulation Software: Factory I/O with Connected Component Workbench', 'intro_video': \" - Wouldn't it be nice that even  \\n without having access to real devices,  \\n that you could practice PLC programming  \\n using factory setting?  \\n Well, Factor IO is a 3D factory simulation software  \\n for learning automation technologies  \\n and it's a great tool to practice PLC programming.  \\n Using a simulator PLC,  \\n I will go through few projects like programming  \\n a control panel to control a conveyor belt  \\n programming filling a water tank with a timer  \\n and programming conveyor belt to separate boxes by height.  \\n I'm Zara Khalil.  \\n I am an engineering instructor  \\n and teaching is something I always love to do.  \\n Let's get started.  \\n \\n\\n\"}) (input_keys={'topic', 'intro_video'}): Collection similarity_test already exists. Set `provide_traceback=True` to see the stack trace.\n"
     ]
    },
    {
     "name": "stdout",
     "output_type": "stream",
     "text": [
      "Average Metric: 0.00 / 0 (0%):   8%|███████                                                                                  | 2/25 [00:00<00:05,  4.40it/s]"
     ]
    },
    {
     "name": "stderr",
     "output_type": "stream",
     "text": [
      "2025/01/11 18:06:43 ERROR dspy.utils.parallelizer: Error processing item Example({'topic': 'Creating an Interior Scene with Blender', 'intro_video': \"- [Voiceover] Hi, I'm Darrin Lile and welcome to\\nCreating an Interior Scene in Blender.\\nIn this course we'll go through the process\\nof creating a modern condominium interior.\\nWe'll make the walls and windows of the scene\\nbased on blueprints that we import into Blender.\\nThen we'll model the furniture in the room\\nbased on our reference images.\\nOnce this is done, we'll UV map the furniture,\\napply textures, and set up materials in the node editor.\\nFinally, we'll add lights to our scene\\nand render the final image.\\n\\nI'm looking forward to getting started so please\\njoin me for Creating an Interior Scene in Blender.\\n\\n\"}) (input_keys={'topic', 'intro_video'}): Collection ff98f505-83bc-4e61-b82d-218f96a04961 already exists. Set `provide_traceback=True` to see the stack trace.\n"
     ]
    },
    {
     "name": "stdout",
     "output_type": "stream",
     "text": [
      "Average Metric: 0.00 / 0 (0%):  12%|██████████▋                                                                              | 3/25 [00:00<00:05,  4.40it/s]"
     ]
    },
    {
     "name": "stderr",
     "output_type": "stream",
     "text": [
      "2025/01/11 18:06:43 ERROR dspy.utils.parallelizer: Error processing item Example({'topic': 'Sketch Essential Training: The Basics', 'intro_video': \" - Welcome to the LinkedIn course,  \\n Sketch essential training ,the basics.  \\n At the end of this video,  \\n you'll have an overview of what the course is about,  \\n as well as an expectation of what you're going  \\n to get out of it.  \\n This course is for anyone who wants to learn how to create  \\n digital products using Sketch,  \\n by the end of it,  \\n you should understand enough about the tool, to create,  \\n test and share digital design assets.  \\n We're going to go through the various features of Sketch  \\n by creating the elements that we need for mobile app,  \\n for a bicycle shop.  \\n We'll cover things like understanding the tool  \\n as well as how to use it to accomplish various design tasks.  \\n I'm Chimmy Kalu,  \\n and I create lovable products.  \\n Why don't you watch this course  \\n and learn how to use Sketch with me.  \\n \\n\\n\"}) (input_keys={'topic', 'intro_video'}): Collection similarity_test already exists. Set `provide_traceback=True` to see the stack trace.\n"
     ]
    },
    {
     "name": "stdout",
     "output_type": "stream",
     "text": [
      "Error in similarity calculation: Collection d2fe2bd6-3a5a-42f4-8680-6e2252f7388d does not exist.\n",
      "Average Metric: 0.00 / 1 (0.0%):  20%|█████████████████▍                                                                     | 5/25 [00:00<00:04,  4.40it/s]Error in similarity calculation: Collection 2759c3bc-576a-4f9c-a212-0c2574f9337b does not exist.\n",
      "Average Metric: 0.00 / 2 (0.0%):  24%|████████████████████▉                                                                  | 6/25 [00:00<00:04,  4.40it/s]Error in similarity calculation: Collection 647ee8e2-8298-4673-aff5-60812aab2e4c does not exist.\n",
      "Average Metric: 0.00 / 3 (0.0%):  32%|███████████████████████████▊                                                           | 8/25 [00:02<00:06,  2.76it/s]Error in similarity calculation: Collection 94126fe5-261a-4acf-9d77-79efc65e1d84 does not exist.\n",
      "Average Metric: 0.00 / 4 (0.0%):  32%|███████████████████████████▊                                                           | 8/25 [00:02<00:06,  2.76it/s]Error in similarity calculation: Collection 704a4ca0-70fe-4813-82b4-19b5d0a27f95 does not exist.\n",
      "Average Metric: 0.00 / 7 (0.0%):  44%|█████████████████████████████████████▊                                                | 11/25 [00:03<00:03,  4.01it/s]Error in similarity calculation: Collection cf586f8d-985c-4e0e-8e45-54860fd813d7 does not exist.\n",
      "Average Metric: 0.00 / 8 (0.0%):  52%|████████████████████████████████████████████▋                                         | 13/25 [00:03<00:02,  4.40it/s]Error in similarity calculation: Collection 6d13826a-47cd-4ed3-a9c7-e550fac3c98e does not exist.\n",
      "Average Metric: 0.00 / 13 (0.0%):  68%|█████████████████████████████████████████████████████████▊                           | 17/25 [00:03<00:01,  5.77it/s]Error in similarity calculation: Collection 733ac839-a299-4104-a1d8-6a52245a631e does not exist.\n",
      "Average Metric: 0.00 / 14 (0.0%):  76%|████████████████████████████████████████████████████████████████▌                    | 19/25 [00:03<00:00,  6.66it/s]Error in similarity calculation: Collection e96e4072-f123-4c64-a5c9-bbb2f5aab72d does not exist.\n",
      "Average Metric: 0.00 / 15 (0.0%):  76%|████████████████████████████████████████████████████████████████▌                    | 19/25 [00:03<00:00,  6.66it/s]Error in similarity calculation: Collection 090003ba-246e-47c6-b805-094859eee31e does not exist.\n",
      "Average Metric: 0.00 / 16 (0.0%):  84%|███████████████████████████████████████████████████████████████████████▍             | 21/25 [00:04<00:00,  7.36it/s]Error in similarity calculation: Collection b3a31f32-6162-4a28-9343-217219a5b107 does not exist.\n",
      "Average Metric: 0.00 / 19 (0.0%):  92%|██████████████████████████████████████████████████████████████████████████████▏      | 23/25 [00:05<00:00,  8.97it/s]"
     ]
    },
    {
     "name": "stderr",
     "output_type": "stream",
     "text": [
      "2025/01/11 18:06:48 WARNING dspy.utils.parallelizer: Received SIGINT. Cancelling execution.\n",
      "[W 2025-01-11 18:06:48,629] Trial 29 failed with parameters: {'0_predictor_instruction': 1, '0_predictor_demos': 5} because of the following error: KeyboardInterrupt().\n",
      "Traceback (most recent call last):\n",
      "  File \"/home/bianders/Brian_Code/.Magnus/lib/python3.12/site-packages/dspy/utils/parallelizer.py\", line 176, in _execute_multi_thread\n",
      "    for future in as_completed(futures):\n",
      "  File \"/usr/lib/python3.12/concurrent/futures/_base.py\", line 243, in as_completed\n",
      "    waiter.event.wait(wait_timeout)\n",
      "  File \"/usr/lib/python3.12/threading.py\", line 655, in wait\n",
      "    signaled = self._cond.wait(timeout)\n",
      "               ^^^^^^^^^^^^^^^^^^^^^^^^\n",
      "  File \"/usr/lib/python3.12/threading.py\", line 355, in wait\n",
      "    waiter.acquire()\n",
      "  File \"/home/bianders/Brian_Code/.Magnus/lib/python3.12/site-packages/dspy/utils/parallelizer.py\", line 132, in interrupt_handler\n",
      "    default_handler(sig, frame)\n",
      "KeyboardInterrupt\n",
      "\n",
      "During handling of the above exception, another exception occurred:\n",
      "\n",
      "Traceback (most recent call last):\n",
      "  File \"/home/bianders/Brian_Code/.Magnus/lib/python3.12/site-packages/optuna/study/_optimize.py\", line 197, in _run_trial\n",
      "    value_or_values = func(trial)\n",
      "                      ^^^^^^^^^^^\n",
      "  File \"/home/bianders/Brian_Code/.Magnus/lib/python3.12/site-packages/dspy/teleprompt/mipro_optimizer_v2.py\", line 533, in objective\n",
      "    score = eval_candidate_program(\n",
      "            ^^^^^^^^^^^^^^^^^^^^^^^\n",
      "  File \"/home/bianders/Brian_Code/.Magnus/lib/python3.12/site-packages/dspy/teleprompt/utils.py\", line 54, in eval_candidate_program\n",
      "    score = evaluate(\n",
      "            ^^^^^^^^^\n",
      "  File \"/home/bianders/Brian_Code/.Magnus/lib/python3.12/site-packages/dspy/evaluate/evaluate.py\", line 112, in __call__\n",
      "    results = executor.execute(process_item, devset)\n",
      "              ^^^^^^^^^^^^^^^^^^^^^^^^^^^^^^^^^^^^^^\n",
      "  File \"/home/bianders/Brian_Code/.Magnus/lib/python3.12/site-packages/dspy/utils/parallelizer.py\", line 39, in execute\n",
      "    return self._execute_multi_thread(wrapped_function, data)\n",
      "           ^^^^^^^^^^^^^^^^^^^^^^^^^^^^^^^^^^^^^^^^^^^^^^^^^^\n",
      "  File \"/home/bianders/Brian_Code/.Magnus/lib/python3.12/site-packages/dspy/utils/parallelizer.py\", line 158, in _execute_multi_thread\n",
      "    with ThreadPoolExecutor(max_workers=self.num_threads) as executor, interrupt_handler_manager():\n",
      "  File \"/usr/lib/python3.12/concurrent/futures/_base.py\", line 647, in __exit__\n",
      "    self.shutdown(wait=True)\n",
      "  File \"/usr/lib/python3.12/concurrent/futures/thread.py\", line 238, in shutdown\n",
      "    t.join()\n",
      "  File \"/usr/lib/python3.12/threading.py\", line 1147, in join\n",
      "    self._wait_for_tstate_lock()\n",
      "  File \"/usr/lib/python3.12/threading.py\", line 1167, in _wait_for_tstate_lock\n",
      "    if lock.acquire(block, timeout):\n",
      "       ^^^^^^^^^^^^^^^^^^^^^^^^^^^^\n",
      "KeyboardInterrupt\n",
      "[W 2025-01-11 18:06:48,634] Trial 29 failed with value None.\n",
      "\n",
      "KeyboardInterrupt\n",
      "\n"
     ]
    },
    {
     "name": "stdout",
     "output_type": "stream",
     "text": [
      "Average Metric: 0.00 / 19 (0.0%):  96%|█████████████████████████████████████████████████████████████████████████████████▌   | 24/25 [00:21<00:00,  8.97it/s]"
     ]
    }
   ],
   "source": [
    "teleprompter = dspy.MIPROv2(\n",
    "    metric=metric,\n",
    "    num_threads=24,\n",
    "    verbose=True,\n",
    "    max_bootstrapped_demos=4,\n",
    "    max_labeled_demos=16,\n",
    ")\n",
    "# Train the model\n",
    "optimized_program = teleprompter.compile(write_video_transcript, trainset=trainset[:100])"
   ]
  },
  {
   "cell_type": "code",
   "execution_count": null,
   "id": "2ce39940",
   "metadata": {},
   "outputs": [],
   "source": [
    "# Save the optimized program to disk\n",
    "optimizeda_program.save(\"intro_video.json\")\n",
    "optimized_program.save(\"intro_video.pkl\")"
   ]
  }
 ],
 "metadata": {
  "jupytext": {
   "cell_metadata_filter": "-all",
   "main_language": "python",
   "notebook_metadata_filter": "-all"
  },
  "kernelspec": {
   "display_name": "Python (.Magnus)",
   "language": "python",
   "name": ".magnus"
  },
  "language_info": {
   "codemirror_mode": {
    "name": "ipython",
    "version": 3
   },
   "file_extension": ".py",
   "mimetype": "text/x-python",
   "name": "python",
   "nbconvert_exporter": "python",
   "pygments_lexer": "ipython3",
   "version": "3.12.3"
  }
 },
 "nbformat": 4,
 "nbformat_minor": 5
}
