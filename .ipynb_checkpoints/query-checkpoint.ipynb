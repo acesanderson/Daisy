{
 "cells": [
  {
   "cell_type": "code",
   "execution_count": 3,
   "id": "9096863e",
   "metadata": {},
   "outputs": [],
   "source": [
    "from Kramer.database.MongoDB_CRUD import get_all_courses_sync\n",
    "from rich.console import Console\n",
    "import chromadb\n",
    "import dspy\n",
    "import os"
   ]
  },
  {
   "cell_type": "code",
   "execution_count": 5,
   "id": "02b080a2",
   "metadata": {},
   "outputs": [
    {
     "name": "stdout",
     "output_type": "stream",
     "text": [
      "Getting courses...\n",
      "Got 11008 courses.\n",
      "11008\n"
     ]
    }
   ],
   "source": [
    "print(\"Getting courses...\")\n",
    "courses = get_all_courses_sync()\n",
    "trainset = []\n",
    "for course in courses:\n",
    "    try:\n",
    "        topic = course.course_title\n",
    "        intro_video = course.sections[0].entries[0].transcript\n",
    "        trainset.append(dspy.Example(topic=topic, intro_video=intro_video))\n",
    "    except:\n",
    "        pass\n",
    "print(f\"Got {len(trainset)} courses.\")\n",
    "trainset = [x.with_inputs(\"topic\", \"intro_video\") for x in trainset]\n",
    "print(len(trainset))"
   ]
  },
  {
   "cell_type": "code",
   "execution_count": 8,
   "id": "1c63a5da",
   "metadata": {},
   "outputs": [],
   "source": [
    "# Set up the console for pretty printing\n",
    "console = Console(width=100)\n",
    "# Set up the OpenAI API key and instantiate the GPT-4o model\n",
    "api_key = os.getenv(\"OPENAI_API_KEY\")\n",
    "# lm = dspy.LM(\"ollama_chat/llama3.1\", api_base=\"http://localhost:11434\", api_key=\"\")\n",
    "# lm = dspy.LM(\"ollama_chat/llama3.1\", api_base=\"http://localhost:11434\", api_key=\"\")\n",
    "lm = dspy.LM(\"openai/gpt-4o-mini\", api_key=api_key)\n",
    "dspy.configure(lm=lm)"
   ]
  },
  {
   "cell_type": "code",
   "execution_count": 9,
   "id": "cf5b16df",
   "metadata": {},
   "outputs": [],
   "source": [
    "class WriteVideoTranscript(dspy.Signature):\n",
    "    \"\"\"Write a video transcript for the intro video to a course on a given topic.\"\"\"\n",
    "\n",
    "    topic: str = dspy.InputField(desc=\"the topic of the course\")\n",
    "    intro_video: str = dspy.OutputField(\n",
    "        desc=\"markdown-formatted transcript of an intro video of roughly 250 words\"\n",
    "    )"
   ]
  },
  {
   "cell_type": "code",
   "execution_count": 24,
   "id": "4754d561",
   "metadata": {},
   "outputs": [],
   "source": [
    "def get_similarity_score(original_text: str, generated_text: str):\n",
    "    \"\"\"\n",
    "    Get the similarity score between two texts.\n",
    "    \"\"\"\n",
    "    if not isinstance(original_text, str):\n",
    "        return None\n",
    "    if not isinstance(generated_text, str):\n",
    "        return None\n",
    "    # Initialize ChromaDB client\n",
    "    client = chromadb.Client()\n",
    "\n",
    "    # Create a collection\n",
    "    try:\n",
    "        collection = client.get_collection(\"similarity_test\")\n",
    "    except chromadb.errors.InvalidCollectionException:\n",
    "        collection = client.create_collection(\"similarity_test\")\n",
    "\n",
    "    # Add your documents\n",
    "    try:\n",
    "        collection.add(\n",
    "            documents=[original_text, generated_text], ids=[\"original\", \"generated\"]\n",
    "        )\n",
    "    except:\n",
    "        print(\"Error adding document for whatever reason.\")\n",
    "\n",
    "    # Query to get similarity\n",
    "    results = collection.query(\n",
    "        query_texts=[original_text], n_results=2, include=[\"distances\"]\n",
    "    )\n",
    "\n",
    "    # The distances in the results represent similarity scores\n",
    "    # Lower distance = higher similarity\n",
    "    similarity_scores = results[\"distances\"][0][1]\n",
    "    return similarity_scores"
   ]
  },
  {
   "cell_type": "code",
   "execution_count": 25,
   "id": "37b760d9",
   "metadata": {},
   "outputs": [
    {
     "name": "stdout",
     "output_type": "stream",
     "text": [
      "Processing example 1 of 500 \n"
     ]
    },
    {
     "name": "stderr",
     "output_type": "stream",
     "text": [
      "Add of existing embedding ID: original\n",
      "Add of existing embedding ID: generated\n",
      "Insert of existing embedding ID: original\n",
      "Insert of existing embedding ID: generated\n",
      "Add of existing embedding ID: original\n",
      "Add of existing embedding ID: generated\n",
      "Insert of existing embedding ID: original\n",
      "Insert of existing embedding ID: generated\n"
     ]
    },
    {
     "name": "stdout",
     "output_type": "stream",
     "text": [
      "Topic: Technology and Design Ethics\n",
      "Similarity Score: 0.5486911535263062\n",
      "Processing example 2 of 500 \n"
     ]
    },
    {
     "name": "stderr",
     "output_type": "stream",
     "text": [
      "Add of existing embedding ID: original\n",
      "Add of existing embedding ID: generated\n",
      "Insert of existing embedding ID: original\n",
      "Insert of existing embedding ID: generated\n"
     ]
    },
    {
     "name": "stdout",
     "output_type": "stream",
     "text": [
      "Topic: TypeScript for Node.js Developers\n",
      "Similarity Score: 1.9613838195800781\n",
      "Processing example 3 of 500 \n"
     ]
    },
    {
     "name": "stderr",
     "output_type": "stream",
     "text": [
      "Add of existing embedding ID: original\n",
      "Add of existing embedding ID: generated\n",
      "Insert of existing embedding ID: original\n",
      "Insert of existing embedding ID: generated\n"
     ]
    },
    {
     "name": "stdout",
     "output_type": "stream",
     "text": [
      "Topic: Managing Python Projects\n",
      "Similarity Score: 1.673892855644226\n",
      "Processing example 4 of 500 \n"
     ]
    },
    {
     "name": "stderr",
     "output_type": "stream",
     "text": [
      "Add of existing embedding ID: original\n",
      "Add of existing embedding ID: generated\n",
      "Insert of existing embedding ID: original\n",
      "Insert of existing embedding ID: generated\n"
     ]
    },
    {
     "name": "stdout",
     "output_type": "stream",
     "text": [
      "Topic: How Do I Do That in After Effects\n",
      "Similarity Score: 1.7508519887924194\n",
      "Processing example 5 of 500 \n"
     ]
    },
    {
     "name": "stderr",
     "output_type": "stream",
     "text": [
      "Add of existing embedding ID: original\n",
      "Add of existing embedding ID: generated\n",
      "Insert of existing embedding ID: original\n",
      "Insert of existing embedding ID: generated\n"
     ]
    },
    {
     "name": "stdout",
     "output_type": "stream",
     "text": [
      "Topic: Introduction to Web Design and Development\n",
      "Similarity Score: 1.7575576305389404\n",
      "Processing example 6 of 500 \n"
     ]
    },
    {
     "name": "stderr",
     "output_type": "stream",
     "text": [
      "Add of existing embedding ID: original\n",
      "Add of existing embedding ID: generated\n",
      "Insert of existing embedding ID: original\n",
      "Insert of existing embedding ID: generated\n"
     ]
    },
    {
     "name": "stdout",
     "output_type": "stream",
     "text": [
      "Topic: Job Interview Strategies for UX Designers\n",
      "Similarity Score: 1.4737211465835571\n",
      "Processing example 7 of 500 \n"
     ]
    },
    {
     "name": "stderr",
     "output_type": "stream",
     "text": [
      "Add of existing embedding ID: original\n",
      "Add of existing embedding ID: generated\n",
      "Insert of existing embedding ID: original\n",
      "Insert of existing embedding ID: generated\n"
     ]
    },
    {
     "name": "stdout",
     "output_type": "stream",
     "text": [
      "Topic: HTML Essential Training\n",
      "Similarity Score: 1.6273175477981567\n",
      "Processing example 8 of 500 \n"
     ]
    },
    {
     "name": "stderr",
     "output_type": "stream",
     "text": [
      "Add of existing embedding ID: original\n",
      "Add of existing embedding ID: generated\n",
      "Insert of existing embedding ID: original\n",
      "Insert of existing embedding ID: generated\n"
     ]
    },
    {
     "name": "stdout",
     "output_type": "stream",
     "text": [
      "Topic: Tips for Managing Stress While Working with Upset Customers\n",
      "Similarity Score: 1.8248789310455322\n",
      "Processing example 9 of 500 \n"
     ]
    },
    {
     "name": "stderr",
     "output_type": "stream",
     "text": [
      "Add of existing embedding ID: original\n",
      "Add of existing embedding ID: generated\n",
      "Insert of existing embedding ID: original\n",
      "Insert of existing embedding ID: generated\n"
     ]
    },
    {
     "name": "stdout",
     "output_type": "stream",
     "text": [
      "Topic: Building Angular and ASP.NET Web API Apps\n",
      "Similarity Score: 1.7024121284484863\n",
      "Processing example 10 of 500 \n"
     ]
    },
    {
     "name": "stderr",
     "output_type": "stream",
     "text": [
      "Add of existing embedding ID: original\n",
      "Add of existing embedding ID: generated\n",
      "Insert of existing embedding ID: original\n",
      "Insert of existing embedding ID: generated\n"
     ]
    },
    {
     "name": "stdout",
     "output_type": "stream",
     "text": [
      "Topic: Customer Service: Motivating Your Team\n",
      "Similarity Score: 1.8505409955978394\n",
      "Processing example 11 of 500 \n"
     ]
    },
    {
     "name": "stderr",
     "output_type": "stream",
     "text": [
      "Add of existing embedding ID: original\n",
      "Add of existing embedding ID: generated\n",
      "Insert of existing embedding ID: original\n",
      "Insert of existing embedding ID: generated\n"
     ]
    },
    {
     "name": "stdout",
     "output_type": "stream",
     "text": [
      "Topic: Shane Snow on Storytelling\n",
      "Similarity Score: 1.5363740921020508\n",
      "Processing example 12 of 500 \n"
     ]
    },
    {
     "name": "stderr",
     "output_type": "stream",
     "text": [
      "Add of existing embedding ID: original\n",
      "Add of existing embedding ID: generated\n",
      "Insert of existing embedding ID: original\n",
      "Insert of existing embedding ID: generated\n"
     ]
    },
    {
     "name": "stdout",
     "output_type": "stream",
     "text": [
      "Topic: Following Up after a Sales Meeting\n",
      "Similarity Score: 1.7171392440795898\n",
      "Processing example 13 of 500 \n"
     ]
    },
    {
     "name": "stderr",
     "output_type": "stream",
     "text": [
      "Add of existing embedding ID: original\n",
      "Add of existing embedding ID: generated\n",
      "Insert of existing embedding ID: original\n",
      "Insert of existing embedding ID: generated\n"
     ]
    },
    {
     "name": "stdout",
     "output_type": "stream",
     "text": [
      "Topic: Handling Workplace Bullying\n",
      "Similarity Score: 1.6523985862731934\n",
      "Processing example 14 of 500 \n"
     ]
    },
    {
     "name": "stderr",
     "output_type": "stream",
     "text": [
      "Add of existing embedding ID: original\n",
      "Add of existing embedding ID: generated\n",
      "Insert of existing embedding ID: original\n",
      "Insert of existing embedding ID: generated\n"
     ]
    },
    {
     "name": "stdout",
     "output_type": "stream",
     "text": [
      "Topic: Managing a WordPress Corporate Blog\n",
      "Similarity Score: 1.7113025188446045\n",
      "Processing example 15 of 500 \n"
     ]
    },
    {
     "name": "stderr",
     "output_type": "stream",
     "text": [
      "Add of existing embedding ID: original\n",
      "Add of existing embedding ID: generated\n",
      "Insert of existing embedding ID: original\n",
      "Insert of existing embedding ID: generated\n"
     ]
    },
    {
     "name": "stdout",
     "output_type": "stream",
     "text": [
      "Topic: Leadership Foundations: Leadership Styles and Models\n",
      "Similarity Score: 1.73052179813385\n",
      "Processing example 16 of 500 \n"
     ]
    },
    {
     "name": "stderr",
     "output_type": "stream",
     "text": [
      "Add of existing embedding ID: original\n",
      "Add of existing embedding ID: generated\n",
      "Insert of existing embedding ID: original\n",
      "Insert of existing embedding ID: generated\n"
     ]
    },
    {
     "name": "stdout",
     "output_type": "stream",
     "text": [
      "Topic: The Foundations of Fiction\n",
      "Similarity Score: 1.6090396642684937\n",
      "Processing example 17 of 500 \n"
     ]
    },
    {
     "name": "stderr",
     "output_type": "stream",
     "text": [
      "Add of existing embedding ID: original\n",
      "Add of existing embedding ID: generated\n",
      "Insert of existing embedding ID: original\n",
      "Insert of existing embedding ID: generated\n"
     ]
    },
    {
     "name": "stdout",
     "output_type": "stream",
     "text": [
      "Topic: Become a Chief of Staff\n",
      "Similarity Score: 1.744145154953003\n",
      "Processing example 18 of 500 \n"
     ]
    },
    {
     "name": "stderr",
     "output_type": "stream",
     "text": [
      "Add of existing embedding ID: original\n",
      "Add of existing embedding ID: generated\n",
      "Insert of existing embedding ID: original\n",
      "Insert of existing embedding ID: generated\n"
     ]
    },
    {
     "name": "stdout",
     "output_type": "stream",
     "text": [
      "Topic: Access: VBA\n",
      "Similarity Score: 1.7279832363128662\n",
      "Processing example 19 of 500 \n"
     ]
    },
    {
     "name": "stderr",
     "output_type": "stream",
     "text": [
      "Add of existing embedding ID: original\n",
      "Add of existing embedding ID: generated\n",
      "Insert of existing embedding ID: original\n",
      "Insert of existing embedding ID: generated\n"
     ]
    },
    {
     "name": "stdout",
     "output_type": "stream",
     "text": [
      "Topic: Managing and Administering Microsoft Teams by Microsoft Press\n",
      "Similarity Score: 1.5107899904251099\n",
      "Processing example 20 of 500 \n"
     ]
    },
    {
     "name": "stderr",
     "output_type": "stream",
     "text": [
      "Add of existing embedding ID: original\n",
      "Add of existing embedding ID: generated\n",
      "Insert of existing embedding ID: original\n",
      "Insert of existing embedding ID: generated\n"
     ]
    },
    {
     "name": "stdout",
     "output_type": "stream",
     "text": [
      "Topic: Managing Your Cybersecurity Program through a Merger or Acquisition\n",
      "Similarity Score: 1.696987271308899\n",
      "Processing example 21 of 500 \n"
     ]
    },
    {
     "name": "stderr",
     "output_type": "stream",
     "text": [
      "Add of existing embedding ID: original\n",
      "Add of existing embedding ID: generated\n",
      "Insert of existing embedding ID: original\n",
      "Insert of existing embedding ID: generated\n"
     ]
    },
    {
     "name": "stdout",
     "output_type": "stream",
     "text": [
      "Topic: ChatGPT Tips for the Help Desk (2023)\n",
      "Similarity Score: 1.5552300214767456\n",
      "Processing example 22 of 500 \n"
     ]
    },
    {
     "name": "stderr",
     "output_type": "stream",
     "text": [
      "Add of existing embedding ID: original\n",
      "Add of existing embedding ID: generated\n",
      "Insert of existing embedding ID: original\n",
      "Insert of existing embedding ID: generated\n"
     ]
    },
    {
     "name": "stdout",
     "output_type": "stream",
     "text": [
      "Topic: Change Management for Projects\n",
      "Similarity Score: 1.591016173362732\n",
      "Processing example 23 of 500 \n"
     ]
    },
    {
     "name": "stderr",
     "output_type": "stream",
     "text": [
      "Add of existing embedding ID: original\n",
      "Add of existing embedding ID: generated\n",
      "Insert of existing embedding ID: original\n",
      "Insert of existing embedding ID: generated\n"
     ]
    },
    {
     "name": "stdout",
     "output_type": "stream",
     "text": [
      "Topic: Learning Amazon Cognito\n",
      "Similarity Score: 1.9812599420547485\n",
      "Processing example 24 of 500 \n"
     ]
    },
    {
     "name": "stderr",
     "output_type": "stream",
     "text": [
      "Add of existing embedding ID: original\n",
      "Add of existing embedding ID: generated\n",
      "Insert of existing embedding ID: original\n",
      "Insert of existing embedding ID: generated\n"
     ]
    },
    {
     "name": "stdout",
     "output_type": "stream",
     "text": [
      "Topic: How to Work with a Micromanager\n",
      "Similarity Score: 1.8801851272583008\n",
      "Processing example 25 of 500 \n"
     ]
    },
    {
     "name": "stderr",
     "output_type": "stream",
     "text": [
      "Add of existing embedding ID: original\n",
      "Add of existing embedding ID: generated\n",
      "Insert of existing embedding ID: original\n",
      "Insert of existing embedding ID: generated\n"
     ]
    },
    {
     "name": "stdout",
     "output_type": "stream",
     "text": [
      "Topic: Learning Mastercam for SOLIDWORKS\n",
      "Similarity Score: 1.8135675191879272\n",
      "Processing example 26 of 500 \n"
     ]
    },
    {
     "name": "stderr",
     "output_type": "stream",
     "text": [
      "Add of existing embedding ID: original\n",
      "Add of existing embedding ID: generated\n",
      "Insert of existing embedding ID: original\n",
      "Insert of existing embedding ID: generated\n"
     ]
    },
    {
     "name": "stdout",
     "output_type": "stream",
     "text": [
      "Topic: Learning Pix4D Drone Mapping\n",
      "Similarity Score: 1.647925615310669\n",
      "Processing example 27 of 500 \n"
     ]
    },
    {
     "name": "stderr",
     "output_type": "stream",
     "text": [
      "Add of existing embedding ID: original\n",
      "Add of existing embedding ID: generated\n",
      "Insert of existing embedding ID: original\n",
      "Insert of existing embedding ID: generated\n"
     ]
    },
    {
     "name": "stdout",
     "output_type": "stream",
     "text": [
      "Topic: macOS for IT Administrators\n",
      "Similarity Score: 1.517932415008545\n",
      "Processing example 28 of 500 \n"
     ]
    },
    {
     "name": "stderr",
     "output_type": "stream",
     "text": [
      "Add of existing embedding ID: original\n",
      "Add of existing embedding ID: generated\n",
      "Insert of existing embedding ID: original\n",
      "Insert of existing embedding ID: generated\n"
     ]
    },
    {
     "name": "stdout",
     "output_type": "stream",
     "text": [
      "Topic: The BIM Execution Plan for Architects\n",
      "Similarity Score: 1.516662359237671\n",
      "Processing example 29 of 500 \n"
     ]
    },
    {
     "name": "stderr",
     "output_type": "stream",
     "text": [
      "Add of existing embedding ID: original\n",
      "Add of existing embedding ID: generated\n",
      "Insert of existing embedding ID: original\n",
      "Insert of existing embedding ID: generated\n"
     ]
    },
    {
     "name": "stdout",
     "output_type": "stream",
     "text": [
      "Topic: Connecting with Your Audience Using Video\n",
      "Similarity Score: 1.6977442502975464\n",
      "Processing example 30 of 500 \n"
     ]
    },
    {
     "name": "stderr",
     "output_type": "stream",
     "text": [
      "Add of existing embedding ID: original\n",
      "Add of existing embedding ID: generated\n",
      "Insert of existing embedding ID: original\n",
      "Insert of existing embedding ID: generated\n"
     ]
    },
    {
     "name": "stdout",
     "output_type": "stream",
     "text": [
      "Topic: Having Career Conversations with Your Team\n",
      "Similarity Score: 1.8119624853134155\n",
      "Processing example 31 of 500 \n"
     ]
    },
    {
     "name": "stderr",
     "output_type": "stream",
     "text": [
      "Add of existing embedding ID: original\n",
      "Add of existing embedding ID: generated\n",
      "Insert of existing embedding ID: original\n",
      "Insert of existing embedding ID: generated\n"
     ]
    },
    {
     "name": "stdout",
     "output_type": "stream",
     "text": [
      "Topic: Interviewing Techniques\n",
      "Similarity Score: 1.8455114364624023\n",
      "Processing example 32 of 500 \n"
     ]
    },
    {
     "name": "stderr",
     "output_type": "stream",
     "text": [
      "Add of existing embedding ID: original\n",
      "Add of existing embedding ID: generated\n",
      "Insert of existing embedding ID: original\n",
      "Insert of existing embedding ID: generated\n"
     ]
    },
    {
     "name": "stdout",
     "output_type": "stream",
     "text": [
      "Topic: Python GUI Development with Tkinter\n",
      "Similarity Score: 1.8233522176742554\n",
      "Processing example 33 of 500 \n"
     ]
    },
    {
     "name": "stderr",
     "output_type": "stream",
     "text": [
      "Add of existing embedding ID: original\n",
      "Add of existing embedding ID: generated\n",
      "Insert of existing embedding ID: original\n",
      "Insert of existing embedding ID: generated\n"
     ]
    },
    {
     "name": "stdout",
     "output_type": "stream",
     "text": [
      "Topic: ITILÂ® Foundation 4 First Look\n",
      "Similarity Score: 1.5031766891479492\n",
      "Processing example 34 of 500 \n"
     ]
    },
    {
     "name": "stderr",
     "output_type": "stream",
     "text": [
      "Add of existing embedding ID: original\n",
      "Add of existing embedding ID: generated\n",
      "Insert of existing embedding ID: original\n",
      "Insert of existing embedding ID: generated\n"
     ]
    },
    {
     "name": "stdout",
     "output_type": "stream",
     "text": [
      "Topic: AWS: Automation and Optimization\n",
      "Similarity Score: 1.8048782348632812\n",
      "Processing example 35 of 500 \n"
     ]
    },
    {
     "name": "stderr",
     "output_type": "stream",
     "text": [
      "Add of existing embedding ID: original\n",
      "Add of existing embedding ID: generated\n",
      "Insert of existing embedding ID: original\n",
      "Insert of existing embedding ID: generated\n"
     ]
    },
    {
     "name": "stdout",
     "output_type": "stream",
     "text": [
      "Topic: VPC Networking: Designing a Software Defined Data Center on AWS\n",
      "Similarity Score: 1.8334612846374512\n",
      "Processing example 36 of 500 \n"
     ]
    },
    {
     "name": "stderr",
     "output_type": "stream",
     "text": [
      "Add of existing embedding ID: original\n",
      "Add of existing embedding ID: generated\n",
      "Insert of existing embedding ID: original\n",
      "Insert of existing embedding ID: generated\n"
     ]
    },
    {
     "name": "stdout",
     "output_type": "stream",
     "text": [
      "Topic: Transitioning from Java to Kotlin\n",
      "Similarity Score: 1.8926911354064941\n",
      "Processing example 37 of 500 \n"
     ]
    },
    {
     "name": "stderr",
     "output_type": "stream",
     "text": [
      "Add of existing embedding ID: original\n",
      "Add of existing embedding ID: generated\n",
      "Insert of existing embedding ID: original\n",
      "Insert of existing embedding ID: generated\n"
     ]
    },
    {
     "name": "stdout",
     "output_type": "stream",
     "text": [
      "Topic: Essentials of MLOps with Azure: 3 Spark MLflow Projects on Databricks\n",
      "Similarity Score: 1.9588345289230347\n",
      "Processing example 38 of 500 \n"
     ]
    },
    {
     "name": "stderr",
     "output_type": "stream",
     "text": [
      "Add of existing embedding ID: original\n",
      "Add of existing embedding ID: generated\n",
      "Insert of existing embedding ID: original\n",
      "Insert of existing embedding ID: generated\n"
     ]
    },
    {
     "name": "stdout",
     "output_type": "stream",
     "text": [
      "Topic: Photoshop: Creative Lab Color\n",
      "Similarity Score: 1.741289734840393\n",
      "Processing example 39 of 500 \n"
     ]
    },
    {
     "name": "stderr",
     "output_type": "stream",
     "text": [
      "Add of existing embedding ID: original\n",
      "Add of existing embedding ID: generated\n",
      "Insert of existing embedding ID: original\n",
      "Insert of existing embedding ID: generated\n"
     ]
    },
    {
     "name": "stdout",
     "output_type": "stream",
     "text": [
      "Topic: Building RESTful Web APIs with Django\n",
      "Similarity Score: 1.928695559501648\n",
      "Processing example 40 of 500 \n"
     ]
    },
    {
     "name": "stderr",
     "output_type": "stream",
     "text": [
      "Add of existing embedding ID: original\n",
      "Add of existing embedding ID: generated\n",
      "Insert of existing embedding ID: original\n",
      "Insert of existing embedding ID: generated\n"
     ]
    },
    {
     "name": "stdout",
     "output_type": "stream",
     "text": [
      "Topic: React: Web Workers\n",
      "Similarity Score: 1.8550764322280884\n",
      "Processing example 41 of 500 \n",
      "Topic: Tintype Photography at New York's Penumbra Foundation\n",
      "Similarity Score: 1.6460649967193604\n",
      "Processing example 42 of 500 \n"
     ]
    },
    {
     "name": "stderr",
     "output_type": "stream",
     "text": [
      "Add of existing embedding ID: original\n",
      "Add of existing embedding ID: generated\n",
      "Insert of existing embedding ID: original\n",
      "Insert of existing embedding ID: generated\n",
      "Add of existing embedding ID: original\n",
      "Add of existing embedding ID: generated\n",
      "Insert of existing embedding ID: original\n",
      "Insert of existing embedding ID: generated\n"
     ]
    },
    {
     "name": "stdout",
     "output_type": "stream",
     "text": [
      "Topic: Build a Career You Love No Matter the Market\n",
      "Similarity Score: 1.5895349979400635\n",
      "Processing example 43 of 500 \n"
     ]
    },
    {
     "name": "stderr",
     "output_type": "stream",
     "text": [
      "Add of existing embedding ID: original\n",
      "Add of existing embedding ID: generated\n",
      "Insert of existing embedding ID: original\n",
      "Insert of existing embedding ID: generated\n"
     ]
    },
    {
     "name": "stdout",
     "output_type": "stream",
     "text": [
      "Topic: Problem-Solving Strategies for Data Engineers\n",
      "Similarity Score: 1.6377586126327515\n",
      "Processing example 44 of 500 \n"
     ]
    },
    {
     "name": "stderr",
     "output_type": "stream",
     "text": [
      "Add of existing embedding ID: original\n",
      "Add of existing embedding ID: generated\n",
      "Insert of existing embedding ID: original\n",
      "Insert of existing embedding ID: generated\n"
     ]
    },
    {
     "name": "stdout",
     "output_type": "stream",
     "text": [
      "Topic: SharePoint: Migrating from Designer to Power Automate\n",
      "Similarity Score: 1.6463027000427246\n",
      "Processing example 45 of 500 \n"
     ]
    },
    {
     "name": "stderr",
     "output_type": "stream",
     "text": [
      "Add of existing embedding ID: original\n",
      "Add of existing embedding ID: generated\n",
      "Insert of existing embedding ID: original\n",
      "Insert of existing embedding ID: generated\n"
     ]
    },
    {
     "name": "stdout",
     "output_type": "stream",
     "text": [
      "Topic: Photoshop 2020 Essential Training: Design\n",
      "Similarity Score: 1.4126925468444824\n",
      "Processing example 46 of 500 \n"
     ]
    },
    {
     "name": "stderr",
     "output_type": "stream",
     "text": [
      "Add of existing embedding ID: original\n",
      "Add of existing embedding ID: generated\n",
      "Insert of existing embedding ID: original\n",
      "Insert of existing embedding ID: generated\n"
     ]
    },
    {
     "name": "stdout",
     "output_type": "stream",
     "text": [
      "Topic: DevOps Foundations: Effective Postmortems\n",
      "Similarity Score: 1.632624626159668\n",
      "Processing example 47 of 500 \n"
     ]
    },
    {
     "name": "stderr",
     "output_type": "stream",
     "text": [
      "Add of existing embedding ID: original\n",
      "Add of existing embedding ID: generated\n",
      "Insert of existing embedding ID: original\n",
      "Insert of existing embedding ID: generated\n"
     ]
    },
    {
     "name": "stdout",
     "output_type": "stream",
     "text": [
      "Topic: Marketing on Facebook: Managing a Company Page\n",
      "Similarity Score: 1.7182050943374634\n",
      "Processing example 48 of 500 \n"
     ]
    },
    {
     "name": "stderr",
     "output_type": "stream",
     "text": [
      "Add of existing embedding ID: original\n",
      "Add of existing embedding ID: generated\n",
      "Insert of existing embedding ID: original\n",
      "Insert of existing embedding ID: generated\n"
     ]
    },
    {
     "name": "stdout",
     "output_type": "stream",
     "text": [
      "Topic: Photoshop 2020 Essential Training: Photography\n",
      "Similarity Score: 1.6149812936782837\n",
      "Processing example 49 of 500 \n"
     ]
    },
    {
     "name": "stderr",
     "output_type": "stream",
     "text": [
      "Add of existing embedding ID: original\n",
      "Add of existing embedding ID: generated\n",
      "Insert of existing embedding ID: original\n",
      "Insert of existing embedding ID: generated\n"
     ]
    },
    {
     "name": "stdout",
     "output_type": "stream",
     "text": [
      "Topic: Photoshop 2020 Essential Training: The Basics\n",
      "Similarity Score: 1.588188886642456\n",
      "Processing example 50 of 500 \n"
     ]
    },
    {
     "name": "stderr",
     "output_type": "stream",
     "text": [
      "Add of existing embedding ID: original\n",
      "Add of existing embedding ID: generated\n",
      "Insert of existing embedding ID: original\n",
      "Insert of existing embedding ID: generated\n"
     ]
    },
    {
     "name": "stdout",
     "output_type": "stream",
     "text": [
      "Topic: Green Screen Techniques for Video and Photography\n",
      "Similarity Score: 1.5807173252105713\n",
      "Processing example 51 of 500 \n"
     ]
    },
    {
     "name": "stderr",
     "output_type": "stream",
     "text": [
      "Add of existing embedding ID: original\n",
      "Add of existing embedding ID: generated\n",
      "Insert of existing embedding ID: original\n",
      "Insert of existing embedding ID: generated\n"
     ]
    },
    {
     "name": "stdout",
     "output_type": "stream",
     "text": [
      "Topic: Addressing Technical Skills Gaps\n",
      "Similarity Score: 1.576799988746643\n",
      "Processing example 52 of 500 \n"
     ]
    },
    {
     "name": "stderr",
     "output_type": "stream",
     "text": [
      "Add of existing embedding ID: original\n",
      "Add of existing embedding ID: generated\n",
      "Insert of existing embedding ID: original\n",
      "Insert of existing embedding ID: generated\n"
     ]
    },
    {
     "name": "stdout",
     "output_type": "stream",
     "text": [
      "Topic: Azure AI Engineer Associate (AI-102) Cert Prep: Implement Knowledge Mining Solutions and Document Intelligence Solutions\n",
      "Similarity Score: 1.673687219619751\n",
      "Processing example 53 of 500 \n"
     ]
    },
    {
     "name": "stderr",
     "output_type": "stream",
     "text": [
      "Add of existing embedding ID: original\n",
      "Add of existing embedding ID: generated\n",
      "Insert of existing embedding ID: original\n",
      "Insert of existing embedding ID: generated\n"
     ]
    },
    {
     "name": "stdout",
     "output_type": "stream",
     "text": [
      "Topic: Generative AI for Product Managers\n",
      "Similarity Score: 1.641148328781128\n",
      "Processing example 54 of 500 \n"
     ]
    },
    {
     "name": "stderr",
     "output_type": "stream",
     "text": [
      "Add of existing embedding ID: original\n",
      "Add of existing embedding ID: generated\n",
      "Insert of existing embedding ID: original\n",
      "Insert of existing embedding ID: generated\n"
     ]
    },
    {
     "name": "stdout",
     "output_type": "stream",
     "text": [
      "Topic: Human Resources: Understanding HR Systems Features and Benefits\n",
      "Similarity Score: 1.6282397508621216\n",
      "Processing example 55 of 500 \n"
     ]
    },
    {
     "name": "stderr",
     "output_type": "stream",
     "text": [
      "Add of existing embedding ID: original\n",
      "Add of existing embedding ID: generated\n",
      "Insert of existing embedding ID: original\n",
      "Insert of existing embedding ID: generated\n"
     ]
    },
    {
     "name": "stdout",
     "output_type": "stream",
     "text": [
      "Topic: Human Resources: Selecting an HR System\n",
      "Similarity Score: 1.4122226238250732\n",
      "Processing example 56 of 500 \n"
     ]
    },
    {
     "name": "stderr",
     "output_type": "stream",
     "text": [
      "Add of existing embedding ID: original\n",
      "Add of existing embedding ID: generated\n",
      "Insert of existing embedding ID: original\n",
      "Insert of existing embedding ID: generated\n"
     ]
    },
    {
     "name": "stdout",
     "output_type": "stream",
     "text": [
      "Topic: Financial Record Keeping\n",
      "Similarity Score: 1.6902339458465576\n",
      "Processing example 57 of 500 \n"
     ]
    },
    {
     "name": "stderr",
     "output_type": "stream",
     "text": [
      "Add of existing embedding ID: original\n",
      "Add of existing embedding ID: generated\n",
      "Insert of existing embedding ID: original\n",
      "Insert of existing embedding ID: generated\n"
     ]
    },
    {
     "name": "stdout",
     "output_type": "stream",
     "text": [
      "Topic: Being a Good Mentee\n",
      "Similarity Score: 1.9414889812469482\n",
      "Processing example 58 of 500 \n"
     ]
    },
    {
     "name": "stderr",
     "output_type": "stream",
     "text": [
      "Add of existing embedding ID: original\n",
      "Add of existing embedding ID: generated\n",
      "Insert of existing embedding ID: original\n",
      "Insert of existing embedding ID: generated\n"
     ]
    },
    {
     "name": "stdout",
     "output_type": "stream",
     "text": [
      "Topic: AI Strategy and Growth for the Modern Board: A Conversation with Dr. Lisa Palmer\n",
      "Similarity Score: 1.3634921312332153\n",
      "Processing example 59 of 500 \n"
     ]
    },
    {
     "name": "stderr",
     "output_type": "stream",
     "text": [
      "Add of existing embedding ID: original\n",
      "Add of existing embedding ID: generated\n",
      "Insert of existing embedding ID: original\n",
      "Insert of existing embedding ID: generated\n"
     ]
    },
    {
     "name": "stdout",
     "output_type": "stream",
     "text": [
      "Topic: Logo Development: Identity Design and Discovery\n",
      "Similarity Score: 1.3436129093170166\n",
      "Processing example 60 of 500 \n"
     ]
    },
    {
     "name": "stderr",
     "output_type": "stream",
     "text": [
      "Add of existing embedding ID: original\n",
      "Add of existing embedding ID: generated\n",
      "Insert of existing embedding ID: original\n",
      "Insert of existing embedding ID: generated\n"
     ]
    },
    {
     "name": "stdout",
     "output_type": "stream",
     "text": [
      "Topic: Own It: The Power of Women at Work\n",
      "Similarity Score: 1.744666337966919\n",
      "Processing example 61 of 500 \n"
     ]
    },
    {
     "name": "stderr",
     "output_type": "stream",
     "text": [
      "Add of existing embedding ID: original\n",
      "Add of existing embedding ID: generated\n",
      "Insert of existing embedding ID: original\n",
      "Insert of existing embedding ID: generated\n"
     ]
    },
    {
     "name": "stdout",
     "output_type": "stream",
     "text": [
      "Topic: The Dumb Things Smart People Do with Their Money\n",
      "Similarity Score: 1.6380401849746704\n",
      "Processing example 62 of 500 \n"
     ]
    },
    {
     "name": "stderr",
     "output_type": "stream",
     "text": [
      "Add of existing embedding ID: original\n",
      "Add of existing embedding ID: generated\n",
      "Insert of existing embedding ID: original\n",
      "Insert of existing embedding ID: generated\n"
     ]
    },
    {
     "name": "stdout",
     "output_type": "stream",
     "text": [
      "Topic: Programming Foundations: Beyond the Fundamentals\n",
      "Similarity Score: 1.8600181341171265\n",
      "Processing example 63 of 500 \n",
      "Topic: Interaction Design for the Web\n",
      "Similarity Score: 1.4243751764297485\n",
      "Processing example 64 of 500 \n"
     ]
    },
    {
     "name": "stderr",
     "output_type": "stream",
     "text": [
      "Add of existing embedding ID: original\n",
      "Add of existing embedding ID: generated\n",
      "Insert of existing embedding ID: original\n",
      "Insert of existing embedding ID: generated\n",
      "Add of existing embedding ID: original\n",
      "Add of existing embedding ID: generated\n",
      "Insert of existing embedding ID: original\n",
      "Insert of existing embedding ID: generated\n"
     ]
    },
    {
     "name": "stdout",
     "output_type": "stream",
     "text": [
      "Topic: Disability Readiness for Leaders and Managers\n",
      "Similarity Score: 1.6293007135391235\n",
      "Processing example 65 of 500 \n"
     ]
    },
    {
     "name": "stderr",
     "output_type": "stream",
     "text": [
      "Add of existing embedding ID: original\n",
      "Add of existing embedding ID: generated\n",
      "Insert of existing embedding ID: original\n",
      "Insert of existing embedding ID: generated\n"
     ]
    },
    {
     "name": "stdout",
     "output_type": "stream",
     "text": [
      "Topic: Speaking Up for Yourself and Underrepresented Groups\n",
      "Similarity Score: 1.5966947078704834\n",
      "Processing example 66 of 500 \n"
     ]
    },
    {
     "name": "stderr",
     "output_type": "stream",
     "text": [
      "Add of existing embedding ID: original\n",
      "Add of existing embedding ID: generated\n",
      "Insert of existing embedding ID: original\n",
      "Insert of existing embedding ID: generated\n"
     ]
    },
    {
     "name": "stdout",
     "output_type": "stream",
     "text": [
      "Topic: Advanced Data Visualizations: 10 Uncommon Plot Types and How to Use Them\n",
      "Similarity Score: 1.889818549156189\n",
      "Processing example 67 of 500 \n"
     ]
    },
    {
     "name": "stderr",
     "output_type": "stream",
     "text": [
      "Add of existing embedding ID: original\n",
      "Add of existing embedding ID: generated\n",
      "Insert of existing embedding ID: original\n",
      "Insert of existing embedding ID: generated\n"
     ]
    },
    {
     "name": "stdout",
     "output_type": "stream",
     "text": [
      "Topic: Gmail Essential Training\n",
      "Similarity Score: 1.6558696031570435\n",
      "Processing example 68 of 500 \n"
     ]
    },
    {
     "name": "stderr",
     "output_type": "stream",
     "text": [
      "Add of existing embedding ID: original\n",
      "Add of existing embedding ID: generated\n",
      "Insert of existing embedding ID: original\n",
      "Insert of existing embedding ID: generated\n"
     ]
    },
    {
     "name": "stdout",
     "output_type": "stream",
     "text": [
      "Topic: C# Cross-Platform Development\n",
      "Similarity Score: 1.8695778846740723\n",
      "Processing example 69 of 500 \n"
     ]
    },
    {
     "name": "stderr",
     "output_type": "stream",
     "text": [
      "Add of existing embedding ID: original\n",
      "Add of existing embedding ID: generated\n",
      "Insert of existing embedding ID: original\n",
      "Insert of existing embedding ID: generated\n"
     ]
    },
    {
     "name": "stdout",
     "output_type": "stream",
     "text": [
      "Topic: PLC Simulation Software: Factory I/O with Connected Component Workbench\n",
      "Similarity Score: 1.652553915977478\n",
      "Processing example 70 of 500 \n"
     ]
    },
    {
     "name": "stderr",
     "output_type": "stream",
     "text": [
      "Add of existing embedding ID: original\n",
      "Add of existing embedding ID: generated\n",
      "Insert of existing embedding ID: original\n",
      "Insert of existing embedding ID: generated\n"
     ]
    },
    {
     "name": "stdout",
     "output_type": "stream",
     "text": [
      "Topic: Running a Web Design Business: Defining Your Business Structure\n",
      "Similarity Score: 1.6225836277008057\n",
      "Processing example 71 of 500 \n"
     ]
    },
    {
     "name": "stderr",
     "output_type": "stream",
     "text": [
      "Add of existing embedding ID: original\n",
      "Add of existing embedding ID: generated\n",
      "Insert of existing embedding ID: original\n",
      "Insert of existing embedding ID: generated\n"
     ]
    },
    {
     "name": "stdout",
     "output_type": "stream",
     "text": [
      "Topic: Cold Calling: Overcoming Sales Objections\n",
      "Similarity Score: 1.3981958627700806\n",
      "Processing example 72 of 500 \n"
     ]
    },
    {
     "name": "stderr",
     "output_type": "stream",
     "text": [
      "Add of existing embedding ID: original\n",
      "Add of existing embedding ID: generated\n",
      "Insert of existing embedding ID: original\n",
      "Insert of existing embedding ID: generated\n"
     ]
    },
    {
     "name": "stdout",
     "output_type": "stream",
     "text": [
      "Topic: Photoshop 2025 Essential Training\n",
      "Similarity Score: 1.5859121084213257\n",
      "Processing example 73 of 500 \n"
     ]
    },
    {
     "name": "stderr",
     "output_type": "stream",
     "text": [
      "Add of existing embedding ID: original\n",
      "Add of existing embedding ID: generated\n",
      "Insert of existing embedding ID: original\n",
      "Insert of existing embedding ID: generated\n"
     ]
    },
    {
     "name": "stdout",
     "output_type": "stream",
     "text": [
      "Topic: Measuring Business Performance\n",
      "Similarity Score: 1.8320517539978027\n",
      "Processing example 74 of 500 \n"
     ]
    },
    {
     "name": "stderr",
     "output_type": "stream",
     "text": [
      "Add of existing embedding ID: original\n",
      "Add of existing embedding ID: generated\n",
      "Insert of existing embedding ID: original\n",
      "Insert of existing embedding ID: generated\n"
     ]
    },
    {
     "name": "stdout",
     "output_type": "stream",
     "text": [
      "Topic: How to Become a Project Management Entrepreneur\n",
      "Similarity Score: 1.769870638847351\n",
      "Processing example 75 of 500 \n"
     ]
    },
    {
     "name": "stderr",
     "output_type": "stream",
     "text": [
      "Add of existing embedding ID: original\n",
      "Add of existing embedding ID: generated\n",
      "Insert of existing embedding ID: original\n",
      "Insert of existing embedding ID: generated\n"
     ]
    },
    {
     "name": "stdout",
     "output_type": "stream",
     "text": [
      "Topic: Additive Manufacturing: Troubleshoot 3D Prints\n",
      "Similarity Score: 1.493116021156311\n",
      "Processing example 76 of 500 \n"
     ]
    },
    {
     "name": "stderr",
     "output_type": "stream",
     "text": [
      "Add of existing embedding ID: original\n",
      "Add of existing embedding ID: generated\n",
      "Insert of existing embedding ID: original\n",
      "Insert of existing embedding ID: generated\n"
     ]
    },
    {
     "name": "stdout",
     "output_type": "stream",
     "text": [
      "Topic: AWS Machine Learning: Building an Expense Tracker Using Amazon Textract\n",
      "Similarity Score: 1.9129902124404907\n",
      "Processing example 77 of 500 \n"
     ]
    },
    {
     "name": "stderr",
     "output_type": "stream",
     "text": [
      "Add of existing embedding ID: original\n",
      "Add of existing embedding ID: generated\n",
      "Insert of existing embedding ID: original\n",
      "Insert of existing embedding ID: generated\n"
     ]
    },
    {
     "name": "stdout",
     "output_type": "stream",
     "text": [
      "Topic: Microsoft Azure Developer Associate (AZ-204) Exam Tips\n",
      "Similarity Score: 1.6239336729049683\n",
      "Processing example 78 of 500 \n"
     ]
    },
    {
     "name": "stderr",
     "output_type": "stream",
     "text": [
      "Add of existing embedding ID: original\n",
      "Add of existing embedding ID: generated\n",
      "Insert of existing embedding ID: original\n",
      "Insert of existing embedding ID: generated\n"
     ]
    },
    {
     "name": "stdout",
     "output_type": "stream",
     "text": [
      "Topic: Cisco CCNP SCOR Security (350-701) Cert Prep: 1 Security Concepts and Network Security\n",
      "Similarity Score: 1.6738873720169067\n",
      "Processing example 79 of 500 \n"
     ]
    },
    {
     "name": "stderr",
     "output_type": "stream",
     "text": [
      "Add of existing embedding ID: original\n",
      "Add of existing embedding ID: generated\n",
      "Insert of existing embedding ID: original\n",
      "Insert of existing embedding ID: generated\n"
     ]
    },
    {
     "name": "stdout",
     "output_type": "stream",
     "text": [
      "Topic: Cisco CCNP SCOR v1.1 Security (350-701) Cert Prep: 2 Cloud and Content Security\n",
      "Similarity Score: 1.5676524639129639\n",
      "Processing example 80 of 500 \n"
     ]
    },
    {
     "name": "stderr",
     "output_type": "stream",
     "text": [
      "Add of existing embedding ID: original\n",
      "Add of existing embedding ID: generated\n",
      "Insert of existing embedding ID: original\n",
      "Insert of existing embedding ID: generated\n"
     ]
    },
    {
     "name": "stdout",
     "output_type": "stream",
     "text": [
      "Topic: Cisco CCNP SCOR Security (350-701) Cert Prep: 3 Endpoint Protection and Secure Access\n",
      "Similarity Score: 1.7114100456237793\n",
      "Processing example 81 of 500 \n"
     ]
    },
    {
     "name": "stderr",
     "output_type": "stream",
     "text": [
      "Add of existing embedding ID: original\n",
      "Add of existing embedding ID: generated\n",
      "Insert of existing embedding ID: original\n",
      "Insert of existing embedding ID: generated\n"
     ]
    },
    {
     "name": "stdout",
     "output_type": "stream",
     "text": [
      "Topic: Learning Virtualization\n",
      "Similarity Score: 1.7501291036605835\n",
      "Processing example 82 of 500 \n"
     ]
    },
    {
     "name": "stderr",
     "output_type": "stream",
     "text": [
      "Add of existing embedding ID: original\n",
      "Add of existing embedding ID: generated\n",
      "Insert of existing embedding ID: original\n",
      "Insert of existing embedding ID: generated\n"
     ]
    },
    {
     "name": "stdout",
     "output_type": "stream",
     "text": [
      "Topic: Social Media Marketing Tips\n",
      "Similarity Score: 1.9013015031814575\n",
      "Processing example 83 of 500 \n"
     ]
    },
    {
     "name": "stderr",
     "output_type": "stream",
     "text": [
      "Add of existing embedding ID: original\n",
      "Add of existing embedding ID: generated\n",
      "Insert of existing embedding ID: original\n",
      "Insert of existing embedding ID: generated\n"
     ]
    },
    {
     "name": "stdout",
     "output_type": "stream",
     "text": [
      "Topic: Building a Portfolio with Adobe Portfolio\n",
      "Similarity Score: 1.6146382093429565\n",
      "Processing example 84 of 500 \n"
     ]
    },
    {
     "name": "stderr",
     "output_type": "stream",
     "text": [
      "Add of existing embedding ID: original\n",
      "Add of existing embedding ID: generated\n",
      "Insert of existing embedding ID: original\n",
      "Insert of existing embedding ID: generated\n"
     ]
    },
    {
     "name": "stdout",
     "output_type": "stream",
     "text": [
      "Topic: Facebook for Creative Pros\n",
      "Similarity Score: 1.4812780618667603\n",
      "Processing example 85 of 500 \n",
      "Topic: Learning YouTube SEO\n",
      "Similarity Score: 1.8316404819488525\n",
      "Processing example 86 of 500 \n"
     ]
    },
    {
     "name": "stderr",
     "output_type": "stream",
     "text": [
      "Add of existing embedding ID: original\n",
      "Add of existing embedding ID: generated\n",
      "Insert of existing embedding ID: original\n",
      "Insert of existing embedding ID: generated\n",
      "Add of existing embedding ID: original\n",
      "Add of existing embedding ID: generated\n",
      "Insert of existing embedding ID: original\n",
      "Insert of existing embedding ID: generated\n"
     ]
    },
    {
     "name": "stdout",
     "output_type": "stream",
     "text": [
      "Topic: Learning Vue.js\n",
      "Similarity Score: 1.7733644247055054\n",
      "Processing example 87 of 500 \n"
     ]
    },
    {
     "name": "stderr",
     "output_type": "stream",
     "text": [
      "Add of existing embedding ID: original\n",
      "Add of existing embedding ID: generated\n",
      "Insert of existing embedding ID: original\n",
      "Insert of existing embedding ID: generated\n"
     ]
    },
    {
     "name": "stdout",
     "output_type": "stream",
     "text": [
      "Topic: Sketch Essential Training: The Basics\n",
      "Similarity Score: 1.41922128200531\n",
      "Processing example 88 of 500 \n"
     ]
    },
    {
     "name": "stderr",
     "output_type": "stream",
     "text": [
      "Add of existing embedding ID: original\n",
      "Add of existing embedding ID: generated\n",
      "Insert of existing embedding ID: original\n",
      "Insert of existing embedding ID: generated\n"
     ]
    },
    {
     "name": "stdout",
     "output_type": "stream",
     "text": [
      "Topic: Developing for Web Performance\n",
      "Similarity Score: 1.734093427658081\n",
      "Processing example 89 of 500 \n"
     ]
    },
    {
     "name": "stderr",
     "output_type": "stream",
     "text": [
      "Add of existing embedding ID: original\n",
      "Add of existing embedding ID: generated\n",
      "Insert of existing embedding ID: original\n",
      "Insert of existing embedding ID: generated\n"
     ]
    },
    {
     "name": "stdout",
     "output_type": "stream",
     "text": [
      "Topic: HTML and CSS: Linking\n",
      "Similarity Score: 1.6381858587265015\n",
      "Processing example 90 of 500 \n"
     ]
    },
    {
     "name": "stderr",
     "output_type": "stream",
     "text": [
      "Add of existing embedding ID: original\n",
      "Add of existing embedding ID: generated\n",
      "Insert of existing embedding ID: original\n",
      "Insert of existing embedding ID: generated\n"
     ]
    },
    {
     "name": "stdout",
     "output_type": "stream",
     "text": [
      "Topic: Train the Trainer\n",
      "Similarity Score: 1.8002991676330566\n",
      "Processing example 91 of 500 \n"
     ]
    },
    {
     "name": "stderr",
     "output_type": "stream",
     "text": [
      "Add of existing embedding ID: original\n",
      "Add of existing embedding ID: generated\n",
      "Insert of existing embedding ID: original\n",
      "Insert of existing embedding ID: generated\n"
     ]
    },
    {
     "name": "stdout",
     "output_type": "stream",
     "text": [
      "Topic: Express Essentials: Build Powerful Web Apps with Node.js\n",
      "Similarity Score: 1.8565717935562134\n",
      "Processing example 92 of 500 \n"
     ]
    },
    {
     "name": "stderr",
     "output_type": "stream",
     "text": [
      "Add of existing embedding ID: original\n",
      "Add of existing embedding ID: generated\n",
      "Insert of existing embedding ID: original\n",
      "Insert of existing embedding ID: generated\n"
     ]
    },
    {
     "name": "stdout",
     "output_type": "stream",
     "text": [
      "Topic: Game Development Foundations: Game-Related Math\n",
      "Similarity Score: 1.7130986452102661\n",
      "Processing example 93 of 500 \n"
     ]
    },
    {
     "name": "stderr",
     "output_type": "stream",
     "text": [
      "Add of existing embedding ID: original\n",
      "Add of existing embedding ID: generated\n",
      "Insert of existing embedding ID: original\n",
      "Insert of existing embedding ID: generated\n"
     ]
    },
    {
     "name": "stdout",
     "output_type": "stream",
     "text": [
      "Topic: Learning Bubble\n",
      "Similarity Score: 1.8401451110839844\n",
      "Processing example 94 of 500 \n"
     ]
    },
    {
     "name": "stderr",
     "output_type": "stream",
     "text": [
      "Add of existing embedding ID: original\n",
      "Add of existing embedding ID: generated\n",
      "Insert of existing embedding ID: original\n",
      "Insert of existing embedding ID: generated\n"
     ]
    },
    {
     "name": "stdout",
     "output_type": "stream",
     "text": [
      "Topic: Creating an Interior Scene with Blender\n",
      "Similarity Score: 1.8026752471923828\n",
      "Processing example 95 of 500 \n"
     ]
    },
    {
     "name": "stderr",
     "output_type": "stream",
     "text": [
      "Add of existing embedding ID: original\n",
      "Add of existing embedding ID: generated\n",
      "Insert of existing embedding ID: original\n",
      "Insert of existing embedding ID: generated\n"
     ]
    },
    {
     "name": "stdout",
     "output_type": "stream",
     "text": [
      "Topic: Music Theory for Songwriters: The Fundamentals\n",
      "Similarity Score: 1.8068699836730957\n",
      "Processing example 96 of 500 \n"
     ]
    },
    {
     "name": "stderr",
     "output_type": "stream",
     "text": [
      "Add of existing embedding ID: original\n",
      "Add of existing embedding ID: generated\n",
      "Insert of existing embedding ID: original\n",
      "Insert of existing embedding ID: generated\n"
     ]
    },
    {
     "name": "stdout",
     "output_type": "stream",
     "text": [
      "Topic: Dynamics 365 for Sales Teams\n",
      "Similarity Score: 1.7054038047790527\n",
      "Processing example 97 of 500 \n"
     ]
    },
    {
     "name": "stderr",
     "output_type": "stream",
     "text": [
      "Add of existing embedding ID: original\n",
      "Add of existing embedding ID: generated\n",
      "Insert of existing embedding ID: original\n",
      "Insert of existing embedding ID: generated\n"
     ]
    },
    {
     "name": "stdout",
     "output_type": "stream",
     "text": [
      "Topic: Tips for Learner Engagement\n",
      "Similarity Score: 1.6143091917037964\n",
      "Processing example 98 of 500 \n"
     ]
    },
    {
     "name": "stderr",
     "output_type": "stream",
     "text": [
      "Add of existing embedding ID: original\n",
      "Add of existing embedding ID: generated\n",
      "Insert of existing embedding ID: original\n",
      "Insert of existing embedding ID: generated\n"
     ]
    },
    {
     "name": "stdout",
     "output_type": "stream",
     "text": [
      "Topic: Implementing the Metaverse\n",
      "Similarity Score: 1.372848391532898\n",
      "Processing example 99 of 500 \n"
     ]
    },
    {
     "name": "stderr",
     "output_type": "stream",
     "text": [
      "Add of existing embedding ID: original\n",
      "Add of existing embedding ID: generated\n",
      "Insert of existing embedding ID: original\n",
      "Insert of existing embedding ID: generated\n"
     ]
    },
    {
     "name": "stdout",
     "output_type": "stream",
     "text": [
      "Topic: Word Essential Training (Microsoft 365)\n",
      "Similarity Score: 1.880491852760315\n",
      "Processing example 100 of 500 \n"
     ]
    },
    {
     "name": "stderr",
     "output_type": "stream",
     "text": [
      "Add of existing embedding ID: original\n",
      "Add of existing embedding ID: generated\n",
      "Insert of existing embedding ID: original\n",
      "Insert of existing embedding ID: generated\n"
     ]
    },
    {
     "name": "stdout",
     "output_type": "stream",
     "text": [
      "Topic: Tech on the Go: Owning Legacy Software\n",
      "Similarity Score: 1.467079520225525\n",
      "Processing example 101 of 500 \n"
     ]
    },
    {
     "name": "stderr",
     "output_type": "stream",
     "text": [
      "Add of existing embedding ID: original\n",
      "Add of existing embedding ID: generated\n",
      "Insert of existing embedding ID: original\n",
      "Insert of existing embedding ID: generated\n"
     ]
    },
    {
     "name": "stdout",
     "output_type": "stream",
     "text": [
      "Topic: Power BI Data Analyst Associate (PL-300) Cert Prep: Connecting to Power BI Data\n",
      "Similarity Score: 1.7426526546478271\n",
      "Processing example 102 of 500 \n"
     ]
    },
    {
     "name": "stderr",
     "output_type": "stream",
     "text": [
      "Add of existing embedding ID: original\n",
      "Add of existing embedding ID: generated\n",
      "Insert of existing embedding ID: original\n",
      "Insert of existing embedding ID: generated\n"
     ]
    },
    {
     "name": "stdout",
     "output_type": "stream",
     "text": [
      "Topic: Visio Quick Tips\n",
      "Similarity Score: 1.8552881479263306\n",
      "Processing example 103 of 500 \n"
     ]
    },
    {
     "name": "stderr",
     "output_type": "stream",
     "text": [
      "Add of existing embedding ID: original\n",
      "Add of existing embedding ID: generated\n",
      "Insert of existing embedding ID: original\n",
      "Insert of existing embedding ID: generated\n"
     ]
    },
    {
     "name": "stdout",
     "output_type": "stream",
     "text": [
      "Topic: Privacy in the New World of Work\n",
      "Similarity Score: 1.6060044765472412\n",
      "Processing example 104 of 500 \n"
     ]
    },
    {
     "name": "stderr",
     "output_type": "stream",
     "text": [
      "Add of existing embedding ID: original\n",
      "Add of existing embedding ID: generated\n",
      "Insert of existing embedding ID: original\n",
      "Insert of existing embedding ID: generated\n"
     ]
    },
    {
     "name": "stdout",
     "output_type": "stream",
     "text": [
      "Topic: Photography 101: Shooting Macros and Close-Ups\n",
      "Similarity Score: 1.667425274848938\n",
      "Processing example 105 of 500 \n"
     ]
    },
    {
     "name": "stderr",
     "output_type": "stream",
     "text": [
      "Add of existing embedding ID: original\n",
      "Add of existing embedding ID: generated\n",
      "Insert of existing embedding ID: original\n",
      "Insert of existing embedding ID: generated\n"
     ]
    },
    {
     "name": "stdout",
     "output_type": "stream",
     "text": [
      "Topic: Unreal Engine Blueprint Interaction for ArchViz Projects\n",
      "Similarity Score: 1.6312370300292969\n",
      "Processing example 106 of 500 \n"
     ]
    },
    {
     "name": "stderr",
     "output_type": "stream",
     "text": [
      "Add of existing embedding ID: original\n",
      "Add of existing embedding ID: generated\n",
      "Insert of existing embedding ID: original\n",
      "Insert of existing embedding ID: generated\n"
     ]
    },
    {
     "name": "stdout",
     "output_type": "stream",
     "text": [
      "Topic: Unity: 3D Level Design\n",
      "Similarity Score: 1.4776095151901245\n",
      "Processing example 107 of 500 \n"
     ]
    },
    {
     "name": "stderr",
     "output_type": "stream",
     "text": [
      "Add of existing embedding ID: original\n",
      "Add of existing embedding ID: generated\n",
      "Insert of existing embedding ID: original\n",
      "Insert of existing embedding ID: generated\n"
     ]
    },
    {
     "name": "stdout",
     "output_type": "stream",
     "text": [
      "Topic: Recommendation Systems: A Practical Introduction\n",
      "Similarity Score: 1.8298219442367554\n",
      "Processing example 108 of 500 \n"
     ]
    },
    {
     "name": "stderr",
     "output_type": "stream",
     "text": [
      "Add of existing embedding ID: original\n",
      "Add of existing embedding ID: generated\n",
      "Insert of existing embedding ID: original\n",
      "Insert of existing embedding ID: generated\n"
     ]
    },
    {
     "name": "stdout",
     "output_type": "stream",
     "text": [
      "Topic: AI Show: The Basics of Prompt Engineering with Azure OpenAI Service\n",
      "Similarity Score: 1.6707035303115845\n",
      "Processing example 109 of 500 \n"
     ]
    },
    {
     "name": "stderr",
     "output_type": "stream",
     "text": [
      "Add of existing embedding ID: original\n",
      "Add of existing embedding ID: generated\n",
      "Insert of existing embedding ID: original\n",
      "Insert of existing embedding ID: generated\n"
     ]
    },
    {
     "name": "stdout",
     "output_type": "stream",
     "text": [
      "Topic: Oracle Cloud Data Management Foundations Workshop\n",
      "Similarity Score: 1.8297102451324463\n",
      "Processing example 110 of 500 \n"
     ]
    },
    {
     "name": "stderr",
     "output_type": "stream",
     "text": [
      "Add of existing embedding ID: original\n",
      "Add of existing embedding ID: generated\n",
      "Insert of existing embedding ID: original\n",
      "Insert of existing embedding ID: generated\n"
     ]
    },
    {
     "name": "stdout",
     "output_type": "stream",
     "text": [
      "Topic: Microsoft Azure Data Engineer Associate (DP-203) Cert Prep: 1 Design and Implement Data Storage by Microsoft Press\n",
      "Similarity Score: 1.7231849431991577\n",
      "Processing example 111 of 500 \n"
     ]
    },
    {
     "name": "stderr",
     "output_type": "stream",
     "text": [
      "Add of existing embedding ID: original\n",
      "Add of existing embedding ID: generated\n",
      "Insert of existing embedding ID: original\n",
      "Insert of existing embedding ID: generated\n"
     ]
    },
    {
     "name": "stdout",
     "output_type": "stream",
     "text": [
      "Topic: Predictive Analytics with Categorical Data: Advanced Regression Methods for Real-World Applications\n",
      "Similarity Score: 1.7795463800430298\n",
      "Processing example 112 of 500 \n"
     ]
    },
    {
     "name": "stderr",
     "output_type": "stream",
     "text": [
      "Add of existing embedding ID: original\n",
      "Add of existing embedding ID: generated\n",
      "Insert of existing embedding ID: original\n",
      "Insert of existing embedding ID: generated\n"
     ]
    },
    {
     "name": "stdout",
     "output_type": "stream",
     "text": [
      "Topic: After Effects Compositing: 3 Advanced Matching and Looks\n",
      "Similarity Score: 1.8455859422683716\n",
      "Processing example 113 of 500 \n"
     ]
    },
    {
     "name": "stderr",
     "output_type": "stream",
     "text": [
      "Add of existing embedding ID: original\n",
      "Add of existing embedding ID: generated\n",
      "Insert of existing embedding ID: original\n",
      "Insert of existing embedding ID: generated\n"
     ]
    },
    {
     "name": "stdout",
     "output_type": "stream",
     "text": [
      "Topic: After Effects Compositing: 6 Tracking and Stabilization\n",
      "Similarity Score: 1.929712176322937\n",
      "Processing example 114 of 500 \n"
     ]
    },
    {
     "name": "stderr",
     "output_type": "stream",
     "text": [
      "Add of existing embedding ID: original\n",
      "Add of existing embedding ID: generated\n",
      "Insert of existing embedding ID: original\n",
      "Insert of existing embedding ID: generated\n"
     ]
    },
    {
     "name": "stdout",
     "output_type": "stream",
     "text": [
      "Topic: After Effects Compositing: 5 Rotoscoping & Edges\n",
      "Similarity Score: 1.930538535118103\n",
      "Processing example 115 of 500 \n"
     ]
    },
    {
     "name": "stderr",
     "output_type": "stream",
     "text": [
      "Add of existing embedding ID: original\n",
      "Add of existing embedding ID: generated\n",
      "Insert of existing embedding ID: original\n",
      "Insert of existing embedding ID: generated\n"
     ]
    },
    {
     "name": "stdout",
     "output_type": "stream",
     "text": [
      "Topic: After Effects Compositing: 4 Color Keying\n",
      "Similarity Score: 1.9071760177612305\n",
      "Processing example 116 of 500 \n"
     ]
    },
    {
     "name": "stderr",
     "output_type": "stream",
     "text": [
      "Add of existing embedding ID: original\n",
      "Add of existing embedding ID: generated\n",
      "Insert of existing embedding ID: original\n",
      "Insert of existing embedding ID: generated\n"
     ]
    },
    {
     "name": "stdout",
     "output_type": "stream",
     "text": [
      "Topic: After Effects Compositing: 1 Intro to VFX\n",
      "Similarity Score: 1.8273926973342896\n",
      "Processing example 117 of 500 \n"
     ]
    },
    {
     "name": "stderr",
     "output_type": "stream",
     "text": [
      "Add of existing embedding ID: original\n",
      "Add of existing embedding ID: generated\n",
      "Insert of existing embedding ID: original\n",
      "Insert of existing embedding ID: generated\n"
     ]
    },
    {
     "name": "stdout",
     "output_type": "stream",
     "text": [
      "Topic: Learning Reason 10: Core Feature Flashback\n",
      "Similarity Score: 1.5724575519561768\n",
      "Processing example 118 of 500 \n"
     ]
    },
    {
     "name": "stderr",
     "output_type": "stream",
     "text": [
      "Add of existing embedding ID: original\n",
      "Add of existing embedding ID: generated\n",
      "Insert of existing embedding ID: original\n",
      "Insert of existing embedding ID: generated\n"
     ]
    },
    {
     "name": "stdout",
     "output_type": "stream",
     "text": [
      "Topic: Cultivating Mental Agility\n",
      "Similarity Score: 1.7357591390609741\n",
      "Processing example 119 of 500 \n"
     ]
    },
    {
     "name": "stderr",
     "output_type": "stream",
     "text": [
      "Add of existing embedding ID: original\n",
      "Add of existing embedding ID: generated\n",
      "Insert of existing embedding ID: original\n",
      "Insert of existing embedding ID: generated\n"
     ]
    },
    {
     "name": "stdout",
     "output_type": "stream",
     "text": [
      "Topic: Developing Adaptability as a Manager\n",
      "Similarity Score: 1.6671226024627686\n",
      "Processing example 120 of 500 \n"
     ]
    },
    {
     "name": "stderr",
     "output_type": "stream",
     "text": [
      "Add of existing embedding ID: original\n",
      "Add of existing embedding ID: generated\n",
      "Insert of existing embedding ID: original\n",
      "Insert of existing embedding ID: generated\n"
     ]
    },
    {
     "name": "stdout",
     "output_type": "stream",
     "text": [
      "Topic: Learning Hadoop\n",
      "Similarity Score: 2.1471242904663086\n",
      "Processing example 121 of 500 \n",
      "Topic: iOS Development: Security\n",
      "Similarity Score: 1.3697201013565063\n",
      "Processing example 122 of 500 \n"
     ]
    },
    {
     "name": "stderr",
     "output_type": "stream",
     "text": [
      "Add of existing embedding ID: original\n",
      "Add of existing embedding ID: generated\n",
      "Insert of existing embedding ID: original\n",
      "Insert of existing embedding ID: generated\n",
      "Add of existing embedding ID: original\n",
      "Add of existing embedding ID: generated\n",
      "Insert of existing embedding ID: original\n",
      "Insert of existing embedding ID: generated\n"
     ]
    },
    {
     "name": "stdout",
     "output_type": "stream",
     "text": [
      "Topic: WordPress Essential Training (2023)\n",
      "Similarity Score: 1.935097336769104\n",
      "Processing example 123 of 500 \n"
     ]
    },
    {
     "name": "stderr",
     "output_type": "stream",
     "text": [
      "Add of existing embedding ID: original\n",
      "Add of existing embedding ID: generated\n",
      "Insert of existing embedding ID: original\n",
      "Insert of existing embedding ID: generated\n"
     ]
    },
    {
     "name": "stdout",
     "output_type": "stream",
     "text": [
      "Topic: API Testing and Validation\n",
      "Similarity Score: 1.958146572113037\n",
      "Processing example 124 of 500 \n"
     ]
    },
    {
     "name": "stderr",
     "output_type": "stream",
     "text": [
      "Add of existing embedding ID: original\n",
      "Add of existing embedding ID: generated\n",
      "Insert of existing embedding ID: original\n",
      "Insert of existing embedding ID: generated\n"
     ]
    },
    {
     "name": "stdout",
     "output_type": "stream",
     "text": [
      "Topic: Microsoft 365 Business Essential Training for SMBs\n",
      "Similarity Score: 1.6280901432037354\n",
      "Processing example 125 of 500 \n"
     ]
    },
    {
     "name": "stderr",
     "output_type": "stream",
     "text": [
      "Add of existing embedding ID: original\n",
      "Add of existing embedding ID: generated\n",
      "Insert of existing embedding ID: original\n",
      "Insert of existing embedding ID: generated\n"
     ]
    },
    {
     "name": "stdout",
     "output_type": "stream",
     "text": [
      "Topic: Quick Scripts for Difficult Conversations\n",
      "Similarity Score: 1.9590132236480713\n",
      "Processing example 126 of 500 \n"
     ]
    },
    {
     "name": "stderr",
     "output_type": "stream",
     "text": [
      "Add of existing embedding ID: original\n",
      "Add of existing embedding ID: generated\n",
      "Insert of existing embedding ID: original\n",
      "Insert of existing embedding ID: generated\n"
     ]
    },
    {
     "name": "stdout",
     "output_type": "stream",
     "text": [
      "Topic: Linux System Engineer: Web Servers and DNS Using Apache, NGINX, and BIND\n",
      "Similarity Score: 1.8156142234802246\n",
      "Processing example 127 of 500 \n"
     ]
    },
    {
     "name": "stderr",
     "output_type": "stream",
     "text": [
      "Add of existing embedding ID: original\n",
      "Add of existing embedding ID: generated\n",
      "Insert of existing embedding ID: original\n",
      "Insert of existing embedding ID: generated\n"
     ]
    },
    {
     "name": "stdout",
     "output_type": "stream",
     "text": [
      "Topic: Network Virtualization: SDN Overlay Solutions\n",
      "Similarity Score: 1.8761471509933472\n",
      "Processing example 128 of 500 \n"
     ]
    },
    {
     "name": "stderr",
     "output_type": "stream",
     "text": [
      "Add of existing embedding ID: original\n",
      "Add of existing embedding ID: generated\n",
      "Insert of existing embedding ID: original\n",
      "Insert of existing embedding ID: generated\n"
     ]
    },
    {
     "name": "stdout",
     "output_type": "stream",
     "text": [
      "Topic: PowerShell: Scripting for Advanced Automation\n",
      "Similarity Score: 1.8154977560043335\n",
      "Processing example 129 of 500 \n"
     ]
    },
    {
     "name": "stderr",
     "output_type": "stream",
     "text": [
      "Add of existing embedding ID: original\n",
      "Add of existing embedding ID: generated\n",
      "Insert of existing embedding ID: original\n",
      "Insert of existing embedding ID: generated\n"
     ]
    },
    {
     "name": "stdout",
     "output_type": "stream",
     "text": [
      "Topic: PowerShell: Functions for Advanced Automation\n",
      "Similarity Score: 1.8754544258117676\n",
      "Processing example 130 of 500 \n"
     ]
    },
    {
     "name": "stderr",
     "output_type": "stream",
     "text": [
      "Add of existing embedding ID: original\n",
      "Add of existing embedding ID: generated\n",
      "Insert of existing embedding ID: original\n",
      "Insert of existing embedding ID: generated\n"
     ]
    },
    {
     "name": "stdout",
     "output_type": "stream",
     "text": [
      "Topic: Azure Data Engineer Associate (DP-203) Cert Prep: 3 Design and Implement Data Security\n",
      "Similarity Score: 1.4525175094604492\n",
      "Processing example 131 of 500 \n"
     ]
    },
    {
     "name": "stderr",
     "output_type": "stream",
     "text": [
      "Add of existing embedding ID: original\n",
      "Add of existing embedding ID: generated\n",
      "Insert of existing embedding ID: original\n",
      "Insert of existing embedding ID: generated\n"
     ]
    },
    {
     "name": "stdout",
     "output_type": "stream",
     "text": [
      "Topic: Managing Brand Reputation\n",
      "Similarity Score: 1.8258662223815918\n",
      "Processing example 132 of 500 \n"
     ]
    },
    {
     "name": "stderr",
     "output_type": "stream",
     "text": [
      "Add of existing embedding ID: original\n",
      "Add of existing embedding ID: generated\n",
      "Insert of existing embedding ID: original\n",
      "Insert of existing embedding ID: generated\n"
     ]
    },
    {
     "name": "stdout",
     "output_type": "stream",
     "text": [
      "Topic: Storytelling for Social Media using Adobe Spark Video\n",
      "Similarity Score: 1.696637511253357\n",
      "Processing example 133 of 500 \n"
     ]
    },
    {
     "name": "stderr",
     "output_type": "stream",
     "text": [
      "Add of existing embedding ID: original\n",
      "Add of existing embedding ID: generated\n",
      "Insert of existing embedding ID: original\n",
      "Insert of existing embedding ID: generated\n"
     ]
    },
    {
     "name": "stdout",
     "output_type": "stream",
     "text": [
      "Topic: Learning SignalR with ASP.NET Core\n",
      "Similarity Score: 1.9402782917022705\n",
      "Processing example 134 of 500 \n"
     ]
    },
    {
     "name": "stderr",
     "output_type": "stream",
     "text": [
      "Add of existing embedding ID: original\n",
      "Add of existing embedding ID: generated\n",
      "Insert of existing embedding ID: original\n",
      "Insert of existing embedding ID: generated\n"
     ]
    },
    {
     "name": "stdout",
     "output_type": "stream",
     "text": [
      "Topic: Open Source Development with the Stable Diffusion 3 API\n",
      "Similarity Score: 1.902483582496643\n",
      "Processing example 135 of 500 \n"
     ]
    },
    {
     "name": "stderr",
     "output_type": "stream",
     "text": [
      "Add of existing embedding ID: original\n",
      "Add of existing embedding ID: generated\n",
      "Insert of existing embedding ID: original\n",
      "Insert of existing embedding ID: generated\n"
     ]
    },
    {
     "name": "stdout",
     "output_type": "stream",
     "text": [
      "Topic: Using Rust with Python\n",
      "Similarity Score: 1.7544679641723633\n",
      "Processing example 136 of 500 \n"
     ]
    },
    {
     "name": "stderr",
     "output_type": "stream",
     "text": [
      "Add of existing embedding ID: original\n",
      "Add of existing embedding ID: generated\n",
      "Insert of existing embedding ID: original\n",
      "Insert of existing embedding ID: generated\n"
     ]
    },
    {
     "name": "stdout",
     "output_type": "stream",
     "text": [
      "Topic: Building and Securing RESTful APIs in ASP.NET Core (2018)\n",
      "Similarity Score: 1.6885846853256226\n",
      "Processing example 137 of 500 \n"
     ]
    },
    {
     "name": "stderr",
     "output_type": "stream",
     "text": [
      "Add of existing embedding ID: original\n",
      "Add of existing embedding ID: generated\n",
      "Insert of existing embedding ID: original\n",
      "Insert of existing embedding ID: generated\n"
     ]
    },
    {
     "name": "stdout",
     "output_type": "stream",
     "text": [
      "Topic: Deploying ASP.NET Core Applications\n",
      "Similarity Score: 2.0295541286468506\n",
      "Processing example 138 of 500 \n"
     ]
    },
    {
     "name": "stderr",
     "output_type": "stream",
     "text": [
      "Add of existing embedding ID: original\n",
      "Add of existing embedding ID: generated\n",
      "Insert of existing embedding ID: original\n",
      "Insert of existing embedding ID: generated\n"
     ]
    },
    {
     "name": "stdout",
     "output_type": "stream",
     "text": [
      "Topic: The Power of PreViz at One & Co\n",
      "Similarity Score: 1.2421833276748657\n",
      "Processing example 139 of 500 \n"
     ]
    },
    {
     "name": "stderr",
     "output_type": "stream",
     "text": [
      "Add of existing embedding ID: original\n",
      "Add of existing embedding ID: generated\n",
      "Insert of existing embedding ID: original\n",
      "Insert of existing embedding ID: generated\n"
     ]
    },
    {
     "name": "stdout",
     "output_type": "stream",
     "text": [
      "Topic: How AI intersects with Sustainability and Business: A Conversation with Amy Luers\n",
      "Similarity Score: 1.6870354413986206\n",
      "Processing example 140 of 500 \n"
     ]
    },
    {
     "name": "stderr",
     "output_type": "stream",
     "text": [
      "Add of existing embedding ID: original\n",
      "Add of existing embedding ID: generated\n",
      "Insert of existing embedding ID: original\n",
      "Insert of existing embedding ID: generated\n"
     ]
    },
    {
     "name": "stdout",
     "output_type": "stream",
     "text": [
      "Topic: Agentic AI: Building Data-First AI Agents\n",
      "Similarity Score: 1.7556864023208618\n",
      "Processing example 141 of 500 \n"
     ]
    },
    {
     "name": "stderr",
     "output_type": "stream",
     "text": [
      "Add of existing embedding ID: original\n",
      "Add of existing embedding ID: generated\n",
      "Insert of existing embedding ID: original\n",
      "Insert of existing embedding ID: generated\n"
     ]
    },
    {
     "name": "stdout",
     "output_type": "stream",
     "text": [
      "Topic: Prompt Engineering with Gemini\n",
      "Similarity Score: 1.7207698822021484\n",
      "Processing example 142 of 500 \n"
     ]
    },
    {
     "name": "stderr",
     "output_type": "stream",
     "text": [
      "Add of existing embedding ID: original\n",
      "Add of existing embedding ID: generated\n",
      "Insert of existing embedding ID: original\n",
      "Insert of existing embedding ID: generated\n"
     ]
    },
    {
     "name": "stdout",
     "output_type": "stream",
     "text": [
      "Topic: SOLIDWORKS: Surfacing\n",
      "Similarity Score: 1.7554720640182495\n",
      "Processing example 143 of 500 \n"
     ]
    },
    {
     "name": "stderr",
     "output_type": "stream",
     "text": [
      "Add of existing embedding ID: original\n",
      "Add of existing embedding ID: generated\n",
      "Insert of existing embedding ID: original\n",
      "Insert of existing embedding ID: generated\n"
     ]
    },
    {
     "name": "stdout",
     "output_type": "stream",
     "text": [
      "Topic: Steel Building Design with SOLIDWORKS Weldments\n",
      "Similarity Score: 1.8471976518630981\n",
      "Processing example 144 of 500 \n"
     ]
    },
    {
     "name": "stderr",
     "output_type": "stream",
     "text": [
      "Add of existing embedding ID: original\n",
      "Add of existing embedding ID: generated\n",
      "Insert of existing embedding ID: original\n",
      "Insert of existing embedding ID: generated\n"
     ]
    },
    {
     "name": "stdout",
     "output_type": "stream",
     "text": [
      "Topic: Learning Bodypaint in Cinema 4D\n",
      "Similarity Score: 1.6432057619094849\n",
      "Processing example 145 of 500 \n"
     ]
    },
    {
     "name": "stderr",
     "output_type": "stream",
     "text": [
      "Add of existing embedding ID: original\n",
      "Add of existing embedding ID: generated\n",
      "Insert of existing embedding ID: original\n",
      "Insert of existing embedding ID: generated\n"
     ]
    },
    {
     "name": "stdout",
     "output_type": "stream",
     "text": [
      "Topic: Hard Surface Sculpting and Retopologizing in Cinema 4D\n",
      "Similarity Score: 1.6991031169891357\n",
      "Processing example 146 of 500 \n"
     ]
    },
    {
     "name": "stderr",
     "output_type": "stream",
     "text": [
      "Add of existing embedding ID: original\n",
      "Add of existing embedding ID: generated\n",
      "Insert of existing embedding ID: original\n",
      "Insert of existing embedding ID: generated\n"
     ]
    },
    {
     "name": "stdout",
     "output_type": "stream",
     "text": [
      "Topic: Interview Mistakes You Canâ€™t Take Back\n",
      "Similarity Score: 1.600685954093933\n",
      "Processing example 147 of 500 \n"
     ]
    },
    {
     "name": "stderr",
     "output_type": "stream",
     "text": [
      "Add of existing embedding ID: original\n",
      "Add of existing embedding ID: generated\n",
      "Insert of existing embedding ID: original\n",
      "Insert of existing embedding ID: generated\n"
     ]
    },
    {
     "name": "stdout",
     "output_type": "stream",
     "text": [
      "Topic: Scaling B2B Content Marketing with AI and Automations\n",
      "Similarity Score: 1.5922349691390991\n",
      "Processing example 148 of 500 \n"
     ]
    },
    {
     "name": "stderr",
     "output_type": "stream",
     "text": [
      "Add of existing embedding ID: original\n",
      "Add of existing embedding ID: generated\n",
      "Insert of existing embedding ID: original\n",
      "Insert of existing embedding ID: generated\n"
     ]
    },
    {
     "name": "stdout",
     "output_type": "stream",
     "text": [
      "Topic: 21-Day Drawing Challenge\n",
      "Similarity Score: 1.627968668937683\n",
      "Processing example 149 of 500 \n"
     ]
    },
    {
     "name": "stderr",
     "output_type": "stream",
     "text": [
      "Add of existing embedding ID: original\n",
      "Add of existing embedding ID: generated\n",
      "Insert of existing embedding ID: original\n",
      "Insert of existing embedding ID: generated\n"
     ]
    },
    {
     "name": "stdout",
     "output_type": "stream",
     "text": [
      "Topic: Adobe Analytics Essential Training\n",
      "Similarity Score: 1.7358639240264893\n",
      "Processing example 150 of 500 \n"
     ]
    },
    {
     "name": "stderr",
     "output_type": "stream",
     "text": [
      "Add of existing embedding ID: original\n",
      "Add of existing embedding ID: generated\n",
      "Insert of existing embedding ID: original\n",
      "Insert of existing embedding ID: generated\n"
     ]
    },
    {
     "name": "stdout",
     "output_type": "stream",
     "text": [
      "Topic: Succeeding in a New Job\n",
      "Similarity Score: 1.7853405475616455\n",
      "Processing example 151 of 500 \n"
     ]
    },
    {
     "name": "stderr",
     "output_type": "stream",
     "text": [
      "Add of existing embedding ID: original\n",
      "Add of existing embedding ID: generated\n",
      "Insert of existing embedding ID: original\n",
      "Insert of existing embedding ID: generated\n"
     ]
    },
    {
     "name": "stdout",
     "output_type": "stream",
     "text": [
      "Topic: Mindful Meditations for Work and Life\n",
      "Similarity Score: 1.6993076801300049\n",
      "Processing example 152 of 500 \n"
     ]
    },
    {
     "name": "stderr",
     "output_type": "stream",
     "text": [
      "Add of existing embedding ID: original\n",
      "Add of existing embedding ID: generated\n",
      "Insert of existing embedding ID: original\n",
      "Insert of existing embedding ID: generated\n"
     ]
    },
    {
     "name": "stdout",
     "output_type": "stream",
     "text": [
      "Topic: Learning Microsoft Configuration Manager\n",
      "Similarity Score: 1.7728123664855957\n",
      "Processing example 153 of 500 \n"
     ]
    },
    {
     "name": "stderr",
     "output_type": "stream",
     "text": [
      "Add of existing embedding ID: original\n",
      "Add of existing embedding ID: generated\n",
      "Insert of existing embedding ID: original\n",
      "Insert of existing embedding ID: generated\n"
     ]
    },
    {
     "name": "stdout",
     "output_type": "stream",
     "text": [
      "Topic: Introduction to Product Security\n",
      "Similarity Score: 1.3737359046936035\n",
      "Processing example 154 of 500 \n"
     ]
    },
    {
     "name": "stderr",
     "output_type": "stream",
     "text": [
      "Add of existing embedding ID: original\n",
      "Add of existing embedding ID: generated\n",
      "Insert of existing embedding ID: original\n",
      "Insert of existing embedding ID: generated\n"
     ]
    },
    {
     "name": "stdout",
     "output_type": "stream",
     "text": [
      "Topic: Designing Workplaces for Employee Engagement\n",
      "Similarity Score: 1.6015900373458862\n",
      "Processing example 155 of 500 \n"
     ]
    },
    {
     "name": "stderr",
     "output_type": "stream",
     "text": [
      "Add of existing embedding ID: original\n",
      "Add of existing embedding ID: generated\n",
      "Insert of existing embedding ID: original\n",
      "Insert of existing embedding ID: generated\n"
     ]
    },
    {
     "name": "stdout",
     "output_type": "stream",
     "text": [
      "Topic: Identity Crisis: How to Realign Your Career with Your Life\n",
      "Similarity Score: 1.5907009840011597\n",
      "Processing example 156 of 500 \n"
     ]
    },
    {
     "name": "stderr",
     "output_type": "stream",
     "text": [
      "Add of existing embedding ID: original\n",
      "Add of existing embedding ID: generated\n",
      "Insert of existing embedding ID: original\n",
      "Insert of existing embedding ID: generated\n"
     ]
    },
    {
     "name": "stdout",
     "output_type": "stream",
     "text": [
      "Topic: Programming for Non-programmers: iOS 17 and Swift 5\n",
      "Similarity Score: 1.5384033918380737\n",
      "Processing example 157 of 500 \n"
     ]
    },
    {
     "name": "stderr",
     "output_type": "stream",
     "text": [
      "Add of existing embedding ID: original\n",
      "Add of existing embedding ID: generated\n",
      "Insert of existing embedding ID: original\n",
      "Insert of existing embedding ID: generated\n"
     ]
    },
    {
     "name": "stdout",
     "output_type": "stream",
     "text": [
      "Topic: Databricks Certified Data Engineer Associate Cert Prep: 6 Data Access with Unity Catalog\n",
      "Similarity Score: 1.7286288738250732\n",
      "Processing example 158 of 500 \n"
     ]
    },
    {
     "name": "stderr",
     "output_type": "stream",
     "text": [
      "Add of existing embedding ID: original\n",
      "Add of existing embedding ID: generated\n",
      "Insert of existing embedding ID: original\n",
      "Insert of existing embedding ID: generated\n"
     ]
    },
    {
     "name": "stdout",
     "output_type": "stream",
     "text": [
      "Topic: Python for Data Analysis: Solve Real-World Challenges\n",
      "Similarity Score: 1.6839468479156494\n",
      "Processing example 159 of 500 \n"
     ]
    },
    {
     "name": "stderr",
     "output_type": "stream",
     "text": [
      "Add of existing embedding ID: original\n",
      "Add of existing embedding ID: generated\n",
      "Insert of existing embedding ID: original\n",
      "Insert of existing embedding ID: generated\n"
     ]
    },
    {
     "name": "stdout",
     "output_type": "stream",
     "text": [
      "Topic: Realistic Strategies to Talk about Mental Health at Work\n",
      "Similarity Score: 1.8391847610473633\n",
      "Processing example 160 of 500 \n"
     ]
    },
    {
     "name": "stderr",
     "output_type": "stream",
     "text": [
      "Add of existing embedding ID: original\n",
      "Add of existing embedding ID: generated\n",
      "Insert of existing embedding ID: original\n",
      "Insert of existing embedding ID: generated\n"
     ]
    },
    {
     "name": "stdout",
     "output_type": "stream",
     "text": [
      "Topic: Privacy, Governance, and Compliance: Data Classification and Inventory\n",
      "Similarity Score: 1.5346332788467407\n",
      "Processing example 161 of 500 \n"
     ]
    },
    {
     "name": "stderr",
     "output_type": "stream",
     "text": [
      "Add of existing embedding ID: original\n",
      "Add of existing embedding ID: generated\n",
      "Insert of existing embedding ID: original\n",
      "Insert of existing embedding ID: generated\n"
     ]
    },
    {
     "name": "stdout",
     "output_type": "stream",
     "text": [
      "Topic: Showing Executive Presence in Person or Remotely\n",
      "Similarity Score: 1.8085867166519165\n",
      "Processing example 162 of 500 \n"
     ]
    },
    {
     "name": "stderr",
     "output_type": "stream",
     "text": [
      "Add of existing embedding ID: original\n",
      "Add of existing embedding ID: generated\n",
      "Insert of existing embedding ID: original\n",
      "Insert of existing embedding ID: generated\n"
     ]
    },
    {
     "name": "stdout",
     "output_type": "stream",
     "text": [
      "Topic: Neil Blumenthal on Branding\n",
      "Similarity Score: 1.56430184841156\n",
      "Processing example 163 of 500 \n"
     ]
    },
    {
     "name": "stderr",
     "output_type": "stream",
     "text": [
      "Add of existing embedding ID: original\n",
      "Add of existing embedding ID: generated\n",
      "Insert of existing embedding ID: original\n",
      "Insert of existing embedding ID: generated\n"
     ]
    },
    {
     "name": "stdout",
     "output_type": "stream",
     "text": [
      "Topic: Leadership Ethics\n",
      "Similarity Score: 1.4258559942245483\n",
      "Processing example 164 of 500 \n"
     ]
    },
    {
     "name": "stderr",
     "output_type": "stream",
     "text": [
      "Add of existing embedding ID: original\n",
      "Add of existing embedding ID: generated\n",
      "Insert of existing embedding ID: original\n",
      "Insert of existing embedding ID: generated\n"
     ]
    },
    {
     "name": "stdout",
     "output_type": "stream",
     "text": [
      "Topic: Practice Exam 4 for Cisco Certified Network Associate (CCNA) v1.1 (200-301)\n",
      "Similarity Score: 1.9406585693359375\n",
      "Processing example 165 of 500 \n"
     ]
    },
    {
     "name": "stderr",
     "output_type": "stream",
     "text": [
      "Add of existing embedding ID: original\n",
      "Add of existing embedding ID: generated\n",
      "Insert of existing embedding ID: original\n",
      "Insert of existing embedding ID: generated\n"
     ]
    },
    {
     "name": "stdout",
     "output_type": "stream",
     "text": [
      "Topic: Material Requirements Planning (MRP) Strategies in SAP\n",
      "Similarity Score: 1.6069754362106323\n",
      "Processing example 166 of 500 \n",
      "Topic: Introducing InDesign\n",
      "Similarity Score: 1.7823909521102905\n",
      "Processing example 167 of 500 \n",
      "Topic: Measuring the Value of Customer Service\n",
      "Similarity Score: None\n",
      "Processing example 168 of 500 \n"
     ]
    },
    {
     "name": "stderr",
     "output_type": "stream",
     "text": [
      "Add of existing embedding ID: original\n",
      "Add of existing embedding ID: generated\n",
      "Insert of existing embedding ID: original\n",
      "Insert of existing embedding ID: generated\n"
     ]
    },
    {
     "name": "stdout",
     "output_type": "stream",
     "text": [
      "Topic: Ergonomics 101\n",
      "Similarity Score: 1.5813946723937988\n",
      "Processing example 169 of 500 \n"
     ]
    },
    {
     "name": "stderr",
     "output_type": "stream",
     "text": [
      "Add of existing embedding ID: original\n",
      "Add of existing embedding ID: generated\n",
      "Insert of existing embedding ID: original\n",
      "Insert of existing embedding ID: generated\n"
     ]
    },
    {
     "name": "stdout",
     "output_type": "stream",
     "text": [
      "Topic: The Mindful Workday\n",
      "Similarity Score: 1.6207112073898315\n",
      "Processing example 170 of 500 \n"
     ]
    },
    {
     "name": "stderr",
     "output_type": "stream",
     "text": [
      "Add of existing embedding ID: original\n",
      "Add of existing embedding ID: generated\n",
      "Insert of existing embedding ID: original\n",
      "Insert of existing embedding ID: generated\n"
     ]
    },
    {
     "name": "stdout",
     "output_type": "stream",
     "text": [
      "Topic: Learning PCB Design with OrCAD\n",
      "Similarity Score: 1.5547767877578735\n",
      "Processing example 171 of 500 \n"
     ]
    },
    {
     "name": "stderr",
     "output_type": "stream",
     "text": [
      "Add of existing embedding ID: original\n",
      "Add of existing embedding ID: generated\n",
      "Insert of existing embedding ID: original\n",
      "Insert of existing embedding ID: generated\n"
     ]
    },
    {
     "name": "stdout",
     "output_type": "stream",
     "text": [
      "Topic: Revit 2025 Essential Training for Structure (Imperial and Metric)\n",
      "Similarity Score: 1.5968215465545654\n",
      "Processing example 172 of 500 \n"
     ]
    },
    {
     "name": "stderr",
     "output_type": "stream",
     "text": [
      "Add of existing embedding ID: original\n",
      "Add of existing embedding ID: generated\n",
      "Insert of existing embedding ID: original\n",
      "Insert of existing embedding ID: generated\n"
     ]
    },
    {
     "name": "stdout",
     "output_type": "stream",
     "text": [
      "Topic: Management Essentials\n",
      "Similarity Score: 1.776637315750122\n",
      "Processing example 173 of 500 \n"
     ]
    },
    {
     "name": "stderr",
     "output_type": "stream",
     "text": [
      "Add of existing embedding ID: original\n",
      "Add of existing embedding ID: generated\n",
      "Insert of existing embedding ID: original\n",
      "Insert of existing embedding ID: generated\n"
     ]
    },
    {
     "name": "stdout",
     "output_type": "stream",
     "text": [
      "Topic: Understanding the Psychology of Money\n",
      "Similarity Score: 1.6529446840286255\n",
      "Processing example 174 of 500 \n"
     ]
    },
    {
     "name": "stderr",
     "output_type": "stream",
     "text": [
      "Add of existing embedding ID: original\n",
      "Add of existing embedding ID: generated\n",
      "Insert of existing embedding ID: original\n",
      "Insert of existing embedding ID: generated\n"
     ]
    },
    {
     "name": "stdout",
     "output_type": "stream",
     "text": [
      "Topic: Creating Panoramas with Lightroom\n",
      "Similarity Score: 2.0035653114318848\n",
      "Processing example 175 of 500 \n"
     ]
    },
    {
     "name": "stderr",
     "output_type": "stream",
     "text": [
      "Add of existing embedding ID: original\n",
      "Add of existing embedding ID: generated\n",
      "Insert of existing embedding ID: original\n",
      "Insert of existing embedding ID: generated\n"
     ]
    },
    {
     "name": "stdout",
     "output_type": "stream",
     "text": [
      "Topic: Getting the Most out of Video on Facebook\n",
      "Similarity Score: 1.4482946395874023\n",
      "Processing example 176 of 500 \n"
     ]
    },
    {
     "name": "stderr",
     "output_type": "stream",
     "text": [
      "Add of existing embedding ID: original\n",
      "Add of existing embedding ID: generated\n",
      "Insert of existing embedding ID: original\n",
      "Insert of existing embedding ID: generated\n"
     ]
    },
    {
     "name": "stdout",
     "output_type": "stream",
     "text": [
      "Topic: Using Git with Visual Studio Code\n",
      "Similarity Score: 2.1103556156158447\n",
      "Processing example 177 of 500 \n"
     ]
    },
    {
     "name": "stderr",
     "output_type": "stream",
     "text": [
      "Add of existing embedding ID: original\n",
      "Add of existing embedding ID: generated\n",
      "Insert of existing embedding ID: original\n",
      "Insert of existing embedding ID: generated\n"
     ]
    },
    {
     "name": "stdout",
     "output_type": "stream",
     "text": [
      "Topic: Learning Microsoft Stream\n",
      "Similarity Score: 1.8546762466430664\n",
      "Processing example 178 of 500 \n"
     ]
    },
    {
     "name": "stderr",
     "output_type": "stream",
     "text": [
      "Add of existing embedding ID: original\n",
      "Add of existing embedding ID: generated\n",
      "Insert of existing embedding ID: original\n",
      "Insert of existing embedding ID: generated\n"
     ]
    },
    {
     "name": "stdout",
     "output_type": "stream",
     "text": [
      "Topic: Level Up: C++\n",
      "Similarity Score: 1.8157618045806885\n",
      "Processing example 179 of 500 \n"
     ]
    },
    {
     "name": "stderr",
     "output_type": "stream",
     "text": [
      "Add of existing embedding ID: original\n",
      "Add of existing embedding ID: generated\n",
      "Insert of existing embedding ID: original\n",
      "Insert of existing embedding ID: generated\n"
     ]
    },
    {
     "name": "stdout",
     "output_type": "stream",
     "text": [
      "Topic: The Unspoken Rules of High Performers and High Potentials\n",
      "Similarity Score: 1.5573525428771973\n",
      "Processing example 180 of 500 \n"
     ]
    },
    {
     "name": "stderr",
     "output_type": "stream",
     "text": [
      "Add of existing embedding ID: original\n",
      "Add of existing embedding ID: generated\n",
      "Insert of existing embedding ID: original\n",
      "Insert of existing embedding ID: generated\n"
     ]
    },
    {
     "name": "stdout",
     "output_type": "stream",
     "text": [
      "Topic: The Six Words that Dramatically Increase Your Impact\n",
      "Similarity Score: 1.7214473485946655\n",
      "Processing example 181 of 500 \n"
     ]
    },
    {
     "name": "stderr",
     "output_type": "stream",
     "text": [
      "Add of existing embedding ID: original\n",
      "Add of existing embedding ID: generated\n",
      "Insert of existing embedding ID: original\n",
      "Insert of existing embedding ID: generated\n"
     ]
    },
    {
     "name": "stdout",
     "output_type": "stream",
     "text": [
      "Topic: How to Speak Smarter When Put on the Spot\n",
      "Similarity Score: 1.9143218994140625\n",
      "Processing example 182 of 500 \n"
     ]
    },
    {
     "name": "stderr",
     "output_type": "stream",
     "text": [
      "Add of existing embedding ID: original\n",
      "Add of existing embedding ID: generated\n",
      "Insert of existing embedding ID: original\n",
      "Insert of existing embedding ID: generated\n"
     ]
    },
    {
     "name": "stdout",
     "output_type": "stream",
     "text": [
      "Topic: Succession Planning\n",
      "Similarity Score: 1.8728113174438477\n",
      "Processing example 183 of 500 \n"
     ]
    },
    {
     "name": "stderr",
     "output_type": "stream",
     "text": [
      "Add of existing embedding ID: original\n",
      "Add of existing embedding ID: generated\n",
      "Insert of existing embedding ID: original\n",
      "Insert of existing embedding ID: generated\n"
     ]
    },
    {
     "name": "stdout",
     "output_type": "stream",
     "text": [
      "Topic: Fundamentals of a Redesign\n",
      "Similarity Score: 1.29971444606781\n",
      "Processing example 184 of 500 \n"
     ]
    },
    {
     "name": "stderr",
     "output_type": "stream",
     "text": [
      "Add of existing embedding ID: original\n",
      "Add of existing embedding ID: generated\n",
      "Insert of existing embedding ID: original\n",
      "Insert of existing embedding ID: generated\n"
     ]
    },
    {
     "name": "stdout",
     "output_type": "stream",
     "text": [
      "Topic: Taking Exceptional Meeting Notes\n",
      "Similarity Score: 1.6173391342163086\n",
      "Processing example 185 of 500 \n"
     ]
    },
    {
     "name": "stderr",
     "output_type": "stream",
     "text": [
      "Add of existing embedding ID: original\n",
      "Add of existing embedding ID: generated\n",
      "Insert of existing embedding ID: original\n",
      "Insert of existing embedding ID: generated\n"
     ]
    },
    {
     "name": "stdout",
     "output_type": "stream",
     "text": [
      "Topic: InDesign: Interactive PDFs\n",
      "Similarity Score: 1.7200192213058472\n",
      "Processing example 186 of 500 \n"
     ]
    },
    {
     "name": "stderr",
     "output_type": "stream",
     "text": [
      "Add of existing embedding ID: original\n",
      "Add of existing embedding ID: generated\n",
      "Insert of existing embedding ID: original\n",
      "Insert of existing embedding ID: generated\n"
     ]
    },
    {
     "name": "stdout",
     "output_type": "stream",
     "text": [
      "Topic: Learning Nagios\n",
      "Similarity Score: 1.8521071672439575\n",
      "Processing example 187 of 500 \n"
     ]
    },
    {
     "name": "stderr",
     "output_type": "stream",
     "text": [
      "Add of existing embedding ID: original\n",
      "Add of existing embedding ID: generated\n",
      "Insert of existing embedding ID: original\n",
      "Insert of existing embedding ID: generated\n"
     ]
    },
    {
     "name": "stdout",
     "output_type": "stream",
     "text": [
      "Topic: The Master Key to Overcoming Procrastination\n",
      "Similarity Score: 1.686111330986023\n",
      "Processing example 188 of 500 \n"
     ]
    },
    {
     "name": "stderr",
     "output_type": "stream",
     "text": [
      "Add of existing embedding ID: original\n",
      "Add of existing embedding ID: generated\n",
      "Insert of existing embedding ID: original\n",
      "Insert of existing embedding ID: generated\n"
     ]
    },
    {
     "name": "stdout",
     "output_type": "stream",
     "text": [
      "Topic: The Six Mind Shifts for Thriving at Work\n",
      "Similarity Score: 1.916555643081665\n",
      "Processing example 189 of 500 \n"
     ]
    },
    {
     "name": "stderr",
     "output_type": "stream",
     "text": [
      "Add of existing embedding ID: original\n",
      "Add of existing embedding ID: generated\n",
      "Insert of existing embedding ID: original\n",
      "Insert of existing embedding ID: generated\n"
     ]
    },
    {
     "name": "stdout",
     "output_type": "stream",
     "text": [
      "Topic: Android App Development: Accessibility\n",
      "Similarity Score: 1.7164512872695923\n",
      "Processing example 190 of 500 \n"
     ]
    },
    {
     "name": "stderr",
     "output_type": "stream",
     "text": [
      "Add of existing embedding ID: original\n",
      "Add of existing embedding ID: generated\n",
      "Insert of existing embedding ID: original\n",
      "Insert of existing embedding ID: generated\n"
     ]
    },
    {
     "name": "stdout",
     "output_type": "stream",
     "text": [
      "Topic: Package Design Project: Paperboard Food Packaging\n",
      "Similarity Score: 1.4327611923217773\n",
      "Processing example 191 of 500 \n"
     ]
    },
    {
     "name": "stderr",
     "output_type": "stream",
     "text": [
      "Add of existing embedding ID: original\n",
      "Add of existing embedding ID: generated\n",
      "Insert of existing embedding ID: original\n",
      "Insert of existing embedding ID: generated\n"
     ]
    },
    {
     "name": "stdout",
     "output_type": "stream",
     "text": [
      "Topic: SQL Server Performance for Developers\n",
      "Similarity Score: 1.772335410118103\n",
      "Processing example 192 of 500 \n"
     ]
    },
    {
     "name": "stderr",
     "output_type": "stream",
     "text": [
      "Add of existing embedding ID: original\n",
      "Add of existing embedding ID: generated\n",
      "Insert of existing embedding ID: original\n",
      "Insert of existing embedding ID: generated\n"
     ]
    },
    {
     "name": "stdout",
     "output_type": "stream",
     "text": [
      "Topic: Learning PowerPoint 2021\n",
      "Similarity Score: 1.7908692359924316\n",
      "Processing example 193 of 500 \n"
     ]
    },
    {
     "name": "stderr",
     "output_type": "stream",
     "text": [
      "Add of existing embedding ID: original\n",
      "Add of existing embedding ID: generated\n",
      "Insert of existing embedding ID: original\n",
      "Insert of existing embedding ID: generated\n"
     ]
    },
    {
     "name": "stdout",
     "output_type": "stream",
     "text": [
      "Topic: Unit Testing in Django\n",
      "Similarity Score: 1.7815998792648315\n",
      "Processing example 194 of 500 \n"
     ]
    },
    {
     "name": "stderr",
     "output_type": "stream",
     "text": [
      "Add of existing embedding ID: original\n",
      "Add of existing embedding ID: generated\n",
      "Insert of existing embedding ID: original\n",
      "Insert of existing embedding ID: generated\n"
     ]
    },
    {
     "name": "stdout",
     "output_type": "stream",
     "text": [
      "Topic: SharePoint  Framework for Developers: 3 Deployment, Upgrades, and Lifecycle\n",
      "Similarity Score: 1.8496649265289307\n",
      "Processing example 195 of 500 \n"
     ]
    },
    {
     "name": "stderr",
     "output_type": "stream",
     "text": [
      "Add of existing embedding ID: original\n",
      "Add of existing embedding ID: generated\n",
      "Insert of existing embedding ID: original\n",
      "Insert of existing embedding ID: generated\n"
     ]
    },
    {
     "name": "stdout",
     "output_type": "stream",
     "text": [
      "Topic: SharePoint Framework for Developers: 2 Authoring and Debugging Solutions\n",
      "Similarity Score: 1.627451777458191\n",
      "Processing example 196 of 500 \n"
     ]
    },
    {
     "name": "stderr",
     "output_type": "stream",
     "text": [
      "Add of existing embedding ID: original\n",
      "Add of existing embedding ID: generated\n",
      "Insert of existing embedding ID: original\n",
      "Insert of existing embedding ID: generated\n"
     ]
    },
    {
     "name": "stdout",
     "output_type": "stream",
     "text": [
      "Topic: Adobe Captivate 2019: Advanced Techniques\n",
      "Similarity Score: 1.578445315361023\n",
      "Processing example 197 of 500 \n"
     ]
    },
    {
     "name": "stderr",
     "output_type": "stream",
     "text": [
      "Add of existing embedding ID: original\n",
      "Add of existing embedding ID: generated\n",
      "Insert of existing embedding ID: original\n",
      "Insert of existing embedding ID: generated\n"
     ]
    },
    {
     "name": "stdout",
     "output_type": "stream",
     "text": [
      "Topic: Create Your Creator Media Kit Using Canva Pro\n",
      "Similarity Score: 1.6580908298492432\n",
      "Processing example 198 of 500 \n"
     ]
    },
    {
     "name": "stderr",
     "output_type": "stream",
     "text": [
      "Add of existing embedding ID: original\n",
      "Add of existing embedding ID: generated\n",
      "Insert of existing embedding ID: original\n",
      "Insert of existing embedding ID: generated\n"
     ]
    },
    {
     "name": "stdout",
     "output_type": "stream",
     "text": [
      "Topic: Nano Tips to Use and Improve SEO with Sam Dey\n",
      "Similarity Score: 2.0223984718322754\n",
      "Processing example 199 of 500 \n"
     ]
    },
    {
     "name": "stderr",
     "output_type": "stream",
     "text": [
      "Add of existing embedding ID: original\n",
      "Add of existing embedding ID: generated\n",
      "Insert of existing embedding ID: original\n",
      "Insert of existing embedding ID: generated\n"
     ]
    },
    {
     "name": "stdout",
     "output_type": "stream",
     "text": [
      "Topic: Excel 2016 for the Mac: Managing and Analyzing Data\n",
      "Similarity Score: 1.9412355422973633\n",
      "Processing example 200 of 500 \n"
     ]
    },
    {
     "name": "stderr",
     "output_type": "stream",
     "text": [
      "Add of existing embedding ID: original\n",
      "Add of existing embedding ID: generated\n",
      "Insert of existing embedding ID: original\n",
      "Insert of existing embedding ID: generated\n"
     ]
    },
    {
     "name": "stdout",
     "output_type": "stream",
     "text": [
      "Topic: Introduction to Embedded Systems with Rust\n",
      "Similarity Score: 1.6103968620300293\n",
      "Processing example 201 of 500 \n",
      "Topic: Introduction to Terraform on Google Cloud Platform\n",
      "Similarity Score: None\n",
      "Processing example 202 of 500 \n"
     ]
    },
    {
     "name": "stderr",
     "output_type": "stream",
     "text": [
      "Add of existing embedding ID: original\n",
      "Add of existing embedding ID: generated\n",
      "Insert of existing embedding ID: original\n",
      "Insert of existing embedding ID: generated\n"
     ]
    },
    {
     "name": "stdout",
     "output_type": "stream",
     "text": [
      "Topic: Cisco Network Security: Intrusion Detection and Prevention\n",
      "Similarity Score: 1.8627384901046753\n",
      "Processing example 203 of 500 \n"
     ]
    },
    {
     "name": "stderr",
     "output_type": "stream",
     "text": [
      "Add of existing embedding ID: original\n",
      "Add of existing embedding ID: generated\n",
      "Insert of existing embedding ID: original\n",
      "Insert of existing embedding ID: generated\n"
     ]
    },
    {
     "name": "stdout",
     "output_type": "stream",
     "text": [
      "Topic: Securing Windows Server 2016: Managing Privileged Identities\n",
      "Similarity Score: 1.6433793306350708\n",
      "Processing example 204 of 500 \n"
     ]
    },
    {
     "name": "stderr",
     "output_type": "stream",
     "text": [
      "Add of existing embedding ID: original\n",
      "Add of existing embedding ID: generated\n",
      "Insert of existing embedding ID: original\n",
      "Insert of existing embedding ID: generated\n"
     ]
    },
    {
     "name": "stdout",
     "output_type": "stream",
     "text": [
      "Topic: Writing Construction Proposals and Budget Proposals\n",
      "Similarity Score: 1.5720467567443848\n",
      "Processing example 205 of 500 \n"
     ]
    },
    {
     "name": "stderr",
     "output_type": "stream",
     "text": [
      "Add of existing embedding ID: original\n",
      "Add of existing embedding ID: generated\n",
      "Insert of existing embedding ID: original\n",
      "Insert of existing embedding ID: generated\n"
     ]
    },
    {
     "name": "stdout",
     "output_type": "stream",
     "text": [
      "Topic: Learning Aurora HDR 2018\n",
      "Similarity Score: 1.9896050691604614\n",
      "Processing example 206 of 500 \n"
     ]
    },
    {
     "name": "stderr",
     "output_type": "stream",
     "text": [
      "Add of existing embedding ID: original\n",
      "Add of existing embedding ID: generated\n",
      "Insert of existing embedding ID: original\n",
      "Insert of existing embedding ID: generated\n"
     ]
    },
    {
     "name": "stdout",
     "output_type": "stream",
     "text": [
      "Topic: Introduction to NLP Using R\n",
      "Similarity Score: 1.8988327980041504\n",
      "Processing example 207 of 500 \n"
     ]
    },
    {
     "name": "stderr",
     "output_type": "stream",
     "text": [
      "Add of existing embedding ID: original\n",
      "Add of existing embedding ID: generated\n",
      "Insert of existing embedding ID: original\n",
      "Insert of existing embedding ID: generated\n"
     ]
    },
    {
     "name": "stdout",
     "output_type": "stream",
     "text": [
      "Topic: NLP with Quanteda R\n",
      "Similarity Score: 2.0261988639831543\n",
      "Processing example 208 of 500 \n"
     ]
    },
    {
     "name": "stderr",
     "output_type": "stream",
     "text": [
      "Add of existing embedding ID: original\n",
      "Add of existing embedding ID: generated\n",
      "Insert of existing embedding ID: original\n",
      "Insert of existing embedding ID: generated\n"
     ]
    },
    {
     "name": "stdout",
     "output_type": "stream",
     "text": [
      "Topic: Calming Anxiety to Achieve Peak Performance\n",
      "Similarity Score: 1.830564260482788\n",
      "Processing example 209 of 500 \n"
     ]
    },
    {
     "name": "stderr",
     "output_type": "stream",
     "text": [
      "Add of existing embedding ID: original\n",
      "Add of existing embedding ID: generated\n",
      "Insert of existing embedding ID: original\n",
      "Insert of existing embedding ID: generated\n"
     ]
    },
    {
     "name": "stdout",
     "output_type": "stream",
     "text": [
      "Topic: Becoming the Manager that Your Team Wants\n",
      "Similarity Score: 1.7841606140136719\n",
      "Processing example 210 of 500 \n"
     ]
    },
    {
     "name": "stderr",
     "output_type": "stream",
     "text": [
      "Add of existing embedding ID: original\n",
      "Add of existing embedding ID: generated\n",
      "Insert of existing embedding ID: original\n",
      "Insert of existing embedding ID: generated\n"
     ]
    },
    {
     "name": "stdout",
     "output_type": "stream",
     "text": [
      "Topic: Migrating from Lightroom Classic CC\n",
      "Similarity Score: 1.7695904970169067\n",
      "Processing example 211 of 500 \n"
     ]
    },
    {
     "name": "stderr",
     "output_type": "stream",
     "text": [
      "Add of existing embedding ID: original\n",
      "Add of existing embedding ID: generated\n",
      "Insert of existing embedding ID: original\n",
      "Insert of existing embedding ID: generated\n"
     ]
    },
    {
     "name": "stdout",
     "output_type": "stream",
     "text": [
      "Topic: Vanilla JavaScript: Animations\n",
      "Similarity Score: 1.9757941961288452\n",
      "Processing example 212 of 500 \n"
     ]
    },
    {
     "name": "stderr",
     "output_type": "stream",
     "text": [
      "Add of existing embedding ID: original\n",
      "Add of existing embedding ID: generated\n",
      "Insert of existing embedding ID: original\n",
      "Insert of existing embedding ID: generated\n"
     ]
    },
    {
     "name": "stdout",
     "output_type": "stream",
     "text": [
      "Topic: How to Master Your Executive Presence\n",
      "Similarity Score: 1.890940546989441\n",
      "Processing example 213 of 500 \n"
     ]
    },
    {
     "name": "stderr",
     "output_type": "stream",
     "text": [
      "Add of existing embedding ID: original\n",
      "Add of existing embedding ID: generated\n",
      "Insert of existing embedding ID: original\n",
      "Insert of existing embedding ID: generated\n"
     ]
    },
    {
     "name": "stdout",
     "output_type": "stream",
     "text": [
      "Topic: Eclipse Essential Training\n",
      "Similarity Score: 1.774994134902954\n",
      "Processing example 214 of 500 \n"
     ]
    },
    {
     "name": "stderr",
     "output_type": "stream",
     "text": [
      "Add of existing embedding ID: original\n",
      "Add of existing embedding ID: generated\n",
      "Insert of existing embedding ID: original\n",
      "Insert of existing embedding ID: generated\n"
     ]
    },
    {
     "name": "stdout",
     "output_type": "stream",
     "text": [
      "Topic: Mindful Approaches to Defeat Distraction and Build Greater Mental Resilience\n",
      "Similarity Score: 1.6345860958099365\n",
      "Processing example 215 of 500 \n"
     ]
    },
    {
     "name": "stderr",
     "output_type": "stream",
     "text": [
      "Add of existing embedding ID: original\n",
      "Add of existing embedding ID: generated\n",
      "Insert of existing embedding ID: original\n",
      "Insert of existing embedding ID: generated\n"
     ]
    },
    {
     "name": "stdout",
     "output_type": "stream",
     "text": [
      "Topic: Graphic Design Careers: First Steps\n",
      "Similarity Score: 1.4175633192062378\n",
      "Processing example 216 of 500 \n"
     ]
    },
    {
     "name": "stderr",
     "output_type": "stream",
     "text": [
      "Add of existing embedding ID: original\n",
      "Add of existing embedding ID: generated\n",
      "Insert of existing embedding ID: original\n",
      "Insert of existing embedding ID: generated\n"
     ]
    },
    {
     "name": "stdout",
     "output_type": "stream",
     "text": [
      "Topic: Amazon Web Services: Exploring Business Solutions\n",
      "Similarity Score: 1.5732048749923706\n",
      "Processing example 217 of 500 \n"
     ]
    },
    {
     "name": "stderr",
     "output_type": "stream",
     "text": [
      "Add of existing embedding ID: original\n",
      "Add of existing embedding ID: generated\n",
      "Insert of existing embedding ID: original\n",
      "Insert of existing embedding ID: generated\n"
     ]
    },
    {
     "name": "stdout",
     "output_type": "stream",
     "text": [
      "Topic: Building Creative Organizations\n",
      "Similarity Score: 1.6778697967529297\n",
      "Processing example 218 of 500 \n"
     ]
    },
    {
     "name": "stderr",
     "output_type": "stream",
     "text": [
      "Add of existing embedding ID: original\n",
      "Add of existing embedding ID: generated\n",
      "Insert of existing embedding ID: original\n",
      "Insert of existing embedding ID: generated\n"
     ]
    },
    {
     "name": "stdout",
     "output_type": "stream",
     "text": [
      "Topic: WordPress: Custom Post Types and Taxonomies\n",
      "Similarity Score: 1.869338870048523\n",
      "Processing example 219 of 500 \n"
     ]
    },
    {
     "name": "stderr",
     "output_type": "stream",
     "text": [
      "Add of existing embedding ID: original\n",
      "Add of existing embedding ID: generated\n",
      "Insert of existing embedding ID: original\n",
      "Insert of existing embedding ID: generated\n"
     ]
    },
    {
     "name": "stdout",
     "output_type": "stream",
     "text": [
      "Topic: Hands-On PyTorch Machine Learning\n",
      "Similarity Score: 1.8423941135406494\n",
      "Processing example 220 of 500 \n"
     ]
    },
    {
     "name": "stderr",
     "output_type": "stream",
     "text": [
      "Add of existing embedding ID: original\n",
      "Add of existing embedding ID: generated\n",
      "Insert of existing embedding ID: original\n",
      "Insert of existing embedding ID: generated\n"
     ]
    },
    {
     "name": "stdout",
     "output_type": "stream",
     "text": [
      "Topic: Prevent Toxic Work Cultures as a Manager\n",
      "Similarity Score: 1.5468111038208008\n",
      "Processing example 221 of 500 \n"
     ]
    },
    {
     "name": "stderr",
     "output_type": "stream",
     "text": [
      "Add of existing embedding ID: original\n",
      "Add of existing embedding ID: generated\n",
      "Insert of existing embedding ID: original\n",
      "Insert of existing embedding ID: generated\n"
     ]
    },
    {
     "name": "stdout",
     "output_type": "stream",
     "text": [
      "Topic: Unlocking Authentic Communication in a Culturally-Diverse Workplace\n",
      "Similarity Score: 1.48260498046875\n",
      "Processing example 222 of 500 \n"
     ]
    },
    {
     "name": "stderr",
     "output_type": "stream",
     "text": [
      "Add of existing embedding ID: original\n",
      "Add of existing embedding ID: generated\n",
      "Insert of existing embedding ID: original\n",
      "Insert of existing embedding ID: generated\n"
     ]
    },
    {
     "name": "stdout",
     "output_type": "stream",
     "text": [
      "Topic: Unreal Engine: Global Illumination for Architectural Visualization\n",
      "Similarity Score: 1.6355377435684204\n",
      "Processing example 223 of 500 \n"
     ]
    },
    {
     "name": "stderr",
     "output_type": "stream",
     "text": [
      "Add of existing embedding ID: original\n",
      "Add of existing embedding ID: generated\n",
      "Insert of existing embedding ID: original\n",
      "Insert of existing embedding ID: generated\n"
     ]
    },
    {
     "name": "stdout",
     "output_type": "stream",
     "text": [
      "Topic: Illustrator 2022 Essential Training\n",
      "Similarity Score: 1.5814846754074097\n",
      "Processing example 224 of 500 \n"
     ]
    },
    {
     "name": "stderr",
     "output_type": "stream",
     "text": [
      "Add of existing embedding ID: original\n",
      "Add of existing embedding ID: generated\n",
      "Insert of existing embedding ID: original\n",
      "Insert of existing embedding ID: generated\n"
     ]
    },
    {
     "name": "stdout",
     "output_type": "stream",
     "text": [
      "Topic: Manage Burnout at Work with These Simple Strategies\n",
      "Similarity Score: 1.7480401992797852\n",
      "Processing example 225 of 500 \n"
     ]
    },
    {
     "name": "stderr",
     "output_type": "stream",
     "text": [
      "Add of existing embedding ID: original\n",
      "Add of existing embedding ID: generated\n",
      "Insert of existing embedding ID: original\n",
      "Insert of existing embedding ID: generated\n"
     ]
    },
    {
     "name": "stdout",
     "output_type": "stream",
     "text": [
      "Topic: Financial Forecasting with Analytics Essential Training\n",
      "Similarity Score: 1.927466630935669\n",
      "Processing example 226 of 500 \n"
     ]
    },
    {
     "name": "stderr",
     "output_type": "stream",
     "text": [
      "Add of existing embedding ID: original\n",
      "Add of existing embedding ID: generated\n",
      "Insert of existing embedding ID: original\n",
      "Insert of existing embedding ID: generated\n"
     ]
    },
    {
     "name": "stdout",
     "output_type": "stream",
     "text": [
      "Topic: IAM Fundamentals with Okta\n",
      "Similarity Score: 1.5770326852798462\n",
      "Processing example 227 of 500 \n"
     ]
    },
    {
     "name": "stderr",
     "output_type": "stream",
     "text": [
      "Add of existing embedding ID: original\n",
      "Add of existing embedding ID: generated\n",
      "Insert of existing embedding ID: original\n",
      "Insert of existing embedding ID: generated\n"
     ]
    },
    {
     "name": "stdout",
     "output_type": "stream",
     "text": [
      "Topic: Cloud Native Projects: Azure Serverless\n",
      "Similarity Score: 1.8581525087356567\n",
      "Processing example 228 of 500 \n"
     ]
    },
    {
     "name": "stderr",
     "output_type": "stream",
     "text": [
      "Add of existing embedding ID: original\n",
      "Add of existing embedding ID: generated\n",
      "Insert of existing embedding ID: original\n",
      "Insert of existing embedding ID: generated\n"
     ]
    },
    {
     "name": "stdout",
     "output_type": "stream",
     "text": [
      "Topic: Fundamentals of Apache Iceberg\n",
      "Similarity Score: 1.913292646408081\n",
      "Processing example 229 of 500 \n"
     ]
    },
    {
     "name": "stderr",
     "output_type": "stream",
     "text": [
      "Add of existing embedding ID: original\n",
      "Add of existing embedding ID: generated\n",
      "Insert of existing embedding ID: original\n",
      "Insert of existing embedding ID: generated\n"
     ]
    },
    {
     "name": "stdout",
     "output_type": "stream",
     "text": [
      "Topic: Photos for macOS Big Sur and iPhone Essential Training\n",
      "Similarity Score: 1.8286769390106201\n",
      "Processing example 230 of 500 \n"
     ]
    },
    {
     "name": "stderr",
     "output_type": "stream",
     "text": [
      "Add of existing embedding ID: original\n",
      "Add of existing embedding ID: generated\n",
      "Insert of existing embedding ID: original\n",
      "Insert of existing embedding ID: generated\n"
     ]
    },
    {
     "name": "stdout",
     "output_type": "stream",
     "text": [
      "Topic: Spotting Misinformation Online\n",
      "Similarity Score: 1.541913390159607\n",
      "Processing example 231 of 500 \n"
     ]
    },
    {
     "name": "stderr",
     "output_type": "stream",
     "text": [
      "Add of existing embedding ID: original\n",
      "Add of existing embedding ID: generated\n",
      "Insert of existing embedding ID: original\n",
      "Insert of existing embedding ID: generated\n"
     ]
    },
    {
     "name": "stdout",
     "output_type": "stream",
     "text": [
      "Topic: Learning XAI: Explainable Artificial Intelligence\n",
      "Similarity Score: 1.3253066539764404\n",
      "Processing example 232 of 500 \n"
     ]
    },
    {
     "name": "stderr",
     "output_type": "stream",
     "text": [
      "Add of existing embedding ID: original\n",
      "Add of existing embedding ID: generated\n",
      "Insert of existing embedding ID: original\n",
      "Insert of existing embedding ID: generated\n"
     ]
    },
    {
     "name": "stdout",
     "output_type": "stream",
     "text": [
      "Topic: Mergers & Acquisitions\n",
      "Similarity Score: 1.9764786958694458\n",
      "Processing example 233 of 500 \n"
     ]
    },
    {
     "name": "stderr",
     "output_type": "stream",
     "text": [
      "Add of existing embedding ID: original\n",
      "Add of existing embedding ID: generated\n",
      "Insert of existing embedding ID: original\n",
      "Insert of existing embedding ID: generated\n"
     ]
    },
    {
     "name": "stdout",
     "output_type": "stream",
     "text": [
      "Topic: Developing Your Team Members\n",
      "Similarity Score: 1.8939659595489502\n",
      "Processing example 234 of 500 \n"
     ]
    },
    {
     "name": "stderr",
     "output_type": "stream",
     "text": [
      "Add of existing embedding ID: original\n",
      "Add of existing embedding ID: generated\n",
      "Insert of existing embedding ID: original\n",
      "Insert of existing embedding ID: generated\n"
     ]
    },
    {
     "name": "stdout",
     "output_type": "stream",
     "text": [
      "Topic: Access 2019: Tips, Tricks, and Techniques\n",
      "Similarity Score: 1.6441835165023804\n",
      "Processing example 235 of 500 \n"
     ]
    },
    {
     "name": "stderr",
     "output_type": "stream",
     "text": [
      "Add of existing embedding ID: original\n",
      "Add of existing embedding ID: generated\n",
      "Insert of existing embedding ID: original\n",
      "Insert of existing embedding ID: generated\n"
     ]
    },
    {
     "name": "stdout",
     "output_type": "stream",
     "text": [
      "Topic: Access 2019: Queries\n",
      "Similarity Score: 1.8277459144592285\n",
      "Processing example 236 of 500 \n"
     ]
    },
    {
     "name": "stderr",
     "output_type": "stream",
     "text": [
      "Add of existing embedding ID: original\n",
      "Add of existing embedding ID: generated\n",
      "Insert of existing embedding ID: original\n",
      "Insert of existing embedding ID: generated\n"
     ]
    },
    {
     "name": "stdout",
     "output_type": "stream",
     "text": [
      "Topic: Learning Illustrator on the iPad\n",
      "Similarity Score: 1.7844659090042114\n",
      "Processing example 237 of 500 \n"
     ]
    },
    {
     "name": "stderr",
     "output_type": "stream",
     "text": [
      "Add of existing embedding ID: original\n",
      "Add of existing embedding ID: generated\n",
      "Insert of existing embedding ID: original\n",
      "Insert of existing embedding ID: generated\n"
     ]
    },
    {
     "name": "stdout",
     "output_type": "stream",
     "text": [
      "Topic: Access Essential Training (Office 365/Microsoft) (2018)\n",
      "Similarity Score: 1.839623212814331\n",
      "Processing example 238 of 500 \n"
     ]
    },
    {
     "name": "stderr",
     "output_type": "stream",
     "text": [
      "Add of existing embedding ID: original\n",
      "Add of existing embedding ID: generated\n",
      "Insert of existing embedding ID: original\n",
      "Insert of existing embedding ID: generated\n"
     ]
    },
    {
     "name": "stdout",
     "output_type": "stream",
     "text": [
      "Topic: Blender 3.3 Essential Training\n",
      "Similarity Score: 1.7725257873535156\n",
      "Processing example 239 of 500 \n"
     ]
    },
    {
     "name": "stderr",
     "output_type": "stream",
     "text": [
      "Add of existing embedding ID: original\n",
      "Add of existing embedding ID: generated\n",
      "Insert of existing embedding ID: original\n",
      "Insert of existing embedding ID: generated\n"
     ]
    },
    {
     "name": "stdout",
     "output_type": "stream",
     "text": [
      "Topic: Test Automation with Python: 9 Designing Your Test Suite\n",
      "Similarity Score: 1.5988200902938843\n",
      "Processing example 240 of 500 \n"
     ]
    },
    {
     "name": "stderr",
     "output_type": "stream",
     "text": [
      "Add of existing embedding ID: original\n",
      "Add of existing embedding ID: generated\n",
      "Insert of existing embedding ID: original\n",
      "Insert of existing embedding ID: generated\n"
     ]
    },
    {
     "name": "stdout",
     "output_type": "stream",
     "text": [
      "Topic: Prioritizing Your Tasks\n",
      "Similarity Score: 1.6513090133666992\n",
      "Processing example 241 of 500 \n"
     ]
    },
    {
     "name": "stderr",
     "output_type": "stream",
     "text": [
      "Add of existing embedding ID: original\n",
      "Add of existing embedding ID: generated\n",
      "Insert of existing embedding ID: original\n",
      "Insert of existing embedding ID: generated\n"
     ]
    },
    {
     "name": "stdout",
     "output_type": "stream",
     "text": [
      "Topic: Time-Saving Tips Using Illustrator\n",
      "Similarity Score: 1.6221016645431519\n",
      "Processing example 242 of 500 \n"
     ]
    },
    {
     "name": "stderr",
     "output_type": "stream",
     "text": [
      "Add of existing embedding ID: original\n",
      "Add of existing embedding ID: generated\n",
      "Insert of existing embedding ID: original\n",
      "Insert of existing embedding ID: generated\n"
     ]
    },
    {
     "name": "stdout",
     "output_type": "stream",
     "text": [
      "Topic: Lean Technology Strategy: Building High-Performing Teams\n",
      "Similarity Score: 1.6810362339019775\n",
      "Processing example 243 of 500 \n"
     ]
    },
    {
     "name": "stderr",
     "output_type": "stream",
     "text": [
      "Add of existing embedding ID: original\n",
      "Add of existing embedding ID: generated\n",
      "Insert of existing embedding ID: original\n",
      "Insert of existing embedding ID: generated\n"
     ]
    },
    {
     "name": "stdout",
     "output_type": "stream",
     "text": [
      "Topic: Lean Technology Strategy: Running Agile at Scale\n",
      "Similarity Score: 1.921370506286621\n",
      "Processing example 244 of 500 \n"
     ]
    },
    {
     "name": "stderr",
     "output_type": "stream",
     "text": [
      "Add of existing embedding ID: original\n",
      "Add of existing embedding ID: generated\n",
      "Insert of existing embedding ID: original\n",
      "Insert of existing embedding ID: generated\n"
     ]
    },
    {
     "name": "stdout",
     "output_type": "stream",
     "text": [
      "Topic: Lean Technology Strategy: Starting Your Business Transformation\n",
      "Similarity Score: 1.7902922630310059\n",
      "Processing example 245 of 500 \n"
     ]
    },
    {
     "name": "stderr",
     "output_type": "stream",
     "text": [
      "Add of existing embedding ID: original\n",
      "Add of existing embedding ID: generated\n",
      "Insert of existing embedding ID: original\n",
      "Insert of existing embedding ID: generated\n"
     ]
    },
    {
     "name": "stdout",
     "output_type": "stream",
     "text": [
      "Topic: Lean Technology Strategy: Moving Fast With Defined Constraints\n",
      "Similarity Score: 1.5742700099945068\n",
      "Processing example 246 of 500 \n"
     ]
    },
    {
     "name": "stderr",
     "output_type": "stream",
     "text": [
      "Add of existing embedding ID: original\n",
      "Add of existing embedding ID: generated\n",
      "Insert of existing embedding ID: original\n",
      "Insert of existing embedding ID: generated\n"
     ]
    },
    {
     "name": "stdout",
     "output_type": "stream",
     "text": [
      "Topic: ZBrush and Keyshot for Product Design and Rendering\n",
      "Similarity Score: 1.7071542739868164\n",
      "Processing example 247 of 500 \n"
     ]
    },
    {
     "name": "stderr",
     "output_type": "stream",
     "text": [
      "Add of existing embedding ID: original\n",
      "Add of existing embedding ID: generated\n",
      "Insert of existing embedding ID: original\n",
      "Insert of existing embedding ID: generated\n"
     ]
    },
    {
     "name": "stdout",
     "output_type": "stream",
     "text": [
      "Topic: Practice Exam 2 for CompTIA Security+ (SY0-701)\n",
      "Similarity Score: 1.9522730112075806\n",
      "Processing example 248 of 500 \n"
     ]
    },
    {
     "name": "stderr",
     "output_type": "stream",
     "text": [
      "Add of existing embedding ID: original\n",
      "Add of existing embedding ID: generated\n",
      "Insert of existing embedding ID: original\n",
      "Insert of existing embedding ID: generated\n"
     ]
    },
    {
     "name": "stdout",
     "output_type": "stream",
     "text": [
      "Topic: Presenting as a Team\n",
      "Similarity Score: 1.916652798652649\n",
      "Processing example 249 of 500 \n"
     ]
    },
    {
     "name": "stderr",
     "output_type": "stream",
     "text": [
      "Add of existing embedding ID: original\n",
      "Add of existing embedding ID: generated\n",
      "Insert of existing embedding ID: original\n",
      "Insert of existing embedding ID: generated\n"
     ]
    },
    {
     "name": "stdout",
     "output_type": "stream",
     "text": [
      "Topic: Salesforce Administrator Cert Prep: 1 Introduction to Administrator Certification and Setup\n",
      "Similarity Score: 1.9275166988372803\n",
      "Processing example 250 of 500 \n"
     ]
    },
    {
     "name": "stderr",
     "output_type": "stream",
     "text": [
      "Add of existing embedding ID: original\n",
      "Add of existing embedding ID: generated\n",
      "Insert of existing embedding ID: original\n",
      "Insert of existing embedding ID: generated\n"
     ]
    },
    {
     "name": "stdout",
     "output_type": "stream",
     "text": [
      "Topic: Salesforce Administrator Cert Prep: 2 Security and Data Model\n",
      "Similarity Score: 1.5055546760559082\n",
      "Processing example 251 of 500 \n"
     ]
    },
    {
     "name": "stderr",
     "output_type": "stream",
     "text": [
      "Add of existing embedding ID: original\n",
      "Add of existing embedding ID: generated\n",
      "Insert of existing embedding ID: original\n",
      "Insert of existing embedding ID: generated\n"
     ]
    },
    {
     "name": "stdout",
     "output_type": "stream",
     "text": [
      "Topic: Salesforce Administrator Cert Prep: 3 Sales, Marketing and Service Applications\n",
      "Similarity Score: 1.6958051919937134\n",
      "Processing example 252 of 500 \n"
     ]
    },
    {
     "name": "stderr",
     "output_type": "stream",
     "text": [
      "Add of existing embedding ID: original\n",
      "Add of existing embedding ID: generated\n",
      "Insert of existing embedding ID: original\n",
      "Insert of existing embedding ID: generated\n"
     ]
    },
    {
     "name": "stdout",
     "output_type": "stream",
     "text": [
      "Topic: Salesforce Administrator Cert Prep: 4 Collaboration, Data Management and Automation\n",
      "Similarity Score: 1.6809037923812866\n",
      "Processing example 253 of 500 \n"
     ]
    },
    {
     "name": "stderr",
     "output_type": "stream",
     "text": [
      "Add of existing embedding ID: original\n",
      "Add of existing embedding ID: generated\n",
      "Insert of existing embedding ID: original\n",
      "Insert of existing embedding ID: generated\n"
     ]
    },
    {
     "name": "stdout",
     "output_type": "stream",
     "text": [
      "Topic: Salesforce Administrator Cert Prep: 5 Analytics and Mobile Administration\n",
      "Similarity Score: 1.8245726823806763\n",
      "Processing example 254 of 500 \n"
     ]
    },
    {
     "name": "stderr",
     "output_type": "stream",
     "text": [
      "Add of existing embedding ID: original\n",
      "Add of existing embedding ID: generated\n",
      "Insert of existing embedding ID: original\n",
      "Insert of existing embedding ID: generated\n"
     ]
    },
    {
     "name": "stdout",
     "output_type": "stream",
     "text": [
      "Topic: Learning TensorFlow with JavaScript\n",
      "Similarity Score: 1.9114813804626465\n",
      "Processing example 255 of 500 \n"
     ]
    },
    {
     "name": "stderr",
     "output_type": "stream",
     "text": [
      "Add of existing embedding ID: original\n",
      "Add of existing embedding ID: generated\n",
      "Insert of existing embedding ID: original\n",
      "Insert of existing embedding ID: generated\n"
     ]
    },
    {
     "name": "stdout",
     "output_type": "stream",
     "text": [
      "Topic: AutoCAD: Creating an Enterprise Custom User Interface\n",
      "Similarity Score: 1.526038646697998\n",
      "Processing example 256 of 500 \n"
     ]
    },
    {
     "name": "stderr",
     "output_type": "stream",
     "text": [
      "Add of existing embedding ID: original\n",
      "Add of existing embedding ID: generated\n",
      "Insert of existing embedding ID: original\n",
      "Insert of existing embedding ID: generated\n"
     ]
    },
    {
     "name": "stdout",
     "output_type": "stream",
     "text": [
      "Topic: Additive Manufacturing for Business\n",
      "Similarity Score: 1.4402648210525513\n",
      "Processing example 257 of 500 \n"
     ]
    },
    {
     "name": "stderr",
     "output_type": "stream",
     "text": [
      "Add of existing embedding ID: original\n",
      "Add of existing embedding ID: generated\n",
      "Insert of existing embedding ID: original\n",
      "Insert of existing embedding ID: generated\n"
     ]
    },
    {
     "name": "stdout",
     "output_type": "stream",
     "text": [
      "Topic: Brand Redesign: Small Business\n",
      "Similarity Score: 1.3865725994110107\n",
      "Processing example 258 of 500 \n"
     ]
    },
    {
     "name": "stderr",
     "output_type": "stream",
     "text": [
      "Add of existing embedding ID: original\n",
      "Add of existing embedding ID: generated\n",
      "Insert of existing embedding ID: original\n",
      "Insert of existing embedding ID: generated\n"
     ]
    },
    {
     "name": "stdout",
     "output_type": "stream",
     "text": [
      "Topic: Android Dependency Injection with Dagger 2 and Kotlin\n",
      "Similarity Score: 1.852997064590454\n",
      "Processing example 259 of 500 \n"
     ]
    },
    {
     "name": "stderr",
     "output_type": "stream",
     "text": [
      "Add of existing embedding ID: original\n",
      "Add of existing embedding ID: generated\n",
      "Insert of existing embedding ID: original\n",
      "Insert of existing embedding ID: generated\n"
     ]
    },
    {
     "name": "stdout",
     "output_type": "stream",
     "text": [
      "Topic: iOS App Development: Test-Driven Development\n",
      "Similarity Score: 1.7528634071350098\n",
      "Processing example 260 of 500 \n"
     ]
    },
    {
     "name": "stderr",
     "output_type": "stream",
     "text": [
      "Add of existing embedding ID: original\n",
      "Add of existing embedding ID: generated\n",
      "Insert of existing embedding ID: original\n",
      "Insert of existing embedding ID: generated\n"
     ]
    },
    {
     "name": "stdout",
     "output_type": "stream",
     "text": [
      "Topic: Content Marketing: Blogging for Business\n",
      "Similarity Score: 1.7315863370895386\n",
      "Processing example 261 of 500 \n"
     ]
    },
    {
     "name": "stderr",
     "output_type": "stream",
     "text": [
      "Add of existing embedding ID: original\n",
      "Add of existing embedding ID: generated\n",
      "Insert of existing embedding ID: original\n",
      "Insert of existing embedding ID: generated\n"
     ]
    },
    {
     "name": "stdout",
     "output_type": "stream",
     "text": [
      "Topic: Microsoft 365: Choose the Right Tool for the Job\n",
      "Similarity Score: 1.682305932044983\n",
      "Processing example 262 of 500 \n"
     ]
    },
    {
     "name": "stderr",
     "output_type": "stream",
     "text": [
      "Add of existing embedding ID: original\n",
      "Add of existing embedding ID: generated\n",
      "Insert of existing embedding ID: original\n",
      "Insert of existing embedding ID: generated\n"
     ]
    },
    {
     "name": "stdout",
     "output_type": "stream",
     "text": [
      "Topic: Cultivating Presence and Impact in a Live and Virtual World\n",
      "Similarity Score: 1.623099446296692\n",
      "Processing example 263 of 500 \n"
     ]
    },
    {
     "name": "stderr",
     "output_type": "stream",
     "text": [
      "Add of existing embedding ID: original\n",
      "Add of existing embedding ID: generated\n",
      "Insert of existing embedding ID: original\n",
      "Insert of existing embedding ID: generated\n"
     ]
    },
    {
     "name": "stdout",
     "output_type": "stream",
     "text": [
      "Topic: Adapting Leadership to Behavioral Styles\n",
      "Similarity Score: 1.62720787525177\n",
      "Processing example 264 of 500 \n"
     ]
    },
    {
     "name": "stderr",
     "output_type": "stream",
     "text": [
      "Add of existing embedding ID: original\n",
      "Add of existing embedding ID: generated\n",
      "Insert of existing embedding ID: original\n",
      "Insert of existing embedding ID: generated\n"
     ]
    },
    {
     "name": "stdout",
     "output_type": "stream",
     "text": [
      "Topic: How to Handle Poor Performers\n",
      "Similarity Score: 1.8761173486709595\n",
      "Processing example 265 of 500 \n"
     ]
    },
    {
     "name": "stderr",
     "output_type": "stream",
     "text": [
      "Add of existing embedding ID: original\n",
      "Add of existing embedding ID: generated\n",
      "Insert of existing embedding ID: original\n",
      "Insert of existing embedding ID: generated\n"
     ]
    },
    {
     "name": "stdout",
     "output_type": "stream",
     "text": [
      "Topic: ML.NET: Getting Started\n",
      "Similarity Score: 1.9182432889938354\n",
      "Processing example 266 of 500 \n"
     ]
    },
    {
     "name": "stderr",
     "output_type": "stream",
     "text": [
      "Add of existing embedding ID: original\n",
      "Add of existing embedding ID: generated\n",
      "Insert of existing embedding ID: original\n",
      "Insert of existing embedding ID: generated\n"
     ]
    },
    {
     "name": "stdout",
     "output_type": "stream",
     "text": [
      "Topic: Photoshop for Teaching and Learning\n",
      "Similarity Score: 1.7131201028823853\n",
      "Processing example 267 of 500 \n"
     ]
    },
    {
     "name": "stderr",
     "output_type": "stream",
     "text": [
      "Add of existing embedding ID: original\n",
      "Add of existing embedding ID: generated\n",
      "Insert of existing embedding ID: original\n",
      "Insert of existing embedding ID: generated\n"
     ]
    },
    {
     "name": "stdout",
     "output_type": "stream",
     "text": [
      "Topic: The Data Science of Gaming and Fantasy Sports\n",
      "Similarity Score: 1.826213002204895\n",
      "Processing example 268 of 500 \n"
     ]
    },
    {
     "name": "stderr",
     "output_type": "stream",
     "text": [
      "Add of existing embedding ID: original\n",
      "Add of existing embedding ID: generated\n",
      "Insert of existing embedding ID: original\n",
      "Insert of existing embedding ID: generated\n"
     ]
    },
    {
     "name": "stdout",
     "output_type": "stream",
     "text": [
      "Topic: Data Visualization in R with ggplot2\n",
      "Similarity Score: 1.8583576679229736\n",
      "Processing example 269 of 500 \n"
     ]
    },
    {
     "name": "stderr",
     "output_type": "stream",
     "text": [
      "Add of existing embedding ID: original\n",
      "Add of existing embedding ID: generated\n",
      "Insert of existing embedding ID: original\n",
      "Insert of existing embedding ID: generated\n"
     ]
    },
    {
     "name": "stdout",
     "output_type": "stream",
     "text": [
      "Topic: SQL for Exploratory Data Analysis Essential Training\n",
      "Similarity Score: 1.767096996307373\n",
      "Processing example 270 of 500 \n"
     ]
    },
    {
     "name": "stderr",
     "output_type": "stream",
     "text": [
      "Add of existing embedding ID: original\n",
      "Add of existing embedding ID: generated\n",
      "Insert of existing embedding ID: original\n",
      "Insert of existing embedding ID: generated\n"
     ]
    },
    {
     "name": "stdout",
     "output_type": "stream",
     "text": [
      "Topic: Digital Marketing Trends\n",
      "Similarity Score: 1.6683322191238403\n",
      "Processing example 271 of 500 \n"
     ]
    },
    {
     "name": "stderr",
     "output_type": "stream",
     "text": [
      "Add of existing embedding ID: original\n",
      "Add of existing embedding ID: generated\n",
      "Insert of existing embedding ID: original\n",
      "Insert of existing embedding ID: generated\n"
     ]
    },
    {
     "name": "stdout",
     "output_type": "stream",
     "text": [
      "Topic: Advanced Microservices: Tactical Forking\n",
      "Similarity Score: 1.8542025089263916\n",
      "Processing example 272 of 500 \n"
     ]
    },
    {
     "name": "stderr",
     "output_type": "stream",
     "text": [
      "Add of existing embedding ID: original\n",
      "Add of existing embedding ID: generated\n",
      "Insert of existing embedding ID: original\n",
      "Insert of existing embedding ID: generated\n"
     ]
    },
    {
     "name": "stdout",
     "output_type": "stream",
     "text": [
      "Topic: Photoshop: Backgrounds and Textures\n",
      "Similarity Score: 1.6206762790679932\n",
      "Processing example 273 of 500 \n"
     ]
    },
    {
     "name": "stderr",
     "output_type": "stream",
     "text": [
      "Add of existing embedding ID: original\n",
      "Add of existing embedding ID: generated\n",
      "Insert of existing embedding ID: original\n",
      "Insert of existing embedding ID: generated\n"
     ]
    },
    {
     "name": "stdout",
     "output_type": "stream",
     "text": [
      "Topic: Creative Inspirations: tokidoki, Character Illustrator\n",
      "Similarity Score: 2.003162384033203\n",
      "Processing example 274 of 500 \n"
     ]
    },
    {
     "name": "stderr",
     "output_type": "stream",
     "text": [
      "Add of existing embedding ID: original\n",
      "Add of existing embedding ID: generated\n",
      "Insert of existing embedding ID: original\n",
      "Insert of existing embedding ID: generated\n"
     ]
    },
    {
     "name": "stdout",
     "output_type": "stream",
     "text": [
      "Topic: SQL for Statistics Essential Training\n",
      "Similarity Score: 1.9988386631011963\n",
      "Processing example 275 of 500 \n"
     ]
    },
    {
     "name": "stderr",
     "output_type": "stream",
     "text": [
      "Add of existing embedding ID: original\n",
      "Add of existing embedding ID: generated\n",
      "Insert of existing embedding ID: original\n",
      "Insert of existing embedding ID: generated\n"
     ]
    },
    {
     "name": "stdout",
     "output_type": "stream",
     "text": [
      "Topic: Learning SAP Production Planning\n",
      "Similarity Score: 1.8001954555511475\n",
      "Processing example 276 of 500 \n"
     ]
    },
    {
     "name": "stderr",
     "output_type": "stream",
     "text": [
      "Add of existing embedding ID: original\n",
      "Add of existing embedding ID: generated\n",
      "Insert of existing embedding ID: original\n",
      "Insert of existing embedding ID: generated\n"
     ]
    },
    {
     "name": "stdout",
     "output_type": "stream",
     "text": [
      "Topic: Learning to Say No with Confidence and Grace\n",
      "Similarity Score: 1.7861087322235107\n",
      "Processing example 277 of 500 \n"
     ]
    },
    {
     "name": "stderr",
     "output_type": "stream",
     "text": [
      "Add of existing embedding ID: original\n",
      "Add of existing embedding ID: generated\n",
      "Insert of existing embedding ID: original\n",
      "Insert of existing embedding ID: generated\n"
     ]
    },
    {
     "name": "stdout",
     "output_type": "stream",
     "text": [
      "Topic: Python for Engineers and Scientists\n",
      "Similarity Score: 1.9177237749099731\n",
      "Processing example 278 of 500 \n"
     ]
    },
    {
     "name": "stderr",
     "output_type": "stream",
     "text": [
      "Add of existing embedding ID: original\n",
      "Add of existing embedding ID: generated\n",
      "Insert of existing embedding ID: original\n",
      "Insert of existing embedding ID: generated\n"
     ]
    },
    {
     "name": "stdout",
     "output_type": "stream",
     "text": [
      "Topic: Puppet Essential Training\n",
      "Similarity Score: 1.6703344583511353\n",
      "Processing example 279 of 500 \n"
     ]
    },
    {
     "name": "stderr",
     "output_type": "stream",
     "text": [
      "Add of existing embedding ID: original\n",
      "Add of existing embedding ID: generated\n",
      "Insert of existing embedding ID: original\n",
      "Insert of existing embedding ID: generated\n"
     ]
    },
    {
     "name": "stdout",
     "output_type": "stream",
     "text": [
      "Topic: GitHub Actions for CI/CD\n",
      "Similarity Score: 1.884872317314148\n",
      "Processing example 280 of 500 \n"
     ]
    },
    {
     "name": "stderr",
     "output_type": "stream",
     "text": [
      "Add of existing embedding ID: original\n",
      "Add of existing embedding ID: generated\n",
      "Insert of existing embedding ID: original\n",
      "Insert of existing embedding ID: generated\n"
     ]
    },
    {
     "name": "stdout",
     "output_type": "stream",
     "text": [
      "Topic: LinkedIn Analytics for Creators\n",
      "Similarity Score: 1.5370012521743774\n",
      "Processing example 281 of 500 \n"
     ]
    },
    {
     "name": "stderr",
     "output_type": "stream",
     "text": [
      "Add of existing embedding ID: original\n",
      "Add of existing embedding ID: generated\n",
      "Insert of existing embedding ID: original\n",
      "Insert of existing embedding ID: generated\n"
     ]
    },
    {
     "name": "stdout",
     "output_type": "stream",
     "text": [
      "Topic: Learning Instagram\n",
      "Similarity Score: 1.9930198192596436\n",
      "Processing example 282 of 500 \n"
     ]
    },
    {
     "name": "stderr",
     "output_type": "stream",
     "text": [
      "Add of existing embedding ID: original\n",
      "Add of existing embedding ID: generated\n",
      "Insert of existing embedding ID: original\n",
      "Insert of existing embedding ID: generated\n"
     ]
    },
    {
     "name": "stdout",
     "output_type": "stream",
     "text": [
      "Topic: Inclusive Female Leadership\n",
      "Similarity Score: 1.7106112241744995\n",
      "Processing example 283 of 500 \n"
     ]
    },
    {
     "name": "stderr",
     "output_type": "stream",
     "text": [
      "Add of existing embedding ID: original\n",
      "Add of existing embedding ID: generated\n",
      "Insert of existing embedding ID: original\n",
      "Insert of existing embedding ID: generated\n"
     ]
    },
    {
     "name": "stdout",
     "output_type": "stream",
     "text": [
      "Topic: Learning MicroStation CONNECT Edition for Building Designers\n",
      "Similarity Score: 1.619573950767517\n",
      "Processing example 284 of 500 \n"
     ]
    },
    {
     "name": "stderr",
     "output_type": "stream",
     "text": [
      "Add of existing embedding ID: original\n",
      "Add of existing embedding ID: generated\n",
      "Insert of existing embedding ID: original\n",
      "Insert of existing embedding ID: generated\n"
     ]
    },
    {
     "name": "stdout",
     "output_type": "stream",
     "text": [
      "Topic: JavaScript Practice: Events\n",
      "Similarity Score: 1.8185808658599854\n",
      "Processing example 285 of 500 \n"
     ]
    },
    {
     "name": "stderr",
     "output_type": "stream",
     "text": [
      "Add of existing embedding ID: original\n",
      "Add of existing embedding ID: generated\n",
      "Insert of existing embedding ID: original\n",
      "Insert of existing embedding ID: generated\n"
     ]
    },
    {
     "name": "stdout",
     "output_type": "stream",
     "text": [
      "Topic: Go Practice: Error Handling\n",
      "Similarity Score: 1.9931575059890747\n",
      "Processing example 286 of 500 \n"
     ]
    },
    {
     "name": "stderr",
     "output_type": "stream",
     "text": [
      "Add of existing embedding ID: original\n",
      "Add of existing embedding ID: generated\n",
      "Insert of existing embedding ID: original\n",
      "Insert of existing embedding ID: generated\n"
     ]
    },
    {
     "name": "stdout",
     "output_type": "stream",
     "text": [
      "Topic: Azure AI Engineer Associate (AI-102) Cert Prep: Plan and Manage an Azure AI Solution (2023)\n",
      "Similarity Score: 1.6472846269607544\n",
      "Processing example 287 of 500 \n"
     ]
    },
    {
     "name": "stderr",
     "output_type": "stream",
     "text": [
      "Add of existing embedding ID: original\n",
      "Add of existing embedding ID: generated\n",
      "Insert of existing embedding ID: original\n",
      "Insert of existing embedding ID: generated\n"
     ]
    },
    {
     "name": "stdout",
     "output_type": "stream",
     "text": [
      "Topic: Production and System Capacity\n",
      "Similarity Score: 1.8586630821228027\n",
      "Processing example 288 of 500 \n"
     ]
    },
    {
     "name": "stderr",
     "output_type": "stream",
     "text": [
      "Add of existing embedding ID: original\n",
      "Add of existing embedding ID: generated\n",
      "Insert of existing embedding ID: original\n",
      "Insert of existing embedding ID: generated\n"
     ]
    },
    {
     "name": "stdout",
     "output_type": "stream",
     "text": [
      "Topic: Create Background Music Quickly with GarageBand\n",
      "Similarity Score: 1.882850170135498\n",
      "Processing example 289 of 500 \n"
     ]
    },
    {
     "name": "stderr",
     "output_type": "stream",
     "text": [
      "Add of existing embedding ID: original\n",
      "Add of existing embedding ID: generated\n",
      "Insert of existing embedding ID: original\n",
      "Insert of existing embedding ID: generated\n"
     ]
    },
    {
     "name": "stdout",
     "output_type": "stream",
     "text": [
      "Topic: OpenAI API: Speech\n",
      "Similarity Score: 1.6899617910385132\n",
      "Processing example 290 of 500 \n"
     ]
    },
    {
     "name": "stderr",
     "output_type": "stream",
     "text": [
      "Add of existing embedding ID: original\n",
      "Add of existing embedding ID: generated\n",
      "Insert of existing embedding ID: original\n",
      "Insert of existing embedding ID: generated\n"
     ]
    },
    {
     "name": "stdout",
     "output_type": "stream",
     "text": [
      "Topic: Learning InCopy\n",
      "Similarity Score: 1.7533068656921387\n",
      "Processing example 291 of 500 \n"
     ]
    },
    {
     "name": "stderr",
     "output_type": "stream",
     "text": [
      "Add of existing embedding ID: original\n",
      "Add of existing embedding ID: generated\n",
      "Insert of existing embedding ID: original\n",
      "Insert of existing embedding ID: generated\n"
     ]
    },
    {
     "name": "stdout",
     "output_type": "stream",
     "text": [
      "Topic: DIY Relief: Massage Self-Care\n",
      "Similarity Score: 1.888970971107483\n",
      "Processing example 292 of 500 \n"
     ]
    },
    {
     "name": "stderr",
     "output_type": "stream",
     "text": [
      "Add of existing embedding ID: original\n",
      "Add of existing embedding ID: generated\n",
      "Insert of existing embedding ID: original\n",
      "Insert of existing embedding ID: generated\n"
     ]
    },
    {
     "name": "stdout",
     "output_type": "stream",
     "text": [
      "Topic: Introduction to Composite Manufacturing\n",
      "Similarity Score: 1.6922202110290527\n",
      "Processing example 293 of 500 \n"
     ]
    },
    {
     "name": "stderr",
     "output_type": "stream",
     "text": [
      "Add of existing embedding ID: original\n",
      "Add of existing embedding ID: generated\n",
      "Insert of existing embedding ID: original\n",
      "Insert of existing embedding ID: generated\n"
     ]
    },
    {
     "name": "stdout",
     "output_type": "stream",
     "text": [
      "Topic: Design Your First Infographic\n",
      "Similarity Score: 1.6638269424438477\n",
      "Processing example 294 of 500 \n"
     ]
    },
    {
     "name": "stderr",
     "output_type": "stream",
     "text": [
      "Add of existing embedding ID: original\n",
      "Add of existing embedding ID: generated\n",
      "Insert of existing embedding ID: original\n",
      "Insert of existing embedding ID: generated\n"
     ]
    },
    {
     "name": "stdout",
     "output_type": "stream",
     "text": [
      "Topic: Earn Customer Trust and Cultivate Lasting Relationships\n",
      "Similarity Score: 1.7001893520355225\n",
      "Processing example 295 of 500 \n"
     ]
    },
    {
     "name": "stderr",
     "output_type": "stream",
     "text": [
      "Add of existing embedding ID: original\n",
      "Add of existing embedding ID: generated\n",
      "Insert of existing embedding ID: original\n",
      "Insert of existing embedding ID: generated\n"
     ]
    },
    {
     "name": "stdout",
     "output_type": "stream",
     "text": [
      "Topic: Creating and Giving Business Presentations\n",
      "Similarity Score: 1.555332064628601\n",
      "Processing example 296 of 500 \n"
     ]
    },
    {
     "name": "stderr",
     "output_type": "stream",
     "text": [
      "Add of existing embedding ID: original\n",
      "Add of existing embedding ID: generated\n",
      "Insert of existing embedding ID: original\n",
      "Insert of existing embedding ID: generated\n"
     ]
    },
    {
     "name": "stdout",
     "output_type": "stream",
     "text": [
      "Topic: Learning COBIT\n",
      "Similarity Score: 1.5661743879318237\n",
      "Processing example 297 of 500 \n"
     ]
    },
    {
     "name": "stderr",
     "output_type": "stream",
     "text": [
      "Add of existing embedding ID: original\n",
      "Add of existing embedding ID: generated\n",
      "Insert of existing embedding ID: original\n",
      "Insert of existing embedding ID: generated\n"
     ]
    },
    {
     "name": "stdout",
     "output_type": "stream",
     "text": [
      "Topic: Azure AI Engineer Associate (AI-102) Cert Prep: Plan and Manage an Azure AI Solution\n",
      "Similarity Score: 1.6937094926834106\n",
      "Processing example 298 of 500 \n"
     ]
    },
    {
     "name": "stderr",
     "output_type": "stream",
     "text": [
      "Add of existing embedding ID: original\n",
      "Add of existing embedding ID: generated\n",
      "Insert of existing embedding ID: original\n",
      "Insert of existing embedding ID: generated\n"
     ]
    },
    {
     "name": "stdout",
     "output_type": "stream",
     "text": [
      "Topic: Excel for Business Analysts\n",
      "Similarity Score: 1.8698750734329224\n",
      "Processing example 299 of 500 \n"
     ]
    },
    {
     "name": "stderr",
     "output_type": "stream",
     "text": [
      "Add of existing embedding ID: original\n",
      "Add of existing embedding ID: generated\n",
      "Insert of existing embedding ID: original\n",
      "Insert of existing embedding ID: generated\n"
     ]
    },
    {
     "name": "stdout",
     "output_type": "stream",
     "text": [
      "Topic: Data Quality: Core Concepts\n",
      "Similarity Score: 1.5290979146957397\n",
      "Processing example 300 of 500 \n"
     ]
    },
    {
     "name": "stderr",
     "output_type": "stream",
     "text": [
      "Add of existing embedding ID: original\n",
      "Add of existing embedding ID: generated\n",
      "Insert of existing embedding ID: original\n",
      "Insert of existing embedding ID: generated\n"
     ]
    },
    {
     "name": "stdout",
     "output_type": "stream",
     "text": [
      "Topic: Professional Networking for Career Starters\n",
      "Similarity Score: 1.750016450881958\n",
      "Processing example 301 of 500 \n"
     ]
    },
    {
     "name": "stderr",
     "output_type": "stream",
     "text": [
      "Add of existing embedding ID: original\n",
      "Add of existing embedding ID: generated\n",
      "Insert of existing embedding ID: original\n",
      "Insert of existing embedding ID: generated\n"
     ]
    },
    {
     "name": "stdout",
     "output_type": "stream",
     "text": [
      "Topic: Building Change Capability for Managers\n",
      "Similarity Score: 1.7683075666427612\n",
      "Processing example 302 of 500 \n"
     ]
    },
    {
     "name": "stderr",
     "output_type": "stream",
     "text": [
      "Add of existing embedding ID: original\n",
      "Add of existing embedding ID: generated\n",
      "Insert of existing embedding ID: original\n",
      "Insert of existing embedding ID: generated\n"
     ]
    },
    {
     "name": "stdout",
     "output_type": "stream",
     "text": [
      "Topic: Responsible AI: Principles and Practical Applications\n",
      "Similarity Score: 1.2754089832305908\n",
      "Processing example 303 of 500 \n"
     ]
    },
    {
     "name": "stderr",
     "output_type": "stream",
     "text": [
      "Add of existing embedding ID: original\n",
      "Add of existing embedding ID: generated\n",
      "Insert of existing embedding ID: original\n",
      "Insert of existing embedding ID: generated\n"
     ]
    },
    {
     "name": "stdout",
     "output_type": "stream",
     "text": [
      "Topic: Software Architecture: Breaking a Monolith into Microservices\n",
      "Similarity Score: 1.8399395942687988\n",
      "Processing example 304 of 500 \n"
     ]
    },
    {
     "name": "stderr",
     "output_type": "stream",
     "text": [
      "Add of existing embedding ID: original\n",
      "Add of existing embedding ID: generated\n",
      "Insert of existing embedding ID: original\n",
      "Insert of existing embedding ID: generated\n"
     ]
    },
    {
     "name": "stdout",
     "output_type": "stream",
     "text": [
      "Topic: Five Biggest Mistakes of Cybersecurity Programs\n",
      "Similarity Score: 1.3007208108901978\n",
      "Processing example 305 of 500 \n"
     ]
    },
    {
     "name": "stderr",
     "output_type": "stream",
     "text": [
      "Add of existing embedding ID: original\n",
      "Add of existing embedding ID: generated\n",
      "Insert of existing embedding ID: original\n",
      "Insert of existing embedding ID: generated\n"
     ]
    },
    {
     "name": "stdout",
     "output_type": "stream",
     "text": [
      "Topic: Learning MASSIVE\n",
      "Similarity Score: 1.9528405666351318\n",
      "Processing example 306 of 500 \n"
     ]
    },
    {
     "name": "stderr",
     "output_type": "stream",
     "text": [
      "Add of existing embedding ID: original\n",
      "Add of existing embedding ID: generated\n",
      "Insert of existing embedding ID: original\n",
      "Insert of existing embedding ID: generated\n"
     ]
    },
    {
     "name": "stdout",
     "output_type": "stream",
     "text": [
      "Topic: CIPP/US Cert Prep: 1 U.S. Privacy Environment\n",
      "Similarity Score: 1.5002021789550781\n",
      "Processing example 307 of 500 \n"
     ]
    },
    {
     "name": "stderr",
     "output_type": "stream",
     "text": [
      "Add of existing embedding ID: original\n",
      "Add of existing embedding ID: generated\n",
      "Insert of existing embedding ID: original\n",
      "Insert of existing embedding ID: generated\n"
     ]
    },
    {
     "name": "stdout",
     "output_type": "stream",
     "text": [
      "Topic: How to Inspire and Develop Your Direct Reports\n",
      "Similarity Score: 1.8690955638885498\n",
      "Processing example 308 of 500 \n"
     ]
    },
    {
     "name": "stderr",
     "output_type": "stream",
     "text": [
      "Add of existing embedding ID: original\n",
      "Add of existing embedding ID: generated\n",
      "Insert of existing embedding ID: original\n",
      "Insert of existing embedding ID: generated\n"
     ]
    },
    {
     "name": "stdout",
     "output_type": "stream",
     "text": [
      "Topic: Learning KONTAKT 5\n",
      "Similarity Score: 1.9616810083389282\n",
      "Processing example 309 of 500 \n"
     ]
    },
    {
     "name": "stderr",
     "output_type": "stream",
     "text": [
      "Add of existing embedding ID: original\n",
      "Add of existing embedding ID: generated\n",
      "Insert of existing embedding ID: original\n",
      "Insert of existing embedding ID: generated\n"
     ]
    },
    {
     "name": "stdout",
     "output_type": "stream",
     "text": [
      "Topic: A Navy SEAL's Surprising Key to Building Unstoppable Teams: Caring\n",
      "Similarity Score: 1.8377667665481567\n",
      "Processing example 310 of 500 \n"
     ]
    },
    {
     "name": "stderr",
     "output_type": "stream",
     "text": [
      "Add of existing embedding ID: original\n",
      "Add of existing embedding ID: generated\n",
      "Insert of existing embedding ID: original\n",
      "Insert of existing embedding ID: generated\n"
     ]
    },
    {
     "name": "stdout",
     "output_type": "stream",
     "text": [
      "Topic: AWS: Cost and Performance Optimization\n",
      "Similarity Score: 1.7642563581466675\n",
      "Processing example 311 of 500 \n"
     ]
    },
    {
     "name": "stderr",
     "output_type": "stream",
     "text": [
      "Add of existing embedding ID: original\n",
      "Add of existing embedding ID: generated\n",
      "Insert of existing embedding ID: original\n",
      "Insert of existing embedding ID: generated\n"
     ]
    },
    {
     "name": "stdout",
     "output_type": "stream",
     "text": [
      "Topic: Learning MotionBuilder\n",
      "Similarity Score: 1.7945048809051514\n",
      "Processing example 312 of 500 \n"
     ]
    },
    {
     "name": "stderr",
     "output_type": "stream",
     "text": [
      "Add of existing embedding ID: original\n",
      "Add of existing embedding ID: generated\n",
      "Insert of existing embedding ID: original\n",
      "Insert of existing embedding ID: generated\n"
     ]
    },
    {
     "name": "stdout",
     "output_type": "stream",
     "text": [
      "Topic: AWS Administration: Migrating Virtual Machines\n",
      "Similarity Score: 1.8376922607421875\n",
      "Processing example 313 of 500 \n"
     ]
    },
    {
     "name": "stderr",
     "output_type": "stream",
     "text": [
      "Add of existing embedding ID: original\n",
      "Add of existing embedding ID: generated\n",
      "Insert of existing embedding ID: original\n",
      "Insert of existing embedding ID: generated\n"
     ]
    },
    {
     "name": "stdout",
     "output_type": "stream",
     "text": [
      "Topic: Developing Executive Presence\n",
      "Similarity Score: 1.884864091873169\n",
      "Processing example 314 of 500 \n"
     ]
    },
    {
     "name": "stderr",
     "output_type": "stream",
     "text": [
      "Add of existing embedding ID: original\n",
      "Add of existing embedding ID: generated\n",
      "Insert of existing embedding ID: original\n",
      "Insert of existing embedding ID: generated\n"
     ]
    },
    {
     "name": "stdout",
     "output_type": "stream",
     "text": [
      "Topic: Blender: Vehicle Modeling\n",
      "Similarity Score: 1.7613089084625244\n",
      "Processing example 315 of 500 \n"
     ]
    },
    {
     "name": "stderr",
     "output_type": "stream",
     "text": [
      "Add of existing embedding ID: original\n",
      "Add of existing embedding ID: generated\n",
      "Insert of existing embedding ID: original\n",
      "Insert of existing embedding ID: generated\n"
     ]
    },
    {
     "name": "stdout",
     "output_type": "stream",
     "text": [
      "Topic: Learning Boris Continuum 2020\n",
      "Similarity Score: 1.7338957786560059\n",
      "Processing example 316 of 500 \n"
     ]
    },
    {
     "name": "stderr",
     "output_type": "stream",
     "text": [
      "Add of existing embedding ID: original\n",
      "Add of existing embedding ID: generated\n",
      "Insert of existing embedding ID: original\n",
      "Insert of existing embedding ID: generated\n"
     ]
    },
    {
     "name": "stdout",
     "output_type": "stream",
     "text": [
      "Topic: Sharpen Your Logic\n",
      "Similarity Score: 1.7516851425170898\n",
      "Processing example 317 of 500 \n"
     ]
    },
    {
     "name": "stderr",
     "output_type": "stream",
     "text": [
      "Add of existing embedding ID: original\n",
      "Add of existing embedding ID: generated\n",
      "Insert of existing embedding ID: original\n",
      "Insert of existing embedding ID: generated\n"
     ]
    },
    {
     "name": "stdout",
     "output_type": "stream",
     "text": [
      "Topic: CSS: Combining Grid and Flexbox\n",
      "Similarity Score: 1.8279364109039307\n",
      "Processing example 318 of 500 \n"
     ]
    },
    {
     "name": "stderr",
     "output_type": "stream",
     "text": [
      "Add of existing embedding ID: original\n",
      "Add of existing embedding ID: generated\n",
      "Insert of existing embedding ID: original\n",
      "Insert of existing embedding ID: generated\n"
     ]
    },
    {
     "name": "stdout",
     "output_type": "stream",
     "text": [
      "Topic: How to Evaluate a Job Offer's Benefits Package\n",
      "Similarity Score: 1.7890076637268066\n",
      "Processing example 319 of 500 \n"
     ]
    },
    {
     "name": "stderr",
     "output_type": "stream",
     "text": [
      "Add of existing embedding ID: original\n",
      "Add of existing embedding ID: generated\n",
      "Insert of existing embedding ID: original\n",
      "Insert of existing embedding ID: generated\n"
     ]
    },
    {
     "name": "stdout",
     "output_type": "stream",
     "text": [
      "Topic: LLMs for Enterprise: Technical Protocols, Considerations, and Data Privacy\n",
      "Similarity Score: 1.7646068334579468\n",
      "Processing example 320 of 500 \n"
     ]
    },
    {
     "name": "stderr",
     "output_type": "stream",
     "text": [
      "Add of existing embedding ID: original\n",
      "Add of existing embedding ID: generated\n",
      "Insert of existing embedding ID: original\n",
      "Insert of existing embedding ID: generated\n"
     ]
    },
    {
     "name": "stdout",
     "output_type": "stream",
     "text": [
      "Topic: S/4 Finance: Fiori Accounts Receivable Analytics\n",
      "Similarity Score: 1.892642617225647\n",
      "Processing example 321 of 500 \n"
     ]
    },
    {
     "name": "stderr",
     "output_type": "stream",
     "text": [
      "Add of existing embedding ID: original\n",
      "Add of existing embedding ID: generated\n",
      "Insert of existing embedding ID: original\n",
      "Insert of existing embedding ID: generated\n"
     ]
    },
    {
     "name": "stdout",
     "output_type": "stream",
     "text": [
      "Topic: Best Practices for New People Leaders\n",
      "Similarity Score: 1.8998242616653442\n",
      "Processing example 322 of 500 \n"
     ]
    },
    {
     "name": "stderr",
     "output_type": "stream",
     "text": [
      "Add of existing embedding ID: original\n",
      "Add of existing embedding ID: generated\n",
      "Insert of existing embedding ID: original\n",
      "Insert of existing embedding ID: generated\n"
     ]
    },
    {
     "name": "stdout",
     "output_type": "stream",
     "text": [
      "Topic: Smarter Workflows with InDesign and Word\n",
      "Similarity Score: 1.6110363006591797\n",
      "Processing example 323 of 500 \n"
     ]
    },
    {
     "name": "stderr",
     "output_type": "stream",
     "text": [
      "Add of existing embedding ID: original\n",
      "Add of existing embedding ID: generated\n",
      "Insert of existing embedding ID: original\n",
      "Insert of existing embedding ID: generated\n"
     ]
    },
    {
     "name": "stdout",
     "output_type": "stream",
     "text": [
      "Topic: Strategic Thinking for Growth Marketers\n",
      "Similarity Score: 1.7441169023513794\n",
      "Processing example 324 of 500 \n"
     ]
    },
    {
     "name": "stderr",
     "output_type": "stream",
     "text": [
      "Add of existing embedding ID: original\n",
      "Add of existing embedding ID: generated\n",
      "Insert of existing embedding ID: original\n",
      "Insert of existing embedding ID: generated\n"
     ]
    },
    {
     "name": "stdout",
     "output_type": "stream",
     "text": [
      "Topic: Build an AI Application with React and AWS SageMaker\n",
      "Similarity Score: 1.7110480070114136\n",
      "Processing example 325 of 500 \n"
     ]
    },
    {
     "name": "stderr",
     "output_type": "stream",
     "text": [
      "Add of existing embedding ID: original\n",
      "Add of existing embedding ID: generated\n",
      "Insert of existing embedding ID: original\n",
      "Insert of existing embedding ID: generated\n"
     ]
    },
    {
     "name": "stdout",
     "output_type": "stream",
     "text": [
      "Topic: Backgrounder: Leadership Conversations with Different Personalities\n",
      "Similarity Score: 1.5873737335205078\n",
      "Processing example 326 of 500 \n"
     ]
    },
    {
     "name": "stderr",
     "output_type": "stream",
     "text": [
      "Add of existing embedding ID: original\n",
      "Add of existing embedding ID: generated\n",
      "Insert of existing embedding ID: original\n",
      "Insert of existing embedding ID: generated\n"
     ]
    },
    {
     "name": "stdout",
     "output_type": "stream",
     "text": [
      "Topic: Storytelling Tips for Learning and Development Leaders\n",
      "Similarity Score: 1.650782823562622\n",
      "Processing example 327 of 500 \n"
     ]
    },
    {
     "name": "stderr",
     "output_type": "stream",
     "text": [
      "Add of existing embedding ID: original\n",
      "Add of existing embedding ID: generated\n",
      "Insert of existing embedding ID: original\n",
      "Insert of existing embedding ID: generated\n"
     ]
    },
    {
     "name": "stdout",
     "output_type": "stream",
     "text": [
      "Topic: Leaders: Five Tips for Establishing Team Processes\n",
      "Similarity Score: 1.6466643810272217\n",
      "Processing example 328 of 500 \n"
     ]
    },
    {
     "name": "stderr",
     "output_type": "stream",
     "text": [
      "Add of existing embedding ID: original\n",
      "Add of existing embedding ID: generated\n",
      "Insert of existing embedding ID: original\n",
      "Insert of existing embedding ID: generated\n"
     ]
    },
    {
     "name": "stdout",
     "output_type": "stream",
     "text": [
      "Topic: Creative Inspirations: Rick Morris, Motion Graphics Designer\n",
      "Similarity Score: 2.050917625427246\n",
      "Processing example 329 of 500 \n"
     ]
    },
    {
     "name": "stderr",
     "output_type": "stream",
     "text": [
      "Add of existing embedding ID: original\n",
      "Add of existing embedding ID: generated\n",
      "Insert of existing embedding ID: original\n",
      "Insert of existing embedding ID: generated\n"
     ]
    },
    {
     "name": "stdout",
     "output_type": "stream",
     "text": [
      "Topic: Humor: A Leaderâ€™s Guide to Connection, Safety and Trust\n",
      "Similarity Score: 1.6399825811386108\n",
      "Processing example 330 of 500 \n"
     ]
    },
    {
     "name": "stderr",
     "output_type": "stream",
     "text": [
      "Add of existing embedding ID: original\n",
      "Add of existing embedding ID: generated\n",
      "Insert of existing embedding ID: original\n",
      "Insert of existing embedding ID: generated\n"
     ]
    },
    {
     "name": "stdout",
     "output_type": "stream",
     "text": [
      "Topic: Debugging C Code\n",
      "Similarity Score: 1.8964179754257202\n",
      "Processing example 331 of 500 \n"
     ]
    },
    {
     "name": "stderr",
     "output_type": "stream",
     "text": [
      "Add of existing embedding ID: original\n",
      "Add of existing embedding ID: generated\n",
      "Insert of existing embedding ID: original\n",
      "Insert of existing embedding ID: generated\n"
     ]
    },
    {
     "name": "stdout",
     "output_type": "stream",
     "text": [
      "Topic: Android Development Essential Training: 1 Your First App\n",
      "Similarity Score: 1.520474910736084\n",
      "Processing example 332 of 500 \n"
     ]
    },
    {
     "name": "stderr",
     "output_type": "stream",
     "text": [
      "Add of existing embedding ID: original\n",
      "Add of existing embedding ID: generated\n",
      "Insert of existing embedding ID: original\n",
      "Insert of existing embedding ID: generated\n"
     ]
    },
    {
     "name": "stdout",
     "output_type": "stream",
     "text": [
      "Topic: Rhino and V-Ray: Product Design Rendering\n",
      "Similarity Score: 1.6462844610214233\n",
      "Processing example 333 of 500 \n"
     ]
    },
    {
     "name": "stderr",
     "output_type": "stream",
     "text": [
      "Add of existing embedding ID: original\n",
      "Add of existing embedding ID: generated\n",
      "Insert of existing embedding ID: original\n",
      "Insert of existing embedding ID: generated\n"
     ]
    },
    {
     "name": "stdout",
     "output_type": "stream",
     "text": [
      "Topic: Databases for Node.js Developers\n",
      "Similarity Score: 1.8535836935043335\n",
      "Processing example 334 of 500 \n"
     ]
    },
    {
     "name": "stderr",
     "output_type": "stream",
     "text": [
      "Add of existing embedding ID: original\n",
      "Add of existing embedding ID: generated\n",
      "Insert of existing embedding ID: original\n",
      "Insert of existing embedding ID: generated\n"
     ]
    },
    {
     "name": "stdout",
     "output_type": "stream",
     "text": [
      "Topic: Cert Prep: Word Expert - Microsoft Office Specialist for Microsoft 365 Apps\n",
      "Similarity Score: 1.7414206266403198\n",
      "Processing example 335 of 500 \n"
     ]
    },
    {
     "name": "stderr",
     "output_type": "stream",
     "text": [
      "Add of existing embedding ID: original\n",
      "Add of existing embedding ID: generated\n",
      "Insert of existing embedding ID: original\n",
      "Insert of existing embedding ID: generated\n"
     ]
    },
    {
     "name": "stdout",
     "output_type": "stream",
     "text": [
      "Topic: Finale Essential Training\n",
      "Similarity Score: 1.8932029008865356\n",
      "Processing example 336 of 500 \n"
     ]
    },
    {
     "name": "stderr",
     "output_type": "stream",
     "text": [
      "Add of existing embedding ID: original\n",
      "Add of existing embedding ID: generated\n",
      "Insert of existing embedding ID: original\n",
      "Insert of existing embedding ID: generated\n"
     ]
    },
    {
     "name": "stdout",
     "output_type": "stream",
     "text": [
      "Topic: Ethical Hacking: Sniffers\n",
      "Similarity Score: 1.635399580001831\n",
      "Processing example 337 of 500 \n"
     ]
    },
    {
     "name": "stderr",
     "output_type": "stream",
     "text": [
      "Add of existing embedding ID: original\n",
      "Add of existing embedding ID: generated\n",
      "Insert of existing embedding ID: original\n",
      "Insert of existing embedding ID: generated\n"
     ]
    },
    {
     "name": "stdout",
     "output_type": "stream",
     "text": [
      "Topic: Learning Cinema 4D S22\n",
      "Similarity Score: 1.5172851085662842\n",
      "Processing example 338 of 500 \n"
     ]
    },
    {
     "name": "stderr",
     "output_type": "stream",
     "text": [
      "Add of existing embedding ID: original\n",
      "Add of existing embedding ID: generated\n",
      "Insert of existing embedding ID: original\n",
      "Insert of existing embedding ID: generated\n"
     ]
    },
    {
     "name": "stdout",
     "output_type": "stream",
     "text": [
      "Topic: Documentary Photo Techniques with Photoshop and After Effects\n",
      "Similarity Score: 1.6271278858184814\n",
      "Processing example 339 of 500 \n"
     ]
    },
    {
     "name": "stderr",
     "output_type": "stream",
     "text": [
      "Add of existing embedding ID: original\n",
      "Add of existing embedding ID: generated\n",
      "Insert of existing embedding ID: original\n",
      "Insert of existing embedding ID: generated\n"
     ]
    },
    {
     "name": "stdout",
     "output_type": "stream",
     "text": [
      "Topic: Hypersyndication: Maximizing Your Web Video and Podcast Audience\n",
      "Similarity Score: 1.6587847471237183\n",
      "Processing example 340 of 500 \n"
     ]
    },
    {
     "name": "stderr",
     "output_type": "stream",
     "text": [
      "Add of existing embedding ID: original\n",
      "Add of existing embedding ID: generated\n",
      "Insert of existing embedding ID: original\n",
      "Insert of existing embedding ID: generated\n"
     ]
    },
    {
     "name": "stdout",
     "output_type": "stream",
     "text": [
      "Topic: Using Data in Financial Analysis\n",
      "Similarity Score: 1.7848005294799805\n",
      "Processing example 341 of 500 \n"
     ]
    },
    {
     "name": "stderr",
     "output_type": "stream",
     "text": [
      "Add of existing embedding ID: original\n",
      "Add of existing embedding ID: generated\n",
      "Insert of existing embedding ID: original\n",
      "Insert of existing embedding ID: generated\n"
     ]
    },
    {
     "name": "stdout",
     "output_type": "stream",
     "text": [
      "Topic: Using Microsoft SharePoint Syntex for AI Document Management\n",
      "Similarity Score: 1.6547192335128784\n",
      "Processing example 342 of 500 \n"
     ]
    },
    {
     "name": "stderr",
     "output_type": "stream",
     "text": [
      "Add of existing embedding ID: original\n",
      "Add of existing embedding ID: generated\n",
      "Insert of existing embedding ID: original\n",
      "Insert of existing embedding ID: generated\n"
     ]
    },
    {
     "name": "stdout",
     "output_type": "stream",
     "text": [
      "Topic: Prezi Essential Training\n",
      "Similarity Score: 1.9848920106887817\n",
      "Processing example 343 of 500 \n"
     ]
    },
    {
     "name": "stderr",
     "output_type": "stream",
     "text": [
      "Add of existing embedding ID: original\n",
      "Add of existing embedding ID: generated\n",
      "Insert of existing embedding ID: original\n",
      "Insert of existing embedding ID: generated\n"
     ]
    },
    {
     "name": "stdout",
     "output_type": "stream",
     "text": [
      "Topic: 3ds Max to Unreal Engine Workflow and Troubleshooting\n",
      "Similarity Score: 1.7528955936431885\n",
      "Processing example 344 of 500 \n"
     ]
    },
    {
     "name": "stderr",
     "output_type": "stream",
     "text": [
      "Add of existing embedding ID: original\n",
      "Add of existing embedding ID: generated\n",
      "Insert of existing embedding ID: original\n",
      "Insert of existing embedding ID: generated\n"
     ]
    },
    {
     "name": "stdout",
     "output_type": "stream",
     "text": [
      "Topic: Uncovering Your Authentic Self at Work\n",
      "Similarity Score: 1.5060782432556152\n",
      "Processing example 345 of 500 \n"
     ]
    },
    {
     "name": "stderr",
     "output_type": "stream",
     "text": [
      "Add of existing embedding ID: original\n",
      "Add of existing embedding ID: generated\n",
      "Insert of existing embedding ID: original\n",
      "Insert of existing embedding ID: generated\n"
     ]
    },
    {
     "name": "stdout",
     "output_type": "stream",
     "text": [
      "Topic: Rhino 7 Essential Training\n",
      "Similarity Score: 1.7163275480270386\n",
      "Processing example 346 of 500 \n"
     ]
    },
    {
     "name": "stderr",
     "output_type": "stream",
     "text": [
      "Add of existing embedding ID: original\n",
      "Add of existing embedding ID: generated\n",
      "Insert of existing embedding ID: original\n",
      "Insert of existing embedding ID: generated\n"
     ]
    },
    {
     "name": "stdout",
     "output_type": "stream",
     "text": [
      "Topic: PHP Techniques: Pagination\n",
      "Similarity Score: 2.0504682064056396\n",
      "Processing example 347 of 500 \n"
     ]
    },
    {
     "name": "stderr",
     "output_type": "stream",
     "text": [
      "Add of existing embedding ID: original\n",
      "Add of existing embedding ID: generated\n",
      "Insert of existing embedding ID: original\n",
      "Insert of existing embedding ID: generated\n"
     ]
    },
    {
     "name": "stdout",
     "output_type": "stream",
     "text": [
      "Topic: Developing Mental Toughness for Leadership\n",
      "Similarity Score: 1.918682336807251\n",
      "Processing example 348 of 500 \n"
     ]
    },
    {
     "name": "stderr",
     "output_type": "stream",
     "text": [
      "Add of existing embedding ID: original\n",
      "Add of existing embedding ID: generated\n",
      "Insert of existing embedding ID: original\n",
      "Insert of existing embedding ID: generated\n"
     ]
    },
    {
     "name": "stdout",
     "output_type": "stream",
     "text": [
      "Topic: Understanding Zero Trust\n",
      "Similarity Score: 1.660952091217041\n",
      "Processing example 349 of 500 \n"
     ]
    },
    {
     "name": "stderr",
     "output_type": "stream",
     "text": [
      "Add of existing embedding ID: original\n",
      "Add of existing embedding ID: generated\n",
      "Insert of existing embedding ID: original\n",
      "Insert of existing embedding ID: generated\n"
     ]
    },
    {
     "name": "stdout",
     "output_type": "stream",
     "text": [
      "Topic: TypeScript Design Patterns\n",
      "Similarity Score: 1.8626664876937866\n",
      "Processing example 350 of 500 \n"
     ]
    },
    {
     "name": "stderr",
     "output_type": "stream",
     "text": [
      "Add of existing embedding ID: original\n",
      "Add of existing embedding ID: generated\n",
      "Insert of existing embedding ID: original\n",
      "Insert of existing embedding ID: generated\n"
     ]
    },
    {
     "name": "stdout",
     "output_type": "stream",
     "text": [
      "Topic: Contracting for Creatives\n",
      "Similarity Score: 1.4189732074737549\n",
      "Processing example 351 of 500 \n"
     ]
    },
    {
     "name": "stderr",
     "output_type": "stream",
     "text": [
      "Add of existing embedding ID: original\n",
      "Add of existing embedding ID: generated\n",
      "Insert of existing embedding ID: original\n",
      "Insert of existing embedding ID: generated\n"
     ]
    },
    {
     "name": "stdout",
     "output_type": "stream",
     "text": [
      "Topic: Visualizing Your Leadership Journey\n",
      "Similarity Score: 1.5520325899124146\n",
      "Processing example 352 of 500 \n"
     ]
    },
    {
     "name": "stderr",
     "output_type": "stream",
     "text": [
      "Add of existing embedding ID: original\n",
      "Add of existing embedding ID: generated\n",
      "Insert of existing embedding ID: original\n",
      "Insert of existing embedding ID: generated\n"
     ]
    },
    {
     "name": "stdout",
     "output_type": "stream",
     "text": [
      "Topic: Cinema 4D R18 Essential Training: Product Visualization and Design\n",
      "Similarity Score: 1.624799370765686\n",
      "Processing example 353 of 500 \n"
     ]
    },
    {
     "name": "stderr",
     "output_type": "stream",
     "text": [
      "Add of existing embedding ID: original\n",
      "Add of existing embedding ID: generated\n",
      "Insert of existing embedding ID: original\n",
      "Insert of existing embedding ID: generated\n"
     ]
    },
    {
     "name": "stdout",
     "output_type": "stream",
     "text": [
      "Topic: Writing with Commonly Confused Words\n",
      "Similarity Score: 2.020941734313965\n",
      "Processing example 354 of 500 \n"
     ]
    },
    {
     "name": "stderr",
     "output_type": "stream",
     "text": [
      "Add of existing embedding ID: original\n",
      "Add of existing embedding ID: generated\n",
      "Insert of existing embedding ID: original\n",
      "Insert of existing embedding ID: generated\n"
     ]
    },
    {
     "name": "stdout",
     "output_type": "stream",
     "text": [
      "Topic: Meditations to Change Your Brain\n",
      "Similarity Score: 1.9488065242767334\n",
      "Processing example 355 of 500 \n"
     ]
    },
    {
     "name": "stderr",
     "output_type": "stream",
     "text": [
      "Add of existing embedding ID: original\n",
      "Add of existing embedding ID: generated\n",
      "Insert of existing embedding ID: original\n",
      "Insert of existing embedding ID: generated\n"
     ]
    },
    {
     "name": "stdout",
     "output_type": "stream",
     "text": [
      "Topic: Inside Sales\n",
      "Similarity Score: 1.4932706356048584\n",
      "Processing example 356 of 500 \n"
     ]
    },
    {
     "name": "stderr",
     "output_type": "stream",
     "text": [
      "Add of existing embedding ID: original\n",
      "Add of existing embedding ID: generated\n",
      "Insert of existing embedding ID: original\n",
      "Insert of existing embedding ID: generated\n"
     ]
    },
    {
     "name": "stdout",
     "output_type": "stream",
     "text": [
      "Topic: On-the-Spot Business Headshots\n",
      "Similarity Score: 1.5891824960708618\n",
      "Processing example 357 of 500 \n"
     ]
    },
    {
     "name": "stderr",
     "output_type": "stream",
     "text": [
      "Add of existing embedding ID: original\n",
      "Add of existing embedding ID: generated\n",
      "Insert of existing embedding ID: original\n",
      "Insert of existing embedding ID: generated\n"
     ]
    },
    {
     "name": "stdout",
     "output_type": "stream",
     "text": [
      "Topic: B2B Marketing on LinkedIn\n",
      "Similarity Score: 1.7688524723052979\n",
      "Processing example 358 of 500 \n"
     ]
    },
    {
     "name": "stderr",
     "output_type": "stream",
     "text": [
      "Add of existing embedding ID: original\n",
      "Add of existing embedding ID: generated\n",
      "Insert of existing embedding ID: original\n",
      "Insert of existing embedding ID: generated\n"
     ]
    },
    {
     "name": "stdout",
     "output_type": "stream",
     "text": [
      "Topic: Nano Tips for Avoiding Leadership Missteps With Ashley Herd\n",
      "Similarity Score: 1.8150123357772827\n",
      "Processing example 359 of 500 \n"
     ]
    },
    {
     "name": "stderr",
     "output_type": "stream",
     "text": [
      "Add of existing embedding ID: original\n",
      "Add of existing embedding ID: generated\n",
      "Insert of existing embedding ID: original\n",
      "Insert of existing embedding ID: generated\n"
     ]
    },
    {
     "name": "stdout",
     "output_type": "stream",
     "text": [
      "Topic: CCSP Cert Prep: 5 Cloud Security Operations Audio Review\n",
      "Similarity Score: 1.5925127267837524\n",
      "Processing example 360 of 500 \n"
     ]
    },
    {
     "name": "stderr",
     "output_type": "stream",
     "text": [
      "Add of existing embedding ID: original\n",
      "Add of existing embedding ID: generated\n",
      "Insert of existing embedding ID: original\n",
      "Insert of existing embedding ID: generated\n"
     ]
    },
    {
     "name": "stdout",
     "output_type": "stream",
     "text": [
      "Topic: Rust for Data Engineering\n",
      "Similarity Score: 1.852373719215393\n",
      "Processing example 361 of 500 \n"
     ]
    },
    {
     "name": "stderr",
     "output_type": "stream",
     "text": [
      "Add of existing embedding ID: original\n",
      "Add of existing embedding ID: generated\n",
      "Insert of existing embedding ID: original\n",
      "Insert of existing embedding ID: generated\n"
     ]
    },
    {
     "name": "stdout",
     "output_type": "stream",
     "text": [
      "Topic: Facilitating a Collaborative Strategic Planning Session\n",
      "Similarity Score: 1.6758294105529785\n",
      "Processing example 362 of 500 \n"
     ]
    },
    {
     "name": "stderr",
     "output_type": "stream",
     "text": [
      "Add of existing embedding ID: original\n",
      "Add of existing embedding ID: generated\n",
      "Insert of existing embedding ID: original\n",
      "Insert of existing embedding ID: generated\n"
     ]
    },
    {
     "name": "stdout",
     "output_type": "stream",
     "text": [
      "Topic: OpenAI API: Function Calling\n",
      "Similarity Score: 1.9619873762130737\n",
      "Processing example 363 of 500 \n"
     ]
    },
    {
     "name": "stderr",
     "output_type": "stream",
     "text": [
      "Add of existing embedding ID: original\n",
      "Add of existing embedding ID: generated\n",
      "Insert of existing embedding ID: original\n",
      "Insert of existing embedding ID: generated\n"
     ]
    },
    {
     "name": "stdout",
     "output_type": "stream",
     "text": [
      "Topic: Functional Programming with Java\n",
      "Similarity Score: 1.8885490894317627\n",
      "Processing example 364 of 500 \n"
     ]
    },
    {
     "name": "stderr",
     "output_type": "stream",
     "text": [
      "Add of existing embedding ID: original\n",
      "Add of existing embedding ID: generated\n",
      "Insert of existing embedding ID: original\n",
      "Insert of existing embedding ID: generated\n"
     ]
    },
    {
     "name": "stdout",
     "output_type": "stream",
     "text": [
      "Topic: Learning Modular Synthesis\n",
      "Similarity Score: 1.7562551498413086\n",
      "Processing example 365 of 500 \n"
     ]
    },
    {
     "name": "stderr",
     "output_type": "stream",
     "text": [
      "Add of existing embedding ID: original\n",
      "Add of existing embedding ID: generated\n",
      "Insert of existing embedding ID: original\n",
      "Insert of existing embedding ID: generated\n"
     ]
    },
    {
     "name": "stdout",
     "output_type": "stream",
     "text": [
      "Topic: Marketing: Customer Segmentation\n",
      "Similarity Score: 1.7681082487106323\n",
      "Processing example 366 of 500 \n"
     ]
    },
    {
     "name": "stderr",
     "output_type": "stream",
     "text": [
      "Add of existing embedding ID: original\n",
      "Add of existing embedding ID: generated\n",
      "Insert of existing embedding ID: original\n",
      "Insert of existing embedding ID: generated\n"
     ]
    },
    {
     "name": "stdout",
     "output_type": "stream",
     "text": [
      "Topic: Gender in Negotiation\n",
      "Similarity Score: 1.7084665298461914\n",
      "Processing example 367 of 500 \n"
     ]
    },
    {
     "name": "stderr",
     "output_type": "stream",
     "text": [
      "Add of existing embedding ID: original\n",
      "Add of existing embedding ID: generated\n",
      "Insert of existing embedding ID: original\n",
      "Insert of existing embedding ID: generated\n"
     ]
    },
    {
     "name": "stdout",
     "output_type": "stream",
     "text": [
      "Topic: Creative Cloud Crash Course\n",
      "Similarity Score: 1.440100908279419\n",
      "Processing example 368 of 500 \n"
     ]
    },
    {
     "name": "stderr",
     "output_type": "stream",
     "text": [
      "Add of existing embedding ID: original\n",
      "Add of existing embedding ID: generated\n",
      "Insert of existing embedding ID: original\n",
      "Insert of existing embedding ID: generated\n"
     ]
    },
    {
     "name": "stdout",
     "output_type": "stream",
     "text": [
      "Topic: Going Live: Building Great Live Content\n",
      "Similarity Score: 1.580020785331726\n",
      "Processing example 369 of 500 \n"
     ]
    },
    {
     "name": "stderr",
     "output_type": "stream",
     "text": [
      "Add of existing embedding ID: original\n",
      "Add of existing embedding ID: generated\n",
      "Insert of existing embedding ID: original\n",
      "Insert of existing embedding ID: generated\n"
     ]
    },
    {
     "name": "stdout",
     "output_type": "stream",
     "text": [
      "Topic: Nano Tips for Developing Magnetic Charisma with ShadÃ© Zahrai\n",
      "Similarity Score: 1.8383121490478516\n",
      "Processing example 370 of 500 \n"
     ]
    },
    {
     "name": "stderr",
     "output_type": "stream",
     "text": [
      "Add of existing embedding ID: original\n",
      "Add of existing embedding ID: generated\n",
      "Insert of existing embedding ID: original\n",
      "Insert of existing embedding ID: generated\n"
     ]
    },
    {
     "name": "stdout",
     "output_type": "stream",
     "text": [
      "Topic: Improving Insights with OpenAI's Advanced Data Analysis\n",
      "Similarity Score: 1.8445583581924438\n",
      "Processing example 371 of 500 \n"
     ]
    },
    {
     "name": "stderr",
     "output_type": "stream",
     "text": [
      "Add of existing embedding ID: original\n",
      "Add of existing embedding ID: generated\n",
      "Insert of existing embedding ID: original\n",
      "Insert of existing embedding ID: generated\n"
     ]
    },
    {
     "name": "stdout",
     "output_type": "stream",
     "text": [
      "Topic: Learning Logic Pro for iPad\n",
      "Similarity Score: 1.556846261024475\n",
      "Processing example 372 of 500 \n"
     ]
    },
    {
     "name": "stderr",
     "output_type": "stream",
     "text": [
      "Add of existing embedding ID: original\n",
      "Add of existing embedding ID: generated\n",
      "Insert of existing embedding ID: original\n",
      "Insert of existing embedding ID: generated\n"
     ]
    },
    {
     "name": "stdout",
     "output_type": "stream",
     "text": [
      "Topic: Leveraging Security Metrics in Your Organization\n",
      "Similarity Score: 1.6216508150100708\n",
      "Processing example 373 of 500 \n"
     ]
    },
    {
     "name": "stderr",
     "output_type": "stream",
     "text": [
      "Add of existing embedding ID: original\n",
      "Add of existing embedding ID: generated\n",
      "Insert of existing embedding ID: original\n",
      "Insert of existing embedding ID: generated\n"
     ]
    },
    {
     "name": "stdout",
     "output_type": "stream",
     "text": [
      "Topic: Learning Cloud Computing: Serverless Computing\n",
      "Similarity Score: 1.539323091506958\n",
      "Processing example 374 of 500 \n"
     ]
    },
    {
     "name": "stderr",
     "output_type": "stream",
     "text": [
      "Add of existing embedding ID: original\n",
      "Add of existing embedding ID: generated\n",
      "Insert of existing embedding ID: original\n",
      "Insert of existing embedding ID: generated\n"
     ]
    },
    {
     "name": "stdout",
     "output_type": "stream",
     "text": [
      "Topic: AWS Well-Architected Framework: Security Pillar\n",
      "Similarity Score: 1.6616671085357666\n",
      "Processing example 375 of 500 \n"
     ]
    },
    {
     "name": "stderr",
     "output_type": "stream",
     "text": [
      "Add of existing embedding ID: original\n",
      "Add of existing embedding ID: generated\n",
      "Insert of existing embedding ID: original\n",
      "Insert of existing embedding ID: generated\n"
     ]
    },
    {
     "name": "stdout",
     "output_type": "stream",
     "text": [
      "Topic: Menopause in the Workplace: A Guide to Supporting Your Colleagues\n",
      "Similarity Score: 1.6704843044281006\n",
      "Processing example 376 of 500 \n"
     ]
    },
    {
     "name": "stderr",
     "output_type": "stream",
     "text": [
      "Add of existing embedding ID: original\n",
      "Add of existing embedding ID: generated\n",
      "Insert of existing embedding ID: original\n",
      "Insert of existing embedding ID: generated\n"
     ]
    },
    {
     "name": "stdout",
     "output_type": "stream",
     "text": [
      "Topic: GitHub Models: Prototyping with AI Models\n",
      "Similarity Score: 1.9320017099380493\n",
      "Processing example 377 of 500 \n"
     ]
    },
    {
     "name": "stderr",
     "output_type": "stream",
     "text": [
      "Add of existing embedding ID: original\n",
      "Add of existing embedding ID: generated\n",
      "Insert of existing embedding ID: original\n",
      "Insert of existing embedding ID: generated\n"
     ]
    },
    {
     "name": "stdout",
     "output_type": "stream",
     "text": [
      "Topic: Sales Calls: Tone of Voice\n",
      "Similarity Score: 1.728804588317871\n",
      "Processing example 378 of 500 \n"
     ]
    },
    {
     "name": "stderr",
     "output_type": "stream",
     "text": [
      "Add of existing embedding ID: original\n",
      "Add of existing embedding ID: generated\n",
      "Insert of existing embedding ID: original\n",
      "Insert of existing embedding ID: generated\n"
     ]
    },
    {
     "name": "stdout",
     "output_type": "stream",
     "text": [
      "Topic: Azure AI Studio First Look\n",
      "Similarity Score: 1.944757342338562\n",
      "Processing example 379 of 500 \n"
     ]
    },
    {
     "name": "stderr",
     "output_type": "stream",
     "text": [
      "Add of existing embedding ID: original\n",
      "Add of existing embedding ID: generated\n",
      "Insert of existing embedding ID: original\n",
      "Insert of existing embedding ID: generated\n"
     ]
    },
    {
     "name": "stdout",
     "output_type": "stream",
     "text": [
      "Topic: Thriving as a Project Manager in the Age of AI\n",
      "Similarity Score: 1.6843186616897583\n",
      "Processing example 380 of 500 \n"
     ]
    },
    {
     "name": "stderr",
     "output_type": "stream",
     "text": [
      "Add of existing embedding ID: original\n",
      "Add of existing embedding ID: generated\n",
      "Insert of existing embedding ID: original\n",
      "Insert of existing embedding ID: generated\n"
     ]
    },
    {
     "name": "stdout",
     "output_type": "stream",
     "text": [
      "Topic: How to Manage High-Stakes Conflict\n",
      "Similarity Score: 1.7784110307693481\n",
      "Processing example 381 of 500 \n"
     ]
    },
    {
     "name": "stderr",
     "output_type": "stream",
     "text": [
      "Add of existing embedding ID: original\n",
      "Add of existing embedding ID: generated\n",
      "Insert of existing embedding ID: original\n",
      "Insert of existing embedding ID: generated\n"
     ]
    },
    {
     "name": "stdout",
     "output_type": "stream",
     "text": [
      "Topic: How to Use Negotiation Jiu Jitsu to Resolve Conflicts and Persuade\n",
      "Similarity Score: 1.682708740234375\n",
      "Processing example 382 of 500 \n"
     ]
    },
    {
     "name": "stderr",
     "output_type": "stream",
     "text": [
      "Add of existing embedding ID: original\n",
      "Add of existing embedding ID: generated\n",
      "Insert of existing embedding ID: original\n",
      "Insert of existing embedding ID: generated\n"
     ]
    },
    {
     "name": "stdout",
     "output_type": "stream",
     "text": [
      "Topic: From React to React Native\n",
      "Similarity Score: 1.6513519287109375\n",
      "Processing example 383 of 500 \n"
     ]
    },
    {
     "name": "stderr",
     "output_type": "stream",
     "text": [
      "Add of existing embedding ID: original\n",
      "Add of existing embedding ID: generated\n",
      "Insert of existing embedding ID: original\n",
      "Insert of existing embedding ID: generated\n"
     ]
    },
    {
     "name": "stdout",
     "output_type": "stream",
     "text": [
      "Topic: Ten Minutes to Better Prioritization\n",
      "Similarity Score: 1.673448920249939\n",
      "Processing example 384 of 500 \n"
     ]
    },
    {
     "name": "stderr",
     "output_type": "stream",
     "text": [
      "Add of existing embedding ID: original\n",
      "Add of existing embedding ID: generated\n",
      "Insert of existing embedding ID: original\n",
      "Insert of existing embedding ID: generated\n"
     ]
    },
    {
     "name": "stdout",
     "output_type": "stream",
     "text": [
      "Topic: React: Software Architecture\n",
      "Similarity Score: 1.6353567838668823\n",
      "Processing example 385 of 500 \n"
     ]
    },
    {
     "name": "stderr",
     "output_type": "stream",
     "text": [
      "Add of existing embedding ID: original\n",
      "Add of existing embedding ID: generated\n",
      "Insert of existing embedding ID: original\n",
      "Insert of existing embedding ID: generated\n"
     ]
    },
    {
     "name": "stdout",
     "output_type": "stream",
     "text": [
      "Topic: Ten Questions to Ask in Informational Interviews\n",
      "Similarity Score: 1.783666729927063\n",
      "Processing example 386 of 500 \n"
     ]
    },
    {
     "name": "stderr",
     "output_type": "stream",
     "text": [
      "Add of existing embedding ID: original\n",
      "Add of existing embedding ID: generated\n",
      "Insert of existing embedding ID: original\n",
      "Insert of existing embedding ID: generated\n"
     ]
    },
    {
     "name": "stdout",
     "output_type": "stream",
     "text": [
      "Topic: Essentials of Team Collaboration\n",
      "Similarity Score: 1.7478890419006348\n",
      "Processing example 387 of 500 \n"
     ]
    },
    {
     "name": "stderr",
     "output_type": "stream",
     "text": [
      "Add of existing embedding ID: original\n",
      "Add of existing embedding ID: generated\n",
      "Insert of existing embedding ID: original\n",
      "Insert of existing embedding ID: generated\n"
     ]
    },
    {
     "name": "stdout",
     "output_type": "stream",
     "text": [
      "Topic: Margo Chase's Hand-Lettered Poster: Start to Finish\n",
      "Similarity Score: 1.9014372825622559\n",
      "Processing example 388 of 500 \n"
     ]
    },
    {
     "name": "stderr",
     "output_type": "stream",
     "text": [
      "Add of existing embedding ID: original\n",
      "Add of existing embedding ID: generated\n",
      "Insert of existing embedding ID: original\n",
      "Insert of existing embedding ID: generated\n"
     ]
    },
    {
     "name": "stdout",
     "output_type": "stream",
     "text": [
      "Topic: Architectural Models: Digital File Prep with Rhino\n",
      "Similarity Score: 1.647512435913086\n",
      "Processing example 389 of 500 \n"
     ]
    },
    {
     "name": "stderr",
     "output_type": "stream",
     "text": [
      "Add of existing embedding ID: original\n",
      "Add of existing embedding ID: generated\n",
      "Insert of existing embedding ID: original\n",
      "Insert of existing embedding ID: generated\n"
     ]
    },
    {
     "name": "stdout",
     "output_type": "stream",
     "text": [
      "Topic: Learning Wi-Fi\n",
      "Similarity Score: 1.718004584312439\n",
      "Processing example 390 of 500 \n"
     ]
    },
    {
     "name": "stderr",
     "output_type": "stream",
     "text": [
      "Add of existing embedding ID: original\n",
      "Add of existing embedding ID: generated\n",
      "Insert of existing embedding ID: original\n",
      "Insert of existing embedding ID: generated\n"
     ]
    },
    {
     "name": "stdout",
     "output_type": "stream",
     "text": [
      "Topic: ISO/IEC 42001:2023: Understanding and Implementing the Artificial Intelligence Management System (AIMS) Standard\n",
      "Similarity Score: 1.4155166149139404\n",
      "Processing example 391 of 500 \n"
     ]
    },
    {
     "name": "stderr",
     "output_type": "stream",
     "text": [
      "Add of existing embedding ID: original\n",
      "Add of existing embedding ID: generated\n",
      "Insert of existing embedding ID: original\n",
      "Insert of existing embedding ID: generated\n"
     ]
    },
    {
     "name": "stdout",
     "output_type": "stream",
     "text": [
      "Topic: Ethical Hacking: Cryptography\n",
      "Similarity Score: 1.4273910522460938\n",
      "Processing example 392 of 500 \n"
     ]
    },
    {
     "name": "stderr",
     "output_type": "stream",
     "text": [
      "Add of existing embedding ID: original\n",
      "Add of existing embedding ID: generated\n",
      "Insert of existing embedding ID: original\n",
      "Insert of existing embedding ID: generated\n"
     ]
    },
    {
     "name": "stdout",
     "output_type": "stream",
     "text": [
      "Topic: Sustainable Project Management: Strategies to Boost Social, Economic, and Environmental Impact\n",
      "Similarity Score: 1.5525470972061157\n",
      "Processing example 393 of 500 \n"
     ]
    },
    {
     "name": "stderr",
     "output_type": "stream",
     "text": [
      "Add of existing embedding ID: original\n",
      "Add of existing embedding ID: generated\n",
      "Insert of existing embedding ID: original\n",
      "Insert of existing embedding ID: generated\n"
     ]
    },
    {
     "name": "stdout",
     "output_type": "stream",
     "text": [
      "Topic: Ethical Hacking: Hacking IoT Devices\n",
      "Similarity Score: 1.4738126993179321\n",
      "Processing example 394 of 500 \n"
     ]
    },
    {
     "name": "stderr",
     "output_type": "stream",
     "text": [
      "Add of existing embedding ID: original\n",
      "Add of existing embedding ID: generated\n",
      "Insert of existing embedding ID: original\n",
      "Insert of existing embedding ID: generated\n"
     ]
    },
    {
     "name": "stdout",
     "output_type": "stream",
     "text": [
      "Topic: Build AI Infrastructure with Google Cloud Platform (GCP)\n",
      "Similarity Score: 1.6895254850387573\n",
      "Processing example 395 of 500 \n"
     ]
    },
    {
     "name": "stderr",
     "output_type": "stream",
     "text": [
      "Add of existing embedding ID: original\n",
      "Add of existing embedding ID: generated\n",
      "Insert of existing embedding ID: original\n",
      "Insert of existing embedding ID: generated\n"
     ]
    },
    {
     "name": "stdout",
     "output_type": "stream",
     "text": [
      "Topic: Guy Kawasaki on Entrepreneurship\n",
      "Similarity Score: 1.5979654788970947\n",
      "Processing example 396 of 500 \n"
     ]
    },
    {
     "name": "stderr",
     "output_type": "stream",
     "text": [
      "Add of existing embedding ID: original\n",
      "Add of existing embedding ID: generated\n",
      "Insert of existing embedding ID: original\n",
      "Insert of existing embedding ID: generated\n"
     ]
    },
    {
     "name": "stdout",
     "output_type": "stream",
     "text": [
      "Topic: Photoshop for Photographers\n",
      "Similarity Score: 1.734574556350708\n",
      "Processing example 397 of 500 \n"
     ]
    },
    {
     "name": "stderr",
     "output_type": "stream",
     "text": [
      "Add of existing embedding ID: original\n",
      "Add of existing embedding ID: generated\n",
      "Insert of existing embedding ID: original\n",
      "Insert of existing embedding ID: generated\n"
     ]
    },
    {
     "name": "stdout",
     "output_type": "stream",
     "text": [
      "Topic: Learning Power Automate Desktop for Non-Developers\n",
      "Similarity Score: 1.5104666948318481\n",
      "Processing example 398 of 500 \n"
     ]
    },
    {
     "name": "stderr",
     "output_type": "stream",
     "text": [
      "Add of existing embedding ID: original\n",
      "Add of existing embedding ID: generated\n",
      "Insert of existing embedding ID: original\n",
      "Insert of existing embedding ID: generated\n"
     ]
    },
    {
     "name": "stdout",
     "output_type": "stream",
     "text": [
      "Topic: How to Get a Job in Web3 and Blockchain\n",
      "Similarity Score: 1.6362450122833252\n",
      "Processing example 399 of 500 \n"
     ]
    },
    {
     "name": "stderr",
     "output_type": "stream",
     "text": [
      "Add of existing embedding ID: original\n",
      "Add of existing embedding ID: generated\n",
      "Insert of existing embedding ID: original\n",
      "Insert of existing embedding ID: generated\n"
     ]
    },
    {
     "name": "stdout",
     "output_type": "stream",
     "text": [
      "Topic: Memorization and Rehearsal Tips for Public Speaking\n",
      "Similarity Score: 1.8457103967666626\n",
      "Processing example 400 of 500 \n"
     ]
    },
    {
     "name": "stderr",
     "output_type": "stream",
     "text": [
      "Add of existing embedding ID: original\n",
      "Add of existing embedding ID: generated\n",
      "Insert of existing embedding ID: original\n",
      "Insert of existing embedding ID: generated\n"
     ]
    },
    {
     "name": "stdout",
     "output_type": "stream",
     "text": [
      "Topic: Nano Tips for Adding Value to Your Organization with Eliana Goldstein\n",
      "Similarity Score: 1.6766927242279053\n",
      "Processing example 401 of 500 \n"
     ]
    },
    {
     "name": "stderr",
     "output_type": "stream",
     "text": [
      "Add of existing embedding ID: original\n",
      "Add of existing embedding ID: generated\n",
      "Insert of existing embedding ID: original\n",
      "Insert of existing embedding ID: generated\n"
     ]
    },
    {
     "name": "stdout",
     "output_type": "stream",
     "text": [
      "Topic: Influencer Brand Deals 101\n",
      "Similarity Score: 1.5710824728012085\n",
      "Processing example 402 of 500 \n"
     ]
    },
    {
     "name": "stderr",
     "output_type": "stream",
     "text": [
      "Add of existing embedding ID: original\n",
      "Add of existing embedding ID: generated\n",
      "Insert of existing embedding ID: original\n",
      "Insert of existing embedding ID: generated\n"
     ]
    },
    {
     "name": "stdout",
     "output_type": "stream",
     "text": [
      "Topic: Nano Tips for Dealing with a Difficult Customer with Richard Moore\n",
      "Similarity Score: 1.737328052520752\n",
      "Processing example 403 of 500 \n"
     ]
    },
    {
     "name": "stderr",
     "output_type": "stream",
     "text": [
      "Add of existing embedding ID: original\n",
      "Add of existing embedding ID: generated\n",
      "Insert of existing embedding ID: original\n",
      "Insert of existing embedding ID: generated\n"
     ]
    },
    {
     "name": "stdout",
     "output_type": "stream",
     "text": [
      "Topic: Nano Tips for Simple and Quick Decision-Making with Lisa Bodell\n",
      "Similarity Score: 1.80509352684021\n",
      "Processing example 404 of 500 \n"
     ]
    },
    {
     "name": "stderr",
     "output_type": "stream",
     "text": [
      "Add of existing embedding ID: original\n",
      "Add of existing embedding ID: generated\n",
      "Insert of existing embedding ID: original\n",
      "Insert of existing embedding ID: generated\n"
     ]
    },
    {
     "name": "stdout",
     "output_type": "stream",
     "text": [
      "Topic: How to Motivate Your Sales Teams\n",
      "Similarity Score: 1.6988928318023682\n",
      "Processing example 405 of 500 \n"
     ]
    },
    {
     "name": "stderr",
     "output_type": "stream",
     "text": [
      "Add of existing embedding ID: original\n",
      "Add of existing embedding ID: generated\n",
      "Insert of existing embedding ID: original\n",
      "Insert of existing embedding ID: generated\n"
     ]
    },
    {
     "name": "stdout",
     "output_type": "stream",
     "text": [
      "Topic: After Effects Guru: Advanced Photoshop Techniques\n",
      "Similarity Score: 1.7605332136154175\n",
      "Processing example 406 of 500 \n"
     ]
    },
    {
     "name": "stderr",
     "output_type": "stream",
     "text": [
      "Add of existing embedding ID: original\n",
      "Add of existing embedding ID: generated\n",
      "Insert of existing embedding ID: original\n",
      "Insert of existing embedding ID: generated\n"
     ]
    },
    {
     "name": "stdout",
     "output_type": "stream",
     "text": [
      "Topic: Ecommerce Success Stories\n",
      "Similarity Score: 1.5808684825897217\n",
      "Processing example 407 of 500 \n"
     ]
    },
    {
     "name": "stderr",
     "output_type": "stream",
     "text": [
      "Add of existing embedding ID: original\n",
      "Add of existing embedding ID: generated\n",
      "Insert of existing embedding ID: original\n",
      "Insert of existing embedding ID: generated\n"
     ]
    },
    {
     "name": "stdout",
     "output_type": "stream",
     "text": [
      "Topic: Small Business Tips\n",
      "Similarity Score: 1.5528708696365356\n",
      "Processing example 408 of 500 \n"
     ]
    },
    {
     "name": "stderr",
     "output_type": "stream",
     "text": [
      "Add of existing embedding ID: original\n",
      "Add of existing embedding ID: generated\n",
      "Insert of existing embedding ID: original\n",
      "Insert of existing embedding ID: generated\n"
     ]
    },
    {
     "name": "stdout",
     "output_type": "stream",
     "text": [
      "Topic: How to Plan Your Website\n",
      "Similarity Score: 1.602124571800232\n",
      "Processing example 409 of 500 \n"
     ]
    },
    {
     "name": "stderr",
     "output_type": "stream",
     "text": [
      "Add of existing embedding ID: original\n",
      "Add of existing embedding ID: generated\n",
      "Insert of existing embedding ID: original\n",
      "Insert of existing embedding ID: generated\n"
     ]
    },
    {
     "name": "stdout",
     "output_type": "stream",
     "text": [
      "Topic: Nano Tips for Customer Centric Communication with Richard Moore\n",
      "Similarity Score: 1.7260085344314575\n",
      "Processing example 410 of 500 \n"
     ]
    },
    {
     "name": "stderr",
     "output_type": "stream",
     "text": [
      "Add of existing embedding ID: original\n",
      "Add of existing embedding ID: generated\n",
      "Insert of existing embedding ID: original\n",
      "Insert of existing embedding ID: generated\n"
     ]
    },
    {
     "name": "stdout",
     "output_type": "stream",
     "text": [
      "Topic: Insights to Outcomes: Audience Analysis for Better Customer Relationships\n",
      "Similarity Score: 1.7843186855316162\n",
      "Processing example 411 of 500 \n"
     ]
    },
    {
     "name": "stderr",
     "output_type": "stream",
     "text": [
      "Add of existing embedding ID: original\n",
      "Add of existing embedding ID: generated\n",
      "Insert of existing embedding ID: original\n",
      "Insert of existing embedding ID: generated\n"
     ]
    },
    {
     "name": "stdout",
     "output_type": "stream",
     "text": [
      "Topic: Requirements Elicitation for Business Analysts: Interviews\n",
      "Similarity Score: 1.6339173316955566\n",
      "Processing example 412 of 500 \n"
     ]
    },
    {
     "name": "stderr",
     "output_type": "stream",
     "text": [
      "Add of existing embedding ID: original\n",
      "Add of existing embedding ID: generated\n",
      "Insert of existing embedding ID: original\n",
      "Insert of existing embedding ID: generated\n"
     ]
    },
    {
     "name": "stdout",
     "output_type": "stream",
     "text": [
      "Topic: Nano Tips for Building Soft Skills with Elayne Fluker\n",
      "Similarity Score: 1.958353877067566\n",
      "Processing example 413 of 500 \n"
     ]
    },
    {
     "name": "stderr",
     "output_type": "stream",
     "text": [
      "Add of existing embedding ID: original\n",
      "Add of existing embedding ID: generated\n",
      "Insert of existing embedding ID: original\n",
      "Insert of existing embedding ID: generated\n"
     ]
    },
    {
     "name": "stdout",
     "output_type": "stream",
     "text": [
      "Topic: AutoCAD Facilities Management: Areas\n",
      "Similarity Score: 1.8858577013015747\n",
      "Processing example 414 of 500 \n"
     ]
    },
    {
     "name": "stderr",
     "output_type": "stream",
     "text": [
      "Add of existing embedding ID: original\n",
      "Add of existing embedding ID: generated\n",
      "Insert of existing embedding ID: original\n",
      "Insert of existing embedding ID: generated\n"
     ]
    },
    {
     "name": "stdout",
     "output_type": "stream",
     "text": [
      "Topic: AutoCAD: Tool Palettes\n",
      "Similarity Score: 1.8100275993347168\n",
      "Processing example 415 of 500 \n"
     ]
    },
    {
     "name": "stderr",
     "output_type": "stream",
     "text": [
      "Add of existing embedding ID: original\n",
      "Add of existing embedding ID: generated\n",
      "Insert of existing embedding ID: original\n",
      "Insert of existing embedding ID: generated\n"
     ]
    },
    {
     "name": "stdout",
     "output_type": "stream",
     "text": [
      "Topic: Computer Science Principles Lab: JavaScript\n",
      "Similarity Score: 1.8053072690963745\n",
      "Processing example 416 of 500 \n"
     ]
    },
    {
     "name": "stderr",
     "output_type": "stream",
     "text": [
      "Add of existing embedding ID: original\n",
      "Add of existing embedding ID: generated\n",
      "Insert of existing embedding ID: original\n",
      "Insert of existing embedding ID: generated\n"
     ]
    },
    {
     "name": "stdout",
     "output_type": "stream",
     "text": [
      "Topic: Customer Journey Mapping with Generative AI\n",
      "Similarity Score: 1.6215211153030396\n",
      "Processing example 417 of 500 \n"
     ]
    },
    {
     "name": "stderr",
     "output_type": "stream",
     "text": [
      "Add of existing embedding ID: original\n",
      "Add of existing embedding ID: generated\n",
      "Insert of existing embedding ID: original\n",
      "Insert of existing embedding ID: generated\n"
     ]
    },
    {
     "name": "stdout",
     "output_type": "stream",
     "text": [
      "Topic: Computer Science Principles: Programming\n",
      "Similarity Score: 1.7418395280838013\n",
      "Processing example 418 of 500 \n"
     ]
    },
    {
     "name": "stderr",
     "output_type": "stream",
     "text": [
      "Add of existing embedding ID: original\n",
      "Add of existing embedding ID: generated\n",
      "Insert of existing embedding ID: original\n",
      "Insert of existing embedding ID: generated\n"
     ]
    },
    {
     "name": "stdout",
     "output_type": "stream",
     "text": [
      "Topic: Microsoft Project 2013 Essential Training\n",
      "Similarity Score: 1.8514469861984253\n",
      "Processing example 419 of 500 \n"
     ]
    },
    {
     "name": "stderr",
     "output_type": "stream",
     "text": [
      "Add of existing embedding ID: original\n",
      "Add of existing embedding ID: generated\n",
      "Insert of existing embedding ID: original\n",
      "Insert of existing embedding ID: generated\n"
     ]
    },
    {
     "name": "stdout",
     "output_type": "stream",
     "text": [
      "Topic: GarageBand Essential Training\n",
      "Similarity Score: 1.924519658088684\n",
      "Processing example 420 of 500 \n"
     ]
    },
    {
     "name": "stderr",
     "output_type": "stream",
     "text": [
      "Add of existing embedding ID: original\n",
      "Add of existing embedding ID: generated\n",
      "Insert of existing embedding ID: original\n",
      "Insert of existing embedding ID: generated\n"
     ]
    },
    {
     "name": "stdout",
     "output_type": "stream",
     "text": [
      "Topic: Building a Cloud Security Program\n",
      "Similarity Score: 1.4136009216308594\n",
      "Processing example 421 of 500 \n"
     ]
    },
    {
     "name": "stderr",
     "output_type": "stream",
     "text": [
      "Add of existing embedding ID: original\n",
      "Add of existing embedding ID: generated\n",
      "Insert of existing embedding ID: original\n",
      "Insert of existing embedding ID: generated\n"
     ]
    },
    {
     "name": "stdout",
     "output_type": "stream",
     "text": [
      "Topic: CompTIA Security+ (SY0-601) Cert Prep: Audio Review\n",
      "Similarity Score: 1.7156723737716675\n",
      "Processing example 422 of 500 \n"
     ]
    },
    {
     "name": "stderr",
     "output_type": "stream",
     "text": [
      "Add of existing embedding ID: original\n",
      "Add of existing embedding ID: generated\n",
      "Insert of existing embedding ID: original\n",
      "Insert of existing embedding ID: generated\n"
     ]
    },
    {
     "name": "stdout",
     "output_type": "stream",
     "text": [
      "Topic: Managing Cross-Functional Collaboration as a Leader\n",
      "Similarity Score: 1.733567714691162\n",
      "Processing example 423 of 500 \n"
     ]
    },
    {
     "name": "stderr",
     "output_type": "stream",
     "text": [
      "Add of existing embedding ID: original\n",
      "Add of existing embedding ID: generated\n",
      "Insert of existing embedding ID: original\n",
      "Insert of existing embedding ID: generated\n"
     ]
    },
    {
     "name": "stdout",
     "output_type": "stream",
     "text": [
      "Topic: Certified Information Security Manager (CISM) Cert Prep (2022): 3 Information Security Program\n",
      "Similarity Score: 1.5530060529708862\n",
      "Processing example 424 of 500 \n"
     ]
    },
    {
     "name": "stderr",
     "output_type": "stream",
     "text": [
      "Add of existing embedding ID: original\n",
      "Add of existing embedding ID: generated\n",
      "Insert of existing embedding ID: original\n",
      "Insert of existing embedding ID: generated\n"
     ]
    },
    {
     "name": "stdout",
     "output_type": "stream",
     "text": [
      "Topic: Corporate Finance: Environmental, Social, and Governance (ESG)\n",
      "Similarity Score: 1.3121966123580933\n",
      "Processing example 425 of 500 \n"
     ]
    },
    {
     "name": "stderr",
     "output_type": "stream",
     "text": [
      "Add of existing embedding ID: original\n",
      "Add of existing embedding ID: generated\n",
      "Insert of existing embedding ID: original\n",
      "Insert of existing embedding ID: generated\n"
     ]
    },
    {
     "name": "stdout",
     "output_type": "stream",
     "text": [
      "Topic: Creating a Guitar Body with RhinoCAM\n",
      "Similarity Score: 1.7763702869415283\n",
      "Processing example 426 of 500 \n"
     ]
    },
    {
     "name": "stderr",
     "output_type": "stream",
     "text": [
      "Add of existing embedding ID: original\n",
      "Add of existing embedding ID: generated\n",
      "Insert of existing embedding ID: original\n",
      "Insert of existing embedding ID: generated\n"
     ]
    },
    {
     "name": "stdout",
     "output_type": "stream",
     "text": [
      "Topic: Azure AI Tips for Developers: Securing Your Data\n",
      "Similarity Score: 1.7441152334213257\n",
      "Processing example 427 of 500 \n"
     ]
    },
    {
     "name": "stderr",
     "output_type": "stream",
     "text": [
      "Add of existing embedding ID: original\n",
      "Add of existing embedding ID: generated\n",
      "Insert of existing embedding ID: original\n",
      "Insert of existing embedding ID: generated\n"
     ]
    },
    {
     "name": "stdout",
     "output_type": "stream",
     "text": [
      "Topic: PowerPoint Tips and Tricks\n",
      "Similarity Score: 1.6129262447357178\n",
      "Processing example 428 of 500 \n"
     ]
    },
    {
     "name": "stderr",
     "output_type": "stream",
     "text": [
      "Add of existing embedding ID: original\n",
      "Add of existing embedding ID: generated\n",
      "Insert of existing embedding ID: original\n",
      "Insert of existing embedding ID: generated\n"
     ]
    },
    {
     "name": "stdout",
     "output_type": "stream",
     "text": [
      "Topic: InDesign 2024 Essential Training\n",
      "Similarity Score: 1.7334765195846558\n",
      "Processing example 429 of 500 \n"
     ]
    },
    {
     "name": "stderr",
     "output_type": "stream",
     "text": [
      "Add of existing embedding ID: original\n",
      "Add of existing embedding ID: generated\n",
      "Insert of existing embedding ID: original\n",
      "Insert of existing embedding ID: generated\n"
     ]
    },
    {
     "name": "stdout",
     "output_type": "stream",
     "text": [
      "Topic: Deploying Java Applications to AWS\n",
      "Similarity Score: 1.949426293373108\n",
      "Processing example 430 of 500 \n"
     ]
    },
    {
     "name": "stderr",
     "output_type": "stream",
     "text": [
      "Add of existing embedding ID: original\n",
      "Add of existing embedding ID: generated\n",
      "Insert of existing embedding ID: original\n",
      "Insert of existing embedding ID: generated\n"
     ]
    },
    {
     "name": "stdout",
     "output_type": "stream",
     "text": [
      "Topic: Communicating with Executives\n",
      "Similarity Score: 1.8044389486312866\n",
      "Processing example 431 of 500 \n"
     ]
    },
    {
     "name": "stderr",
     "output_type": "stream",
     "text": [
      "Add of existing embedding ID: original\n",
      "Add of existing embedding ID: generated\n",
      "Insert of existing embedding ID: original\n",
      "Insert of existing embedding ID: generated\n"
     ]
    },
    {
     "name": "stdout",
     "output_type": "stream",
     "text": [
      "Topic: Customer Service: Serving Internal Customers\n",
      "Similarity Score: 1.98330557346344\n",
      "Processing example 432 of 500 \n"
     ]
    },
    {
     "name": "stderr",
     "output_type": "stream",
     "text": [
      "Add of existing embedding ID: original\n",
      "Add of existing embedding ID: generated\n",
      "Insert of existing embedding ID: original\n",
      "Insert of existing embedding ID: generated\n"
     ]
    },
    {
     "name": "stdout",
     "output_type": "stream",
     "text": [
      "Topic: Nano Tips for Digital Networking with Diana YK Chan\n",
      "Similarity Score: 1.5852622985839844\n",
      "Processing example 433 of 500 \n"
     ]
    },
    {
     "name": "stderr",
     "output_type": "stream",
     "text": [
      "Add of existing embedding ID: original\n",
      "Add of existing embedding ID: generated\n",
      "Insert of existing embedding ID: original\n",
      "Insert of existing embedding ID: generated\n"
     ]
    },
    {
     "name": "stdout",
     "output_type": "stream",
     "text": [
      "Topic: The Power of Visualization to Enhance Performance and Well-being\n",
      "Similarity Score: 1.8487275838851929\n",
      "Processing example 434 of 500 \n"
     ]
    },
    {
     "name": "stderr",
     "output_type": "stream",
     "text": [
      "Add of existing embedding ID: original\n",
      "Add of existing embedding ID: generated\n",
      "Insert of existing embedding ID: original\n",
      "Insert of existing embedding ID: generated\n"
     ]
    },
    {
     "name": "stdout",
     "output_type": "stream",
     "text": [
      "Topic: The 7 Secrets of Responsive Leadership (getAbstract Summary)\n",
      "Similarity Score: 1.7610429525375366\n",
      "Processing example 435 of 500 \n"
     ]
    },
    {
     "name": "stderr",
     "output_type": "stream",
     "text": [
      "Add of existing embedding ID: original\n",
      "Add of existing embedding ID: generated\n",
      "Insert of existing embedding ID: original\n",
      "Insert of existing embedding ID: generated\n"
     ]
    },
    {
     "name": "stdout",
     "output_type": "stream",
     "text": [
      "Topic: OmniGraffle for UX and Brainstorming\n",
      "Similarity Score: 1.7902783155441284\n",
      "Processing example 436 of 500 \n"
     ]
    },
    {
     "name": "stderr",
     "output_type": "stream",
     "text": [
      "Add of existing embedding ID: original\n",
      "Add of existing embedding ID: generated\n",
      "Insert of existing embedding ID: original\n",
      "Insert of existing embedding ID: generated\n"
     ]
    },
    {
     "name": "stdout",
     "output_type": "stream",
     "text": [
      "Topic: Happiness Tips\n",
      "Similarity Score: 1.6282755136489868\n",
      "Processing example 437 of 500 \n"
     ]
    },
    {
     "name": "stderr",
     "output_type": "stream",
     "text": [
      "Add of existing embedding ID: original\n",
      "Add of existing embedding ID: generated\n",
      "Insert of existing embedding ID: original\n",
      "Insert of existing embedding ID: generated\n"
     ]
    },
    {
     "name": "stdout",
     "output_type": "stream",
     "text": [
      "Topic: Nano Tips for Giving and Receiving Feedback with Lorraine K. Lee\n",
      "Similarity Score: 1.8815678358078003\n",
      "Processing example 438 of 500 \n"
     ]
    },
    {
     "name": "stderr",
     "output_type": "stream",
     "text": [
      "Add of existing embedding ID: original\n",
      "Add of existing embedding ID: generated\n",
      "Insert of existing embedding ID: original\n",
      "Insert of existing embedding ID: generated\n"
     ]
    },
    {
     "name": "stdout",
     "output_type": "stream",
     "text": [
      "Topic: AI Show: Audio Analytics with Azure Automated ML\n",
      "Similarity Score: 1.7621012926101685\n",
      "Processing example 439 of 500 \n"
     ]
    },
    {
     "name": "stderr",
     "output_type": "stream",
     "text": [
      "Add of existing embedding ID: original\n",
      "Add of existing embedding ID: generated\n",
      "Insert of existing embedding ID: original\n",
      "Insert of existing embedding ID: generated\n"
     ]
    },
    {
     "name": "stdout",
     "output_type": "stream",
     "text": [
      "Topic: ASP.NET Core Health Checks\n",
      "Similarity Score: 1.7248069047927856\n",
      "Processing example 440 of 500 \n"
     ]
    },
    {
     "name": "stderr",
     "output_type": "stream",
     "text": [
      "Add of existing embedding ID: original\n",
      "Add of existing embedding ID: generated\n",
      "Insert of existing embedding ID: original\n",
      "Insert of existing embedding ID: generated\n"
     ]
    },
    {
     "name": "stdout",
     "output_type": "stream",
     "text": [
      "Topic: Excel for Finance: Building a Three-Statement Operating Model\n",
      "Similarity Score: 1.7883518934249878\n",
      "Processing example 441 of 500 \n"
     ]
    },
    {
     "name": "stderr",
     "output_type": "stream",
     "text": [
      "Add of existing embedding ID: original\n",
      "Add of existing embedding ID: generated\n",
      "Insert of existing embedding ID: original\n",
      "Insert of existing embedding ID: generated\n"
     ]
    },
    {
     "name": "stdout",
     "output_type": "stream",
     "text": [
      "Topic: React: Creating and Hosting a Full-Stack Site\n",
      "Similarity Score: 1.7844980955123901\n",
      "Processing example 442 of 500 \n"
     ]
    },
    {
     "name": "stderr",
     "output_type": "stream",
     "text": [
      "Add of existing embedding ID: original\n",
      "Add of existing embedding ID: generated\n",
      "Insert of existing embedding ID: original\n",
      "Insert of existing embedding ID: generated\n"
     ]
    },
    {
     "name": "stdout",
     "output_type": "stream",
     "text": [
      "Topic: Be a Better Manager by Motivating Your Team\n",
      "Similarity Score: 1.4701025485992432\n",
      "Processing example 443 of 500 \n"
     ]
    },
    {
     "name": "stderr",
     "output_type": "stream",
     "text": [
      "Add of existing embedding ID: original\n",
      "Add of existing embedding ID: generated\n",
      "Insert of existing embedding ID: original\n",
      "Insert of existing embedding ID: generated\n"
     ]
    },
    {
     "name": "stdout",
     "output_type": "stream",
     "text": [
      "Topic: Drive Product Awareness through Public Storytelling\n",
      "Similarity Score: 1.8017343282699585\n",
      "Processing example 444 of 500 \n"
     ]
    },
    {
     "name": "stderr",
     "output_type": "stream",
     "text": [
      "Add of existing embedding ID: original\n",
      "Add of existing embedding ID: generated\n",
      "Insert of existing embedding ID: original\n",
      "Insert of existing embedding ID: generated\n"
     ]
    },
    {
     "name": "stdout",
     "output_type": "stream",
     "text": [
      "Topic: Accounting for a Company's Stock and Dividend Transactions\n",
      "Similarity Score: 1.7367850542068481\n",
      "Processing example 445 of 500 \n"
     ]
    },
    {
     "name": "stderr",
     "output_type": "stream",
     "text": [
      "Add of existing embedding ID: original\n",
      "Add of existing embedding ID: generated\n",
      "Insert of existing embedding ID: original\n",
      "Insert of existing embedding ID: generated\n"
     ]
    },
    {
     "name": "stdout",
     "output_type": "stream",
     "text": [
      "Topic: Unity 5: 2D Movement in an RPG Game\n",
      "Similarity Score: 1.7971233129501343\n",
      "Processing example 446 of 500 \n"
     ]
    },
    {
     "name": "stderr",
     "output_type": "stream",
     "text": [
      "Add of existing embedding ID: original\n",
      "Add of existing embedding ID: generated\n",
      "Insert of existing embedding ID: original\n",
      "Insert of existing embedding ID: generated\n"
     ]
    },
    {
     "name": "stdout",
     "output_type": "stream",
     "text": [
      "Topic: React Hooks\n",
      "Similarity Score: 1.676688313484192\n",
      "Processing example 447 of 500 \n"
     ]
    },
    {
     "name": "stderr",
     "output_type": "stream",
     "text": [
      "Add of existing embedding ID: original\n",
      "Add of existing embedding ID: generated\n",
      "Insert of existing embedding ID: original\n",
      "Insert of existing embedding ID: generated\n"
     ]
    },
    {
     "name": "stdout",
     "output_type": "stream",
     "text": [
      "Topic: Building Strategic Resilience\n",
      "Similarity Score: 1.7282445430755615\n",
      "Processing example 448 of 500 \n"
     ]
    },
    {
     "name": "stderr",
     "output_type": "stream",
     "text": [
      "Add of existing embedding ID: original\n",
      "Add of existing embedding ID: generated\n",
      "Insert of existing embedding ID: original\n",
      "Insert of existing embedding ID: generated\n"
     ]
    },
    {
     "name": "stdout",
     "output_type": "stream",
     "text": [
      "Topic: Using AI to Develop Buyer Personas\n",
      "Similarity Score: 1.6373133659362793\n",
      "Processing example 449 of 500 \n"
     ]
    },
    {
     "name": "stderr",
     "output_type": "stream",
     "text": [
      "Add of existing embedding ID: original\n",
      "Add of existing embedding ID: generated\n",
      "Insert of existing embedding ID: original\n",
      "Insert of existing embedding ID: generated\n"
     ]
    },
    {
     "name": "stdout",
     "output_type": "stream",
     "text": [
      "Topic: A Design Thinking Approach to Putting the Customer First\n",
      "Similarity Score: 1.7297695875167847\n",
      "Processing example 450 of 500 \n"
     ]
    },
    {
     "name": "stderr",
     "output_type": "stream",
     "text": [
      "Add of existing embedding ID: original\n",
      "Add of existing embedding ID: generated\n",
      "Insert of existing embedding ID: original\n",
      "Insert of existing embedding ID: generated\n"
     ]
    },
    {
     "name": "stdout",
     "output_type": "stream",
     "text": [
      "Topic: Visual Studio Tools for Azure DevOps\n",
      "Similarity Score: 1.7393519878387451\n",
      "Processing example 451 of 500 \n"
     ]
    },
    {
     "name": "stderr",
     "output_type": "stream",
     "text": [
      "Add of existing embedding ID: original\n",
      "Add of existing embedding ID: generated\n",
      "Insert of existing embedding ID: original\n",
      "Insert of existing embedding ID: generated\n"
     ]
    },
    {
     "name": "stdout",
     "output_type": "stream",
     "text": [
      "Topic: AutoCAD Facilities Management: Occupancy\n",
      "Similarity Score: 1.7232602834701538\n",
      "Processing example 452 of 500 \n"
     ]
    },
    {
     "name": "stderr",
     "output_type": "stream",
     "text": [
      "Add of existing embedding ID: original\n",
      "Add of existing embedding ID: generated\n",
      "Insert of existing embedding ID: original\n",
      "Insert of existing embedding ID: generated\n"
     ]
    },
    {
     "name": "stdout",
     "output_type": "stream",
     "text": [
      "Topic: Learning PowerShell Core\n",
      "Similarity Score: 1.9207935333251953\n",
      "Processing example 453 of 500 \n"
     ]
    },
    {
     "name": "stderr",
     "output_type": "stream",
     "text": [
      "Add of existing embedding ID: original\n",
      "Add of existing embedding ID: generated\n",
      "Insert of existing embedding ID: original\n",
      "Insert of existing embedding ID: generated\n"
     ]
    },
    {
     "name": "stdout",
     "output_type": "stream",
     "text": [
      "Topic: Prototyping Microinteractions with After Effects\n",
      "Similarity Score: 1.7207249402999878\n",
      "Processing example 454 of 500 \n"
     ]
    },
    {
     "name": "stderr",
     "output_type": "stream",
     "text": [
      "Add of existing embedding ID: original\n",
      "Add of existing embedding ID: generated\n",
      "Insert of existing embedding ID: original\n",
      "Insert of existing embedding ID: generated\n"
     ]
    },
    {
     "name": "stdout",
     "output_type": "stream",
     "text": [
      "Topic: AutoCAD Facilities Management: Space Management\n",
      "Similarity Score: 1.8051146268844604\n",
      "Processing example 455 of 500 \n"
     ]
    },
    {
     "name": "stderr",
     "output_type": "stream",
     "text": [
      "Add of existing embedding ID: original\n",
      "Add of existing embedding ID: generated\n",
      "Insert of existing embedding ID: original\n",
      "Insert of existing embedding ID: generated\n"
     ]
    },
    {
     "name": "stdout",
     "output_type": "stream",
     "text": [
      "Topic: Microsoft Teams: Organizing Your Personal Life\n",
      "Similarity Score: 1.6797255277633667\n",
      "Processing example 456 of 500 \n"
     ]
    },
    {
     "name": "stderr",
     "output_type": "stream",
     "text": [
      "Add of existing embedding ID: original\n",
      "Add of existing embedding ID: generated\n",
      "Insert of existing embedding ID: original\n",
      "Insert of existing embedding ID: generated\n"
     ]
    },
    {
     "name": "stdout",
     "output_type": "stream",
     "text": [
      "Topic: Exploring and Selecting PHP Frameworks\n",
      "Similarity Score: 1.8276938199996948\n",
      "Processing example 457 of 500 \n"
     ]
    },
    {
     "name": "stderr",
     "output_type": "stream",
     "text": [
      "Add of existing embedding ID: original\n",
      "Add of existing embedding ID: generated\n",
      "Insert of existing embedding ID: original\n",
      "Insert of existing embedding ID: generated\n"
     ]
    },
    {
     "name": "stdout",
     "output_type": "stream",
     "text": [
      "Topic: Foundations of Detection Engineering\n",
      "Similarity Score: 1.6709970235824585\n",
      "Processing example 458 of 500 \n"
     ]
    },
    {
     "name": "stderr",
     "output_type": "stream",
     "text": [
      "Add of existing embedding ID: original\n",
      "Add of existing embedding ID: generated\n",
      "Insert of existing embedding ID: original\n",
      "Insert of existing embedding ID: generated\n"
     ]
    },
    {
     "name": "stdout",
     "output_type": "stream",
     "text": [
      "Topic: Advanced C#: Language Features\n",
      "Similarity Score: 1.8369619846343994\n",
      "Processing example 459 of 500 \n"
     ]
    },
    {
     "name": "stderr",
     "output_type": "stream",
     "text": [
      "Add of existing embedding ID: original\n",
      "Add of existing embedding ID: generated\n",
      "Insert of existing embedding ID: original\n",
      "Insert of existing embedding ID: generated\n"
     ]
    },
    {
     "name": "stdout",
     "output_type": "stream",
     "text": [
      "Topic: macOS Sequoia Essential Training\n",
      "Similarity Score: 1.7646794319152832\n",
      "Processing example 460 of 500 \n"
     ]
    },
    {
     "name": "stderr",
     "output_type": "stream",
     "text": [
      "Add of existing embedding ID: original\n",
      "Add of existing embedding ID: generated\n",
      "Insert of existing embedding ID: original\n",
      "Insert of existing embedding ID: generated\n"
     ]
    },
    {
     "name": "stdout",
     "output_type": "stream",
     "text": [
      "Topic: AI 2041: Five Visions for Our Future (Book Bite)\n",
      "Similarity Score: 1.814300298690796\n",
      "Processing example 461 of 500 \n"
     ]
    },
    {
     "name": "stderr",
     "output_type": "stream",
     "text": [
      "Add of existing embedding ID: original\n",
      "Add of existing embedding ID: generated\n",
      "Insert of existing embedding ID: original\n",
      "Insert of existing embedding ID: generated\n"
     ]
    },
    {
     "name": "stdout",
     "output_type": "stream",
     "text": [
      "Topic: Sales Meetings: Planning for Success\n",
      "Similarity Score: 1.7932243347167969\n",
      "Processing example 462 of 500 \n"
     ]
    },
    {
     "name": "stderr",
     "output_type": "stream",
     "text": [
      "Add of existing embedding ID: original\n",
      "Add of existing embedding ID: generated\n",
      "Insert of existing embedding ID: original\n",
      "Insert of existing embedding ID: generated\n"
     ]
    },
    {
     "name": "stdout",
     "output_type": "stream",
     "text": [
      "Topic: Xamarin Essential Training: Create Your First App\n",
      "Similarity Score: 1.7573918104171753\n",
      "Processing example 463 of 500 \n"
     ]
    },
    {
     "name": "stderr",
     "output_type": "stream",
     "text": [
      "Add of existing embedding ID: original\n",
      "Add of existing embedding ID: generated\n",
      "Insert of existing embedding ID: original\n",
      "Insert of existing embedding ID: generated\n"
     ]
    },
    {
     "name": "stdout",
     "output_type": "stream",
     "text": [
      "Topic: Roadmap to a Successful High-Performance Team\n",
      "Similarity Score: 1.699836015701294\n",
      "Processing example 464 of 500 \n"
     ]
    },
    {
     "name": "stderr",
     "output_type": "stream",
     "text": [
      "Add of existing embedding ID: original\n",
      "Add of existing embedding ID: generated\n",
      "Insert of existing embedding ID: original\n",
      "Insert of existing embedding ID: generated\n"
     ]
    },
    {
     "name": "stdout",
     "output_type": "stream",
     "text": [
      "Topic: Windows 11 for IT Support: Troubleshooting Basics\n",
      "Similarity Score: 1.7117643356323242\n",
      "Processing example 465 of 500 \n"
     ]
    },
    {
     "name": "stderr",
     "output_type": "stream",
     "text": [
      "Add of existing embedding ID: original\n",
      "Add of existing embedding ID: generated\n",
      "Insert of existing embedding ID: original\n",
      "Insert of existing embedding ID: generated\n"
     ]
    },
    {
     "name": "stdout",
     "output_type": "stream",
     "text": [
      "Topic: Design to Code: Using AI to Build Faster\n",
      "Similarity Score: 1.732898473739624\n",
      "Processing example 466 of 500 \n"
     ]
    },
    {
     "name": "stderr",
     "output_type": "stream",
     "text": [
      "Add of existing embedding ID: original\n",
      "Add of existing embedding ID: generated\n",
      "Insert of existing embedding ID: original\n",
      "Insert of existing embedding ID: generated\n"
     ]
    },
    {
     "name": "stdout",
     "output_type": "stream",
     "text": [
      "Topic: jQuery Essential Training\n",
      "Similarity Score: 1.9553207159042358\n",
      "Processing example 467 of 500 \n"
     ]
    },
    {
     "name": "stderr",
     "output_type": "stream",
     "text": [
      "Add of existing embedding ID: original\n",
      "Add of existing embedding ID: generated\n",
      "Insert of existing embedding ID: original\n",
      "Insert of existing embedding ID: generated\n"
     ]
    },
    {
     "name": "stdout",
     "output_type": "stream",
     "text": [
      "Topic: Taking Great Photos with Your Phone\n",
      "Similarity Score: 1.7589293718338013\n",
      "Processing example 468 of 500 \n"
     ]
    },
    {
     "name": "stderr",
     "output_type": "stream",
     "text": [
      "Add of existing embedding ID: original\n",
      "Add of existing embedding ID: generated\n",
      "Insert of existing embedding ID: original\n",
      "Insert of existing embedding ID: generated\n"
     ]
    },
    {
     "name": "stdout",
     "output_type": "stream",
     "text": [
      "Topic: Microsoft Azure DevOps Engineer Expert (AZ-400) Cert Prep: 1 Configure Processes and Communications by Microsoft Press\n",
      "Similarity Score: 1.597376823425293\n",
      "Processing example 469 of 500 \n"
     ]
    },
    {
     "name": "stderr",
     "output_type": "stream",
     "text": [
      "Add of existing embedding ID: original\n",
      "Add of existing embedding ID: generated\n",
      "Insert of existing embedding ID: original\n",
      "Insert of existing embedding ID: generated\n"
     ]
    },
    {
     "name": "stdout",
     "output_type": "stream",
     "text": [
      "Topic: Windows 11 for IT Support: Intermediate Troubleshooting\n",
      "Similarity Score: 1.7235960960388184\n",
      "Processing example 470 of 500 \n"
     ]
    },
    {
     "name": "stderr",
     "output_type": "stream",
     "text": [
      "Add of existing embedding ID: original\n",
      "Add of existing embedding ID: generated\n",
      "Insert of existing embedding ID: original\n",
      "Insert of existing embedding ID: generated\n"
     ]
    },
    {
     "name": "stdout",
     "output_type": "stream",
     "text": [
      "Topic: Lean Foundations: 5S\n",
      "Similarity Score: 1.6946262121200562\n",
      "Processing example 471 of 500 \n"
     ]
    },
    {
     "name": "stderr",
     "output_type": "stream",
     "text": [
      "Add of existing embedding ID: original\n",
      "Add of existing embedding ID: generated\n",
      "Insert of existing embedding ID: original\n",
      "Insert of existing embedding ID: generated\n"
     ]
    },
    {
     "name": "stdout",
     "output_type": "stream",
     "text": [
      "Topic: Requirements Elicitation for Business Analysis: Stakeholder Conversations\n",
      "Similarity Score: 1.5964537858963013\n",
      "Processing example 472 of 500 \n"
     ]
    },
    {
     "name": "stderr",
     "output_type": "stream",
     "text": [
      "Add of existing embedding ID: original\n",
      "Add of existing embedding ID: generated\n",
      "Insert of existing embedding ID: original\n",
      "Insert of existing embedding ID: generated\n"
     ]
    },
    {
     "name": "stdout",
     "output_type": "stream",
     "text": [
      "Topic: Increase Sales with ChatGPT\n",
      "Similarity Score: 1.6833522319793701\n",
      "Processing example 473 of 500 \n"
     ]
    },
    {
     "name": "stderr",
     "output_type": "stream",
     "text": [
      "Add of existing embedding ID: original\n",
      "Add of existing embedding ID: generated\n",
      "Insert of existing embedding ID: original\n",
      "Insert of existing embedding ID: generated\n"
     ]
    },
    {
     "name": "stdout",
     "output_type": "stream",
     "text": [
      "Topic: Building the Ultimate Cybersecurity Lab and Cyber Range\n",
      "Similarity Score: 1.5141371488571167\n",
      "Processing example 474 of 500 \n"
     ]
    },
    {
     "name": "stderr",
     "output_type": "stream",
     "text": [
      "Add of existing embedding ID: original\n",
      "Add of existing embedding ID: generated\n",
      "Insert of existing embedding ID: original\n",
      "Insert of existing embedding ID: generated\n"
     ]
    },
    {
     "name": "stdout",
     "output_type": "stream",
     "text": [
      "Topic: Essential Google Cloud Training: Deploy, Analyze, and Secure Your Cloud Environment\n",
      "Similarity Score: 1.765981912612915\n",
      "Processing example 475 of 500 \n"
     ]
    },
    {
     "name": "stderr",
     "output_type": "stream",
     "text": [
      "Add of existing embedding ID: original\n",
      "Add of existing embedding ID: generated\n",
      "Insert of existing embedding ID: original\n",
      "Insert of existing embedding ID: generated\n"
     ]
    },
    {
     "name": "stdout",
     "output_type": "stream",
     "text": [
      "Topic: AI Productivity Hacks to Reimagine Your Workday and Career\n",
      "Similarity Score: 1.5422545671463013\n",
      "Processing example 476 of 500 \n"
     ]
    },
    {
     "name": "stderr",
     "output_type": "stream",
     "text": [
      "Add of existing embedding ID: original\n",
      "Add of existing embedding ID: generated\n",
      "Insert of existing embedding ID: original\n",
      "Insert of existing embedding ID: generated\n"
     ]
    },
    {
     "name": "stdout",
     "output_type": "stream",
     "text": [
      "Topic: Azure Network Engineer Associate (AZ-700) Cert Prep: Design and Implement Core Networking Infrastructure\n",
      "Similarity Score: 1.7968623638153076\n",
      "Processing example 477 of 500 \n"
     ]
    },
    {
     "name": "stderr",
     "output_type": "stream",
     "text": [
      "Add of existing embedding ID: original\n",
      "Add of existing embedding ID: generated\n",
      "Insert of existing embedding ID: original\n",
      "Insert of existing embedding ID: generated\n"
     ]
    },
    {
     "name": "stdout",
     "output_type": "stream",
     "text": [
      "Topic: Microsoft Defender for Business\n",
      "Similarity Score: 1.6199541091918945\n",
      "Processing example 478 of 500 \n"
     ]
    },
    {
     "name": "stderr",
     "output_type": "stream",
     "text": [
      "Add of existing embedding ID: original\n",
      "Add of existing embedding ID: generated\n",
      "Insert of existing embedding ID: original\n",
      "Insert of existing embedding ID: generated\n"
     ]
    },
    {
     "name": "stdout",
     "output_type": "stream",
     "text": [
      "Topic: Red Team Operator Series\n",
      "Similarity Score: 1.8377658128738403\n",
      "Processing example 479 of 500 \n"
     ]
    },
    {
     "name": "stderr",
     "output_type": "stream",
     "text": [
      "Add of existing embedding ID: original\n",
      "Add of existing embedding ID: generated\n",
      "Insert of existing embedding ID: original\n",
      "Insert of existing embedding ID: generated\n"
     ]
    },
    {
     "name": "stdout",
     "output_type": "stream",
     "text": [
      "Topic: Publish Apps in Swift Playgrounds 4\n",
      "Similarity Score: 1.6734468936920166\n",
      "Processing example 480 of 500 \n"
     ]
    },
    {
     "name": "stderr",
     "output_type": "stream",
     "text": [
      "Add of existing embedding ID: original\n",
      "Add of existing embedding ID: generated\n",
      "Insert of existing embedding ID: original\n",
      "Insert of existing embedding ID: generated\n"
     ]
    },
    {
     "name": "stdout",
     "output_type": "stream",
     "text": [
      "Topic: PlanGrid: Managing Construction Submittals\n",
      "Similarity Score: 1.7036176919937134\n",
      "Processing example 481 of 500 \n"
     ]
    },
    {
     "name": "stderr",
     "output_type": "stream",
     "text": [
      "Add of existing embedding ID: original\n",
      "Add of existing embedding ID: generated\n",
      "Insert of existing embedding ID: original\n",
      "Insert of existing embedding ID: generated\n"
     ]
    },
    {
     "name": "stdout",
     "output_type": "stream",
     "text": [
      "Topic: Next Level Sales Leadership\n",
      "Similarity Score: 1.8440396785736084\n",
      "Processing example 482 of 500 \n"
     ]
    },
    {
     "name": "stderr",
     "output_type": "stream",
     "text": [
      "Add of existing embedding ID: original\n",
      "Add of existing embedding ID: generated\n",
      "Insert of existing embedding ID: original\n",
      "Insert of existing embedding ID: generated\n"
     ]
    },
    {
     "name": "stdout",
     "output_type": "stream",
     "text": [
      "Topic: Practice Exam 1 for Certified Information Security Manager (CISM)\n",
      "Similarity Score: 1.936503529548645\n",
      "Processing example 483 of 500 \n"
     ]
    },
    {
     "name": "stderr",
     "output_type": "stream",
     "text": [
      "Add of existing embedding ID: original\n",
      "Add of existing embedding ID: generated\n",
      "Insert of existing embedding ID: original\n",
      "Insert of existing embedding ID: generated\n"
     ]
    },
    {
     "name": "stdout",
     "output_type": "stream",
     "text": [
      "Topic: Building Rapport with Customers\n",
      "Similarity Score: 1.723860502243042\n",
      "Processing example 484 of 500 \n"
     ]
    },
    {
     "name": "stderr",
     "output_type": "stream",
     "text": [
      "Add of existing embedding ID: original\n",
      "Add of existing embedding ID: generated\n",
      "Insert of existing embedding ID: original\n",
      "Insert of existing embedding ID: generated\n"
     ]
    },
    {
     "name": "stdout",
     "output_type": "stream",
     "text": [
      "Topic: Tech on the Go: Building a Software Test Department\n",
      "Similarity Score: 1.5126659870147705\n",
      "Processing example 485 of 500 \n"
     ]
    },
    {
     "name": "stderr",
     "output_type": "stream",
     "text": [
      "Add of existing embedding ID: original\n",
      "Add of existing embedding ID: generated\n",
      "Insert of existing embedding ID: original\n",
      "Insert of existing embedding ID: generated\n"
     ]
    },
    {
     "name": "stdout",
     "output_type": "stream",
     "text": [
      "Topic: Planning a Microsoft Azure Solution\n",
      "Similarity Score: 1.7659300565719604\n",
      "Processing example 486 of 500 \n"
     ]
    },
    {
     "name": "stderr",
     "output_type": "stream",
     "text": [
      "Add of existing embedding ID: original\n",
      "Add of existing embedding ID: generated\n",
      "Insert of existing embedding ID: original\n",
      "Insert of existing embedding ID: generated\n"
     ]
    },
    {
     "name": "stdout",
     "output_type": "stream",
     "text": [
      "Topic: Cloud Storage Concepts: Services, Cost Control, and Security\n",
      "Similarity Score: 1.6973369121551514\n",
      "Processing example 487 of 500 \n"
     ]
    },
    {
     "name": "stderr",
     "output_type": "stream",
     "text": [
      "Add of existing embedding ID: original\n",
      "Add of existing embedding ID: generated\n",
      "Insert of existing embedding ID: original\n",
      "Insert of existing embedding ID: generated\n"
     ]
    },
    {
     "name": "stdout",
     "output_type": "stream",
     "text": [
      "Topic: Vue.js: Creating and Hosting a Full-Stack Site\n",
      "Similarity Score: 1.772743582725525\n",
      "Processing example 488 of 500 \n"
     ]
    },
    {
     "name": "stderr",
     "output_type": "stream",
     "text": [
      "Add of existing embedding ID: original\n",
      "Add of existing embedding ID: generated\n",
      "Insert of existing embedding ID: original\n",
      "Insert of existing embedding ID: generated\n"
     ]
    },
    {
     "name": "stdout",
     "output_type": "stream",
     "text": [
      "Topic: Practice Exam 2 for Cisco CCNP ENCOR v1.1 (350-401)\n",
      "Similarity Score: 1.9392039775848389\n",
      "Processing example 489 of 500 \n"
     ]
    },
    {
     "name": "stderr",
     "output_type": "stream",
     "text": [
      "Add of existing embedding ID: original\n",
      "Add of existing embedding ID: generated\n",
      "Insert of existing embedding ID: original\n",
      "Insert of existing embedding ID: generated\n"
     ]
    },
    {
     "name": "stdout",
     "output_type": "stream",
     "text": [
      "Topic: Creating a Keynote Presentation\n",
      "Similarity Score: 1.8930468559265137\n",
      "Processing example 490 of 500 \n"
     ]
    },
    {
     "name": "stderr",
     "output_type": "stream",
     "text": [
      "Add of existing embedding ID: original\n",
      "Add of existing embedding ID: generated\n",
      "Insert of existing embedding ID: original\n",
      "Insert of existing embedding ID: generated\n"
     ]
    },
    {
     "name": "stdout",
     "output_type": "stream",
     "text": [
      "Topic: LinkedIn Video Marketing for Personal and Brand Pages\n",
      "Similarity Score: 1.7421672344207764\n",
      "Processing example 491 of 500 \n"
     ]
    },
    {
     "name": "stderr",
     "output_type": "stream",
     "text": [
      "Add of existing embedding ID: original\n",
      "Add of existing embedding ID: generated\n",
      "Insert of existing embedding ID: original\n",
      "Insert of existing embedding ID: generated\n"
     ]
    },
    {
     "name": "stdout",
     "output_type": "stream",
     "text": [
      "Topic: Apache Airflow Essential Training\n",
      "Similarity Score: 2.082648754119873\n",
      "Processing example 492 of 500 \n"
     ]
    },
    {
     "name": "stderr",
     "output_type": "stream",
     "text": [
      "Add of existing embedding ID: original\n",
      "Add of existing embedding ID: generated\n",
      "Insert of existing embedding ID: original\n",
      "Insert of existing embedding ID: generated\n"
     ]
    },
    {
     "name": "stdout",
     "output_type": "stream",
     "text": [
      "Topic: Alteryx for Healthcare\n",
      "Similarity Score: 1.5331106185913086\n",
      "Processing example 493 of 500 \n"
     ]
    },
    {
     "name": "stderr",
     "output_type": "stream",
     "text": [
      "Add of existing embedding ID: original\n",
      "Add of existing embedding ID: generated\n",
      "Insert of existing embedding ID: original\n",
      "Insert of existing embedding ID: generated\n"
     ]
    },
    {
     "name": "stdout",
     "output_type": "stream",
     "text": [
      "Topic: OWASP Top 10: #5 Security Misconfiguration and #6 Vulnerable and Outdated Components\n",
      "Similarity Score: 1.541869044303894\n",
      "Processing example 494 of 500 \n"
     ]
    },
    {
     "name": "stderr",
     "output_type": "stream",
     "text": [
      "Add of existing embedding ID: original\n",
      "Add of existing embedding ID: generated\n",
      "Insert of existing embedding ID: original\n",
      "Insert of existing embedding ID: generated\n"
     ]
    },
    {
     "name": "stdout",
     "output_type": "stream",
     "text": [
      "Topic: Azure Kubernetes Service (AKS): Deploying Microservices\n",
      "Similarity Score: 1.896272897720337\n",
      "Processing example 495 of 500 \n"
     ]
    },
    {
     "name": "stderr",
     "output_type": "stream",
     "text": [
      "Add of existing embedding ID: original\n",
      "Add of existing embedding ID: generated\n",
      "Insert of existing embedding ID: original\n",
      "Insert of existing embedding ID: generated\n"
     ]
    },
    {
     "name": "stdout",
     "output_type": "stream",
     "text": [
      "Topic: Microsoft Security Operations Analyst Associate (SC-200) Exam Tips\n",
      "Similarity Score: 1.7298043966293335\n",
      "Processing example 496 of 500 \n"
     ]
    },
    {
     "name": "stderr",
     "output_type": "stream",
     "text": [
      "Add of existing embedding ID: original\n",
      "Add of existing embedding ID: generated\n",
      "Insert of existing embedding ID: original\n",
      "Insert of existing embedding ID: generated\n"
     ]
    },
    {
     "name": "stdout",
     "output_type": "stream",
     "text": [
      "Topic: How Organizations End Imposter Syndrome\n",
      "Similarity Score: 1.7144877910614014\n",
      "Processing example 497 of 500 \n"
     ]
    },
    {
     "name": "stderr",
     "output_type": "stream",
     "text": [
      "Add of existing embedding ID: original\n",
      "Add of existing embedding ID: generated\n",
      "Insert of existing embedding ID: original\n",
      "Insert of existing embedding ID: generated\n"
     ]
    },
    {
     "name": "stdout",
     "output_type": "stream",
     "text": [
      "Topic: Learning GitHub\n",
      "Similarity Score: 1.6408741474151611\n",
      "Processing example 498 of 500 \n"
     ]
    },
    {
     "name": "stderr",
     "output_type": "stream",
     "text": [
      "Add of existing embedding ID: original\n",
      "Add of existing embedding ID: generated\n",
      "Insert of existing embedding ID: original\n",
      "Insert of existing embedding ID: generated\n"
     ]
    },
    {
     "name": "stdout",
     "output_type": "stream",
     "text": [
      "Topic: AI Automation with Anthropic Claude API's Agentic Computer Use\n",
      "Similarity Score: 1.5264559984207153\n",
      "Processing example 499 of 500 \n"
     ]
    },
    {
     "name": "stderr",
     "output_type": "stream",
     "text": [
      "Add of existing embedding ID: original\n",
      "Add of existing embedding ID: generated\n",
      "Insert of existing embedding ID: original\n",
      "Insert of existing embedding ID: generated\n"
     ]
    },
    {
     "name": "stdout",
     "output_type": "stream",
     "text": [
      "Topic: Learning Computer Security and Internet Safety (2022)\n",
      "Similarity Score: 1.71274995803833\n",
      "Processing example 500 of 500 \n"
     ]
    },
    {
     "name": "stderr",
     "output_type": "stream",
     "text": [
      "Add of existing embedding ID: original\n",
      "Add of existing embedding ID: generated\n",
      "Insert of existing embedding ID: original\n",
      "Insert of existing embedding ID: generated\n"
     ]
    },
    {
     "name": "stdout",
     "output_type": "stream",
     "text": [
      "Topic: Excel Essential Training (Microsoft 365)\n",
      "Similarity Score: 1.881401777267456\n"
     ]
    }
   ],
   "source": [
    "write_video_transcript = dspy.ChainOfThought(WriteVideoTranscript)\n",
    "n = 500\n",
    "scores = []\n",
    "for index, example in enumerate(trainset[:n]):\n",
    "    print(f\"Processing example {index + 1} of {n} \")\n",
    "    topic = example.topic\n",
    "    intro_video = example.intro_video\n",
    "    generated_intro_video = write_video_transcript(topic=topic)\n",
    "    similarity_score = get_similarity_score(\n",
    "        intro_video, generated_intro_video.intro_video\n",
    "    )\n",
    "    print(f\"Topic: {topic}\")\n",
    "    print(f\"Similarity Score: {similarity_score}\")\n",
    "    # print(f\"Original Intro Video: {intro_video}\")\n",
    "    # print(f\"Generated Intro Video: {generated_intro_video.intro_video}\")\n",
    "    scores.append(similarity_score)"
   ]
  },
  {
   "cell_type": "code",
   "execution_count": 26,
   "id": "84efa688-553d-475d-927c-bee281d7360c",
   "metadata": {},
   "outputs": [],
   "source": [
    "# from dspy.evaluate import Evaluate\n",
    "\n",
    "# Set up the evaluator, which can be re-used in your code.\n",
    "# evaluator = Evaluate(devset=trainset, num_threads=24, display_progress=True, display_table=5)\n",
    "\n",
    "# Launch evaluation.\n",
    "# evaluator(write_video_transcript, metric=get_similarity_score)"
   ]
  },
  {
   "cell_type": "code",
   "execution_count": null,
   "id": "67cde1a0-cbcb-4fb3-89f6-2e770f5942cc",
   "metadata": {},
   "outputs": [],
   "source": []
  },
  {
   "cell_type": "code",
   "execution_count": 35,
   "id": "6485d6a9-bc77-4120-a61f-0aa96b206a3c",
   "metadata": {},
   "outputs": [
    {
     "name": "stdout",
     "output_type": "stream",
     "text": [
      "1.7198789110145416\n"
     ]
    },
    {
     "data": {
      "image/png": "[encoded data removed]",
      "text/plain": [
       "<Figure size 640x480 with 1 Axes>"
      ]
     },
     "metadata": {},
     "output_type": "display_data"
    }
   ],
   "source": [
    "import pandas as pd\n",
    "import matplotlib.pyplot as plt\n",
    "scores = [s for s in scores if s is not None]\n",
    "s=pd.Series(scores)\n",
    "mean = sum(scores) / len(scores)\n",
    "print(mean)\n",
    "# Histogram\n",
    "s.hist(bins=30)  # you can adjust number of bins as needed\n",
    "plt.title('Distribution of Similarity Scores')\n",
    "plt.xlabel('Similarity Score')\n",
    "plt.ylabel('Frequency')\n",
    "plt.show()\n",
    "# plt.scatter(s.index, s.values, alpha = .1)\n",
    "s.describe()\n",
    "s.to_csv(\"scores_500.csv\", index = False)"
   ]
  },
  {
   "cell_type": "code",
   "execution_count": 36,
   "id": "296306e9-8425-438d-864b-9064a66fa901",
   "metadata": {},
   "outputs": [],
   "source": [
    "def metric(original_text, generated_text):\n",
    "    similarity_score = get_similarity_score(original_text, generated_text)\n",
    "    return similarity_score >= 1.8"
   ]
  }
 ],
 "metadata": {
  "jupytext": {
   "cell_metadata_filter": "-all",
   "main_language": "python",
   "notebook_metadata_filter": "-all"
  },
  "kernelspec": {
   "display_name": "Python (.petroff)",
   "language": "python",
   "name": ".petroff"
  },
  "language_info": {
   "codemirror_mode": {
    "name": "ipython",
    "version": 3
   },
   "file_extension": ".py",
   "mimetype": "text/x-python",
   "name": "python",
   "nbconvert_exporter": "python",
   "pygments_lexer": "ipython3",
   "version": "3.12.4"
  }
 },
 "nbformat": 4,
 "nbformat_minor": 5
}
