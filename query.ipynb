{
 "cells": [
  {
   "cell_type": "code",
   "execution_count": null,
   "id": "9096863e",
   "metadata": {},
   "outputs": [],
   "source": [
    "from Kramer.database.MongoDB_CRUD import get_all_courses_sync\n",
    "from rich.console import Console\n",
    "import chromadb\n",
    "import dspy\n",
    "import os"
   ]
  },
  {
   "cell_type": "code",
   "execution_count": null,
   "id": "02b080a2",
   "metadata": {},
   "outputs": [],
   "source": [
    "print(\"Getting courses...\")\n",
    "courses = get_all_courses_sync()\n",
    "trainset = []\n",
    "for course in courses:\n",
    "    try:\n",
    "        topic = course.course_title\n",
    "        intro_video = course.sections[0].entries[0].transcript\n",
    "        trainset.append(dspy.Example(topic=topic, intro_video=intro_video))\n",
    "    except:\n",
    "        pass\n",
    "print(f\"Got {len(trainset)} courses.\")\n",
    "trainset = [x.with_inputs(\"topic\", \"intro_video\") for x in trainset]"
   ]
  },
  {
   "cell_type": "code",
   "execution_count": null,
   "id": "1c63a5da",
   "metadata": {},
   "outputs": [],
   "source": [
    "# Set up the console for pretty printing\n",
    "console = Console(width=100)\n",
    "# Set up the OpenAI API key and instantiate the GPT-4o model\n",
    "# api_key = os.getenv(\"OPENAI_API_KEY\")\n",
    "lm = dspy.LM(\"ollama_chat/llama3.1\", api_base=\"http://localhost:11434\", api_key=\"\")\n",
    "# lm = dspy.LM(\"ollama_chat/llama3.1\", api_base=\"http://localhost:11434\", api_key=\"\")\n",
    "# lm = dspy.LM(\"openai/gpt-4o-mini\", api_key=api_key)\n",
    "dspy.configure(lm=lm)"
   ]
  },
  {
   "cell_type": "code",
   "execution_count": null,
   "id": "cf5b16df",
   "metadata": {},
   "outputs": [],
   "source": [
    "class WriteVideoTranscript(dspy.Signature):\n",
    "    \"\"\"Write a video transcript for the intro video to a course on a given topic.\"\"\"\n",
    "\n",
    "    topic: str = dspy.InputField(desc=\"the topic of the course\")\n",
    "    intro_video: str = dspy.OutputField(\n",
    "        desc=\"markdown-formatted transcript of an intro video of roughly 250 words\"\n",
    "    )"
   ]
  },
  {
   "cell_type": "code",
   "execution_count": null,
   "id": "4754d561",
   "metadata": {},
   "outputs": [],
   "source": [
    "def get_similarity_score(original_text: str, generated_text: str):\n",
    "    \"\"\"\n",
    "    Get the similarity score between two texts.\n",
    "    \"\"\"\n",
    "    # Initialize ChromaDB client\n",
    "    client = chromadb.Client()\n",
    "\n",
    "    # Create a collection\n",
    "    try:\n",
    "        collection = client.get_collection(\"similarity_test\")\n",
    "    except chromadb.errors.InvalidCollectionException:\n",
    "        collection = client.create_collection(\"similarity_test\")\n",
    "\n",
    "    # Add your documents\n",
    "    collection.add(\n",
    "        documents=[original_text, generated_text], ids=[\"original\", \"generated\"]\n",
    "    )\n",
    "\n",
    "    # Query to get similarity\n",
    "    results = collection.query(\n",
    "        query_texts=[original_text], n_results=2, include=[\"distances\"]\n",
    "    )\n",
    "\n",
    "    # The distances in the results represent similarity scores\n",
    "    # Lower distance = higher similarity\n",
    "    similarity_scores = results[\"distances\"][0][1]\n",
    "    return similarity_scores"
   ]
  },
  {
   "cell_type": "code",
   "execution_count": null,
   "id": "37b760d9",
   "metadata": {},
   "outputs": [],
   "source": [
    "# write_video_transcript = dspy.ChainOfThought(WriteVideoTranscript)\n",
    "if __name__ == \"__main__\":\n",
    "    write_video_transcript = dspy.ChainOfThought(WriteVideoTranscript)\n",
    "    n = 100\n",
    "    for index, example in enumerate(trainset[:n]):\n",
    "        print(f\"Processing example {index + 1} of {n} \")\n",
    "        topic = example.topic\n",
    "        intro_video = example.intro_video\n",
    "        generated_intro_video = write_video_transcript(topic=topic)\n",
    "        similarity_score = get_similarity_score(\n",
    "            intro_video, generated_intro_video.intro_video\n",
    "        )\n",
    "        print(f\"Topic: {topic}\")\n",
    "        print(f\"Similarity Score: {similarity_score}\")\n",
    "        # print(f\"Original Intro Video: {intro_video}\")\n",
    "        # print(f\"Generated Intro Video: {generated_intro_video.intro_video}\")\n",
    "        print(\"\\n\")"
   ]
  }
 ],
 "metadata": {
  "jupytext": {
   "cell_metadata_filter": "-all",
   "main_language": "python",
   "notebook_metadata_filter": "-all"
  }
 },
 "nbformat": 4,
 "nbformat_minor": 5
}
